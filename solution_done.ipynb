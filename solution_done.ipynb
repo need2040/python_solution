{
 "cells": [
  {
   "cell_type": "code",
   "execution_count": 232,
   "metadata": {},
   "outputs": [],
   "source": [
    "import numpy as np\n",
    "import matplotlib.pyplot as plt\n",
    "from scipy.cluster.hierarchy import dendrogram as scipy_dendrogram\n",
    "import scipy.cluster.hierarchy as sch\n",
    "from sklearn.metrics import silhouette_score\n",
    "from scipy.spatial.distance import pdist, squareform"
   ]
  },
  {
   "cell_type": "code",
   "execution_count": 233,
   "metadata": {},
   "outputs": [],
   "source": [
    "class AgglomerativeClustering:      #Класс агломеративной кластеризации\n",
    "    def __init__(self, n_clusters):\n",
    "        self.n_clusters = n_clusters\n",
    "        self.clusters = []\n",
    "        self.merges = []\n",
    "        self.distances = []\n",
    "    \n",
    "    def makeClusters(self, data):       #Главная функция для создания кластеров - нахождение ближайшей пары \n",
    "        self.clusters = [{i} for i in range(len(data))]\n",
    "        self.data = data\n",
    "\n",
    "        while len(self.clusters) > self.n_clusters:\n",
    "            cluster1_idx, cluster2_idx = self.findClosestPair()\n",
    "            self.mergeClusters(cluster1_idx, cluster2_idx)\n",
    "        return self.clusters\n",
    "    \n",
    "    def euclideanDist(self, cluster1, cluster2):    #Поиск минимального Евклидова расстояния\n",
    "        min_dist = np.inf\n",
    "        for i in cluster1:\n",
    "            for j in cluster2:\n",
    "                dist = np.linalg.norm(self.data[i] - self.data[j])\n",
    "                if dist < min_dist:\n",
    "                    min_dist = dist\n",
    "        return min_dist\n",
    "    \n",
    "    def findClosestPair(self):      #Поиск ближайшей пары кластеров\n",
    "        min_dist = np.inf\n",
    "        closest_pair = None\n",
    "\n",
    "        for i in range(len(self.clusters)):\n",
    "            for j in range(i + 1, len(self.clusters)):\n",
    "                dist = self.euclideanDist(self.clusters[i], self.clusters[j])\n",
    "                if dist < min_dist:\n",
    "                    min_dist = dist\n",
    "                    closest_pair = (i, j)\n",
    "        \n",
    "        return closest_pair\n",
    "    \n",
    "    def mergeClusters(self, cluster1id, cluster2id):        #Объединение ближайших кластеров в один\n",
    "        new_cluster = self.clusters[cluster1id].union(self.clusters[cluster2id])\n",
    "        self.merges.append((cluster1id, cluster2id))\n",
    "        self.distances.append(self.euclideanDist(self.clusters[cluster1id], self.clusters[cluster2id]))\n",
    "        self.clusters.pop(max(cluster1id, cluster2id))\n",
    "        self.clusters.pop(min(cluster1id, cluster2id))\n",
    "        self.clusters.append(new_cluster)\n",
    "    \n",
    "    \n"
   ]
  },
  {
   "cell_type": "code",
   "execution_count": 234,
   "metadata": {},
   "outputs": [],
   "source": [
    "class DivisiveClustering:       #Класс дивизионной кластеризации\n",
    "    def __init__(self, n_clusters):\n",
    "        self.n_clusters = n_clusters\n",
    "        self.clusters = []\n",
    "        self.merges = []\n",
    "        self.distances = []\n",
    "    \n",
    "    def makeClusters(self, data):       #Функция разделения наиболее удаленных кластеров\n",
    "        self.clusters = [set(range(len(data)))]\n",
    "        self.data = data\n",
    "\n",
    "        while len(self.clusters) < self.n_clusters:\n",
    "            cluster_idx = self.findClusterToDivide()\n",
    "            if cluster_idx is not None:\n",
    "                self.divideClusters(cluster_idx)\n",
    "            else:\n",
    "                break\n",
    "        return self.clusters\n",
    "    \n",
    "    def findFurthestPair(self, cluster_points):     #Поиск наиболее удаленных кластеров\n",
    "        max_dist = 0\n",
    "        furthest_pair = None\n",
    "        for i in cluster_points:\n",
    "            for j in cluster_points:\n",
    "                if i != j:\n",
    "                    dist = np.linalg.norm(self.data[i] - self.data[j])\n",
    "                    if dist > max_dist:\n",
    "                        max_dist = dist\n",
    "                        furthest_pair = (i, j)\n",
    "        return furthest_pair\n",
    "    \n",
    "    def euclideanDist(self, point1, point2):        #Поиск евклидова расстояния\n",
    "        return np.linalg.norm(self.data[point1] - self.data[point2])\n",
    "    \n",
    "    def findClusterToDivide(self):\n",
    "        max_size = 0\n",
    "        cluster_idx = None\n",
    "        for idx, cluster in enumerate(self.clusters):\n",
    "            if len(cluster) > 1 and len(cluster) > max_size:\n",
    "                max_size = len(cluster)\n",
    "                cluster_idx = idx\n",
    "        return cluster_idx\n",
    "\n",
    "    def divideClusters(self, cluster_idx):\n",
    "        cluster_points = list(self.clusters[cluster_idx])\n",
    "        furthest_pair = self.findFurthestPair(cluster_points)\n",
    "        if furthest_pair is None:\n",
    "            return\n",
    "\n",
    "        point_a, point_b = furthest_pair\n",
    "        new_cluster_1 = set()\n",
    "        new_cluster_2 = set()\n",
    "        \n",
    "        for point in cluster_points:\n",
    "            if self.euclideanDist(point, point_a) < self.euclideanDist(point, point_b):\n",
    "                new_cluster_1.add(point)\n",
    "            else:\n",
    "                new_cluster_2.add(point)\n",
    "        \n",
    "        self.clusters.pop(cluster_idx)\n",
    "        self.clusters.append(new_cluster_1)\n",
    "        self.clusters.append(new_cluster_2)"
   ]
  },
  {
   "cell_type": "code",
   "execution_count": 235,
   "metadata": {},
   "outputs": [],
   "source": [
    "#Инициализация точек\n",
    "x_data = np.random.ranf(10)\n",
    "y_data = np.random.ranf(10)"
   ]
  },
  {
   "cell_type": "code",
   "execution_count": 236,
   "metadata": {},
   "outputs": [],
   "source": [
    "\n",
    "dots_tuple = np.transpose((x_data,y_data))"
   ]
  },
  {
   "cell_type": "code",
   "execution_count": 237,
   "metadata": {},
   "outputs": [
    {
     "data": {
      "text/plain": [
       "[{2}, {1, 6}, {0, 3, 4, 5, 7, 8, 9}]"
      ]
     },
     "execution_count": 237,
     "metadata": {},
     "output_type": "execute_result"
    }
   ],
   "source": [
    "#Создание объектов кластеризации\n",
    "aggl_cluster = AgglomerativeClustering(3)\n",
    "aggl_cluster.makeClusters(dots_tuple)"
   ]
  },
  {
   "cell_type": "code",
   "execution_count": 238,
   "metadata": {},
   "outputs": [
    {
     "data": {
      "text/plain": [
       "[{2, 3, 4, 6}, {0, 1}, {5, 7, 8, 9}]"
      ]
     },
     "execution_count": 238,
     "metadata": {},
     "output_type": "execute_result"
    }
   ],
   "source": [
    "divis_cluster = DivisiveClustering(3)\n",
    "divis_cluster.makeClusters(dots_tuple)"
   ]
  },
  {
   "cell_type": "code",
   "execution_count": 239,
   "metadata": {},
   "outputs": [
    {
     "data": {
      "image/png": "[encoded data removed]",
      "text/plain": [
       "<Figure size 1000x700 with 1 Axes>"
      ]
     },
     "metadata": {},
     "output_type": "display_data"
    }
   ],
   "source": [
    "distance_matrix = sch.distance.pdist(dots_tuple)\n",
    "\n",
    "# Построение иерархической кластеризации\n",
    "linkage_matrix = sch.linkage(distance_matrix)\n",
    "\n",
    "# Построение дендрограммы\n",
    "plt.figure(figsize=(10, 7))\n",
    "sch.dendrogram(linkage_matrix)\n",
    "plt.title('Дендрограмма агломеративной кластеризации')\n",
    "plt.xlabel('Индекс объекта')\n",
    "plt.ylabel('Расстояние')\n",
    "plt.show()"
   ]
  },
  {
   "cell_type": "code",
   "execution_count": 240,
   "metadata": {},
   "outputs": [],
   "source": [
    "#Ансамбль внутренних метрик\n",
    "def evaluate_clustering(data, labels):\n",
    "    silhouette_avg = silhouette_score(data, labels)\n",
    "    def compactness(data, labels):\n",
    "        cluster_ids = np.unique(labels)\n",
    "        compactness_values = []\n",
    "        for cluster_id in cluster_ids:\n",
    "            cluster_data = data[labels == cluster_id]\n",
    "            if len(cluster_data) > 1:\n",
    "                dist_matrix = pdist(cluster_data)\n",
    "                intra_dist = np.sum(dist_matrix) / len(dist_matrix)\n",
    "                compactness_values.append(intra_dist)\n",
    "        return np.mean(compactness_values)\n",
    "    \n",
    "    compactness_avg = compactness(data, labels)\n",
    "\n",
    "    def divisibility(data, labels):\n",
    "        cluster_ids = np.unique(labels)\n",
    "        centers = np.array([data[labels == cluster_id].mean(axis=0) for cluster_id in cluster_ids])\n",
    "        if len(centers) > 1:\n",
    "            inter_dist_matrix = pdist(centers)\n",
    "            divisibility_value = np.min(inter_dist_matrix)\n",
    "            return divisibility_value\n",
    "        return 0\n",
    "    \n",
    "    divisibility_value = divisibility(data, labels)\n",
    "\n",
    "    scorefunction = divisibility_value/(divisibility_value+ compactness_avg)\n",
    "\n",
    "\n",
    "\n",
    "    return silhouette_avg, compactness_avg, divisibility_value, scorefunction\n",
    "\n"
   ]
  },
  {
   "cell_type": "code",
   "execution_count": 241,
   "metadata": {},
   "outputs": [],
   "source": [
    "aggl_labels = np.zeros(len(dots_tuple))\n",
    "for idx, cluster in enumerate(aggl_cluster.clusters):\n",
    "    for point in cluster:\n",
    "        aggl_labels[point] = idx\n",
    "\n",
    "aggl_metrics = evaluate_clustering(dots_tuple, aggl_labels)"
   ]
  },
  {
   "cell_type": "code",
   "execution_count": 242,
   "metadata": {},
   "outputs": [],
   "source": [
    "divis_labels = np.zeros(len(dots_tuple))\n",
    "for idx, cluster in enumerate(divis_cluster.clusters):\n",
    "    for point in cluster:\n",
    "        divis_labels[point] = idx\n",
    "\n",
    "divis_metrics = evaluate_clustering(dots_tuple, divis_labels)"
   ]
  },
  {
   "cell_type": "code",
   "execution_count": 243,
   "metadata": {},
   "outputs": [
    {
     "name": "stdout",
     "output_type": "stream",
     "text": [
      "Агломеративная кластеризация:\n",
      "Силуэт: 0.1991172724043053\n",
      "Компактность (C): 0.3784666474957621\n",
      "Отделимость (D): 0.5282873926260935\n",
      "Score Function (SF): 0.5826137731408384\n"
     ]
    }
   ],
   "source": [
    "print(\"Агломеративная кластеризация:\")\n",
    "print(f\"Силуэт: {aggl_metrics[0]}\")\n",
    "print(f\"Компактность (C): {aggl_metrics[1]}\")\n",
    "print(f\"Отделимость (D): {aggl_metrics[2]}\")\n",
    "print(f\"Score Function (SF): {aggl_metrics[3]}\")"
   ]
  },
  {
   "cell_type": "code",
   "execution_count": 244,
   "metadata": {},
   "outputs": [
    {
     "name": "stdout",
     "output_type": "stream",
     "text": [
      "Дивизионная кластеризация:\n",
      "Силуэт: 0.3259487094286283\n",
      "Компактность (C): 0.3695311900872746\n",
      "Отделимость (D): 0.5913397090559557\n",
      "Score Function (SF): 0.6154205623078287\n"
     ]
    }
   ],
   "source": [
    "print(\"Дивизионная кластеризация:\")\n",
    "print(f\"Силуэт: {divis_metrics[0]}\")\n",
    "print(f\"Компактность (C): {divis_metrics[1]}\")\n",
    "print(f\"Отделимость (D): {divis_metrics[2]}\")\n",
    "print(f\"Score Function (SF): {divis_metrics[3]}\")"
   ]
  }
 ],
 "metadata": {
  "kernelspec": {
   "display_name": "Python 3",
   "language": "python",
   "name": "python3"
  },
  "language_info": {
   "codemirror_mode": {
    "name": "ipython",
    "version": 3
   },
   "file_extension": ".py",
   "mimetype": "text/x-python",
   "name": "python",
   "nbconvert_exporter": "python",
   "pygments_lexer": "ipython3",
   "version": "3.12.4"
  }
 },
 "nbformat": 4,
 "nbformat_minor": 2
}
