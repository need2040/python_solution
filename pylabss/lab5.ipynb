{
 "cells": [
  {
   "cell_type": "code",
   "execution_count": 9,
   "metadata": {},
   "outputs": [],
   "source": [
    "import time"
   ]
  },
  {
   "cell_type": "code",
   "execution_count": 10,
   "metadata": {},
   "outputs": [],
   "source": [
    "class ThreeStates:\n",
    "    def __init__(self):\n",
    "        self.__state = 1\n",
    "\n",
    "    def hasstate(self):\n",
    "        while True:\n",
    "            if self.__state == 1:\n",
    "                print(\"Первое состояние\")\n",
    "                time.sleep(5)\n",
    "                self.__state = 2\n",
    "            elif self.__state == 2:\n",
    "                print(\"Второе состояние\")\n",
    "                time.sleep(3)\n",
    "                self.__state = 3\n",
    "            elif self.__state == 3:\n",
    "                print(\"Третье состояние\")\n",
    "                time.sleep(2)\n",
    "                self.__state = 1"
   ]
  },
  {
   "cell_type": "code",
   "execution_count": 11,
   "metadata": {},
   "outputs": [
    {
     "name": "stdout",
     "output_type": "stream",
     "text": [
      "Первое состояние\n",
      "Второе состояние\n"
     ]
    },
    {
     "ename": "KeyboardInterrupt",
     "evalue": "",
     "output_type": "error",
     "traceback": [
      "\u001b[0;31m---------------------------------------------------------------------------\u001b[0m",
      "\u001b[0;31mKeyboardInterrupt\u001b[0m                         Traceback (most recent call last)",
      "Cell \u001b[0;32mIn[11], line 2\u001b[0m\n\u001b[1;32m      1\u001b[0m states \u001b[38;5;241m=\u001b[39m ThreeStates()\n\u001b[0;32m----> 2\u001b[0m \u001b[43mstates\u001b[49m\u001b[38;5;241;43m.\u001b[39;49m\u001b[43mhasstate\u001b[49m\u001b[43m(\u001b[49m\u001b[43m)\u001b[49m\n",
      "Cell \u001b[0;32mIn[10], line 13\u001b[0m, in \u001b[0;36mThreeStates.hasstate\u001b[0;34m(self)\u001b[0m\n\u001b[1;32m     11\u001b[0m \u001b[38;5;28;01melif\u001b[39;00m \u001b[38;5;28mself\u001b[39m\u001b[38;5;241m.\u001b[39m__state \u001b[38;5;241m==\u001b[39m \u001b[38;5;241m2\u001b[39m:\n\u001b[1;32m     12\u001b[0m     \u001b[38;5;28mprint\u001b[39m(\u001b[38;5;124m\"\u001b[39m\u001b[38;5;124mВторое состояние\u001b[39m\u001b[38;5;124m\"\u001b[39m)\n\u001b[0;32m---> 13\u001b[0m     \u001b[43mtime\u001b[49m\u001b[38;5;241;43m.\u001b[39;49m\u001b[43msleep\u001b[49m\u001b[43m(\u001b[49m\u001b[38;5;241;43m3\u001b[39;49m\u001b[43m)\u001b[49m\n\u001b[1;32m     14\u001b[0m     \u001b[38;5;28mself\u001b[39m\u001b[38;5;241m.\u001b[39m__state \u001b[38;5;241m=\u001b[39m \u001b[38;5;241m3\u001b[39m\n\u001b[1;32m     15\u001b[0m \u001b[38;5;28;01melif\u001b[39;00m \u001b[38;5;28mself\u001b[39m\u001b[38;5;241m.\u001b[39m__state \u001b[38;5;241m==\u001b[39m \u001b[38;5;241m3\u001b[39m:\n",
      "\u001b[0;31mKeyboardInterrupt\u001b[0m: "
     ]
    }
   ],
   "source": [
    "states = ThreeStates()\n",
    "states.hasstate()"
   ]
  },
  {
   "cell_type": "code",
   "execution_count": 12,
   "metadata": {},
   "outputs": [],
   "source": [
    "class Volume:\n",
    "    def __init__(self, length, width, height):\n",
    "        self._length = length\n",
    "        self._width = width\n",
    "        self._height = height\n",
    "\n",
    "    def calculate_volume(self):\n",
    "        return self._length * self._width * self._height\n"
   ]
  },
  {
   "cell_type": "code",
   "execution_count": 13,
   "metadata": {},
   "outputs": [
    {
     "name": "stdout",
     "output_type": "stream",
     "text": [
      "Объем: 24\n"
     ]
    }
   ],
   "source": [
    "volume = Volume(2, 3, 4)\n",
    "print(\"Объем:\", volume.calculate_volume())\n"
   ]
  },
  {
   "cell_type": "code",
   "execution_count": 14,
   "metadata": {},
   "outputs": [],
   "source": [
    "class Employee:\n",
    "    def __init__(self, name, patronymic, surname, wage, bonus):\n",
    "        self.name = name\n",
    "        self.patronymic = patronymic\n",
    "        self.surname = surname\n",
    "        self._salary = {\"wage\": wage, \"bonus\": bonus}"
   ]
  },
  {
   "cell_type": "code",
   "execution_count": 15,
   "metadata": {},
   "outputs": [],
   "source": [
    "class Salary(Employee):\n",
    "    def get_full_name(self):\n",
    "        return f\"{self.surname} {self.name} {self.patronymic}\"\n",
    "\n",
    "    def get_total_income(self):\n",
    "        return self._salary[\"wage\"] + self._salary[\"bonus\"]"
   ]
  },
  {
   "cell_type": "code",
   "execution_count": 16,
   "metadata": {},
   "outputs": [
    {
     "name": "stdout",
     "output_type": "stream",
     "text": [
      "Полное имя: Андреевич Дзебан Арсений\n",
      "Общий доход: 60000\n"
     ]
    }
   ],
   "source": [
    "# Проверка\n",
    "emp = Salary(\"Арсений\", \"Андреевич\", \"Андреевич\", 50000, 10000)\n",
    "print(\"Полное имя:\", emp.get_full_name())\n",
    "print(\"Общий доход:\", emp.get_total_income())"
   ]
  },
  {
   "cell_type": "code",
   "execution_count": 5,
   "metadata": {},
   "outputs": [],
   "source": [
    "# Задача 4\n",
    "class Airplane:\n",
    "    def __init__(self, speed, color, name, is_jet, is_biplane, is_army):\n",
    "        self.speed = speed\n",
    "        self.color = color\n",
    "        self.name = name\n",
    "        self.is_jet = is_jet\n",
    "        self.get_biplane = is_biplane\n",
    "        self.get_army = is_army\n",
    "\n",
    "    def go(self):\n",
    "        print(f\"{self.name} летит\")\n",
    "\n",
    "    def stop(self):\n",
    "        print(f\"{self.name} не летит\")\n",
    "\n",
    "    def direction(self, direction):\n",
    "        print(f\"{self.name} повернул {direction}\")\n",
    "\n",
    "    def show_speed(self):\n",
    "        print(f\"Текущая скорость {self.name}: {self.speed}\")\n",
    "\n",
    "class FastAirplane(Airplane):\n",
    "    def show_speed(self):\n",
    "        if self.speed > 1300:\n",
    "            print(f\"{self.name} имеет сверхзвуковую скорость: {self.speed}\")\n",
    "        else:\n",
    "            super().show_speed()\n",
    "\n",
    "class Biplane(Airplane):\n",
    "    def is_biplane(self):\n",
    "        print(f\"{self.get_biplane}\")\n",
    "\n",
    "class ArmyAirplane(Airplane):\n",
    "    def is_army(self):\n",
    "        print(f\"{self.get_army}\")"
   ]
  },
  {
   "cell_type": "code",
   "execution_count": 6,
   "metadata": {},
   "outputs": [
    {
     "name": "stdout",
     "output_type": "stream",
     "text": [
      "Стриж летит\n",
      "Стриж имеет сверхзвуковую скорость: 1500\n",
      "Ан-2 не летит\n",
      "Су-35 повернул налево\n",
      "True\n"
     ]
    }
   ],
   "source": [
    "# Проверка\n",
    "fast_plane = FastAirplane(1500, \"белый\", \"Стриж\", True, True, False)\n",
    "biplane = Biplane(200, \"красный\", \"Ан-2\", False, True, False)\n",
    "army_plane = ArmyAirplane(800, \"зеленый\", \"Су-35\", True, True, True)\n",
    "\n",
    "fast_plane.go()\n",
    "fast_plane.show_speed()\n",
    "biplane.stop()\n",
    "army_plane.direction(\"налево\")\n",
    "army_plane.is_army()"
   ]
  },
  {
   "cell_type": "code",
   "execution_count": 19,
   "metadata": {},
   "outputs": [],
   "source": [
    "# Задача 5\n",
    "class MathOperations:\n",
    "    def __init__(self, first_num, second_num):\n",
    "        self.first_num = first_num\n",
    "        self.second_num = second_num\n",
    "\n",
    "    def calc(self):\n",
    "        print(\"Запуск операции\")\n",
    "\n",
    "class MySum(MathOperations):\n",
    "    def calc(self):\n",
    "        super().calc()\n",
    "        return self.first_num + self.second_num\n",
    "\n",
    "class MySub(MathOperations):\n",
    "    def calc(self):\n",
    "        super().calc()\n",
    "        return self.first_num - self.second_num\n",
    "\n",
    "class MyMult(MathOperations):\n",
    "    def calc(self):\n",
    "        super().calc()\n",
    "        return self.first_num * self.second_num\n"
   ]
  },
  {
   "cell_type": "code",
   "execution_count": 20,
   "metadata": {},
   "outputs": [
    {
     "name": "stdout",
     "output_type": "stream",
     "text": [
      "Запуск операции\n",
      "Сложение: 15\n",
      "Запуск операции\n",
      "Вычитание: 5\n",
      "Запуск операции\n",
      "Умножение: 50\n"
     ]
    }
   ],
   "source": [
    "# Проверка\n",
    "sum_op = MySum(10, 5)\n",
    "sub_op = MySub(10, 5)\n",
    "mult_op = MyMult(10, 5)\n",
    "\n",
    "print(\"Сложение:\", sum_op.calc())\n",
    "print(\"Вычитание:\", sub_op.calc())\n",
    "print(\"Умножение:\", mult_op.calc())"
   ]
  }
 ],
 "metadata": {
  "kernelspec": {
   "display_name": "Python 3",
   "language": "python",
   "name": "python3"
  },
  "language_info": {
   "codemirror_mode": {
    "name": "ipython",
    "version": 3
   },
   "file_extension": ".py",
   "mimetype": "text/x-python",
   "name": "python",
   "nbconvert_exporter": "python",
   "pygments_lexer": "ipython3",
   "version": "3.12.4"
  }
 },
 "nbformat": 4,
 "nbformat_minor": 2
}
