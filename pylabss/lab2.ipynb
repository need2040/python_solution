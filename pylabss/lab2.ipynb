{
 "cells": [
  {
   "cell_type": "code",
   "execution_count": 11,
   "metadata": {},
   "outputs": [],
   "source": [
    "import math"
   ]
  },
  {
   "cell_type": "code",
   "execution_count": 12,
   "metadata": {},
   "outputs": [],
   "source": [
    "x = float(input(\"Введите x: \"))\n",
    "y = float(input(\"Введите y: \"))\n",
    "z = float(input(\"Введите z: \"))"
   ]
  },
  {
   "cell_type": "code",
   "execution_count": 13,
   "metadata": {},
   "outputs": [],
   "source": [
    "a = float(input(\"Введите a: \"))\n",
    "b = float(input(\"Введите b: \"))\n",
    "c = float(input(\"Введите c: \"))"
   ]
  },
  {
   "cell_type": "code",
   "execution_count": null,
   "metadata": {},
   "outputs": [
    {
     "name": "stdout",
     "output_type": "stream",
     "text": [
      "1. k = -0.0\n"
     ]
    }
   ],
   "source": [
    "#1. Решение\n",
    "if (math.sqrt(abs(x)) < 0 or z + x**2 / 4 == 0):\n",
    "    print(\"Ошибка: введенные переменные не входят в область определения функции 1\")\n",
    "else:\n",
    "    k = math.log(abs(y - math.sqrt(abs(x)))) * ((x - y) / (z + x**2 / 4))\n",
    "print(f\"1. k = {k}\")\n"
   ]
  },
  {
   "cell_type": "code",
   "execution_count": 15,
   "metadata": {},
   "outputs": [
    {
     "name": "stdout",
     "output_type": "stream",
     "text": [
      "2. d = 1.6728515836699949\n"
     ]
    }
   ],
   "source": [
    "#2. Решение\n",
    "if (1/2 + math.sin(y)**2 == 0):\n",
    "    print(\"Ошибка: введенные переменные не входят в область определения функции 2\")\n",
    "else:\n",
    "    d = (2 * math.cos(x - math.pi / 6) / (1/2 + math.sin(y)**2)) + abs(y - x) / 3\n",
    "    print(f\"2. d = {d}\")"
   ]
  },
  {
   "cell_type": "code",
   "execution_count": 16,
   "metadata": {},
   "outputs": [
    {
     "name": "stdout",
     "output_type": "stream",
     "text": [
      "3. w = 27.964494239095863\n"
     ]
    }
   ],
   "source": [
    "#3. Решение\n",
    "if(math.sin(y)**2 - (math.sin(x) * math.sin(y))**2 == 0 or y ==0):\n",
    "    print(\"Ошибка: введенные переменные не входят в область определения функции 3\")\n",
    "else:\n",
    "    w = ((x / y) * (z + x) * math.exp(abs(x - y)) + math.log(1 + math.e)) / (math.sin(y)**2 - (math.sin(x) * math.sin(y))**2)\n",
    "    print(f\"3. w = {w}\")"
   ]
  },
  {
   "cell_type": "code",
   "execution_count": 17,
   "metadata": {},
   "outputs": [
    {
     "name": "stdout",
     "output_type": "stream",
     "text": [
      "4. b = 1.3344591852492613\n"
     ]
    }
   ],
   "source": [
    "#4. Решение\n",
    "if(1 + x**2 == 0 or y - math.tan(z) == 0):\n",
    "    print(\"Ошибка: введенные переменные не входят в область определения функции 4\")\n",
    "else:\n",
    "    b1 = (3 + math.exp(y - 1)) / ((1 + x**2) * abs(y - math.tan(z)))\n",
    "    print(f\"4. b = {b1}\")"
   ]
  },
  {
   "cell_type": "code",
   "execution_count": 18,
   "metadata": {},
   "outputs": [
    {
     "name": "stdout",
     "output_type": "stream",
     "text": [
      "5. p = 4091.0\n"
     ]
    }
   ],
   "source": [
    "#5. Решение\n",
    "if a * b < -2:\n",
    "    p = math.sqrt(abs(a * b)) + 2 * c\n",
    "elif -2 <= a * b <= 2:\n",
    "    p = a**3 + b**2 - c**2\n",
    "else:\n",
    "    p = a**c - b\n",
    "print(f\"5. p = {p}\")"
   ]
  },
  {
   "cell_type": "code",
   "execution_count": 19,
   "metadata": {},
   "outputs": [
    {
     "name": "stdout",
     "output_type": "stream",
     "text": [
      "6. h = 1.2490457723982544\n"
     ]
    }
   ],
   "source": [
    "#6. Решение\n",
    "if x < y:\n",
    "    h = math.atan(x + abs(y))\n",
    "elif x > y:\n",
    "    h = math.atan(abs(x) + y)\n",
    "else:\n",
    "    h = (x + y)**2\n",
    "print(f\"6. h = {h}\")"
   ]
  },
  {
   "cell_type": "code",
   "execution_count": 20,
   "metadata": {},
   "outputs": [
    {
     "name": "stdout",
     "output_type": "stream",
     "text": [
      "7. b = 8.306852819440055\n"
     ]
    }
   ],
   "source": [
    "#7. Решение\n",
    "if y == 0:\n",
    "    b2 = 0\n",
    "elif x == 0:\n",
    "    b2 = (x**2 + y**3)\n",
    "elif x / y > 0:\n",
    "    b2 = math.log(x / y) + (x**2 + y**3)\n",
    "else:\n",
    "    b2 = math.log(abs(x / y)) + (x**2 + y**3)\n",
    "print(f\"7. b = {b2}\")"
   ]
  },
  {
   "cell_type": "code",
   "execution_count": 21,
   "metadata": {},
   "outputs": [
    {
     "name": "stdout",
     "output_type": "stream",
     "text": [
      "8. b = -1.8414709848078965\n"
     ]
    }
   ],
   "source": [
    "#8. Решение\n",
    "\n",
    "if y == 0:\n",
    "    b3 = 0\n",
    "elif x == 0:\n",
    "    b3 = x**2 + math.sqrt(abs(y))\n",
    "elif x - y > 0:\n",
    "    b3 = math.sin(x + y) + 2 * (x + y)**2\n",
    "else:\n",
    "    b3 = math.sin(x - y) + (x - y)**3\n",
    "print(f\"8. b = {b3}\")"
   ]
  }
 ],
 "metadata": {
  "kernelspec": {
   "display_name": "Python 3",
   "language": "python",
   "name": "python3"
  },
  "language_info": {
   "codemirror_mode": {
    "name": "ipython",
    "version": 3
   },
   "file_extension": ".py",
   "mimetype": "text/x-python",
   "name": "python",
   "nbconvert_exporter": "python",
   "pygments_lexer": "ipython3",
   "version": "3.12.7"
  }
 },
 "nbformat": 4,
 "nbformat_minor": 2
}
