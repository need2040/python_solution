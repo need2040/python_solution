{
 "cells": [
  {
   "cell_type": "code",
   "execution_count": 3,
   "metadata": {},
   "outputs": [],
   "source": [
    "import numpy as np\n",
    "import pandas as pd\n",
    "import yfinance as yf"
   ]
  },
  {
   "cell_type": "code",
   "execution_count": 5,
   "metadata": {},
   "outputs": [
    {
     "name": "stderr",
     "output_type": "stream",
     "text": [
      "[*********************100%***********************]  1 of 1 completed\n"
     ]
    }
   ],
   "source": [
    "data = yf.download('NVDA', start='2020-01-01', end='2024-01-01')"
   ]
  },
  {
   "cell_type": "code",
   "execution_count": 6,
   "metadata": {},
   "outputs": [
    {
     "data": {
      "text/html": [
       "<div>\n",
       "<style scoped>\n",
       "    .dataframe tbody tr th:only-of-type {\n",
       "        vertical-align: middle;\n",
       "    }\n",
       "\n",
       "    .dataframe tbody tr th {\n",
       "        vertical-align: top;\n",
       "    }\n",
       "\n",
       "    .dataframe thead tr th {\n",
       "        text-align: left;\n",
       "    }\n",
       "\n",
       "    .dataframe thead tr:last-of-type th {\n",
       "        text-align: right;\n",
       "    }\n",
       "</style>\n",
       "<table border=\"1\" class=\"dataframe\">\n",
       "  <thead>\n",
       "    <tr>\n",
       "      <th>Price</th>\n",
       "      <th>Adj Close</th>\n",
       "      <th>Close</th>\n",
       "      <th>High</th>\n",
       "      <th>Low</th>\n",
       "      <th>Open</th>\n",
       "      <th>Volume</th>\n",
       "    </tr>\n",
       "    <tr>\n",
       "      <th>Ticker</th>\n",
       "      <th>NVDA</th>\n",
       "      <th>NVDA</th>\n",
       "      <th>NVDA</th>\n",
       "      <th>NVDA</th>\n",
       "      <th>NVDA</th>\n",
       "      <th>NVDA</th>\n",
       "    </tr>\n",
       "    <tr>\n",
       "      <th>Date</th>\n",
       "      <th></th>\n",
       "      <th></th>\n",
       "      <th></th>\n",
       "      <th></th>\n",
       "      <th></th>\n",
       "      <th></th>\n",
       "    </tr>\n",
       "  </thead>\n",
       "  <tbody>\n",
       "    <tr>\n",
       "      <th>2020-01-02 00:00:00+00:00</th>\n",
       "      <td>5.972711</td>\n",
       "      <td>5.99775</td>\n",
       "      <td>5.99775</td>\n",
       "      <td>5.91800</td>\n",
       "      <td>5.96875</td>\n",
       "      <td>237536000</td>\n",
       "    </tr>\n",
       "    <tr>\n",
       "      <th>2020-01-03 00:00:00+00:00</th>\n",
       "      <td>5.877113</td>\n",
       "      <td>5.90175</td>\n",
       "      <td>5.94575</td>\n",
       "      <td>5.85250</td>\n",
       "      <td>5.87750</td>\n",
       "      <td>205384000</td>\n",
       "    </tr>\n",
       "    <tr>\n",
       "      <th>2020-01-06 00:00:00+00:00</th>\n",
       "      <td>5.901758</td>\n",
       "      <td>5.92650</td>\n",
       "      <td>5.93175</td>\n",
       "      <td>5.78175</td>\n",
       "      <td>5.80800</td>\n",
       "      <td>262636000</td>\n",
       "    </tr>\n",
       "    <tr>\n",
       "      <th>2020-01-07 00:00:00+00:00</th>\n",
       "      <td>5.973208</td>\n",
       "      <td>5.99825</td>\n",
       "      <td>6.04425</td>\n",
       "      <td>5.90975</td>\n",
       "      <td>5.95500</td>\n",
       "      <td>314856000</td>\n",
       "    </tr>\n",
       "    <tr>\n",
       "      <th>2020-01-08 00:00:00+00:00</th>\n",
       "      <td>5.984411</td>\n",
       "      <td>6.00950</td>\n",
       "      <td>6.05100</td>\n",
       "      <td>5.95375</td>\n",
       "      <td>5.99400</td>\n",
       "      <td>277108000</td>\n",
       "    </tr>\n",
       "  </tbody>\n",
       "</table>\n",
       "</div>"
      ],
      "text/plain": [
       "Price                     Adj Close    Close     High      Low     Open  \\\n",
       "Ticker                         NVDA     NVDA     NVDA     NVDA     NVDA   \n",
       "Date                                                                      \n",
       "2020-01-02 00:00:00+00:00  5.972711  5.99775  5.99775  5.91800  5.96875   \n",
       "2020-01-03 00:00:00+00:00  5.877113  5.90175  5.94575  5.85250  5.87750   \n",
       "2020-01-06 00:00:00+00:00  5.901758  5.92650  5.93175  5.78175  5.80800   \n",
       "2020-01-07 00:00:00+00:00  5.973208  5.99825  6.04425  5.90975  5.95500   \n",
       "2020-01-08 00:00:00+00:00  5.984411  6.00950  6.05100  5.95375  5.99400   \n",
       "\n",
       "Price                         Volume  \n",
       "Ticker                          NVDA  \n",
       "Date                                  \n",
       "2020-01-02 00:00:00+00:00  237536000  \n",
       "2020-01-03 00:00:00+00:00  205384000  \n",
       "2020-01-06 00:00:00+00:00  262636000  \n",
       "2020-01-07 00:00:00+00:00  314856000  \n",
       "2020-01-08 00:00:00+00:00  277108000  "
      ]
     },
     "execution_count": 6,
     "metadata": {},
     "output_type": "execute_result"
    }
   ],
   "source": [
    "data.head()"
   ]
  },
  {
   "cell_type": "code",
   "execution_count": null,
   "metadata": {},
   "outputs": [],
   "source": [
    "data['time_idx'] = range(len(data))  # Индекс времени\n",
    "data['SMA_10'] = data['Close'].rolling(window=10).mean()\n",
    "data['SMA_20'] = data['Close'].rolling(window=20).mean()\n",
    "data['EMA_10'] = data['Close'].ewm(span=10, adjust=False).mean()\n",
    "data['Volatility'] = data['High'] - data['Low']\n",
    "data['Price_Change'] = data['Close'].diff()\n",
    "data.ffill(inplace=True)"
   ]
  },
  {
   "cell_type": "code",
   "execution_count": null,
   "metadata": {},
   "outputs": [],
   "source": [
    "data.reset_index(inplace=True)\n",
    "data.columns = data.columns.droplevel(1)\n",
    "data.drop(columns=['Date'], inplace=True)\n",
    "data[\"series_id\"] = 0  # один уникальный идентификатор для всего рядa"
   ]
  },
  {
   "cell_type": "code",
   "execution_count": null,
   "metadata": {},
   "outputs": [],
   "source": []
  }
 ],
 "metadata": {
  "kernelspec": {
   "display_name": "Python 3",
   "language": "python",
   "name": "python3"
  },
  "language_info": {
   "codemirror_mode": {
    "name": "ipython",
    "version": 3
   },
   "file_extension": ".py",
   "mimetype": "text/x-python",
   "name": "python",
   "nbconvert_exporter": "python",
   "pygments_lexer": "ipython3",
   "version": "3.12.4"
  }
 },
 "nbformat": 4,
 "nbformat_minor": 2
}
