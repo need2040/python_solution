{
 "cells": [
  {
   "cell_type": "code",
   "execution_count": 3,
   "metadata": {},
   "outputs": [],
   "source": [
    "import pandas as pd\n",
    "import statsmodels.api as sm\n",
    "from statsmodels.formula.api import ols\n",
    "from statsmodels.stats.multicomp import pairwise_tukeyhsd\n",
    "from scipy.stats import shapiro, levene\n",
    "import matplotlib.pyplot as plt"
   ]
  },
  {
   "cell_type": "code",
   "execution_count": 4,
   "metadata": {},
   "outputs": [],
   "source": [
    "# Создаем DataFrame из данных\n",
    "data = pd.DataFrame({\n",
    "    'A': [1, 1, 1, 1, 1, 1, 1, 1, 2, 2, 2, 2, 2, 2, 2, 2, 2, 2, 3, 3, 3, 3, 3, 3, 3, 3, 3, 3],\n",
    "    'B': [1, 1, 1, 1, 1, 2, 2, 2, 1, 1, 1, 1, 2, 2, 2, 2, 2, 2, 1, 1, 1, 1, 1, 1, 2, 2, 2, 2],\n",
    "    'Отклик': [3.33, 2.75, 3.32, 1.44, 4.41, 5.64, 6.96, 8.15, 6.99, 5.60, 5.02, 5.01, 3.24, 4.10, 5.12, 3.16, 3.84, 3.82, 6.51, 6.25, 6.61, 7.17, 6.92, 4.10, 8.21, 7.83, 5.36, 7.86]\n",
    "})\n"
   ]
  },
  {
   "cell_type": "code",
   "execution_count": 5,
   "metadata": {},
   "outputs": [
    {
     "name": "stdout",
     "output_type": "stream",
     "text": [
      "Многофакторный ANOVA (тип III):\n",
      "              sum_sq    df          F    PR(>F)\n",
      "Intercept  46.512500   1.0  42.180789  0.000002\n",
      "C(A)       30.241873   2.0  13.712723  0.000136\n",
      "C(B)       28.033333   1.0  25.422588  0.000048\n",
      "C(A):C(B)  33.697931   2.0  15.279821  0.000069\n",
      "Residual   24.259267  22.0        NaN       NaN\n"
     ]
    }
   ],
   "source": [
    "\n",
    "# Построение линейной модели с взаимодействием\n",
    "model = ols('Отклик ~ C(A) + C(B) + C(A):C(B)', data=data).fit()\n",
    "\n",
    "# Многофакторный ANOVA с III типом разложения сумм квадратов\n",
    "anova_table = sm.stats.anova_lm(model, typ=3)\n",
    "print(\"Многофакторный ANOVA (тип III):\")\n",
    "print(anova_table)\n"
   ]
  },
  {
   "cell_type": "code",
   "execution_count": 6,
   "metadata": {},
   "outputs": [
    {
     "name": "stdout",
     "output_type": "stream",
     "text": [
      "\n",
      "Фактор A значим. Проводим попарное сравнение для A:\n",
      "Multiple Comparison of Means - Tukey HSD, FWER=0.05\n",
      "===================================================\n",
      "group1 group2 meandiff p-adj   lower  upper  reject\n",
      "---------------------------------------------------\n",
      "     1      2     0.09 0.9921 -1.7785 1.9585  False\n",
      "     1      3    2.182 0.0198  0.3135 4.0505   True\n",
      "     2      3    2.092 0.0177  0.3304 3.8536   True\n",
      "---------------------------------------------------\n",
      "\n",
      "Фактор B значим. Проводим попарное сравнение для B:\n",
      "Multiple Comparison of Means - Tukey HSD, FWER=0.05\n",
      "===================================================\n",
      "group1 group2 meandiff p-adj   lower  upper  reject\n",
      "---------------------------------------------------\n",
      "     1      2    0.609 0.3935 -0.8337 2.0517  False\n",
      "---------------------------------------------------\n",
      "\n",
      "Взаимодействие A и B значимо. Проводим попарное сравнение для взаимодействия:\n",
      "Multiple Comparison of Means - Tukey HSD, FWER=0.05 \n",
      "====================================================\n",
      "group1 group2 meandiff p-adj   lower   upper  reject\n",
      "----------------------------------------------------\n",
      "   1_1    1_2   3.8667 0.0006  1.4777  6.2556   True\n",
      "   1_1    2_1    2.605 0.0139  0.4106  4.7994   True\n",
      "   1_1    2_2     0.83 0.7791 -1.1508  2.8108  False\n",
      "   1_1    3_1     3.21 0.0006  1.2292  5.1908   True\n",
      "   1_1    3_2    4.265 0.0001  2.0706  6.4594   True\n",
      "   1_2    2_1  -1.2617 0.6235 -3.7601  1.2367  False\n",
      "   1_2    2_2  -3.0367 0.0057 -5.3497 -0.7236   True\n",
      "   1_2    3_1  -0.6567 0.9463 -2.9697  1.6564  False\n",
      "   1_2    3_2   0.3983 0.9958 -2.1001  2.8967  False\n",
      "   2_1    2_2   -1.775 0.1345 -3.8865  0.3365  False\n",
      "   2_1    3_1    0.605 0.9443 -1.5065  2.7165  False\n",
      "   2_1    3_2     1.66 0.2619 -0.6531  3.9731  False\n",
      "   2_2    3_1     2.38 0.0083  0.4914  4.2686   True\n",
      "   2_2    3_2    3.435 0.0006  1.3235  5.5465   True\n",
      "   3_1    3_2    1.055 0.6336 -1.0565  3.1665  False\n",
      "----------------------------------------------------\n"
     ]
    }
   ],
   "source": [
    "\n",
    "# Проверка значимости факторов и взаимодействия\n",
    "if anova_table['PR(>F)']['C(A)'] < 0.05:\n",
    "    print(\"\\nФактор A значим. Проводим попарное сравнение для A:\")\n",
    "    tukey_a = pairwise_tukeyhsd(endog=data['Отклик'], groups=data['A'], alpha=0.05)\n",
    "    print(tukey_a)\n",
    "\n",
    "if anova_table['PR(>F)']['C(B)'] < 0.05:\n",
    "    print(\"\\nФактор B значим. Проводим попарное сравнение для B:\")\n",
    "    tukey_b = pairwise_tukeyhsd(endog=data['Отклик'], groups=data['B'], alpha=0.05)\n",
    "    print(tukey_b)\n",
    "\n",
    "if anova_table['PR(>F)']['C(A):C(B)'] < 0.05:\n",
    "    print(\"\\nВзаимодействие A и B значимо. Проводим попарное сравнение для взаимодействия:\")\n",
    "    \n",
    "    data['A_B'] = data['A'].astype(str) + \"_\" + data['B'].astype(str)\n",
    "    tukey_interaction = pairwise_tukeyhsd(endog=data['Отклик'], groups=data['A_B'], alpha=0.05)\n",
    "    print(tukey_interaction)"
   ]
  }
 ],
 "metadata": {
  "kernelspec": {
   "display_name": "Python 3",
   "language": "python",
   "name": "python3"
  },
  "language_info": {
   "codemirror_mode": {
    "name": "ipython",
    "version": 3
   },
   "file_extension": ".py",
   "mimetype": "text/x-python",
   "name": "python",
   "nbconvert_exporter": "python",
   "pygments_lexer": "ipython3",
   "version": "3.12.7"
  }
 },
 "nbformat": 4,
 "nbformat_minor": 2
}
