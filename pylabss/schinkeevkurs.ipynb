{
 "cells": [
  {
   "cell_type": "code",
   "execution_count": 841,
   "metadata": {},
   "outputs": [],
   "source": [
    "import numpy as np \n",
    "import pandas as pd\n",
    "import sklearn\n",
    "import matplotlib.pyplot as plt\n",
    "from sklearn.linear_model import LinearRegression\n",
    "from sklearn.metrics import mean_squared_error, r2_score\n",
    "import statsmodels.api as sm\n",
    "from scipy.fft import fft, fftfreq"
   ]
  },
  {
   "cell_type": "code",
   "execution_count": 842,
   "metadata": {},
   "outputs": [],
   "source": [
    "data =pd.read_csv(\"SBER_240101_240430.csv\", delimiter=\";\")"
   ]
  },
  {
   "cell_type": "code",
   "execution_count": 843,
   "metadata": {},
   "outputs": [
    {
     "data": {
      "text/html": [
       "<div>\n",
       "<style scoped>\n",
       "    .dataframe tbody tr th:only-of-type {\n",
       "        vertical-align: middle;\n",
       "    }\n",
       "\n",
       "    .dataframe tbody tr th {\n",
       "        vertical-align: top;\n",
       "    }\n",
       "\n",
       "    .dataframe thead th {\n",
       "        text-align: right;\n",
       "    }\n",
       "</style>\n",
       "<table border=\"1\" class=\"dataframe\">\n",
       "  <thead>\n",
       "    <tr style=\"text-align: right;\">\n",
       "      <th></th>\n",
       "      <th>&lt;TICKER&gt;</th>\n",
       "      <th>&lt;PER&gt;</th>\n",
       "      <th>&lt;DATE&gt;</th>\n",
       "      <th>&lt;TIME&gt;</th>\n",
       "      <th>&lt;CLOSE&gt;</th>\n",
       "    </tr>\n",
       "  </thead>\n",
       "  <tbody>\n",
       "    <tr>\n",
       "      <th>0</th>\n",
       "      <td>SBER</td>\n",
       "      <td>D</td>\n",
       "      <td>240103</td>\n",
       "      <td>0</td>\n",
       "      <td>274.56</td>\n",
       "    </tr>\n",
       "    <tr>\n",
       "      <th>1</th>\n",
       "      <td>SBER</td>\n",
       "      <td>D</td>\n",
       "      <td>240104</td>\n",
       "      <td>0</td>\n",
       "      <td>274.12</td>\n",
       "    </tr>\n",
       "    <tr>\n",
       "      <th>2</th>\n",
       "      <td>SBER</td>\n",
       "      <td>D</td>\n",
       "      <td>240105</td>\n",
       "      <td>0</td>\n",
       "      <td>273.62</td>\n",
       "    </tr>\n",
       "    <tr>\n",
       "      <th>3</th>\n",
       "      <td>SBER</td>\n",
       "      <td>D</td>\n",
       "      <td>240108</td>\n",
       "      <td>0</td>\n",
       "      <td>276.76</td>\n",
       "    </tr>\n",
       "    <tr>\n",
       "      <th>4</th>\n",
       "      <td>SBER</td>\n",
       "      <td>D</td>\n",
       "      <td>240109</td>\n",
       "      <td>0</td>\n",
       "      <td>275.28</td>\n",
       "    </tr>\n",
       "  </tbody>\n",
       "</table>\n",
       "</div>"
      ],
      "text/plain": [
       "  <TICKER> <PER>  <DATE>  <TIME>  <CLOSE>\n",
       "0     SBER     D  240103       0   274.56\n",
       "1     SBER     D  240104       0   274.12\n",
       "2     SBER     D  240105       0   273.62\n",
       "3     SBER     D  240108       0   276.76\n",
       "4     SBER     D  240109       0   275.28"
      ]
     },
     "execution_count": 843,
     "metadata": {},
     "output_type": "execute_result"
    }
   ],
   "source": [
    "data.head() "
   ]
  },
  {
   "cell_type": "code",
   "execution_count": 844,
   "metadata": {},
   "outputs": [],
   "source": [
    "data.drop(columns=['<PER>','<TIME>','<TICKER>','<DATE>'],inplace=True)"
   ]
  },
  {
   "cell_type": "code",
   "execution_count": 845,
   "metadata": {},
   "outputs": [
    {
     "data": {
      "text/html": [
       "<div>\n",
       "<style scoped>\n",
       "    .dataframe tbody tr th:only-of-type {\n",
       "        vertical-align: middle;\n",
       "    }\n",
       "\n",
       "    .dataframe tbody tr th {\n",
       "        vertical-align: top;\n",
       "    }\n",
       "\n",
       "    .dataframe thead th {\n",
       "        text-align: right;\n",
       "    }\n",
       "</style>\n",
       "<table border=\"1\" class=\"dataframe\">\n",
       "  <thead>\n",
       "    <tr style=\"text-align: right;\">\n",
       "      <th></th>\n",
       "      <th>&lt;CLOSE&gt;</th>\n",
       "    </tr>\n",
       "  </thead>\n",
       "  <tbody>\n",
       "    <tr>\n",
       "      <th>0</th>\n",
       "      <td>274.56</td>\n",
       "    </tr>\n",
       "    <tr>\n",
       "      <th>1</th>\n",
       "      <td>274.12</td>\n",
       "    </tr>\n",
       "    <tr>\n",
       "      <th>2</th>\n",
       "      <td>273.62</td>\n",
       "    </tr>\n",
       "    <tr>\n",
       "      <th>3</th>\n",
       "      <td>276.76</td>\n",
       "    </tr>\n",
       "    <tr>\n",
       "      <th>4</th>\n",
       "      <td>275.28</td>\n",
       "    </tr>\n",
       "  </tbody>\n",
       "</table>\n",
       "</div>"
      ],
      "text/plain": [
       "   <CLOSE>\n",
       "0   274.56\n",
       "1   274.12\n",
       "2   273.62\n",
       "3   276.76\n",
       "4   275.28"
      ]
     },
     "execution_count": 845,
     "metadata": {},
     "output_type": "execute_result"
    }
   ],
   "source": [
    "data.head()"
   ]
  },
  {
   "cell_type": "code",
   "execution_count": 846,
   "metadata": {},
   "outputs": [
    {
     "data": {
      "text/plain": [
       "Text(0.5, 1.0, 'График цен закрытия SBER за указанный промежуток')"
      ]
     },
     "execution_count": 846,
     "metadata": {},
     "output_type": "execute_result"
    },
    {
     "data": {
      "image/png": "[encoded data removed]",
      "text/plain": [
       "<Figure size 640x480 with 1 Axes>"
      ]
     },
     "metadata": {},
     "output_type": "display_data"
    }
   ],
   "source": [
    "plot = plt.plot([i for i in range(len(data))], data[\"<CLOSE>\"].to_numpy(), 'ro')\n",
    "plt.xlabel(\"Временной промежуток\")\n",
    "plt.ylabel(\"Цена закрытия\")\n",
    "plt.title(\"График цен закрытия SBER за указанный промежуток\")"
   ]
  },
  {
   "cell_type": "code",
   "execution_count": 847,
   "metadata": {},
   "outputs": [],
   "source": [
    "#Линейная регрессия\n",
    "time = np.array([i for i in range(len(data))])\n",
    "X = np.array([i for i in range(len(data))]).reshape(-1,1)\n",
    "y = data['<CLOSE>']"
   ]
  },
  {
   "cell_type": "code",
   "execution_count": 848,
   "metadata": {},
   "outputs": [
    {
     "name": "stdout",
     "output_type": "stream",
     "text": [
      "                            OLS Regression Results                            \n",
      "==============================================================================\n",
      "Dep. Variable:                <CLOSE>   R-squared:                       0.924\n",
      "Model:                            OLS   Adj. R-squared:                  0.923\n",
      "Method:                 Least Squares   F-statistic:                     990.8\n",
      "Date:                Sat, 28 Dec 2024   Prob (F-statistic):           1.50e-47\n",
      "Time:                        17:51:42   Log-Likelihood:                -224.50\n",
      "No. Observations:                  84   AIC:                             453.0\n",
      "Df Residuals:                      82   BIC:                             457.9\n",
      "Df Model:                           1                                         \n",
      "Covariance Type:            nonrobust                                         \n",
      "==============================================================================\n",
      "                 coef    std err          t      P>|t|      [0.025      0.975]\n",
      "------------------------------------------------------------------------------\n",
      "const        270.7838      0.767    353.097      0.000     269.258     272.309\n",
      "x1             0.5022      0.016     31.477      0.000       0.470       0.534\n",
      "==============================================================================\n",
      "Omnibus:                        5.868   Durbin-Watson:                   0.425\n",
      "Prob(Omnibus):                  0.053   Jarque-Bera (JB):                2.553\n",
      "Skew:                          -0.025   Prob(JB):                        0.279\n",
      "Kurtosis:                       2.147   Cond. No.                         95.3\n",
      "==============================================================================\n",
      "\n",
      "Notes:\n",
      "[1] Standard Errors assume that the covariance matrix of the errors is correctly specified.\n"
     ]
    }
   ],
   "source": [
    "import statsmodels.api as sm\n",
    "\n",
    "# Добавляем константу для учета свободного члена\n",
    "X_with_const = sm.add_constant(X)\n",
    "\n",
    "# Строим модель\n",
    "sm_model = sm.OLS(y, X_with_const).fit()\n",
    "\n",
    "# Выводим результаты\n",
    "print(sm_model.summary())\n"
   ]
  },
  {
   "cell_type": "code",
   "execution_count": 849,
   "metadata": {},
   "outputs": [],
   "source": [
    "#Таким образом коэффициент x1 - статистически значим и в данном случае существует выраженная линия тренда, которую так же видно и на графике, А вообще говоря значения R^2 говорят об очень хорошем приближении данных этой моделью"
   ]
  },
  {
   "cell_type": "code",
   "execution_count": 850,
   "metadata": {},
   "outputs": [],
   "source": [
    "model_params = np.array(sm_model.params)"
   ]
  },
  {
   "cell_type": "code",
   "execution_count": 851,
   "metadata": {},
   "outputs": [
    {
     "data": {
      "text/plain": [
       "Text(0.5, 1.0, 'Цены закрытия с линейным трендом')"
      ]
     },
     "execution_count": 851,
     "metadata": {},
     "output_type": "execute_result"
    },
    {
     "data": {
      "image/png": "[encoded data removed]",
      "text/plain": [
       "<Figure size 640x480 with 1 Axes>"
      ]
     },
     "metadata": {},
     "output_type": "display_data"
    }
   ],
   "source": [
    "plt.plot([i for i in range(len(data))], data[\"<CLOSE>\"].to_numpy(), 'ro',[i for i in range(len(data))] ,[(i*model_params[1]+model_params[0]) for i in range(len(data))])\n",
    "plt.xlabel(\"Время\")\n",
    "plt.ylabel(\"Цена закрытия\")\n",
    "plt.title(\"Цены закрытия с линейным трендом\")"
   ]
  },
  {
   "cell_type": "code",
   "execution_count": 852,
   "metadata": {},
   "outputs": [
    {
     "data": {
      "text/plain": [
       "Text(0.5, 1.0, 'График остатков для разложения')"
      ]
     },
     "execution_count": 852,
     "metadata": {},
     "output_type": "execute_result"
    },
    {
     "data": {
      "image/png": "[encoded data removed]",
      "text/plain": [
       "<Figure size 640x480 with 1 Axes>"
      ]
     },
     "metadata": {},
     "output_type": "display_data"
    }
   ],
   "source": [
    "plt.plot(time,y.to_numpy()-[(i*model_params[1]+model_params[0]) for i in range(len(data))])\n",
    "plt.axhline(0, color ='red')\n",
    "plt.xlabel(\"Время\")\n",
    "plt.ylabel(\"Остатки\")\n",
    "plt.title(\"График остатков для разложения\")"
   ]
  },
  {
   "cell_type": "code",
   "execution_count": 853,
   "metadata": {},
   "outputs": [],
   "source": [
    "residuals = y.to_numpy()-[(i*model_params[1]+model_params[0]) for i in range(len(data))]"
   ]
  },
  {
   "cell_type": "code",
   "execution_count": 854,
   "metadata": {},
   "outputs": [
    {
     "data": {
      "image/png": "[encoded data removed]",
      "text/plain": [
       "<Figure size 1000x600 with 1 Axes>"
      ]
     },
     "metadata": {},
     "output_type": "display_data"
    }
   ],
   "source": [
    "# Количество точек данных\n",
    "N = len(residuals)\n",
    "\n",
    "# Дискретное преобразование Фурье\n",
    "frequencies = fftfreq(N)  # Частоты\n",
    "amplitudes = fft(residuals)  # Преобразование\n",
    "\n",
    "# Спектральная мощность\n",
    "power = np.abs(amplitudes)**2\n",
    "\n",
    "# Отображаем положительные частоты\n",
    "positive_frequencies = frequencies[:N // 2]\n",
    "positive_power = power[:N // 2]\n",
    "\n",
    "# Построение спектра\n",
    "plt.figure(figsize=(10, 6))\n",
    "plt.plot(positive_frequencies, positive_power)\n",
    "plt.title(\"Спектральный анализ остатков\")\n",
    "plt.xlabel(\"Частота\")\n",
    "plt.ylabel(\"Спектральная мощность\")\n",
    "plt.grid()\n",
    "plt.show()\n"
   ]
  },
  {
   "cell_type": "code",
   "execution_count": 855,
   "metadata": {},
   "outputs": [],
   "source": [
    "#Исходя из графика спектральной мощности для частот видим 3 значимых амплитуды - найдём соответствующие частоты. "
   ]
  },
  {
   "cell_type": "code",
   "execution_count": 856,
   "metadata": {},
   "outputs": [],
   "source": [
    "top_indices = np.argsort(positive_power)[-3:]\n",
    "top_frequencies = positive_frequencies[top_indices]"
   ]
  },
  {
   "cell_type": "code",
   "execution_count": 857,
   "metadata": {},
   "outputs": [
    {
     "name": "stdout",
     "output_type": "stream",
     "text": [
      "[0.03571429 0.02380952 0.04761905]\n"
     ]
    }
   ],
   "source": [
    "print(top_frequencies)"
   ]
  },
  {
   "cell_type": "code",
   "execution_count": 858,
   "metadata": {},
   "outputs": [],
   "source": [
    "#Тогда наибольшей амлпитуде будет соответствовать частота 0.047619"
   ]
  },
  {
   "cell_type": "code",
   "execution_count": 859,
   "metadata": {},
   "outputs": [
    {
     "data": {
      "text/plain": [
       "0.047619047619047616"
      ]
     },
     "execution_count": 859,
     "metadata": {},
     "output_type": "execute_result"
    }
   ],
   "source": [
    "max(top_frequencies)"
   ]
  },
  {
   "cell_type": "code",
   "execution_count": 860,
   "metadata": {},
   "outputs": [
    {
     "name": "stdout",
     "output_type": "stream",
     "text": [
      "                                 OLS Regression Results                                \n",
      "=======================================================================================\n",
      "Dep. Variable:                      y   R-squared (uncentered):                   0.316\n",
      "Model:                            OLS   Adj. R-squared (uncentered):              0.299\n",
      "Method:                 Least Squares   F-statistic:                              18.95\n",
      "Date:                Sat, 28 Dec 2024   Prob (F-statistic):                    1.71e-07\n",
      "Time:                        17:51:42   Log-Likelihood:                         -208.54\n",
      "No. Observations:                  84   AIC:                                      421.1\n",
      "Df Residuals:                      82   BIC:                                      425.9\n",
      "Df Model:                           2                                                  \n",
      "Covariance Type:            nonrobust                                                  \n",
      "==============================================================================\n",
      "                 coef    std err          t      P>|t|      [0.025      0.975]\n",
      "------------------------------------------------------------------------------\n",
      "x1             0.2186      0.452      0.483      0.630      -0.681       1.119\n",
      "x2             2.7770      0.452      6.138      0.000       1.877       3.677\n",
      "==============================================================================\n",
      "Omnibus:                        0.870   Durbin-Watson:                   0.599\n",
      "Prob(Omnibus):                  0.647   Jarque-Bera (JB):                0.539\n",
      "Skew:                           0.189   Prob(JB):                        0.764\n",
      "Kurtosis:                       3.102   Cond. No.                         1.00\n",
      "==============================================================================\n",
      "\n",
      "Notes:\n",
      "[1] R² is computed without centering (uncentered) since the model does not contain a constant.\n",
      "[2] Standard Errors assume that the covariance matrix of the errors is correctly specified.\n"
     ]
    }
   ],
   "source": [
    "# Находим частоту с максимальной мощностью\n",
    "max_freq = max(top_frequencies)\n",
    "top_frequencies = np.delete(top_frequencies,np.argmax(top_frequencies))\n",
    "\n",
    "# Добавляем признаки косинуса и синуса для максимальной частоты\n",
    "cos_component = np.cos(2 * np.pi * max_freq * time).reshape(-1, 1)\n",
    "sin_component = np.sin(2 * np.pi * max_freq * time).reshape(-1, 1)\n",
    "\n",
    "# Формируем новую матрицу признаков для остатков\n",
    "X_residuals = np.hstack([cos_component, sin_component])\n",
    "\n",
    "# Строим модель регрессии для остатков (без добавления свободного члена)\n",
    "model_residuals = sm.OLS(residuals, X_residuals).fit()\n",
    "\n",
    "# Выводим результаты\n",
    "print(model_residuals.summary())"
   ]
  },
  {
   "cell_type": "code",
   "execution_count": 861,
   "metadata": {},
   "outputs": [],
   "source": [
    "#Здесь значение коэффициента c1 (при cos(\\omega_1)) уже не является статистически значимым - тогда оставим только синус d1, который является статистимчески значимым, \n",
    "#При этом модель получилась статистически значимой."
   ]
  },
  {
   "cell_type": "code",
   "execution_count": 862,
   "metadata": {},
   "outputs": [],
   "source": [
    "#Построим модель только для синуса"
   ]
  },
  {
   "cell_type": "code",
   "execution_count": 863,
   "metadata": {},
   "outputs": [
    {
     "name": "stdout",
     "output_type": "stream",
     "text": [
      "                                 OLS Regression Results                                \n",
      "=======================================================================================\n",
      "Dep. Variable:                      y   R-squared (uncentered):                   0.314\n",
      "Model:                            OLS   Adj. R-squared (uncentered):              0.306\n",
      "Method:                 Least Squares   F-statistic:                              38.02\n",
      "Date:                Sat, 28 Dec 2024   Prob (F-statistic):                    2.42e-08\n",
      "Time:                        17:51:42   Log-Likelihood:                         -208.66\n",
      "No. Observations:                  84   AIC:                                      419.3\n",
      "Df Residuals:                      83   BIC:                                      421.8\n",
      "Df Model:                           1                                                  \n",
      "Covariance Type:            nonrobust                                                  \n",
      "==============================================================================\n",
      "                 coef    std err          t      P>|t|      [0.025      0.975]\n",
      "------------------------------------------------------------------------------\n",
      "x1             2.7770      0.450      6.166      0.000       1.881       3.673\n",
      "==============================================================================\n",
      "Omnibus:                        1.291   Durbin-Watson:                   0.597\n",
      "Prob(Omnibus):                  0.524   Jarque-Bera (JB):                0.988\n",
      "Skew:                           0.265   Prob(JB):                        0.610\n",
      "Kurtosis:                       3.044   Cond. No.                         1.00\n",
      "==============================================================================\n",
      "\n",
      "Notes:\n",
      "[1] R² is computed without centering (uncentered) since the model does not contain a constant.\n",
      "[2] Standard Errors assume that the covariance matrix of the errors is correctly specified.\n"
     ]
    }
   ],
   "source": [
    "# Добавляем только компонент косинуса для максимальной частоты\n",
    "sin_component = np.sin(2 * np.pi * max_freq * time).reshape(-1, 1)\n",
    "\n",
    "# Строим модель регрессии для обновленных остатков (только с синусом)\n",
    "model_residuals_updated = sm.OLS(residuals, sin_component).fit()\n",
    "pred_model_1 = model_residuals_updated.predict(sin_component)\n",
    "\n",
    "# Выводим результаты новой модели\n",
    "print(model_residuals_updated.summary())\n",
    "residuals = residuals - pred_model_1"
   ]
  },
  {
   "cell_type": "code",
   "execution_count": 864,
   "metadata": {},
   "outputs": [],
   "source": [
    "#Полученная модель является стаистически значимой, ровно как и коэффициент d1"
   ]
  },
  {
   "cell_type": "code",
   "execution_count": 865,
   "metadata": {},
   "outputs": [
    {
     "data": {
      "text/plain": [
       "array([0.03571429, 0.02380952])"
      ]
     },
     "execution_count": 865,
     "metadata": {},
     "output_type": "execute_result"
    }
   ],
   "source": [
    "top_frequencies"
   ]
  },
  {
   "cell_type": "code",
   "execution_count": 866,
   "metadata": {},
   "outputs": [],
   "source": [
    "#Вторая частота с наибольшим откликом: \n",
    "max_freq = top_frequencies[1]\n",
    "top_frequencies = np.delete(top_frequencies,[1])\n"
   ]
  },
  {
   "cell_type": "code",
   "execution_count": 867,
   "metadata": {},
   "outputs": [
    {
     "data": {
      "text/plain": [
       "array([0.03571429])"
      ]
     },
     "execution_count": 867,
     "metadata": {},
     "output_type": "execute_result"
    }
   ],
   "source": [
    "top_frequencies"
   ]
  },
  {
   "cell_type": "code",
   "execution_count": 868,
   "metadata": {},
   "outputs": [
    {
     "name": "stdout",
     "output_type": "stream",
     "text": [
      "                                 OLS Regression Results                                \n",
      "=======================================================================================\n",
      "Dep. Variable:                      y   R-squared (uncentered):                   0.295\n",
      "Model:                            OLS   Adj. R-squared (uncentered):              0.277\n",
      "Method:                 Least Squares   F-statistic:                              17.12\n",
      "Date:                Sat, 28 Dec 2024   Prob (F-statistic):                    6.13e-07\n",
      "Time:                        17:51:42   Log-Likelihood:                         -194.01\n",
      "No. Observations:                  84   AIC:                                      392.0\n",
      "Df Residuals:                      82   BIC:                                      396.9\n",
      "Df Model:                           2                                                  \n",
      "Covariance Type:            nonrobust                                                  \n",
      "==============================================================================\n",
      "                 coef    std err          t      P>|t|      [0.025      0.975]\n",
      "------------------------------------------------------------------------------\n",
      "x1             2.1814      0.381      5.732      0.000       1.424       2.938\n",
      "x2            -0.4466      0.381     -1.174      0.244      -1.204       0.310\n",
      "==============================================================================\n",
      "Omnibus:                        0.971   Durbin-Watson:                   0.836\n",
      "Prob(Omnibus):                  0.615   Jarque-Bera (JB):                0.606\n",
      "Skew:                           0.199   Prob(JB):                        0.738\n",
      "Kurtosis:                       3.123   Cond. No.                         1.00\n",
      "==============================================================================\n",
      "\n",
      "Notes:\n",
      "[1] R² is computed without centering (uncentered) since the model does not contain a constant.\n",
      "[2] Standard Errors assume that the covariance matrix of the errors is correctly specified.\n"
     ]
    }
   ],
   "source": [
    "# Добавляем признаки косинуса и синуса для максимальной частоты\n",
    "cos_component = np.cos(2 * np.pi * max_freq * time).reshape(-1, 1)\n",
    "sin_component = np.sin(2 * np.pi * max_freq * time).reshape(-1, 1)\n",
    "\n",
    "# Формируем новую матрицу признаков для остатков\n",
    "X_residuals = np.hstack([cos_component, sin_component])\n",
    "\n",
    "# Строим модель регрессии для остатков (без добавления свободного члена)\n",
    "model_residuals = sm.OLS(residuals, X_residuals).fit()\n",
    "\n",
    "# Выводим результаты\n",
    "print(model_residuals.summary())\n",
    "predictions = model_residuals.predict(X_residuals)\n",
    "residuals -= predictions"
   ]
  },
  {
   "cell_type": "code",
   "execution_count": 869,
   "metadata": {},
   "outputs": [],
   "source": [
    "#Эта модель, ровно как и коэффициенты c2,d2 являются статистически значимыми, продолжим вычисления"
   ]
  },
  {
   "cell_type": "code",
   "execution_count": 870,
   "metadata": {},
   "outputs": [],
   "source": [
    "#Продолжим. Третья частота\n",
    "max_freq = max(top_frequencies)\n",
    "top_frequencies = np.delete(top_frequencies,[0])"
   ]
  },
  {
   "cell_type": "code",
   "execution_count": 871,
   "metadata": {},
   "outputs": [
    {
     "data": {
      "text/plain": [
       "0.03571428571428571"
      ]
     },
     "execution_count": 871,
     "metadata": {},
     "output_type": "execute_result"
    }
   ],
   "source": [
    "max_freq"
   ]
  },
  {
   "cell_type": "code",
   "execution_count": 872,
   "metadata": {},
   "outputs": [
    {
     "name": "stdout",
     "output_type": "stream",
     "text": [
      "                                 OLS Regression Results                                \n",
      "=======================================================================================\n",
      "Dep. Variable:                      y   R-squared (uncentered):                   0.171\n",
      "Model:                            OLS   Adj. R-squared (uncentered):              0.150\n",
      "Method:                 Least Squares   F-statistic:                              8.436\n",
      "Date:                Sat, 28 Dec 2024   Prob (F-statistic):                    0.000466\n",
      "Time:                        17:51:42   Log-Likelihood:                         -186.15\n",
      "No. Observations:                  84   AIC:                                      376.3\n",
      "Df Residuals:                      82   BIC:                                      381.2\n",
      "Df Model:                           2                                                  \n",
      "Covariance Type:            nonrobust                                                  \n",
      "==============================================================================\n",
      "                 coef    std err          t      P>|t|      [0.025      0.975]\n",
      "------------------------------------------------------------------------------\n",
      "x1            -1.0781      0.347     -3.111      0.003      -1.768      -0.389\n",
      "x2             0.9297      0.347      2.682      0.009       0.240       1.619\n",
      "==============================================================================\n",
      "Omnibus:                        3.921   Durbin-Watson:                   1.004\n",
      "Prob(Omnibus):                  0.141   Jarque-Bera (JB):                3.867\n",
      "Skew:                           0.218   Prob(JB):                        0.145\n",
      "Kurtosis:                       3.956   Cond. No.                         1.00\n",
      "==============================================================================\n",
      "\n",
      "Notes:\n",
      "[1] R² is computed without centering (uncentered) since the model does not contain a constant.\n",
      "[2] Standard Errors assume that the covariance matrix of the errors is correctly specified.\n"
     ]
    }
   ],
   "source": [
    "# Добавляем признаки косинуса и синуса для максимальной частоты\n",
    "cos_component = np.cos(2 * np.pi * max_freq * time).reshape(-1, 1)\n",
    "sin_component = np.sin(2 * np.pi * max_freq * time).reshape(-1, 1)\n",
    "\n",
    "# Формируем новую матрицу признаков для остатков\n",
    "X_residuals = np.hstack([cos_component, sin_component])\n",
    "\n",
    "# Строим модель регрессии для остатков (без добавления свободного члена)\n",
    "model_residuals = sm.OLS(residuals, X_residuals).fit()\n",
    "\n",
    "# Выводим результаты\n",
    "print(model_residuals.summary())"
   ]
  },
  {
   "cell_type": "code",
   "execution_count": 873,
   "metadata": {},
   "outputs": [],
   "source": [
    "#Коэффициенты с3, d3, модели "
   ]
  },
  {
   "cell_type": "code",
   "execution_count": 874,
   "metadata": {},
   "outputs": [],
   "source": [
    "#Найдем 4 наиболее коррелирующую частоту\n",
    "top_4index = np.argsort(positive_power)[-4]\n",
    "max_freq = positive_frequencies[top_4index]"
   ]
  },
  {
   "cell_type": "code",
   "execution_count": 875,
   "metadata": {},
   "outputs": [
    {
     "data": {
      "text/plain": [
       "0.05952380952380952"
      ]
     },
     "execution_count": 875,
     "metadata": {},
     "output_type": "execute_result"
    }
   ],
   "source": [
    "max_freq"
   ]
  },
  {
   "cell_type": "code",
   "execution_count": 876,
   "metadata": {},
   "outputs": [
    {
     "name": "stdout",
     "output_type": "stream",
     "text": [
      "                                 OLS Regression Results                                \n",
      "=======================================================================================\n",
      "Dep. Variable:                      y   R-squared (uncentered):                   0.142\n",
      "Model:                            OLS   Adj. R-squared (uncentered):              0.121\n",
      "Method:                 Least Squares   F-statistic:                              6.760\n",
      "Date:                Sat, 28 Dec 2024   Prob (F-statistic):                     0.00192\n",
      "Time:                        17:51:42   Log-Likelihood:                         -187.60\n",
      "No. Observations:                  84   AIC:                                      379.2\n",
      "Df Residuals:                      82   BIC:                                      384.1\n",
      "Df Model:                           2                                                  \n",
      "Covariance Type:            nonrobust                                                  \n",
      "==============================================================================\n",
      "                 coef    std err          t      P>|t|      [0.025      0.975]\n",
      "------------------------------------------------------------------------------\n",
      "x1            -0.4868      0.353     -1.381      0.171      -1.188       0.215\n",
      "x2            -1.2016      0.353     -3.408      0.001      -1.903      -0.500\n",
      "==============================================================================\n",
      "Omnibus:                        0.368   Durbin-Watson:                   0.934\n",
      "Prob(Omnibus):                  0.832   Jarque-Bera (JB):                0.078\n",
      "Skew:                           0.044   Prob(JB):                        0.962\n",
      "Kurtosis:                       3.121   Cond. No.                         1.00\n",
      "==============================================================================\n",
      "\n",
      "Notes:\n",
      "[1] R² is computed without centering (uncentered) since the model does not contain a constant.\n",
      "[2] Standard Errors assume that the covariance matrix of the errors is correctly specified.\n"
     ]
    }
   ],
   "source": [
    "# Добавляем признаки косинуса и синуса для максимальной частоты\n",
    "cos_component = np.cos(2 * np.pi * max_freq * time).reshape(-1, 1)\n",
    "sin_component = np.sin(2 * np.pi * max_freq * time).reshape(-1, 1)\n",
    "\n",
    "# Формируем новую матрицу признаков для остатков\n",
    "X_residuals = np.hstack([cos_component, sin_component])\n",
    "\n",
    "# Строим модель регрессии для остатков (без добавления свободного члена)\n",
    "model_residuals = sm.OLS(residuals, X_residuals).fit()\n",
    "\n",
    "# Выводим результаты\n",
    "print(model_residuals.summary())"
   ]
  },
  {
   "cell_type": "code",
   "execution_count": 877,
   "metadata": {},
   "outputs": [],
   "source": [
    "#Коэффициенты с4, d4 всё так же значимы, как и модель"
   ]
  },
  {
   "cell_type": "code",
   "execution_count": 878,
   "metadata": {},
   "outputs": [],
   "source": [
    "#Найдем 5 наиболее коррелирующую частоту\n",
    "top_5index = np.argsort(positive_power)[-5]\n",
    "max_freq = positive_frequencies[top_5index]"
   ]
  },
  {
   "cell_type": "code",
   "execution_count": 879,
   "metadata": {},
   "outputs": [
    {
     "data": {
      "text/plain": [
       "0.011904761904761904"
      ]
     },
     "execution_count": 879,
     "metadata": {},
     "output_type": "execute_result"
    }
   ],
   "source": [
    "max_freq"
   ]
  },
  {
   "cell_type": "code",
   "execution_count": 880,
   "metadata": {},
   "outputs": [
    {
     "name": "stdout",
     "output_type": "stream",
     "text": [
      "                                 OLS Regression Results                                \n",
      "=======================================================================================\n",
      "Dep. Variable:                      y   R-squared (uncentered):                   0.139\n",
      "Model:                            OLS   Adj. R-squared (uncentered):              0.118\n",
      "Method:                 Least Squares   F-statistic:                              6.599\n",
      "Date:                Sat, 28 Dec 2024   Prob (F-statistic):                     0.00220\n",
      "Time:                        17:51:42   Log-Likelihood:                         -187.74\n",
      "No. Observations:                  84   AIC:                                      379.5\n",
      "Df Residuals:                      82   BIC:                                      384.3\n",
      "Df Model:                           2                                                  \n",
      "Covariance Type:            nonrobust                                                  \n",
      "==============================================================================\n",
      "                 coef    std err          t      P>|t|      [0.025      0.975]\n",
      "------------------------------------------------------------------------------\n",
      "x1            -0.7496      0.353     -2.122      0.037      -1.452      -0.047\n",
      "x2            -1.0414      0.353     -2.948      0.004      -1.744      -0.339\n",
      "==============================================================================\n",
      "Omnibus:                        0.858   Durbin-Watson:                   0.967\n",
      "Prob(Omnibus):                  0.651   Jarque-Bera (JB):                0.422\n",
      "Skew:                           0.137   Prob(JB):                        0.810\n",
      "Kurtosis:                       3.212   Cond. No.                         1.00\n",
      "==============================================================================\n",
      "\n",
      "Notes:\n",
      "[1] R² is computed without centering (uncentered) since the model does not contain a constant.\n",
      "[2] Standard Errors assume that the covariance matrix of the errors is correctly specified.\n"
     ]
    }
   ],
   "source": [
    "# Добавляем признаки косинуса и синуса для максимальной частоты\n",
    "cos_component = np.cos(2 * np.pi * max_freq * time).reshape(-1, 1)\n",
    "sin_component = np.sin(2 * np.pi * max_freq * time).reshape(-1, 1)\n",
    "\n",
    "# Формируем новую матрицу признаков для остатков\n",
    "X_residuals = np.hstack([cos_component, sin_component])\n",
    "\n",
    "# Строим модель регрессии для остатков (без добавления свободного члена)\n",
    "model_residuals = sm.OLS(residuals, X_residuals).fit()\n",
    "\n",
    "# Выводим результаты\n",
    "print(model_residuals.summary())"
   ]
  },
  {
   "cell_type": "code",
   "execution_count": 881,
   "metadata": {},
   "outputs": [],
   "source": [
    "#c5,d5 , модель значима"
   ]
  },
  {
   "cell_type": "code",
   "execution_count": 882,
   "metadata": {},
   "outputs": [],
   "source": [
    "#Найдем 6 наиболее коррелирующую частоту\n",
    "top_5index = np.argsort(positive_power)[-6]\n",
    "max_freq = positive_frequencies[top_5index]"
   ]
  },
  {
   "cell_type": "code",
   "execution_count": 883,
   "metadata": {},
   "outputs": [
    {
     "data": {
      "text/plain": [
       "0.08333333333333333"
      ]
     },
     "execution_count": 883,
     "metadata": {},
     "output_type": "execute_result"
    }
   ],
   "source": [
    "max_freq"
   ]
  },
  {
   "cell_type": "code",
   "execution_count": 884,
   "metadata": {},
   "outputs": [
    {
     "name": "stdout",
     "output_type": "stream",
     "text": [
      "                                 OLS Regression Results                                \n",
      "=======================================================================================\n",
      "Dep. Variable:                      y   R-squared (uncentered):                   0.053\n",
      "Model:                            OLS   Adj. R-squared (uncentered):              0.030\n",
      "Method:                 Least Squares   F-statistic:                              2.293\n",
      "Date:                Sat, 28 Dec 2024   Prob (F-statistic):                       0.107\n",
      "Time:                        17:51:42   Log-Likelihood:                         -191.72\n",
      "No. Observations:                  84   AIC:                                      387.4\n",
      "Df Residuals:                      82   BIC:                                      392.3\n",
      "Df Model:                           2                                                  \n",
      "Covariance Type:            nonrobust                                                  \n",
      "==============================================================================\n",
      "                 coef    std err          t      P>|t|      [0.025      0.975]\n",
      "------------------------------------------------------------------------------\n",
      "x1            -0.4637      0.370     -1.252      0.214      -1.200       0.273\n",
      "x2             0.6433      0.370      1.737      0.086      -0.093       1.380\n",
      "==============================================================================\n",
      "Omnibus:                        1.577   Durbin-Watson:                   0.875\n",
      "Prob(Omnibus):                  0.455   Jarque-Bera (JB):                1.513\n",
      "Skew:                           0.226   Prob(JB):                        0.469\n",
      "Kurtosis:                       2.522   Cond. No.                         1.00\n",
      "==============================================================================\n",
      "\n",
      "Notes:\n",
      "[1] R² is computed without centering (uncentered) since the model does not contain a constant.\n",
      "[2] Standard Errors assume that the covariance matrix of the errors is correctly specified.\n"
     ]
    }
   ],
   "source": [
    "# Добавляем признаки косинуса и синуса для максимальной частоты\n",
    "cos_component = np.cos(2 * np.pi * max_freq * time).reshape(-1, 1)\n",
    "sin_component = np.sin(2 * np.pi * max_freq * time).reshape(-1, 1)\n",
    "\n",
    "# Формируем новую матрицу признаков для остатков\n",
    "X_residuals = np.hstack([cos_component, sin_component])\n",
    "\n",
    "# Строим модель регрессии для остатков (без добавления свободного члена)\n",
    "model_residuals = sm.OLS(residuals, X_residuals).fit()\n",
    "\n",
    "# Выводим результаты\n",
    "print(model_residuals.summary())"
   ]
  },
  {
   "cell_type": "code",
   "execution_count": 885,
   "metadata": {},
   "outputs": [],
   "source": [
    "#Коэффициенты c6,d6 статистически значимы, как и модель"
   ]
  },
  {
   "cell_type": "code",
   "execution_count": 886,
   "metadata": {},
   "outputs": [],
   "source": [
    "#Найдем 7 наиболее коррелирующую частоту\n",
    "top_5index = np.argsort(positive_power)[-7]\n",
    "max_freq = positive_frequencies[top_5index]"
   ]
  },
  {
   "cell_type": "code",
   "execution_count": 887,
   "metadata": {},
   "outputs": [
    {
     "data": {
      "text/plain": [
       "0.10714285714285714"
      ]
     },
     "execution_count": 887,
     "metadata": {},
     "output_type": "execute_result"
    }
   ],
   "source": [
    "max_freq"
   ]
  },
  {
   "cell_type": "code",
   "execution_count": 888,
   "metadata": {},
   "outputs": [
    {
     "name": "stdout",
     "output_type": "stream",
     "text": [
      "                                 OLS Regression Results                                \n",
      "=======================================================================================\n",
      "Dep. Variable:                      y   R-squared (uncentered):                   0.052\n",
      "Model:                            OLS   Adj. R-squared (uncentered):              0.029\n",
      "Method:                 Least Squares   F-statistic:                              2.245\n",
      "Date:                Sat, 28 Dec 2024   Prob (F-statistic):                       0.112\n",
      "Time:                        17:51:42   Log-Likelihood:                         -191.77\n",
      "No. Observations:                  84   AIC:                                      387.5\n",
      "Df Residuals:                      82   BIC:                                      392.4\n",
      "Df Model:                           2                                                  \n",
      "Covariance Type:            nonrobust                                                  \n",
      "==============================================================================\n",
      "                 coef    std err          t      P>|t|      [0.025      0.975]\n",
      "------------------------------------------------------------------------------\n",
      "x1             0.2068      0.371      0.558      0.578      -0.530       0.944\n",
      "x2             0.7575      0.371      2.044      0.044       0.020       1.495\n",
      "==============================================================================\n",
      "Omnibus:                        2.925   Durbin-Watson:                   0.873\n",
      "Prob(Omnibus):                  0.232   Jarque-Bera (JB):                2.250\n",
      "Skew:                           0.371   Prob(JB):                        0.325\n",
      "Kurtosis:                       3.303   Cond. No.                         1.00\n",
      "==============================================================================\n",
      "\n",
      "Notes:\n",
      "[1] R² is computed without centering (uncentered) since the model does not contain a constant.\n",
      "[2] Standard Errors assume that the covariance matrix of the errors is correctly specified.\n"
     ]
    }
   ],
   "source": [
    "# Добавляем признаки косинуса и синуса для максимальной частоты\n",
    "cos_component = np.cos(2 * np.pi * max_freq * time).reshape(-1, 1)\n",
    "sin_component = np.sin(2 * np.pi * max_freq * time).reshape(-1, 1)\n",
    "\n",
    "# Формируем новую матрицу признаков для остатков\n",
    "X_residuals = np.hstack([cos_component, sin_component])\n",
    "\n",
    "# Строим модель регрессии для остатков (без добавления свободного члена)\n",
    "model_residuals = sm.OLS(residuals, X_residuals).fit()\n",
    "\n",
    "# Выводим результаты\n",
    "print(model_residuals.summary())"
   ]
  },
  {
   "cell_type": "code",
   "execution_count": 889,
   "metadata": {},
   "outputs": [],
   "source": [
    "#Коэффициент при косинусе не является значимым - не включаем в модель, включаем d7"
   ]
  },
  {
   "cell_type": "code",
   "execution_count": 890,
   "metadata": {},
   "outputs": [],
   "source": [
    "#Найдем 8 наиболее коррелирующую частоту\n",
    "top_5index = np.argsort(positive_power)[-8]\n",
    "max_freq = positive_frequencies[top_5index]"
   ]
  },
  {
   "cell_type": "code",
   "execution_count": null,
   "metadata": {},
   "outputs": [],
   "source": []
  }
 ],
 "metadata": {
  "kernelspec": {
   "display_name": "Python 3",
   "language": "python",
   "name": "python3"
  },
  "language_info": {
   "codemirror_mode": {
    "name": "ipython",
    "version": 3
   },
   "file_extension": ".py",
   "mimetype": "text/x-python",
   "name": "python",
   "nbconvert_exporter": "python",
   "pygments_lexer": "ipython3",
   "version": "3.12.7"
  }
 },
 "nbformat": 4,
 "nbformat_minor": 2
}
