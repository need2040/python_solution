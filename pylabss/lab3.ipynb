{
 "cells": [
  {
   "cell_type": "code",
   "execution_count": 1,
   "metadata": {},
   "outputs": [],
   "source": [
    "import random\n",
    "import time"
   ]
  },
  {
   "cell_type": "code",
   "execution_count": 2,
   "metadata": {},
   "outputs": [],
   "source": [
    "def generate_array(length, min_value, max_value):\n",
    "    input_array = []\n",
    "    for _ in range(length):\n",
    "        input_array.append(random.randint(min_value, max_value))\n",
    "    return input_array"
   ]
  },
  {
   "cell_type": "code",
   "execution_count": 3,
   "metadata": {},
   "outputs": [],
   "source": [
    "def selection_sort(arr):\n",
    "    start_time = time.time()\n",
    "    n = len(arr)\n",
    "    for i in range(n):\n",
    "        min_index = i\n",
    "        for j in range(i + 1, n):\n",
    "            if arr[j] < arr[min_index]:\n",
    "                min_index = j\n",
    "        arr[i], arr[min_index] = arr[min_index], arr[i]\n",
    "    end_time = time.time()\n",
    "    return arr, end_time - start_time"
   ]
  },
  {
   "cell_type": "code",
   "execution_count": 4,
   "metadata": {},
   "outputs": [],
   "source": [
    "def insertion_sort(arr):\n",
    "    start_time = time.time()\n",
    "    for i in range(1, len(arr)):\n",
    "        key = arr[i]\n",
    "        j = i - 1\n",
    "        while j >= 0 and arr[j] > key:\n",
    "            arr[j + 1] = arr[j]\n",
    "            j -= 1\n",
    "        arr[j + 1] = key\n",
    "    end_time = time.time()\n",
    "    return arr, end_time - start_time"
   ]
  },
  {
   "cell_type": "code",
   "execution_count": 5,
   "metadata": {},
   "outputs": [],
   "source": [
    "def bubble_sort(arr):\n",
    "    start_time = time.time()\n",
    "    n = len(arr)\n",
    "    for i in range(n):\n",
    "        for j in range(0, n - i - 1):\n",
    "            if arr[j] > arr[j + 1]:\n",
    "                arr[j], arr[j + 1] = arr[j + 1], arr[j]\n",
    "    end_time = time.time()\n",
    "    return arr, end_time - start_time"
   ]
  },
  {
   "cell_type": "code",
   "execution_count": 6,
   "metadata": {},
   "outputs": [],
   "source": [
    "def shell_sort(arr):\n",
    "    start_time = time.time()\n",
    "    n = len(arr)\n",
    "    gap = n // 2\n",
    "    while gap > 0:\n",
    "        for i in range(gap, n):\n",
    "            temp = arr[i]\n",
    "            j = i\n",
    "            while j >= gap and arr[j - gap] > temp:\n",
    "                arr[j] = arr[j - gap]\n",
    "                j -= gap\n",
    "            arr[j] = temp\n",
    "        gap //= 2\n",
    "    end_time = time.time()\n",
    "    return arr, end_time - start_time"
   ]
  },
  {
   "cell_type": "code",
   "execution_count": null,
   "metadata": {},
   "outputs": [],
   "source": [
    "def quick_sort(arr):\n",
    "    start_time = time.time()\n",
    "    def _quick_sort(items):\n",
    "        if len(items) <= 1:\n",
    "            return items\n",
    "        pivot = items[len(items) // 2]\n",
    "        left = [x for x in items if x < pivot] #Написать подробнее\n",
    "        middle = [x for x in items if x == pivot]\n",
    "        right = [x for x in items if x > pivot]\n",
    "        return _quick_sort(left) + middle + _quick_sort(right)\n",
    "    sorted_arr = _quick_sort(arr)\n",
    "    end_time = time.time()\n",
    "    return sorted_arr, end_time - start_time\n"
   ]
  },
  {
   "cell_type": "code",
   "execution_count": 8,
   "metadata": {},
   "outputs": [],
   "source": [
    "length = int(input(\"Введите длину массива: \\n\"))\n",
    "min_size = int(input(\"Введите минимально вомзожное значение в массиве: \\n\"))\n",
    "max_size = int(input(\"Ввведите максимально возможное значение в массиве: \\n\"))"
   ]
  },
  {
   "cell_type": "code",
   "execution_count": 9,
   "metadata": {},
   "outputs": [],
   "source": [
    "inp_arr = generate_array(length=length, min_value=min_size, max_value=max_size)"
   ]
  },
  {
   "cell_type": "code",
   "execution_count": 10,
   "metadata": {},
   "outputs": [],
   "source": [
    "algorithms = {\n",
    "    \"Сортировка выбором\": selection_sort,\n",
    "    \"Сортировка вставками\": insertion_sort,\n",
    "    \"Пузырьковая сортировка\": bubble_sort,\n",
    "    \"Сортировка Шелла\": shell_sort,\n",
    "    \"Быстрая сортировка\": quick_sort\n",
    "}"
   ]
  },
  {
   "cell_type": "code",
   "execution_count": 12,
   "metadata": {},
   "outputs": [
    {
     "name": "stdout",
     "output_type": "stream",
     "text": [
      "Выход для алгоритма \"Сортировка выбором\": [2, 2, 3, 5, 5, 6, 6, 7, 8, 8, 8, 8, 13, 13, 15, 15, 18, 19, 22, 24, 25, 26, 28, 28, 30, 31, 31, 35, 35, 36, 36, 36, 37, 37, 37, 38, 38, 39, 40, 41, 41, 43, 44, 46, 46, 46, 47, 47, 49, 52, 55, 55, 56, 56, 58, 58, 58, 58, 61, 62, 63, 64, 66, 69, 69, 69, 70, 72, 74, 77, 78, 78, 78, 80, 81, 81, 83, 83, 83, 83, 84, 84, 84, 85, 85, 86, 86, 88, 89, 90, 91, 92, 92, 92, 93, 97, 98, 99, 99, 100] . Время выполнения: 0.0\n",
      "Выход для алгоритма \"Сортировка вставками\": [2, 2, 3, 5, 5, 6, 6, 7, 8, 8, 8, 8, 13, 13, 15, 15, 18, 19, 22, 24, 25, 26, 28, 28, 30, 31, 31, 35, 35, 36, 36, 36, 37, 37, 37, 38, 38, 39, 40, 41, 41, 43, 44, 46, 46, 46, 47, 47, 49, 52, 55, 55, 56, 56, 58, 58, 58, 58, 61, 62, 63, 64, 66, 69, 69, 69, 70, 72, 74, 77, 78, 78, 78, 80, 81, 81, 83, 83, 83, 83, 84, 84, 84, 85, 85, 86, 86, 88, 89, 90, 91, 92, 92, 92, 93, 97, 98, 99, 99, 100] . Время выполнения: 0.0\n",
      "Выход для алгоритма \"Пузырьковая сортировка\": [2, 2, 3, 5, 5, 6, 6, 7, 8, 8, 8, 8, 13, 13, 15, 15, 18, 19, 22, 24, 25, 26, 28, 28, 30, 31, 31, 35, 35, 36, 36, 36, 37, 37, 37, 38, 38, 39, 40, 41, 41, 43, 44, 46, 46, 46, 47, 47, 49, 52, 55, 55, 56, 56, 58, 58, 58, 58, 61, 62, 63, 64, 66, 69, 69, 69, 70, 72, 74, 77, 78, 78, 78, 80, 81, 81, 83, 83, 83, 83, 84, 84, 84, 85, 85, 86, 86, 88, 89, 90, 91, 92, 92, 92, 93, 97, 98, 99, 99, 100] . Время выполнения: 0.0\n",
      "Выход для алгоритма \"Сортировка Шелла\": [2, 2, 3, 5, 5, 6, 6, 7, 8, 8, 8, 8, 13, 13, 15, 15, 18, 19, 22, 24, 25, 26, 28, 28, 30, 31, 31, 35, 35, 36, 36, 36, 37, 37, 37, 38, 38, 39, 40, 41, 41, 43, 44, 46, 46, 46, 47, 47, 49, 52, 55, 55, 56, 56, 58, 58, 58, 58, 61, 62, 63, 64, 66, 69, 69, 69, 70, 72, 74, 77, 78, 78, 78, 80, 81, 81, 83, 83, 83, 83, 84, 84, 84, 85, 85, 86, 86, 88, 89, 90, 91, 92, 92, 92, 93, 97, 98, 99, 99, 100] . Время выполнения: 0.0\n",
      "Выход для алгоритма \"Быстрая сортировка\": [2, 2, 3, 5, 5, 6, 6, 7, 8, 8, 8, 8, 13, 13, 15, 15, 18, 19, 22, 24, 25, 26, 28, 28, 30, 31, 31, 35, 35, 36, 36, 36, 37, 37, 37, 38, 38, 39, 40, 41, 41, 43, 44, 46, 46, 46, 47, 47, 49, 52, 55, 55, 56, 56, 58, 58, 58, 58, 61, 62, 63, 64, 66, 69, 69, 69, 70, 72, 74, 77, 78, 78, 78, 80, 81, 81, 83, 83, 83, 83, 84, 84, 84, 85, 85, 86, 86, 88, 89, 90, 91, 92, 92, 92, 93, 97, 98, 99, 99, 100] . Время выполнения: 0.0\n"
     ]
    }
   ],
   "source": [
    "for key, algorithm in algorithms.items():\n",
    "    output_array, time_taken = algorithm(inp_arr.copy())\n",
    "    print(f\"Выход для алгоритма \\\"{key}\\\":\", output_array,f\". Время выполнения: {round(time_taken,2)}\")\n"
   ]
  }
 ],
 "metadata": {
  "kernelspec": {
   "display_name": "Python 3",
   "language": "python",
   "name": "python3"
  },
  "language_info": {
   "codemirror_mode": {
    "name": "ipython",
    "version": 3
   },
   "file_extension": ".py",
   "mimetype": "text/x-python",
   "name": "python",
   "nbconvert_exporter": "python",
   "pygments_lexer": "ipython3",
   "version": "3.12.4"
  }
 },
 "nbformat": 4,
 "nbformat_minor": 2
}
