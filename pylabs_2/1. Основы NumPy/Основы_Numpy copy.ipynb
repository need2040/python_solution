{
 "cells": [
  {
   "cell_type": "markdown",
   "metadata": {
    "id": "Mxioyfcq5whj"
   },
   "source": [
    "# Основы NumPy: тензоры и векторные вычисления. Функции активации\n",
    "\n",
    "Данная лабораторная работа посвящена изучению основного пакета для численных расчетов в Python - [NumPy](https://numpy.org/). Несмотря на то, что пакет NumPy почти не содержит средств для моделирования и научных расчетов, понимание массивов NumPy и ориентированных на эти массивы вычислений поможет гораздо эффективнее использовать инструменты типа [pandas](https://pandas.pydata.org/). Основными аспектами NumPy для эффективной работы с большими массивами данных являются:\n",
    "- хранение данных в непрерывном блоке памяти независимо от других встроенных объектов Python, что позволяет работать с этим блоков без проверки типов данных и других накладных расходов. Массивы NumPy занимают гораздо меньше памяти, чем встроенные в Python последовательности;\n",
    "- сложные операции применяются к массивам целиком, так что циклы for не нужны.\n",
    "\n",
    "**Цели лабораторной:**\n",
    "- Научиться использовать iPython Notebooks\n",
    "- Познакомиься с numpy-функциями и векторными вычислениями\n",
    "- Понять механизм *укладывания* (broadcasting) массивов\n",
    "- Научиться векторизировать вычисления\n",
    "\n",
    "Давайте приступим!"
   ]
  },
  {
   "cell_type": "markdown",
   "metadata": {
    "id": "_Ug_TFfZ5whq"
   },
   "source": [
    "## О работе с iPython Notebooks ##\n",
    "\n",
    "iPython Notebooks - это интерактивный веб-блокнот (в руcскоязычной среде обычно переводят как блокнот, тетрадка, ноутбук), представляющий продуктивную среду для интерактивных исследовательских вычислений. В 2014 году веб-блокнот IPython превратился в Jupyter-блокнот, который ныне поддерживает более 40 языково-независимых средств интерактивных вычислений. \n",
    "\n",
    "В основном в каждом блокноте курса для создания заданий использовалось расширение nbgrader, автоматически создающее участки кода с заданием. Участки, требующие от Вас написания кода отмечены строчкой `### YOUR CODE HERE raise NotImplementedError()`. Напишите вместо этого ваш код и запустите его сочетанием клавиш \"SHIFT\"+\"ENTER\" или нажав \"Run Cell\" на панели инструментов. Вы не ограничены числом строчек для написания кода, однако старайтесь писать код максимально лаконично и с использованием только тех библиотек, что определены в начале всего блокнота. Например, при работе с массивами NumPy следует по возможности использовать встроенные векторизированные функции, а НЕ ПРИМЕНЯТЬ ЦИКЛЫ.\n",
    "\n",
    "Часто после задания используются нередактируемые блоки проверки правильности выполнения, включающие в себя функции `assert`. Всегда выполняйте данные блоки! Несмотря на то, что их результаты не влияют на дельнейший код, они помогают в первую очередь Вам проверить свое решение, а также автоматически начисляют баллы за правильность в системе автоматизированной проверки.\n",
    "\n",
    "Еще одним типом задания является развернутый ответ на вопрос, который следует писать в ячейке `YOUR ANSWER HERE`, где для написания текста следует пользоваться разметкой *[Markdown](https://www.markdownguide.org)*, а для формул - LaTeX: $\\sum_{i=1}^n i^2$ (просто отделив LaTeX-выражение с помощью $-символов)."
   ]
  },
  {
   "cell_type": "markdown",
   "metadata": {
    "id": "9T03Hd485whq"
   },
   "source": [
    "## Формальный нейрон ##\n",
    "\n",
    "Искусственные нейронные сети появились в результате применения математического аппарата к исследованию функционирования нервной системы. Полученные при этом результаты успешно применяются при решении проблем распознавания образов, моделирования, прогнозирования, оптимизации и управления. \n",
    "Основной структурной и функциональной частью нейронной сети является **формальный нейрон (formal neuron)**, представленный на\n",
    "рисунке, где $x_0,x_1,...,x_n$ – компоненты вектора входных сигналов,\n",
    "$w_0,w_1,...,w_n$ – значения весов входных сигналов нейрона, а $y$ – выходной сигнал нейрона:\n",
    "<img src=\"./images/формальный_нейрон.png\" title=\"Формальный нейрон\" width=\"350\">\n",
    "Формальный нейрон состоит из элементов 3 типов: умножителей (синапсов), сумматора и преобразователя. Синапс характеризует силу (вес) связи между двумя нейронами. Сумматор выполняет сложение входных сигналов, предварительно помноженных на соответствующие веса. Преобразователь реализует функцию одного аргумента – выхода /сумматора. Эта функция называется **функцией активации** или **передаточной функцией нейрона**. Исходя из данного описания, математическая модель нейрона может быть представлена следующим образом: \n",
    "$$y=f(S),\\\\\n",
    "S=\\sum_{i=1}^n w_i x_i + b $$\n",
    "\n",
    "Литертура:\n",
    "<br>- Спицын В.Г. Интеллектуальные системы: учебное пособие / В.Г. Спицын, Ю.Р. Цой; Томский политехнический университет. – Томск: Изд-во Томского политехнического университета, 2012. – 176 с."
   ]
  },
  {
   "cell_type": "markdown",
   "metadata": {
    "id": "77pf2A5y5whr"
   },
   "source": [
    "Наиболее часто используемые функции активации представлены в таблице 1:\n",
    "\n",
    "|Название|Формула|\n",
    "|:--------------|:----------------------------------------------------------|\n",
    "|Пороговая      |$$f(S)=\\begin{cases} 0,S<\\theta\\\\1,S\\ge\\theta \\end{cases}$$|\n",
    "|Линейная       |$$f(S)=aS$$                                                |\n",
    "|Лог-сигмоидная |$$f(S) = \\frac{1}{1+e^{-aS}}$$                             |\n",
    "|Гиперболический<br>тангенс|$$f(S) = \\frac{e^{aS}-e^{-aS}}{e^{aS}+e^{-aS}}$$|\n",
    "|ReLU           |$$f(S)=\\max(S,0)$$                                         |"
   ]
  },
  {
   "cell_type": "markdown",
   "metadata": {
    "id": "Pv2wCTBn5whr"
   },
   "source": [
    "## 1 - Базовые функции NumPy. Реализация функций активации ##\n",
    "\n",
    "### 1.1 - Объект ndarray ###\n",
    "\n",
    "Одна из ключевых особенностей NumPy - объект ndarray для представления N-мерного массива. Это быстрый и гибкий контейнер для хранения больших наборов данных в Python. Массивы позволяют выполнять математические операции над целыми блоками данных, применяя такой же синтаксис, как для соотвествующих операций над скалярами. \n",
    "\n",
    "В машинном обучении часто используется слово **тензор** - это контейнер для чисел. В терменологии тензоров *измерения* часто называют *осями*. Количество осей тензора называют его *рангом*.\n",
    "Рассмотрим виды тензоров:\n",
    "- тензор, содержащий единственное число, называется *скаляром*: `np.array(12)`\n",
    "- тензор первого ранга - одномерный массив чисел, называют *вектором*: `np.array([12,5,6,20])`\n",
    "- тензор второго ранга - массив векторов - это *матрица*: `np.array([[5,9],[6,3]])`\n",
    "- тензор третьего и высшего ранга: `np.array([[[1,2],[3,4]],[[5,6],[7,8]]])`\n",
    "\n",
    "Тензор определяется тремя ключевыми атрибутами:\n",
    "- количество осей(ранг): `ndim` \n",
    "- форма - кортеж целых чисел, описывающих количество измерений на каждой оси тензора: `shape` \n",
    "- тип данных, содержащихся в тензоре: `dtype`"
   ]
  },
  {
   "cell_type": "code",
   "execution_count": 38,
   "metadata": {
    "id": "gKaPB8aS5whs"
   },
   "outputs": [
    {
     "name": "stdout",
     "output_type": "stream",
     "text": [
      "[[[ 1  2]\n",
      "  [ 3  4]\n",
      "  [ 5  6]]\n",
      "\n",
      " [[ 7  8]\n",
      "  [ 9 10]\n",
      "  [11 12]]]\n",
      "Ранг:  3\n",
      "Форма:  (2, 3, 2)\n",
      "Тип данных:  int32\n"
     ]
    }
   ],
   "source": [
    "import numpy as np\n",
    "x = np.array([[[1,2],[3,4],[5,6]],[[7,8],[9,10],[11,12]]])\n",
    "print(x)\n",
    "print(\"Ранг: \", x.ndim)\n",
    "print(\"Форма: \", x.shape)\n",
    "print(\"Тип данных: \", x.dtype)"
   ]
  },
  {
   "cell_type": "markdown",
   "metadata": {
    "id": "WF_wFSfB5whs"
   },
   "source": [
    "### 1.2 - Сигмоидальная функция активации ###\n",
    "\n",
    "В данном задании Вам пригодится функция [np.exp()](https://docs.scipy.org/doc/numpy-1.10.1/reference/generated/numpy.exp.html), вычисляющая экспоненту числа, однако до этого Вы использовали [math.exp()](https://docs.python.org/3/library/math.html). Для быстрого вызова документации по функции вы можете в отдельной ячейке кода вызвать команду без параметров и с ? знаком, например: `np.exp?`.\n",
    "\n",
    "**Задание**: Реализуйте две сигмоидальные функции с помощью библиотек math и numpy, которые на вход принимают тензор x любого ранга и формы, и сравните их результаты.\n",
    "$$ \\text{Для } x \\in \\mathbb{R}^n \\text{,     } sigmoid(x) = sigmoid\\begin{pmatrix}\n",
    "    x_1  \\\\\n",
    "    x_2  \\\\\n",
    "    ...  \\\\\n",
    "    x_n  \\\\\n",
    "\\end{pmatrix} = \\begin{pmatrix}\n",
    "    \\frac{1}{1+e^{-x_1}}  \\\\\n",
    "    \\frac{1}{1+e^{-x_2}}  \\\\\n",
    "    ...  \\\\\n",
    "    \\frac{1}{1+e^{-x_n}}  \\\\\n",
    "\\end{pmatrix}\\tag{1} $$"
   ]
  },
  {
   "cell_type": "code",
   "execution_count": 39,
   "metadata": {
    "deletable": false,
    "id": "-gcsr9A45whs",
    "nbgrader": {
     "checksum": "80f70d40161e29e39cc9ac44b9e3cc3d",
     "grade": false,
     "grade_id": "math_sigmoid",
     "locked": false,
     "schema_version": 1,
     "solution": true
    }
   },
   "outputs": [],
   "source": [
    "# Вычисление сигмоиды скалярного значения\n",
    "import math\n",
    "\n",
    "def basic_sigmoid(x):\n",
    "    # YOUR CODE HERE\n",
    "    s = 1 / (1 + math.exp(-x))\n",
    "    \n",
    "    return s"
   ]
  },
  {
   "cell_type": "code",
   "execution_count": 40,
   "metadata": {
    "deletable": false,
    "editable": false,
    "id": "977zsTDz5wht",
    "nbgrader": {
     "checksum": "ca4f7b132292833b5594ff38b370d431",
     "grade": true,
     "grade_id": "correct_math_sig",
     "locked": true,
     "points": 0.5,
     "schema_version": 1,
     "solution": false
    }
   },
   "outputs": [],
   "source": [
    "assert round(basic_sigmoid(3), 2) == 0.95"
   ]
  },
  {
   "cell_type": "markdown",
   "metadata": {
    "id": "uHt_SGJW6BcK"
   },
   "source": [
    "Вычисление функции math.exp для вектора приведет к ошибке."
   ]
  },
  {
   "cell_type": "code",
   "execution_count": 41,
   "metadata": {
    "id": "OYVJR_td5wht"
   },
   "outputs": [
    {
     "ename": "TypeError",
     "evalue": "bad operand type for unary -: 'list'",
     "output_type": "error",
     "traceback": [
      "\u001b[1;31m---------------------------------------------------------------------------\u001b[0m",
      "\u001b[1;31mTypeError\u001b[0m                                 Traceback (most recent call last)",
      "Cell \u001b[1;32mIn[41], line 3\u001b[0m\n\u001b[0;32m      1\u001b[0m \u001b[38;5;66;03m### Попробуйте вычислить результат для вектора ###\u001b[39;00m\n\u001b[0;32m      2\u001b[0m x \u001b[38;5;241m=\u001b[39m [\u001b[38;5;241m1\u001b[39m, \u001b[38;5;241m2\u001b[39m, \u001b[38;5;241m3\u001b[39m]\n\u001b[1;32m----> 3\u001b[0m \u001b[43mbasic_sigmoid\u001b[49m\u001b[43m(\u001b[49m\u001b[43mx\u001b[49m\u001b[43m)\u001b[49m\n",
      "Cell \u001b[1;32mIn[39], line 6\u001b[0m, in \u001b[0;36mbasic_sigmoid\u001b[1;34m(x)\u001b[0m\n\u001b[0;32m      4\u001b[0m \u001b[38;5;28;01mdef\u001b[39;00m \u001b[38;5;21mbasic_sigmoid\u001b[39m(x):\n\u001b[0;32m      5\u001b[0m     \u001b[38;5;66;03m# YOUR CODE HERE\u001b[39;00m\n\u001b[1;32m----> 6\u001b[0m     s \u001b[38;5;241m=\u001b[39m \u001b[38;5;241m1\u001b[39m \u001b[38;5;241m/\u001b[39m (\u001b[38;5;241m1\u001b[39m \u001b[38;5;241m+\u001b[39m math\u001b[38;5;241m.\u001b[39mexp(\u001b[38;5;241;43m-\u001b[39;49m\u001b[43mx\u001b[49m))\n\u001b[0;32m      8\u001b[0m     \u001b[38;5;28;01mreturn\u001b[39;00m s\n",
      "\u001b[1;31mTypeError\u001b[0m: bad operand type for unary -: 'list'"
     ]
    }
   ],
   "source": [
    "### Попробуйте вычислить результат для вектора ###\n",
    "x = [1, 2, 3]\n",
    "basic_sigmoid(x)"
   ]
  },
  {
   "cell_type": "markdown",
   "metadata": {
    "id": "zrYWfXlq6MNK"
   },
   "source": [
    "Библиотека numpy позволит провести вычисление функции для векторов. Реализуйте функцию sigmoid с использованием библиотеки numpy и функции numpy.exp."
   ]
  },
  {
   "cell_type": "code",
   "execution_count": null,
   "metadata": {
    "deletable": false,
    "id": "usOU_OJv5whu",
    "nbgrader": {
     "checksum": "9932e637ec642f4c9571dd63649f892f",
     "grade": false,
     "grade_id": "sigmoid",
     "locked": false,
     "schema_version": 1,
     "solution": true
    }
   },
   "outputs": [],
   "source": [
    "# Реализуйте функцию sigmoid для вектора\n",
    "import numpy as np\n",
    "\n",
    "def sigmoid(x):    \n",
    "    # YOUR CODE HERE\n",
    "    s = 1 /(1+np.exp(-x))\n",
    "    \n",
    "    \n",
    "    return s"
   ]
  },
  {
   "cell_type": "code",
   "execution_count": null,
   "metadata": {
    "deletable": false,
    "editable": false,
    "id": "G0z1RD3W5whu",
    "nbgrader": {
     "checksum": "6932ca021d690ad738e30663e853da6b",
     "grade": true,
     "grade_id": "correct_sigmoid",
     "locked": true,
     "points": 0.5,
     "schema_version": 1,
     "solution": false
    }
   },
   "outputs": [],
   "source": [
    "x = np.array([1, 2, 3])\n",
    "res = sigmoid(x)\n",
    "assert round(res[0], 2) == 0.73 \n",
    "assert round(res[1], 2) == 0.88\n",
    "assert round(res[2], 2) == 0.95"
   ]
  },
  {
   "cell_type": "markdown",
   "metadata": {
    "id": "EK0zpxgs5whu"
   },
   "source": [
    "### 1.3 - Производная сигмоидальной функции\n",
    "\n",
    "Для выполнения дальнейших лабораторных работ Вам понадобится функция, вычисляющая производную сигмоидальной функции, в частности для оптимизации функции стоимости методом обратного распространения ошибки.\n",
    "\n",
    "<br>- Спицын В.Г. Интеллектуальные системы: учебное пособие / В.Г. Спицын, Ю.Р. Цой; Томский политехнический университет. – Томск: Изд-во Томского политехнического университета, 2012. – 176 с.\n",
    "\n",
    "**Задание**: Реализуйте функцию sigmoid_grad(), вычисляющую первую производную сигмоидальной функции по входному зачению x: \n",
    "$$sigmoid\\_derivative(x) = \\sigma'(x) = \\sigma(x) (1 - \\sigma(x))\\tag{2}$$"
   ]
  },
  {
   "cell_type": "code",
   "execution_count": 42,
   "metadata": {
    "deletable": false,
    "id": "qlLW-CO-5whv",
    "nbgrader": {
     "checksum": "c878a9ed01ba3cda1bf0312364e82e49",
     "grade": false,
     "grade_id": "derivative",
     "locked": false,
     "schema_version": 1,
     "solution": true
    }
   },
   "outputs": [],
   "source": [
    "def sigmoid_derivative(x):\n",
    "    ds = sigmoid(x)*(1-sigmoid(x))\n",
    "    \n",
    "    return ds"
   ]
  },
  {
   "cell_type": "code",
   "execution_count": 43,
   "metadata": {
    "deletable": false,
    "editable": false,
    "id": "_Yh3KaBD5whv",
    "nbgrader": {
     "checksum": "70f14830871753f66d06209567e60520",
     "grade": true,
     "grade_id": "correct_derivative",
     "locked": true,
     "points": 1,
     "schema_version": 1,
     "solution": false
    }
   },
   "outputs": [
    {
     "name": "stdout",
     "output_type": "stream",
     "text": [
      "sigmoid_derivative(x) = [0.19661193 0.10499359 0.04517666]\n"
     ]
    }
   ],
   "source": [
    "x = np.array([1, 2, 3])\n",
    "res = sigmoid_derivative(x) \n",
    "print (\"sigmoid_derivative(x) = \" + str(res))\n",
    "assert round(res[0], 2) == 0.20 \n",
    "assert round(res[1], 2) == 0.10\n",
    "assert round(res[2], 3) == 0.045"
   ]
  },
  {
   "cell_type": "markdown",
   "metadata": {
    "id": "Hn6UfjfO5whv"
   },
   "source": [
    "### 1.4 - Визуализация графиков функций активации ###\n",
    "\n",
    "Понимание области значений и вида графика функции активации обязательно для дальнейшего изучения грамотного построения нейронных сетей. Приведем пример получения графика сигмоидальной функции активации."
   ]
  },
  {
   "cell_type": "code",
   "execution_count": 60,
   "metadata": {},
   "outputs": [],
   "source": [
    "def theta(x):\n",
    "    return [0 if xi < 0 else 1 for xi in x]\n",
    "\n",
    "def linear(x, a=1):\n",
    "    return a*x\n",
    "\n",
    "def logsigmoid(x, a=1):\n",
    "    return 1/(1+np.exp(-a*x))\n",
    "\n",
    "def tanh(x, a=1):\n",
    "    return (np.exp(a*x)-np.exp(-a*x))/(np.exp(a*x)+np.exp(-a*x))\n",
    "\n",
    "def relu(x):\n",
    "    return np.clip(x, 0, None)"
   ]
  },
  {
   "cell_type": "code",
   "execution_count": null,
   "metadata": {
    "id": "OqXLLZ_B5whv"
   },
   "outputs": [
    {
     "data": {
      "image/png": "[encoded data removed]",
      "text/plain": [
       "<Figure size 800x1200 with 5 Axes>"
      ]
     },
     "metadata": {},
     "output_type": "display_data"
    }
   ],
   "source": [
    "import matplotlib.pyplot as plt\n",
    "\n",
    "fig, axs = plt.subplots(5, figsize=(8, 12))\n",
    "\n",
    "x = np.linspace(-10, 10, 100)\n",
    "\n",
    "axs[0].plot(x,theta(x))\n",
    "axs[1].plot(x, linear(x))\n",
    "axs[2].plot(x, logsigmoid(x))\n",
    "axs[3].plot(x, tanh(x))\n",
    "axs[4].plot(x, relu(x))\n",
    "plt.show()"
   ]
  },
  {
   "cell_type": "markdown",
   "metadata": {
    "id": "fSOp9FvI5whw"
   },
   "source": [
    "**Задание**: Реализуте остальные 4 функции активации, визуализируйте их графики на одном plot с помощью [subplots](https://matplotlib.org/api/_as_gen/matplotlib.pyplot.subplots.html#matplotlib.pyplot.subplots), а также скопируйте таблицу 1 в поле `YOUR ANSWER HERE` и дополните колонкой \"Область значений\", заполните ее."
   ]
  },
  {
   "cell_type": "markdown",
   "metadata": {
    "deletable": false,
    "id": "bkFQqo-x5whw",
    "nbgrader": {
     "checksum": "edbd25e909b04c81e0efec7589db645e",
     "grade": true,
     "grade_id": "functions",
     "locked": false,
     "points": 2,
     "schema_version": 1,
     "solution": true
    }
   },
   "source": [
    "|Название|Формула|Область значений|\n",
    "|:--------------|:----------------------------------------------------------|:-------------------------|\n",
    "|Пороговая      |$$f(S)=\\begin{cases} 0,S<\\theta\\\\1,S\\ge\\theta \\end{cases}$$|$$f(S)\\in\\{0,1\\}$$\n",
    "|Линейная       |$$f(S)=aS$$                                                |$$f(S)\\in(-\\infty;+\\infty)$$\n",
    "|Лог-сигмоидная |$$f(S) = \\frac{1}{1+e^{-aS}}$$                             |$$f(S)\\in(0;1)$$\n",
    "|Гиперболический<br>тангенс|$$f(S) = \\frac{e^{aS}-e^{-aS}}{e^{aS}+e^{-aS}}$$|$$f(S)\\in(-1;1)$$\n",
    "|ReLU           |$$f(S)=\\max(S,0)$$                                         |$$f(S)\\in[0;\\infty)$$"
   ]
  },
  {
   "cell_type": "markdown",
   "metadata": {
    "id": "TpJk06nD5whw"
   },
   "source": [
    "### 1.5 - Изменение формы массива ###\n",
    "\n",
    "Во многих случаях изменить форму массива можно без копирования данных. Для этого следует передать кортеж с описанием новой формы методу экземпляра массива функции [np.reshape()](https://docs.scipy.org/doc/numpy/reference/generated/numpy.reshape.html).\n",
    "\n",
    "Изменение формы с преобразованием в двумерный массив:\n",
    "- порядок по строкам (как в С): старшие измерения обходятся *раньше* (т.е сначала обойти ось 1, а потом переходить к оси 0); \n",
    "- порядок по столбцам (как в Fortran): старшие измерения обходятся *позже* (т.е. сначала обойти ось 0, а потом переходить к оси 1).\n",
    "\n",
    "<img src=\"images/reshape.png\" style=\"width:500px;height:300;\">\n",
    "По умолчанию массивы NumPy размещаются в памяти *по строкам*.\n",
    "\n",
    "Например, изображение формата RGB в компьютере представляет собой трехмерный массив формы $(ширина, высота, цвет = 3)$. Однако, для дальнейшей работы с изображениями Вам необходимо преобразовать их к форме $(ширина*высота*3, 1)$. Другими словами, Вы должны \"развернуть\", трехмерный массив в вектор значений.\n",
    "\n",
    "<img src=\"images/image2vector.png\" style=\"width:600px;\">\n",
    "\n",
    "**Задание**: Реализуйте функцию `image_to_vector()`, которая принимает на вход тензор формы $(ширина, высота, 3)$ и возвращает вектор данных формы $(ширина*высота*3, 1)$. Другими словами, измените форму тензора $v$ с $(a, b, c)$ на $(a*b*с,1)$."
   ]
  },
  {
   "cell_type": "code",
   "execution_count": 101,
   "metadata": {
    "deletable": false,
    "id": "OMAwHfjF5whx",
    "nbgrader": {
     "checksum": "ddfdbcf9ec46793975a89098cdc39f62",
     "grade": false,
     "grade_id": "im2vec",
     "locked": false,
     "schema_version": 1,
     "solution": true
    }
   },
   "outputs": [],
   "source": [
    "def image_to_vector(image):\n",
    "    v = image.reshape(-1,1)\n",
    "    return v"
   ]
  },
  {
   "cell_type": "code",
   "execution_count": 102,
   "metadata": {
    "deletable": false,
    "editable": false,
    "id": "pw_t9sgV5whx",
    "nbgrader": {
     "checksum": "53058ee91dc3aa7e26397c5111609455",
     "grade": true,
     "grade_id": "correct_im2vec",
     "locked": true,
     "points": 1,
     "schema_version": 1,
     "solution": false
    }
   },
   "outputs": [
    {
     "name": "stdout",
     "output_type": "stream",
     "text": [
      "image_to_vector(image) = [[0.67826139]\n",
      " [0.29380381]\n",
      " [0.90714982]\n",
      " [0.52835647]\n",
      " [0.4215251 ]\n",
      " [0.45017551]\n",
      " [0.92814219]\n",
      " [0.96677647]\n",
      " [0.85304703]\n",
      " [0.52351845]\n",
      " [0.19981397]\n",
      " [0.27417313]\n",
      " [0.60659855]\n",
      " [0.00533165]\n",
      " [0.10820313]\n",
      " [0.49978937]\n",
      " [0.34144279]\n",
      " [0.94630077]]\n"
     ]
    }
   ],
   "source": [
    "image = np.array([[[ 0.67826139,  0.29380381],\n",
    "        [ 0.90714982,  0.52835647],\n",
    "        [ 0.4215251 ,  0.45017551]],\n",
    "\n",
    "       [[ 0.92814219,  0.96677647],\n",
    "        [ 0.85304703,  0.52351845],\n",
    "        [ 0.19981397,  0.27417313]],\n",
    "\n",
    "       [[ 0.60659855,  0.00533165],\n",
    "        [ 0.10820313,  0.49978937],\n",
    "        [ 0.34144279,  0.94630077]]])\n",
    "res = image_to_vector(image)\n",
    "print (\"image_to_vector(image) = \" + str(res))\n",
    "\n",
    "assert round(res[5,0], 2) == 0.45 \n",
    "assert round(res[8,0], 2) == 0.85\n",
    "assert round(res[2,0], 2) == 0.91"
   ]
  },
  {
   "cell_type": "markdown",
   "metadata": {
    "id": "eeZ8pYYv5whx"
   },
   "source": [
    "**Задание**: какие две функции numpy используются для *линеаризации* - перехода от многомерного массива к одномерному массиву - и в чем их отличие?"
   ]
  },
  {
   "cell_type": "markdown",
   "metadata": {
    "deletable": false,
    "id": "vQ5j2EO25whx",
    "nbgrader": {
     "checksum": "bb272b74230f565d1d543f709e023d91",
     "grade": true,
     "grade_id": "linear",
     "locked": false,
     "points": 1,
     "schema_version": 1,
     "solution": true
    }
   },
   "source": [
    "np.flatten и np.ravel - flatten создает copy(), ravel создаёт view()"
   ]
  },
  {
   "cell_type": "markdown",
   "metadata": {
    "id": "sd7zR1BS5whx"
   },
   "source": [
    "### 1.6 - Укладывание ####\n",
    "Словом \"укладывание\" ([broadcasting](http://docs.scipy.org/doc/numpy/user/basics.broadcasting.html)) Описывается способ выполнения арифметических операций над массивами разной формы. Это очень мощный механизм, но даже опытные пользователи иногда испытывают затруднения с его пониманием. Простейший пример укладывания - комбинирование скалярного значения с массивом:"
   ]
  },
  {
   "cell_type": "code",
   "execution_count": 103,
   "metadata": {
    "id": "4r_X80S55why"
   },
   "outputs": [
    {
     "name": "stdout",
     "output_type": "stream",
     "text": [
      "[0 1 2 3 4 5]\n",
      "[ 0  4  8 12 16 20]\n"
     ]
    }
   ],
   "source": [
    "#Укладывание скалярного значения 4 на все элементы массива в результате умножения\n",
    "arr = np.arange(6)\n",
    "print(arr)\n",
    "print(arr * 4)"
   ]
  },
  {
   "cell_type": "markdown",
   "metadata": {
    "id": "xgFScdXi5why"
   },
   "source": [
    "**Правило укладывания**: Два массива совместимы по укладыванию, если для обоих *последних измерений* (т.е. отсчитываемых с конца) длины осей совпадают или хотя бы одна длина равна 1. Тогда укладывание производится по отсутствующим измерениям или по измерениям длины 1. "
   ]
  },
  {
   "cell_type": "markdown",
   "metadata": {
    "id": "uhB9Cq495why"
   },
   "source": [
    "Укладывание одномерного массива по оси 0:\n",
    "<img src=\"./images/укладывание_1.png\" title=\"Укладывание одномерного массива по оси 0\" width=\"75%\">"
   ]
  },
  {
   "cell_type": "code",
   "execution_count": 104,
   "metadata": {
    "id": "PJWKaExB5why"
   },
   "outputs": [
    {
     "name": "stdout",
     "output_type": "stream",
     "text": [
      "arr:\n",
      " [[0 0 0]\n",
      " [1 1 1]\n",
      " [2 2 2]\n",
      " [3 3 3]]\n",
      "arr2:\n",
      " [1 2 3]\n",
      "arr + arr2:\n",
      " [[1 2 3]\n",
      " [2 3 4]\n",
      " [3 4 5]\n",
      " [4 5 6]]\n"
     ]
    }
   ],
   "source": [
    "arr = np.arange(4).repeat(3)\n",
    "arr = arr.reshape(4,3)\n",
    "print('arr:\\n',arr)\n",
    "arr2 = np.arange(1,4)\n",
    "print('arr2:\\n',arr2)\n",
    "print('arr + arr2:\\n',arr + arr2)"
   ]
  },
  {
   "cell_type": "markdown",
   "metadata": {
    "id": "h_IjxSdX5why"
   },
   "source": [
    "Укладывание одномерного массива по оси 1:\n",
    "<img src=\"./images/укладывание_2.png\" title=\"Укладывание одномерного массива по оси 1\" width=\"75%\">"
   ]
  },
  {
   "cell_type": "code",
   "execution_count": 105,
   "metadata": {
    "id": "e7FRUlvC5whz"
   },
   "outputs": [
    {
     "name": "stdout",
     "output_type": "stream",
     "text": [
      "arr:\n",
      " [[0 0 0]\n",
      " [1 1 1]\n",
      " [2 2 2]\n",
      " [3 3 3]]\n",
      "arr2:\n",
      " [[1]\n",
      " [2]\n",
      " [3]\n",
      " [4]]\n",
      "arr + arr2:\n",
      " [[1 1 1]\n",
      " [3 3 3]\n",
      " [5 5 5]\n",
      " [7 7 7]]\n"
     ]
    }
   ],
   "source": [
    "arr2 = np.arange(1,5)\n",
    "arr2 = arr2.reshape(4,1)\n",
    "print('arr:\\n',arr)\n",
    "print('arr2:\\n',arr2)\n",
    "print('arr + arr2:\\n',arr + arr2)"
   ]
  },
  {
   "cell_type": "markdown",
   "metadata": {
    "id": "7h3Uwcxd5whz"
   },
   "source": [
    "В трехмерном случае укладываниепо любому из трех измерений сводится к изменению формы данных для обеспечения совместимости массивов. На рисунке наглядно показано, каковы должны быть формы для укладывания по любой оси трехмерного массива.\n",
    "Укладывание двумерного массива в трехмерный массив:\n",
    "<img src=\"./images/укладывание_4.png\" title=\"Укладывание двумерного массива в трехмерный массив\" width=\"65%\">"
   ]
  },
  {
   "cell_type": "markdown",
   "metadata": {
    "id": "xYucskGs5whz"
   },
   "source": [
    "Softmax — это логистическая функция для многомерного случая. Это означает, что функцию применяют не к отдельному значению, а к вектору. Например, её можно использовать в том случае, когда стоит задача многоклассовой классификации. Вы будете применять ее в следующих лаборатоных.\n",
    "\n",
    "$ softmax(z)_i = \\frac{e^{z_i}}{\\sum_{k=1}^K e^{z_k}} $\n",
    "- $ \\text{для } x \\in \\mathbb{R}^{1\\times n} \\text{,     } softmax(x) = softmax(\\begin{bmatrix}\n",
    "    x_1  &&\n",
    "    x_2 &&\n",
    "    ...  &&\n",
    "    x_n  \n",
    "\\end{bmatrix}) = \\begin{bmatrix}\n",
    "     \\frac{e^{x_1}}{\\sum_{j}e^{x_j}}  &&\n",
    "    \\frac{e^{x_2}}{\\sum_{j}e^{x_j}}  &&\n",
    "    ...  &&\n",
    "    \\frac{e^{x_n}}{\\sum_{j}e^{x_j}} \n",
    "\\end{bmatrix} $ \n",
    "\n",
    "- $\\text{для массива } x \\in \\mathbb{R}^{m \\times n} \\text{, где  $x_{ij}$ - это элемент i-й строки и j-го столбца матрицы $x$: }$  $$softmax(x) = softmax\\begin{bmatrix}\n",
    "    x_{11} & x_{12} & x_{13} & \\dots  & x_{1n} \\\\\n",
    "    x_{21} & x_{22} & x_{23} & \\dots  & x_{2n} \\\\\n",
    "    \\vdots & \\vdots & \\vdots & \\ddots & \\vdots \\\\\n",
    "    x_{m1} & x_{m2} & x_{m3} & \\dots  & x_{mn}\n",
    "\\end{bmatrix} = \\begin{bmatrix}\n",
    "    \\frac{e^{x_{11}}}{\\sum_{j}e^{x_{1j}}} & \\frac{e^{x_{12}}}{\\sum_{j}e^{x_{1j}}} & \\frac{e^{x_{13}}}{\\sum_{j}e^{x_{1j}}} & \\dots  & \\frac{e^{x_{1n}}}{\\sum_{j}e^{x_{1j}}} \\\\\n",
    "    \\frac{e^{x_{21}}}{\\sum_{j}e^{x_{2j}}} & \\frac{e^{x_{22}}}{\\sum_{j}e^{x_{2j}}} & \\frac{e^{x_{23}}}{\\sum_{j}e^{x_{2j}}} & \\dots  & \\frac{e^{x_{2n}}}{\\sum_{j}e^{x_{2j}}} \\\\\n",
    "    \\vdots & \\vdots & \\vdots & \\ddots & \\vdots \\\\\n",
    "    \\frac{e^{x_{m1}}}{\\sum_{j}e^{x_{mj}}} & \\frac{e^{x_{m2}}}{\\sum_{j}e^{x_{mj}}} & \\frac{e^{x_{m3}}}{\\sum_{j}e^{x_{mj}}} & \\dots  & \\frac{e^{x_{mn}}}{\\sum_{j}e^{x_{mj}}}\n",
    "\\end{bmatrix} = \\begin{pmatrix}\n",
    "    softmax\\text{(first row of x)}  \\\\\n",
    "    softmax\\text{(second row of x)} \\\\\n",
    "    ...  \\\\\n",
    "    softmax\\text{(last row of x)} \\\\\n",
    "\\end{pmatrix} $$\n",
    "\n",
    "**Задание**: Реализуйте функцию softmax с помощью numpy и применяя укладывание массивов. "
   ]
  },
  {
   "cell_type": "code",
   "execution_count": null,
   "metadata": {
    "deletable": false,
    "id": "BXOGub5X5wh0",
    "nbgrader": {
     "checksum": "b53542dc2d0848560273f8881d1505ae",
     "grade": false,
     "grade_id": "softmax",
     "locked": false,
     "schema_version": 1,
     "solution": true
    }
   },
   "outputs": [],
   "source": [
    "def softmax(x):\n",
    "    \"\"\"Вычисление функции softmax для каждой строки массива x (m,n).\n",
    "    \"\"\"\n",
    "    s = np.exp(x)/(np.sum(np.exp(x), axis=1, keepdims=True))\n",
    "    \n",
    "    return s"
   ]
  },
  {
   "cell_type": "code",
   "execution_count": 117,
   "metadata": {
    "deletable": false,
    "editable": false,
    "id": "Nc-ZCrq75wh0",
    "nbgrader": {
     "checksum": "b8071358e73302b90626fc596f20471a",
     "grade": true,
     "grade_id": "correct_softmax",
     "locked": true,
     "points": 1,
     "schema_version": 1,
     "solution": false
    }
   },
   "outputs": [
    {
     "name": "stdout",
     "output_type": "stream",
     "text": [
      "softmax(x) = [[9.80897665e-01 8.94462891e-04 1.79657674e-02 1.21052389e-04\n",
      "  1.21052389e-04]\n",
      " [8.78679856e-01 1.18916387e-01 8.01252314e-04 8.01252314e-04\n",
      "  8.01252314e-04]]\n"
     ]
    }
   ],
   "source": [
    "x = np.array([\n",
    "    [9, 2, 5, 0, 0],\n",
    "    [7, 5, 0, 0 ,0]])\n",
    "res = softmax(x)\n",
    "print(\"softmax(x) = \" + str(res))\n",
    "\n",
    "assert round(res[1,0], 2) == 0.88 \n",
    "assert round(res[0,3], 5) == 0.00012\n",
    "assert round(res[0,0], 2) == 0.98"
   ]
  },
  {
   "cell_type": "markdown",
   "metadata": {
    "id": "K2lpSi9f5wh0"
   },
   "source": [
    "### 1.7 - Нормализация строк\n",
    "\n",
    "Было бы проблематично передать в нейронную сеть значения, имеющие самые разные диапазоны. Например, если вы хотите прогнозировать погоду, то вам неободимо учитывать такие данные, как текущий месяц, день, влажность, атмосферное давление, время суток и т.д. Сеть, конечно, сможет автоматически адаптироваться к таким разнородным данным, однако это усложнит процесс обучения. На практике к таким данным принято применять нормализацию. \n",
    "\n",
    "Целью нормализации значений является преобразование данных к виду, который наиболее подходит для обработки, т.е. данные, поступающие на вход, должны иметь числовой тип, а их значения должны быть распределены в определенном диапазоне. \n",
    "\n",
    "На практике наиболее распространены следующие методы нормализации признаков:\n",
    "- минимакс, линейное преобразование данных в диапазоне \\[0..1\\], где минимальное и максимальное масштабируемые значения соответствуют 0 и 1 соответственно: $$x_{norm}=\\frac{x-x_{min}}{x_{max}+x_{min}}\\tag{3}$$ \n",
    "- Z-масштабирование, для каждого признака во входных данных из каждого значения вычитается среднее по этому признаку $\\mu$, и разность делится на стандартное отклонение $\\sigma$, в результате признак центрируется по нулевому значению и имеет стандартное отклонение, равное единице: $$x_{norm}=\\frac{x-\\mu}{\\sigma}\\tag{4}$$\n",
    "- масштабирование векторов данных на основе нормы вектора $$ x_{norm}=\\frac{x}{\\| x\\|}\\tag{5}$$\n",
    "\n",
    "Рассмотрим нормализацию путем деления векторов (строчек) данных на норму.\n",
    "Например, если $$x = \n",
    "\\begin{bmatrix}\n",
    "    0 & 3 & 4 \\\\\n",
    "    2 & 6 & 4 \\\\\n",
    "\\end{bmatrix}\\tag{6}$$ тогда норма$$\\| x\\| = np.linalg.norm(x, axis = 1, keepdims = True) = \\begin{bmatrix}\n",
    "    5 \\\\\n",
    "    \\sqrt{56} \\\\\n",
    "\\end{bmatrix}\\tag{7} $$и        $$ x\\_normalized = \\frac{x}{\\| x\\|} = \\begin{bmatrix}\n",
    "    0 & \\frac{3}{5} & \\frac{4}{5} \\\\\n",
    "    \\frac{2}{\\sqrt{56}} & \\frac{6}{\\sqrt{56}} & \\frac{4}{\\sqrt{56}} \\\\\n",
    "\\end{bmatrix}\\tag{8}$$ \n",
    "\n",
    "**Задание**: Реализуте функцию normalize() для масштабирования строк матрицы x. "
   ]
  },
  {
   "cell_type": "code",
   "execution_count": null,
   "metadata": {
    "deletable": false,
    "id": "0gL0rYmC5wh1",
    "nbgrader": {
     "checksum": "9c0eaa54c3797533d49858053595328b",
     "grade": false,
     "grade_id": "normalize",
     "locked": false,
     "schema_version": 1,
     "solution": true
    }
   },
   "outputs": [],
   "source": [
    "def normalize(x):\n",
    "    x = x/np.sqrt(np.sum(x**2, axis =1 , keepdims=True))\n",
    "    return x"
   ]
  },
  {
   "cell_type": "code",
   "execution_count": 123,
   "metadata": {
    "deletable": false,
    "editable": false,
    "id": "t3bPl_V85wh1",
    "nbgrader": {
     "checksum": "1f054b02db3bdb03b50ab0a2d311b4dd",
     "grade": true,
     "grade_id": "correct_normalize",
     "locked": true,
     "points": 1,
     "schema_version": 1,
     "solution": false
    }
   },
   "outputs": [
    {
     "name": "stdout",
     "output_type": "stream",
     "text": [
      "normalize(x) = [[0.         0.6        0.8       ]\n",
      " [0.13736056 0.82416338 0.54944226]]\n"
     ]
    }
   ],
   "source": [
    "x = np.array([\n",
    "    [0, 3, 4],\n",
    "    [1, 6, 4]])\n",
    "res = normalize(x)\n",
    "print(\"normalize(x) = \" + str(res))\n",
    "assert res[0,1] == 0.6 \n",
    "assert round(res[1,1], 2) == 0.82\n",
    "assert res[0,2] == 0.8"
   ]
  },
  {
   "cell_type": "markdown",
   "metadata": {
    "id": "Tmwdfm7O5wh1"
   },
   "source": [
    "## 2. Векторизация"
   ]
  },
  {
   "cell_type": "markdown",
   "metadata": {
    "id": "MwM2hzkZ5wh1"
   },
   "source": [
    "В области глубокого обучения часто приходится работать с огромными массивами данных. Поэтому неоптимальная в вычислительном отношении функция может стать узким местом в вашем алгоритме и привести к существенному увеличению времени работы модели. Для написания эффективного в вычислительном отношении кода мы будем использовать *векторизацию*. \n",
    "\n",
    "**Задание:** Постарайтесь определить разницу между следующими функциями умножения матриц. Реализуйте по аналогии эти функции с помощью векторизированных функций Numpy. Сделайте вывод."
   ]
  },
  {
   "cell_type": "code",
   "execution_count": 124,
   "metadata": {
    "id": "D_vN77Th5wh1"
   },
   "outputs": [
    {
     "name": "stdout",
     "output_type": "stream",
     "text": [
      "dot = 256\n",
      " ----- Время вычисления = 0.0мс\n",
      "outer = [[36.  8. 12. 36.  0. 36.  8. 20.  0.  0. 12.  8. 20.  0.  4.]\n",
      " [18.  4.  6. 18.  0. 18.  4. 10.  0.  0.  6.  4. 10.  0.  2.]\n",
      " [45. 10. 15. 45.  0. 45. 10. 25.  0.  0. 15. 10. 25.  0.  5.]\n",
      " [63. 14. 21. 63.  0. 63. 14. 35.  0.  0. 21. 14. 35.  0.  7.]\n",
      " [ 0.  0.  0.  0.  0.  0.  0.  0.  0.  0.  0.  0.  0.  0.  0.]\n",
      " [72. 16. 24. 72.  0. 72. 16. 40.  0.  0. 24. 16. 40.  0.  8.]\n",
      " [45. 10. 15. 45.  0. 45. 10. 25.  0.  0. 15. 10. 25.  0.  5.]\n",
      " [ 0.  0.  0.  0.  0.  0.  0.  0.  0.  0.  0.  0.  0.  0.  0.]\n",
      " [63. 14. 21. 63.  0. 63. 14. 35.  0.  0. 21. 14. 35.  0.  7.]\n",
      " [ 0.  0.  0.  0.  0.  0.  0.  0.  0.  0.  0.  0.  0.  0.  0.]\n",
      " [81. 18. 27. 81.  0. 81. 18. 45.  0.  0. 27. 18. 45.  0.  9.]\n",
      " [18.  4.  6. 18.  0. 18.  4. 10.  0.  0.  6.  4. 10.  0.  2.]\n",
      " [45. 10. 15. 45.  0. 45. 10. 25.  0.  0. 15. 10. 25.  0.  5.]\n",
      " [ 9.  2.  3.  9.  0.  9.  2.  5.  0.  0.  3.  2.  5.  0.  1.]\n",
      " [ 0.  0.  0.  0.  0.  0.  0.  0.  0.  0.  0.  0.  0.  0.  0.]]\n",
      " ----- Время вычисления = 0.0мс\n",
      "elementwise multiplication = [36.  4. 15. 63.  0. 72. 10.  0.  0.  0. 27.  4. 25.  0.  0.]\n",
      " ----- Время вычисления = 0.0мс\n",
      "gdot = [38.93371197 24.39597215 28.08296403 29.87940633 33.79529112 30.18364782]\n",
      " ----- Время вычисления = 0.0мс\n"
     ]
    }
   ],
   "source": [
    "import time\n",
    "\n",
    "x1 = [4, 2, 5, 7, 0, 8, 5, 0, 7, 0, 9, 2, 5, 1, 0]\n",
    "x2 = [9, 2, 3, 9, 0, 9, 2, 5, 0, 0, 3, 2, 5, 0, 1]\n",
    "\n",
    "### Cкалярное произведение векторов ###\n",
    "tic = time.process_time()\n",
    "dot = 0\n",
    "for i in range(len(x1)):\n",
    "    dot+= x1[i]*x2[i]\n",
    "toc = time.process_time()\n",
    "print (\"dot = \" + str(dot) + \"\\n ----- Время вычисления = \" + str(1000*(toc - tic)) + \"мс\")\n",
    "\n",
    "### Внешнее произведение двух векторов ###\n",
    "tic = time.process_time()\n",
    "outer = np.zeros((len(x1),len(x2)))\n",
    "for i in range(len(x1)):\n",
    "    for j in range(len(x2)):\n",
    "        outer[i,j] = x1[i]*x2[j]\n",
    "toc = time.process_time()\n",
    "print (\"outer = \" + str(outer) + \"\\n ----- Время вычисления = \" + str(1000*(toc - tic)) + \"мс\")\n",
    "\n",
    "### Поэлементное уможение векторов ###\n",
    "tic = time.process_time()\n",
    "mul = np.zeros(len(x1))\n",
    "for i in range(len(x1)):\n",
    "    mul[i] = x1[i]*x2[i]\n",
    "toc = time.process_time()\n",
    "print (\"elementwise multiplication = \" + str(mul) + \"\\n ----- Время вычисления = \" + str(1000*(toc - tic)) + \"мс\")\n",
    "\n",
    "### Матричное умножение ###\n",
    "W = np.random.rand(6,len(x1))\n",
    "tic = time.process_time()\n",
    "gdot = np.zeros(W.shape[0])\n",
    "for i in range(W.shape[0]):\n",
    "    for j in range(len(x1)):\n",
    "        gdot[i] += W[i,j]*x1[j]\n",
    "toc = time.process_time()\n",
    "print (\"gdot = \" + str(gdot) + \"\\n ----- Время вычисления = \" + str(1000*(toc - tic)) + \"мс\")"
   ]
  },
  {
   "cell_type": "code",
   "execution_count": 136,
   "metadata": {
    "deletable": false,
    "id": "oeroiFfo5wh2",
    "nbgrader": {
     "checksum": "ba370bcb921ef15f6930c0de00864499",
     "grade": true,
     "grade_id": "numpy_functions",
     "locked": false,
     "points": 2,
     "schema_version": 1,
     "solution": true
    }
   },
   "outputs": [],
   "source": [
    "def scalar_product(x,y):\n",
    "    time_begin = time.process_time()\n",
    "    v = np.sum(np.array(x)*np.array(y))\n",
    "    time_end = time.process_time()\n",
    "    return v, 1000*(time_end-time_begin)"
   ]
  },
  {
   "cell_type": "code",
   "execution_count": 139,
   "metadata": {},
   "outputs": [
    {
     "name": "stdout",
     "output_type": "stream",
     "text": [
      "dot = 256 \n",
      "Время вычисления = 0.0 мс\n"
     ]
    }
   ],
   "source": [
    "print(f\"dot = {scalar_product(x1,x2)[0]} \\nВремя вычисления = {scalar_product(x1,x2)[1]} мс\")"
   ]
  },
  {
   "cell_type": "code",
   "execution_count": 185,
   "metadata": {},
   "outputs": [],
   "source": [
    "def outer_product(x,y):\n",
    "    time_begin = time.process_time()\n",
    "    x, y = np.array(x), np.array(y)\n",
    "    v = np.multiply(x[:, None], y[None,:])\n",
    "    time_end = time.process_time()\n",
    "    return v, 1000*(time_end-time_begin)"
   ]
  },
  {
   "cell_type": "code",
   "execution_count": 186,
   "metadata": {},
   "outputs": [
    {
     "name": "stdout",
     "output_type": "stream",
     "text": [
      "outer = [[36  8 12 36  0 36  8 20  0  0 12  8 20  0  4]\n",
      " [18  4  6 18  0 18  4 10  0  0  6  4 10  0  2]\n",
      " [45 10 15 45  0 45 10 25  0  0 15 10 25  0  5]\n",
      " [63 14 21 63  0 63 14 35  0  0 21 14 35  0  7]\n",
      " [ 0  0  0  0  0  0  0  0  0  0  0  0  0  0  0]\n",
      " [72 16 24 72  0 72 16 40  0  0 24 16 40  0  8]\n",
      " [45 10 15 45  0 45 10 25  0  0 15 10 25  0  5]\n",
      " [ 0  0  0  0  0  0  0  0  0  0  0  0  0  0  0]\n",
      " [63 14 21 63  0 63 14 35  0  0 21 14 35  0  7]\n",
      " [ 0  0  0  0  0  0  0  0  0  0  0  0  0  0  0]\n",
      " [81 18 27 81  0 81 18 45  0  0 27 18 45  0  9]\n",
      " [18  4  6 18  0 18  4 10  0  0  6  4 10  0  2]\n",
      " [45 10 15 45  0 45 10 25  0  0 15 10 25  0  5]\n",
      " [ 9  2  3  9  0  9  2  5  0  0  3  2  5  0  1]\n",
      " [ 0  0  0  0  0  0  0  0  0  0  0  0  0  0  0]] \n",
      "Время вычисления = 0.0 мс\n"
     ]
    }
   ],
   "source": [
    "print(f\"outer = {outer_product(x1,x2)[0]} \\nВремя вычисления = {outer_product(x1,x2)[1]} мс\")"
   ]
  },
  {
   "cell_type": "code",
   "execution_count": 187,
   "metadata": {},
   "outputs": [],
   "source": [
    "def elem_product(x,y):\n",
    "    time_begin = time.process_time()\n",
    "    x, y = np.array(x), np.array(y)\n",
    "    v = np.multiply(x[:], y[:])\n",
    "    time_end = time.process_time()\n",
    "    return v, 1000*(time_end-time_begin)"
   ]
  },
  {
   "cell_type": "code",
   "execution_count": 188,
   "metadata": {},
   "outputs": [
    {
     "name": "stdout",
     "output_type": "stream",
     "text": [
      "elem = [36  4 15 63  0 72 10  0  0  0 27  4 25  0  0] \n",
      "Время вычисления = 0.0 мс\n"
     ]
    }
   ],
   "source": [
    "print(f\"elem = {elem_product(x1,x2)[0]} \\nВремя вычисления = {elem_product(x1,x2)[1]} мс\")"
   ]
  },
  {
   "cell_type": "code",
   "execution_count": 236,
   "metadata": {},
   "outputs": [],
   "source": [
    "x_test = [1, 2, 3]\n",
    "y_test = [4, 5, 6]"
   ]
  },
  {
   "cell_type": "code",
   "execution_count": 314,
   "metadata": {},
   "outputs": [],
   "source": [
    "def gdot_product(x,y):\n",
    "    time_begin = time.process_time()\n",
    "    x, y = np.array(x), np.array(y)\n",
    "    if x.ndim == 1 and y.ndim == 1:\n",
    "        v = np.sum(x * y)\n",
    "    elif x.ndim == 2 and y.ndim == 1:\n",
    "        v = np.sum(x * y[None ,...], axis=1)\n",
    "    elif x.ndim == 1 and y.ndim == 2:\n",
    "        v = np.sum(x[..., None] * y, axis=0)\n",
    "    else:\n",
    "        v =np.sum(np.multiply(x[..., None], y[None ,...]),axis=1)\n",
    "    time_end = time.process_time()\n",
    "    return v, 1000*(time_end-time_begin)"
   ]
  },
  {
   "cell_type": "code",
   "execution_count": 307,
   "metadata": {},
   "outputs": [],
   "source": [
    "A = [[1, 2], [3, 4]]  \n",
    "B = [[5, 6], [7, 8]]"
   ]
  },
  {
   "cell_type": "code",
   "execution_count": 308,
   "metadata": {},
   "outputs": [
    {
     "data": {
      "text/plain": [
       "(array([[19, 22],\n",
       "        [43, 50]]),\n",
       " 0.0)"
      ]
     },
     "execution_count": 308,
     "metadata": {},
     "output_type": "execute_result"
    }
   ],
   "source": [
    "gdot_product(A,B)"
   ]
  },
  {
   "cell_type": "code",
   "execution_count": 305,
   "metadata": {},
   "outputs": [
    {
     "name": "stdout",
     "output_type": "stream",
     "text": [
      "gdot = [38.93371197 24.39597215 28.08296403 29.87940633 33.79529112 30.18364782] \n",
      "Время вычисления = 0.0 мс\n"
     ]
    }
   ],
   "source": [
    "print(f\"gdot = {gdot_product(W,x1)[0]} \\nВремя вычисления = {gdot_product(W,x1)[1]} мс\")"
   ]
  },
  {
   "cell_type": "markdown",
   "metadata": {
    "id": "FZLyXB665wh2"
   },
   "source": [
    "Задание: для закрепления полученных знаний о библиотеке numpy реализуйте с ее помощью выражения из файла \"Варианты.pdf\" согласно вашему варианту."
   ]
  },
  {
   "cell_type": "code",
   "execution_count": 319,
   "metadata": {
    "deletable": false,
    "id": "9JluJQqD5wh2",
    "nbgrader": {
     "checksum": "f0a5e181542d36c3a08d4dc70129867c",
     "grade": true,
     "grade_id": "first_eq",
     "locked": false,
     "points": 2,
     "schema_version": 1,
     "solution": true
    }
   },
   "outputs": [],
   "source": [
    "def calculate_d(x, y):\n",
    "    numerator = 2 * np.cos(x - np.pi/6)\n",
    "    denominator = 0.5 + np.sin(y)**2\n",
    "    term1 = numerator / denominator\n",
    "    term2 = np.abs(y - x) / 3\n",
    "    return term1 + term2"
   ]
  },
  {
   "cell_type": "code",
   "execution_count": 320,
   "metadata": {},
   "outputs": [],
   "source": [
    "def calculate_h(x, y):\n",
    "    result = np.empty_like(x)\n",
    "    \n",
    "    mask_less = x < y\n",
    "    mask_greater = x > y\n",
    "    mask_equal = x == y\n",
    "    \n",
    "    result[mask_less] = np.arctan(x[mask_less] + np.abs(y[mask_less]))\n",
    "    result[mask_greater] = np.arctan(np.abs(x[mask_greater]) + y[mask_greater])\n",
    "    result[mask_equal] = (x[mask_equal] + y[mask_equal])**2\n",
    "    \n",
    "    return result"
   ]
  },
  {
   "cell_type": "markdown",
   "metadata": {
    "id": "79GlSbnd5wh2"
   },
   "source": [
    "Контрольные вопросы:\n",
    "1. Описать работу формального нейрона?\n",
    "2. Что такое тензор. Какие бывают тензоры?\n",
    "3. Что такое функция активации и какова ее задача?\n",
    "4. Какие бывают функции активации? В чем их отличие друг от друга?\n",
    "5. Для чего необходимо рассчитывать производную функции активации?\n",
    "6. Для чего нужно укладывание? Сформулируйте правило укладывания.\n",
    "7. Что представляет собой функцияи softmax?\n",
    "8. Зачем нужна процедура нормализации? Какие существуют методы нормализации данных?\n",
    "9. Зачем нужна процедура векторизации?"
   ]
  },
  {
   "cell_type": "markdown",
   "metadata": {
    "id": "8yDRN5fi5wh2"
   },
   "source": [
    "<font color='blue'>\n",
    "Источники литературы для успешного выполнения лабораторной работы:\n",
    "<br>-  Шолле Ф.Глубокое обучение на Python / Ф. Шолле – СПб.: Питер, 2018.–\n",
    "400c.\n",
    "<br>- Маккини У. Python И анализ данных / пер. с анг. А.А. Слинкина. - М.: ДМК Пресс, 2020. - 540 с.: ил. [Лань: доступ через ЭБС НТБ]\n",
    "<br>- Спицын В.Г. Интеллектуальные системы: учебное пособие / В.Г. Спицын, Ю.Р. Цой; Томский политехнический университет. – Томск: Изд-во Томского политехнического университета, 2012. – 176 с."
   ]
  }
 ],
 "metadata": {
  "colab": {
   "collapsed_sections": [],
   "name": "Основы_Numpy.ipynb",
   "provenance": []
  },
  "coursera": {
   "course_slug": "neural-networks-deep-learning",
   "graded_item_id": "XHpfv",
   "launcher_item_id": "Zh0CU"
  },
  "kernelspec": {
   "display_name": "Python 3",
   "language": "python",
   "name": "python3"
  },
  "language_info": {
   "codemirror_mode": {
    "name": "ipython",
    "version": 3
   },
   "file_extension": ".py",
   "mimetype": "text/x-python",
   "name": "python",
   "nbconvert_exporter": "python",
   "pygments_lexer": "ipython3",
   "version": "3.12.7"
  }
 },
 "nbformat": 4,
 "nbformat_minor": 0
}
