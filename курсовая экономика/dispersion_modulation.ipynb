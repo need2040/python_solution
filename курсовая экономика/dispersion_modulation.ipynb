{
 "cells": [
  {
   "cell_type": "code",
   "execution_count": 1,
   "id": "22afb6f7",
   "metadata": {},
   "outputs": [
    {
     "ename": "ModuleNotFoundError",
     "evalue": "No module named 'ace_tools'",
     "output_type": "error",
     "traceback": [
      "\u001b[1;31m---------------------------------------------------------------------------\u001b[0m",
      "\u001b[1;31mModuleNotFoundError\u001b[0m                       Traceback (most recent call last)",
      "Cell \u001b[1;32mIn[1], line 3\u001b[0m\n\u001b[0;32m      1\u001b[0m \u001b[38;5;28;01mimport\u001b[39;00m \u001b[38;5;21;01mnumpy\u001b[39;00m \u001b[38;5;28;01mas\u001b[39;00m \u001b[38;5;21;01mnp\u001b[39;00m\n\u001b[0;32m      2\u001b[0m \u001b[38;5;28;01mimport\u001b[39;00m \u001b[38;5;21;01mmatplotlib\u001b[39;00m\u001b[38;5;21;01m.\u001b[39;00m\u001b[38;5;21;01mpyplot\u001b[39;00m \u001b[38;5;28;01mas\u001b[39;00m \u001b[38;5;21;01mplt\u001b[39;00m\n\u001b[1;32m----> 3\u001b[0m \u001b[38;5;28;01mimport\u001b[39;00m \u001b[38;5;21;01mace_tools\u001b[39;00m \u001b[38;5;28;01mas\u001b[39;00m \u001b[38;5;21;01mtools\u001b[39;00m\n\u001b[0;32m      4\u001b[0m \u001b[38;5;28;01mimport\u001b[39;00m \u001b[38;5;21;01mpandas\u001b[39;00m \u001b[38;5;28;01mas\u001b[39;00m \u001b[38;5;21;01mpd\u001b[39;00m\n",
      "\u001b[1;31mModuleNotFoundError\u001b[0m: No module named 'ace_tools'"
     ]
    }
   ],
   "source": [
    "import numpy as np\n",
    "import matplotlib.pyplot as plt\n",
    "import ace_tools as tools\n",
    "import pandas as pd"
   ]
  },
  {
   "cell_type": "code",
   "execution_count": null,
   "id": "a5b7994e",
   "metadata": {},
   "outputs": [],
   "source": [
    "def simulate_monotonic_growth_with_failure(n_sim=100000, p_zero=0.9, a=100, m=300, b=600):\n",
    "    Q1, Q2, Q3 = np.zeros(n_sim), np.zeros(n_sim), np.zeros(n_sim)\n",
    "    mask_success = np.random.rand(n_sim) > p_zero\n",
    "    n_success = np.sum(mask_success)\n",
    "\n",
    "    accepted = 0\n",
    "    i = 0\n",
    "    while accepted < n_success:\n",
    "        q1 = np.random.triangular(a, m, b)\n",
    "        q2 = np.random.triangular(a, m, b)\n",
    "        q3 = np.random.triangular(a, m, b)\n",
    "        if q1 < q2 < q3:\n",
    "            indices = np.where(mask_success)[0]\n",
    "            Q1[indices[accepted]] = q1\n",
    "            Q2[indices[accepted]] = q2\n",
    "            Q3[indices[accepted]] = q3\n",
    "            accepted += 1\n",
    "        i += 1\n",
    "        if i > n_sim * 10:\n",
    "            break  # защита от бесконечного цикла\n",
    "\n",
    "    return Q1, Q2, Q3\n",
    "\n",
    "# Симуляция\n",
    "Q1, Q2, Q3 = simulate_monotonic_growth_with_failure()\n",
    "\n",
    "# Преобразуем в DataFrame\n",
    "df = pd.DataFrame({\n",
    "    \"Q1\": Q1,\n",
    "    \"Q2\": Q2,\n",
    "    \"Q3\": Q3\n",
    "})\n",
    "\n",
    "tools.display_dataframe_to_user(name=\"Объемы продаж по годам с провалами и ростом\", dataframe=df)\n"
   ]
  }
 ],
 "metadata": {
  "kernelspec": {
   "display_name": "Python 3",
   "language": "python",
   "name": "python3"
  },
  "language_info": {
   "codemirror_mode": {
    "name": "ipython",
    "version": 3
   },
   "file_extension": ".py",
   "mimetype": "text/x-python",
   "name": "python",
   "nbconvert_exporter": "python",
   "pygments_lexer": "ipython3",
   "version": "3.12.7"
  }
 },
 "nbformat": 4,
 "nbformat_minor": 5
}
