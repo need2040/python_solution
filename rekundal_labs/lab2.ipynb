{
  "cells": [
    {
      "cell_type": "code",
      "execution_count": 103,
      "metadata": {
        "id": "hBoVHebnRYL2"
      },
      "outputs": [],
      "source": [
        "import matplotlib.pyplot as plt\n",
        "import numpy as np\n",
        "from scipy.stats import chi2\n",
        "\n",
        "from statsmodels.graphics.tsaplots import plot_pacf\n",
        "from statsmodels.tsa.ar_model import AutoReg\n",
        "from statsmodels.tsa.stattools import adfuller"
      ]
    },
    {
      "cell_type": "markdown",
      "metadata": {
        "id": "5Otz9COwRmRJ"
      },
      "source": [
        "В-7.\n",
        "\n"
      ]
    },
    {
      "cell_type": "code",
      "execution_count": 104,
      "metadata": {
        "colab": {
          "base_uri": "https://localhost:8080/"
        },
        "id": "MGALRnpIRhYl",
        "outputId": "066d15af-8823-46e5-ef88-316199eeabd8"
      },
      "outputs": [
        {
          "name": "stdout",
          "output_type": "stream",
          "text": [
            "24\n"
          ]
        }
      ],
      "source": [
        "crona = [45.27,45.34,45.51,45.55,45.17,45.35,45.43,45.32,44.72,44.83,44.78,44.62,\n",
        "         44.98,45.60,46.01,45.72,45.84,46.14,46.16,45.52,45.05,44.91,45.17,44.91]\n",
        "\n",
        "n= len(crona)\n",
        "print(n)"
      ]
    },
    {
      "cell_type": "code",
      "execution_count": 105,
      "metadata": {
        "id": "h6Xs1znhTBSs"
      },
      "outputs": [],
      "source": [
        "def auto_covar(crona, lag):\n",
        "  mean = np.mean(crona)\n",
        "  acov = [float(sum((crona - mean) ** 2) / len(crona))]\n",
        "  for i in range(1, lag + 1):\n",
        "    acov.append(float(sum((crona[i:] - mean) * (crona[:-i] - mean)) / len(crona)))\n",
        "  return acov\n",
        "\n",
        "def auto_corel(crona, lag):\n",
        "  mean = np.mean(crona)\n",
        "  acorr = [1]\n",
        "  for i in range(1, lag + 1):\n",
        "    acorr.append(float(sum((crona[i:] - mean) * (crona[:-i] - mean)) / sum((crona - mean) ** 2)))\n",
        "  return acorr"
      ]
    },
    {
      "cell_type": "code",
      "execution_count": 106,
      "metadata": {
        "colab": {
          "base_uri": "https://localhost:8080/"
        },
        "id": "b8E0dqnOUJP5",
        "outputId": "64bc68b9-066b-4a64-821e-37d291384187"
      },
      "outputs": [
        {
          "data": {
            "text/plain": [
              "[1,\n",
              " 0.7233228695750802,\n",
              " 0.35960085654492824,\n",
              " 0.09369285909262455,\n",
              " -0.11739352082095013,\n",
              " -0.4368386923480597,\n",
              " -0.5991180902737538,\n",
              " -0.5210551195136935,\n",
              " -0.3802301652887395,\n",
              " -0.26329922484678076,\n",
              " -0.05461377576521095]"
            ]
          },
          "execution_count": 106,
          "metadata": {},
          "output_type": "execute_result"
        }
      ],
      "source": [
        "auto_corel(crona, 10)"
      ]
    },
    {
      "cell_type": "code",
      "execution_count": 107,
      "metadata": {
        "colab": {
          "base_uri": "https://localhost:8080/"
        },
        "id": "zs6sc7xMNRH1",
        "outputId": "a1ee3f77-5a15-4ecd-8c9a-bfb8db2b030b"
      },
      "outputs": [
        {
          "name": "stdout",
          "output_type": "stream",
          "text": [
            "Q = 55.88460323358196\n",
            "H0 отвергается\n"
          ]
        }
      ],
      "source": [
        "r = auto_corel(crona, 10) # Q-статистика Льюнга-Бокса\n",
        "r2 = [x ** 2 for x in r]\n",
        "\n",
        "Q = 0\n",
        "for k in range(1, 11):\n",
        "  Q += n * (n + 2) * r2[k] / (n - k)\n",
        "\n",
        "print(f'Q = {Q}')\n",
        "\n",
        "k = 5\n",
        "chi2_critical = chi2.ppf(0.95, k)\n",
        "\n",
        "if Q < chi2_critical:\n",
        "  print('H0 принимается')\n",
        "else:\n",
        "  print('H0 отвергается')"
      ]
    },
    {
      "cell_type": "code",
      "execution_count": 108,
      "metadata": {},
      "outputs": [
        {
          "data": {
            "text/plain": [
              "11.070497693516351"
            ]
          },
          "execution_count": 108,
          "metadata": {},
          "output_type": "execute_result"
        }
      ],
      "source": [
        "chi2_critical"
      ]
    },
    {
      "cell_type": "code",
      "execution_count": 109,
      "metadata": {
        "colab": {
          "base_uri": "https://localhost:8080/"
        },
        "id": "DsQdVmQEU0Ll",
        "outputId": "af121840-8cd8-4ffc-b174-b0240cd2a155"
      },
      "outputs": [
        {
          "name": "stdout",
          "output_type": "stream",
          "text": [
            "[12.54154376  0.72332287]\n"
          ]
        }
      ],
      "source": [
        "def Yule_Walker(crona, p): #оценка Юла-Уокера\n",
        "  r = auto_corel(crona, p)[1:]\n",
        "  R = np.ones((p, p))\n",
        "\n",
        "  for i in range(p):\n",
        "    for j in range(p):\n",
        "      if i != j:\n",
        "        R[i][j] = r[abs(i - j) - 1]\n",
        "\n",
        "  a = np.linalg.solve(R, r)\n",
        "  a0 = float(np.mean(crona) * (1 - np.sum(a)))\n",
        "\n",
        "  return np.array([a0, *a])\n",
        "\n",
        "print(Yule_Walker(crona, 1))"
      ]
    },
    {
      "cell_type": "code",
      "execution_count": 110,
      "metadata": {
        "id": "4BfcYQVW1j6i"
      },
      "outputs": [],
      "source": [
        "ARp1 = Yule_Walker(crona, 1)\n",
        "\n",
        "pred_ARp1 = crona[:1] + [ARp1[0] + ARp1[1] * i for i in crona[:-1]]"
      ]
    },
    {
      "cell_type": "markdown",
      "metadata": {
        "id": "nj2fhWqQ2Ri7"
      },
      "source": [
        "Критические точки tкр распределения Дики-Фулера"
      ]
    },
    {
      "cell_type": "code",
      "execution_count": 111,
      "metadata": {
        "colab": {
          "base_uri": "https://localhost:8080/"
        },
        "id": "7XjpZ2qs10Gz",
        "outputId": "c6a70d58-5aef-41cc-a564-23a76ef02775"
      },
      "outputs": [
        {
          "name": "stdout",
          "output_type": "stream",
          "text": [
            "ADF-статистика γ = -2.682834667011425\n"
          ]
        }
      ],
      "source": [
        "y = crona[1:] # критерий Дарбина- Уотсона\n",
        "X = np.column_stack((np.ones(len(y)), crona[:-1]))\n",
        "# (X^T X)^(-1)\n",
        "XtX_inv = np.linalg.inv(X.T @ X)\n",
        "\n",
        "# Ищем c11 — элемент на позиции [1,1] (второй по счёту, т.к. первый — это смещение)\n",
        "c11 = XtX_inv[1, 1]\n",
        "# Теперь можно вычислить стандартную ошибку s\n",
        "n = len(y)\n",
        "s = np.sqrt(c11 / (n - 1))\n",
        "\n",
        "# Используем коэффициент при лаге (a1)\n",
        "a1 = ARp1[1]\n",
        "\n",
        "# ADF-статистика / критерий Дики-Фулера\n",
        "gamma = (a1 - 1) / s\n",
        "\n",
        "print(\"ADF-статистика γ =\", gamma)"
      ]
    },
    {
      "cell_type": "code",
      "execution_count": 112,
      "metadata": {
        "colab": {
          "base_uri": "https://localhost:8080/"
        },
        "id": "slSnM0fBQW9q",
        "outputId": "b898ed3c-0650-4d7b-a48e-d013a622a042"
      },
      "outputs": [
        {
          "name": "stdout",
          "output_type": "stream",
          "text": [
            "ADF-статистика γ = -0.18170799804411314\n"
          ]
        }
      ],
      "source": [
        "# Yule-Walker коэфы:\n",
        "beta = Yule_Walker(crona, 2)\n",
        "\n",
        "# Формируем X и y для AR(2)\n",
        "y = crona[2:]\n",
        "x1 = crona[1:-1]\n",
        "x2 = crona[0:-2]\n",
        "X = np.column_stack((np.ones(len(y)), x1, x2))\n",
        "\n",
        "# Вычисляем (X^T X)^-1\n",
        "XtX_inv = np.linalg.inv(X.T @ X)\n",
        "\n",
        "# Берём элемент c11 (для лаг-1, то есть второго столбца)\n",
        "c11 = XtX_inv[1, 1]\n",
        "\n",
        "# Размер выборки\n",
        "n = len(y)\n",
        "\n",
        "# Стандартная ошибка s\n",
        "s = np.sqrt(c11 / (n - 1))\n",
        "\n",
        "# Берём a₁ из Yule-Walker\n",
        "a1 = beta[1]\n",
        "\n",
        "# Считаем ADF-статистику\n",
        "gamma = (a1 - 1) / s\n",
        "\n",
        "print(\"ADF-статистика γ =\", gamma)"
      ]
    },
    {
      "cell_type": "code",
      "execution_count": 113,
      "metadata": {
        "colab": {
          "base_uri": "https://localhost:8080/"
        },
        "id": "sx8Uz4fX41OD",
        "outputId": "aa6b58a3-a8e4-4b0e-e39d-50b0ad1d27a6"
      },
      "outputs": [
        {
          "name": "stdout",
          "output_type": "stream",
          "text": [
            "AIC = -2.340612070176807\n"
          ]
        }
      ],
      "source": [
        "e2 = [(crona[i] - pred_ARp1[i]) ** 2 for i in range(1, len(crona))] # критерий Акаике для p=1\n",
        "AIC = 2 * 1 / (len(crona) - 1) + np.log(sum(e2) * 1 / (len(crona) - 1))\n",
        "print(f'AIC = {AIC}')"
      ]
    },
    {
      "cell_type": "code",
      "execution_count": 114,
      "metadata": {
        "colab": {
          "base_uri": "https://localhost:8080/"
        },
        "id": "7sefMp755ZFM",
        "outputId": "892eccdb-2ed4-4c73-aebe-55e63c190e78"
      },
      "outputs": [
        {
          "name": "stdout",
          "output_type": "stream",
          "text": [
            "AIC = -1.672687567561374\n"
          ]
        }
      ],
      "source": [
        "ARp2 = Yule_Walker(crona ,2)\n",
        "pred_ARp2 = crona[:2]+[ARp2[0] + ARp2[1]*crona[i+1] + ARp2[2]*crona[i] for i in range(len(crona[:-2]))]\n",
        "e2 = [(crona[i] - pred_ARp2[i]) ** 2 for i in range(2, len(crona))]\n",
        "AIC = 2 * 2 / (len(crona) - 2) + np.log(sum(e2) * 2 / (len(crona) - 2))\n",
        "print(f'AIC = {AIC}')"
      ]
    },
    {
      "cell_type": "markdown",
      "metadata": {
        "id": "uA5K6YNQIXJ_"
      },
      "source": [
        "-6,15 < -5,43 => выбираем первую модель"
      ]
    },
    {
      "cell_type": "code",
      "execution_count": 115,
      "metadata": {},
      "outputs": [
        {
          "name": "stdout",
          "output_type": "stream",
          "text": [
            " p | φ̂                 |     AIC |     ADF |  p-val | crit(5%)\n",
            "---------------------------------------------------------------\n",
            " 1 | [0.723]           |  -2.341 |  -2.249 |  0.189 |  -3.005\n",
            " 2 | [ 0.972 -0.343]   |  -1.673 |  -1.578 |  0.495 |  -3.013\n",
            " 3 | [ 0.965 -0.326 -0.018] |  -1.127 |  -1.922 |  0.322 |  -3.022\n",
            " 4 | [ 0.962 -0.386  0.161 -0.185] |  -0.742 |  -3.704 |  0.004 |  -3.031\n",
            " 5 | [ 0.866 -0.302 -0.04   0.317 -0.521] |  -0.954 |  -2.282 |  0.178 |  -3.042\n"
          ]
        }
      ],
      "source": [
        "# %%  -------- 1.3.1 – 1.3.3 : p = 1 … 5 ---------------------------------------\n",
        "import numpy as np\n",
        "from statsmodels.tsa.stattools import adfuller\n",
        "\n",
        "def one_step_forecast(series, coeffs):\n",
        "    \"\"\"Одношаговый прогноз AR(p) с коэффициентами coeffs = (a0, φ1 … φp).\"\"\"\n",
        "    p = len(coeffs) - 1\n",
        "    y_hat = list(series[:p])\n",
        "    for t in range(p, len(series)):\n",
        "        y_hat.append(coeffs[0] + sum(coeffs[j] * series[t-j] for j in range(1, p+1)))\n",
        "    return np.array(y_hat)\n",
        "\n",
        "header = f'{\"p\":>2} | {\"φ̂\":18} | {\"AIC\":>7} | {\"ADF\":>7} | {\"p-val\":>6} | crit(5%)'\n",
        "print(header)\n",
        "print('-'*len(header))\n",
        "\n",
        "n = len(crona)\n",
        "for p in range(1, 6):\n",
        "\n",
        "    # --- 1.3.1  оценки Юла–Уокера -------------------------------------------\n",
        "    coeffs = Yule_Walker(crona, p)        # (a0, φ1 … φp)\n",
        "\n",
        "    # --- 1.3.2  тест Дики–Фулера --------------------------------------------\n",
        "    adf_stat, p_val, _, _, crit_vals = adfuller(crona, maxlag=p, autolag=None)\n",
        "\n",
        "    # --- 1.3.3  информационный критерий Акаике ------------------------------\n",
        "    preds = one_step_forecast(crona, coeffs)\n",
        "    sse   = np.sum((np.array(crona[p:]) - preds[p:])**2)\n",
        "    aic   = 2*p/(n-p) + np.log(sse * p/(n-p))\n",
        "\n",
        "    print(f'{p:2d} | {np.round(coeffs[1:],3)}'.ljust(22),\n",
        "          f'| {aic:7.3f} | {adf_stat:7.3f} | {p_val:6.3f} | {crit_vals[\"5%\"]:7.3f}')\n",
        "\n",
        "# -----------------------------------------------------------------------------\n"
      ]
    },
    {
      "cell_type": "code",
      "execution_count": 116,
      "metadata": {},
      "outputs": [
        {
          "name": "stdout",
          "output_type": "stream",
          "text": [
            "\n",
            "Оценённые коэффициенты AR(4):\n",
            "a0 =  20.316\n",
            "φ1 =  0.962\n",
            "φ2 = -0.386\n",
            "φ3 =  0.161\n",
            "φ4 = -0.185\n",
            "\n",
            "Прогноз y₍₂₅₎ = 44.972\n"
          ]
        },
        {
          "data": {
            "image/png": "[encoded data removed]",
            "text/plain": [
              "<Figure size 640x480 with 1 Axes>"
            ]
          },
          "metadata": {},
          "output_type": "display_data"
        }
      ],
      "source": [
        "# %% -------- AR(4) : оценка, подгонка, прогноз --------------------------------\n",
        "import numpy as np\n",
        "import matplotlib.pyplot as plt\n",
        "\n",
        "p = 4\n",
        "phi = Yule_Walker(crona, p)            # (a0, φ1 … φ4)\n",
        "\n",
        "print(\"\\nОценённые коэффициенты AR(4):\")\n",
        "for i, c in enumerate(phi):\n",
        "    print(f\"{'a0' if i==0 else f'φ{i}'} = {c: .3f}\")\n",
        "\n",
        "# одномшаговый фит по всей выборке\n",
        "y_hat = one_step_forecast(crona, phi)\n",
        "\n",
        "# прогноз на 25-й день (t = 24 — индекс последнего известного наблюдения 23)\n",
        "y25 = phi[0] + sum(phi[j] * crona[-j] for j in range(1, p+1))\n",
        "print(f\"\\nПрогноз y₍₂₅₎ = {y25:.3f}\")\n",
        "\n",
        "# визуализация\n",
        "plt.plot(range(1, len(crona)+1), crona, lw=2, label='факт')\n",
        "plt.plot(range(1, len(crona)+1), y_hat, '--', label='AR(4)')\n",
        "plt.scatter(25, y25, color='red', zorder=5, label='прогноз 25-й')\n",
        "plt.xlabel('день'); plt.ylabel('значение'); plt.legend(); plt.grid(True)\n",
        "plt.show()\n"
      ]
    },
    {
      "cell_type": "markdown",
      "metadata": {
        "id": "bYETs5ffLsu1"
      },
      "source": [
        "№2"
      ]
    },
    {
      "cell_type": "code",
      "execution_count": 117,
      "metadata": {
        "colab": {
          "base_uri": "https://localhost:8080/"
        },
        "id": "A5hdb3jwLufx",
        "outputId": "9934d0f4-ff73-40f8-eb08-f1ca5b460ddd"
      },
      "outputs": [
        {
          "name": "stdout",
          "output_type": "stream",
          "text": [
            "Автокорреляция: [1, 0.7233228695750802, 0.35960085654492824, 0.09369285909262455, -0.11739352082095013, -0.4368386923480597, -0.5991180902737538, -0.5210551195136935, -0.3802301652887395, -0.26329922484678076, -0.05461377576521095]\n",
            "Автоковариация: [0.18571597222222255, 0.13433260995370389, 0.06678362268518533, 0.01740026041666647, -0.021801851851852478, -0.08112792245370427, -0.11126579861111148, -0.09676825810185197, -0.07061481481481463, -0.048898871527777464, -0.010142650462962609]\n"
          ]
        }
      ],
      "source": [
        "print(f'Автокорреляция: {auto_corel(crona,10)}')\n",
        "print(f'Автоковариация: {auto_covar(crona,10)}')"
      ]
    },
    {
      "cell_type": "code",
      "execution_count": 118,
      "metadata": {
        "colab": {
          "base_uri": "https://localhost:8080/",
          "height": 564
        },
        "id": "uUyBbKyeNP5B",
        "outputId": "97fa2d6f-acee-464f-fae4-c1fc6f2c913e"
      },
      "outputs": [
        {
          "data": {
            "image/png": "[encoded data removed]",
            "text/plain": [
              "<Figure size 1200x600 with 1 Axes>"
            ]
          },
          "metadata": {},
          "output_type": "display_data"
        }
      ],
      "source": [
        "acf_values = auto_corel(crona, 10)\n",
        "\n",
        "# Создаем фигуру\n",
        "plt.figure(figsize=(12, 6))\n",
        "\n",
        "# Рисуем столбцы автокорреляций (без use_line_collection)\n",
        "markerline, stemlines, baseline = plt.stem(range(len(acf_values)), acf_values)\n",
        "plt.setp(stemlines, 'linewidth', 2)  # Утолщаем линии\n",
        "plt.setp(markerline, 'color', 'green')\n",
        "\n",
        "# Подписи осей\n",
        "plt.title('Коррелограмма (ACF)')\n",
        "plt.xlabel('Лаг')\n",
        "plt.ylabel('Значение автокорреляции')\n",
        "plt.grid(True)\n",
        "plt.show()"
      ]
    },
    {
      "cell_type": "markdown",
      "metadata": {
        "id": "WsOyVzAcQRZF"
      },
      "source": [
        "ARMA(p,1) невозможна, т.к. r1 >1/2"
      ]
    },
    {
      "cell_type": "code",
      "execution_count": 119,
      "metadata": {
        "colab": {
          "base_uri": "https://localhost:8080/"
        },
        "id": "T3AinDADQRDK",
        "outputId": "6e537f28-f1d9-4ef5-bccd-3a9f7034989e"
      },
      "outputs": [
        {
          "data": {
            "text/plain": [
              "array([ 0.18954545,  0.05954545, -0.36045455,  0.19954545,  0.09954545,\n",
              "       -0.09045455, -0.58045455,  0.12954545, -0.03045455, -0.14045455,\n",
              "        0.37954545,  0.63954545,  0.42954545, -0.27045455,  0.13954545,\n",
              "        0.31954545,  0.03954545, -0.62045455, -0.45045455, -0.12045455,\n",
              "        0.27954545, -0.24045455])"
            ]
          },
          "execution_count": 119,
          "metadata": {},
          "output_type": "execute_result"
        }
      ],
      "source": [
        "filtr_X = [crona[i] - crona[i - 1] for i in range(2, len(crona))]\n",
        "filtr_X = filtr_X - np.mean(filtr_X)\n",
        "filtr_X"
      ]
    },
    {
      "cell_type": "code",
      "execution_count": 120,
      "metadata": {
        "colab": {
          "base_uri": "https://localhost:8080/"
        },
        "id": "D33MVD35RGGz",
        "outputId": "fedddce3-c2a9-42f8-b4b7-595892d11f58"
      },
      "outputs": [
        {
          "data": {
            "text/plain": [
              "[1,\n",
              " 0.21204691697558437,\n",
              " -0.24230363774837796,\n",
              " -0.0704480624231858,\n",
              " 0.28439945504374164,\n",
              " -0.18243668209085978,\n",
              " -0.46328641623659916,\n",
              " -0.15426534397683392,\n",
              " 0.012023092857543924,\n",
              " -0.11293277073765678,\n",
              " -0.10297997738253345]"
            ]
          },
          "execution_count": 120,
          "metadata": {},
          "output_type": "execute_result"
        }
      ],
      "source": [
        "auto_corel(filtr_X,10)"
      ]
    },
    {
      "cell_type": "code",
      "execution_count": 121,
      "metadata": {
        "colab": {
          "base_uri": "https://localhost:8080/"
        },
        "id": "14kUvA_aVT_C",
        "outputId": "371f247d-b5ad-4ce0-ced1-f7dbecb18a2a"
      },
      "outputs": [
        {
          "name": "stdout",
          "output_type": "stream",
          "text": [
            "teta1 = -0.223\n",
            "teta2 = -4.493\n"
          ]
        }
      ],
      "source": [
        "teta1 = (-1 + np.sqrt(1-4 * auto_corel(filtr_X, 10)[1] ** 2)) / (2 * auto_corel(filtr_X, 10)[1])\n",
        "teta2 =(-1 - np.sqrt(1-4 * auto_corel(filtr_X, 10)[1] ** 2)) / (2 * auto_corel(filtr_X, 10)[1])\n",
        "print(f'teta1 = {np.round(teta1,3)}\\nteta2 = {np.round(teta2,3)}')"
      ]
    },
    {
      "cell_type": "code",
      "execution_count": 122,
      "metadata": {
        "colab": {
          "base_uri": "https://localhost:8080/"
        },
        "id": "ykARa0FOViOc",
        "outputId": "03d5c010-c2d0-4b4e-a34e-70b2afb50039"
      },
      "outputs": [
        {
          "data": {
            "text/plain": [
              "[0.10335888429752069,\n",
              " 0.0219169327573254,\n",
              " -0.025044233658902963,\n",
              " -0.007281433132982576,\n",
              " 0.029395210368144024,\n",
              " -0.01885645191585274,\n",
              " -0.047884767092411656,\n",
              " -0.01594469383921881,\n",
              " 0.0012426934635612298,\n",
              " -0.011672605184071897,\n",
              " -0.010643895567242571]"
            ]
          },
          "execution_count": 122,
          "metadata": {},
          "output_type": "execute_result"
        }
      ],
      "source": [
        "auto_covar(filtr_X, 10)"
      ]
    },
    {
      "cell_type": "code",
      "execution_count": 123,
      "metadata": {
        "colab": {
          "base_uri": "https://localhost:8080/"
        },
        "id": "CMRhcS6bVkSo",
        "outputId": "823afb65-4190-400a-e380-d8b561a7502c"
      },
      "outputs": [
        {
          "data": {
            "text/plain": [
              "[[0.10335888429752069, 0.0219169327573254, -0.025044233658902963],\n",
              " [0.0219169327573254, 0.10335888429752069, 0.0219169327573254],\n",
              " [-0.025044233658902963, 0.0219169327573254, 0.10335888429752069]]"
            ]
          },
          "execution_count": 123,
          "metadata": {},
          "output_type": "execute_result"
        }
      ],
      "source": [
        "param = [[auto_covar(filtr_X, 10)[0], auto_covar(filtr_X, 10)[1], auto_covar(filtr_X, 10)[2]],\n",
        " [auto_covar(filtr_X, 10)[1], auto_covar(filtr_X, 10)[0], auto_covar(filtr_X, 10)[1]],\n",
        " [auto_covar(filtr_X, 10)[2], auto_covar(filtr_X, 10)[1], auto_covar(filtr_X, 10)[0]]]\n",
        "param"
      ]
    },
    {
      "cell_type": "code",
      "execution_count": 124,
      "metadata": {
        "colab": {
          "base_uri": "https://localhost:8080/"
        },
        "id": "OoppYtpuV2Xp",
        "outputId": "f3a9353f-096e-4d1b-83b7-ba489dddc447"
      },
      "outputs": [
        {
          "data": {
            "text/plain": [
              "[0.0219169327573254, -0.025044233658902963, -0.007281433132982576]"
            ]
          },
          "execution_count": 124,
          "metadata": {},
          "output_type": "execute_result"
        }
      ],
      "source": [
        "free_members = [auto_covar(filtr_X, 10)[1], auto_covar(filtr_X, 10)[2], auto_covar(filtr_X, 10)[3]]\n",
        "free_members"
      ]
    },
    {
      "cell_type": "code",
      "execution_count": 125,
      "metadata": {
        "colab": {
          "base_uri": "https://localhost:8080/"
        },
        "id": "lCX3HpAcV_Hs",
        "outputId": "372e24c8-1e2a-44ae-ce53-04143120716d"
      },
      "outputs": [
        {
          "data": {
            "text/plain": [
              "array([ 0.29666437, -0.31989853,  0.06926829])"
            ]
          },
          "execution_count": 125,
          "metadata": {},
          "output_type": "execute_result"
        }
      ],
      "source": [
        "ARIMA_3_1 = np.linalg.solve(param, free_members)\n",
        "ARIMA_3_1"
      ]
    },
    {
      "cell_type": "code",
      "execution_count": 126,
      "metadata": {
        "colab": {
          "base_uri": "https://localhost:8080/"
        },
        "id": "T8b-t5DwWHVd",
        "outputId": "3badcda1-dd58-49ae-b0c6-18f2394691c5"
      },
      "outputs": [
        {
          "name": "stdout",
          "output_type": "stream",
          "text": [
            "Математическая модель: x(n) = 0.297**x(n-1) -0.32*x(n-2) 0.069*x(n-3) + eps(n) -0.223*eps\n"
          ]
        }
      ],
      "source": [
        "error = [np.random.normal(0,1,1) for i in range(len(crona))] # Сгенерированные ошибки\n",
        "error = list(np.concatenate(error))\n",
        "\n",
        "print(f'Математическая модель: x(n) = {np.round(ARIMA_3_1[0],3)}**x(n-1) {np.round(ARIMA_3_1[1],3)}*x(n-2) {np.round(ARIMA_3_1[2],3)}*x(n-3) + eps(n) {np.round(teta1,3)}*eps')"
      ]
    },
    {
      "cell_type": "code",
      "execution_count": 127,
      "metadata": {
        "id": "VQwmJAMpnx86"
      },
      "outputs": [],
      "source": [
        "predict_ARIMA_3_1 = list(filtr_X[:3]) + [ARIMA_3_1[0]*filtr_X[i-1] + ARIMA_3_1[1]*filtr_X[i-2] + ARIMA_3_1[2]*filtr_X[i-3] - teta1*error[i-3] for i in range(3, len(filtr_X)+1)]"
      ]
    },
    {
      "cell_type": "code",
      "execution_count": 128,
      "metadata": {
        "colab": {
          "base_uri": "https://localhost:8080/",
          "height": 450
        },
        "id": "yDlapJ1doQNj",
        "outputId": "58900ff7-f5e3-46c0-9572-a2d06b3d9d9a"
      },
      "outputs": [
        {
          "data": {
            "text/plain": [
              "<matplotlib.legend.Legend at 0x1b8e20d2060>"
            ]
          },
          "execution_count": 128,
          "metadata": {},
          "output_type": "execute_result"
        },
        {
          "data": {
            "image/png": "[encoded data removed]",
            "text/plain": [
              "<Figure size 640x480 with 1 Axes>"
            ]
          },
          "metadata": {},
          "output_type": "display_data"
        }
      ],
      "source": [
        "plt.plot(range(1, len(filtr_X)+1), filtr_X, label=\"Сглаженные данные\")\n",
        "plt.plot(range(1, len( predict_ARIMA_3_1[:-1])+1), predict_ARIMA_3_1[:-1], label=\"Модель ARIMA(3,1)\")\n",
        "plt.legend()"
      ]
    },
    {
      "cell_type": "code",
      "execution_count": 129,
      "metadata": {
        "colab": {
          "base_uri": "https://localhost:8080/"
        },
        "id": "J37L6df0ocUQ",
        "outputId": "ea27671d-5bf4-4ac3-b379-d9610074e129"
      },
      "outputs": [
        {
          "data": {
            "text/plain": [
              "[1,\n",
              " 0.21204691697558437,\n",
              " -0.24230363774837796,\n",
              " -0.0704480624231858,\n",
              " 0.28439945504374164,\n",
              " -0.18243668209085978,\n",
              " -0.46328641623659916,\n",
              " -0.15426534397683392,\n",
              " 0.012023092857543924,\n",
              " -0.11293277073765678,\n",
              " -0.10297997738253345]"
            ]
          },
          "execution_count": 129,
          "metadata": {},
          "output_type": "execute_result"
        }
      ],
      "source": [
        "auto_corel(filtr_X, 10)"
      ]
    },
    {
      "cell_type": "code",
      "execution_count": 130,
      "metadata": {
        "colab": {
          "base_uri": "https://localhost:8080/"
        },
        "id": "YO7Be1uepX1Q",
        "outputId": "04b25d2e-2bbb-42fa-c1cc-3fcf6ec19974"
      },
      "outputs": [
        {
          "name": "stdout",
          "output_type": "stream",
          "text": [
            "m = 1 -> 5.089126007414025 <= 31.410432844230918: True\n",
            "m = 2 -> -0.7261612985470463 <= 30.14352720564616: True\n",
            "m = 3 -> -2.416914796703505 <= 28.869299430392623: True\n",
            "m = 4 -> 4.408672124346294 <= 27.58711163827534: True\n",
            "m = 5 -> 0.030191754165659335 <= 26.29622760486423: True\n",
            "m = 6 -> -11.08868223551272 <= 24.995790139728616: True\n",
            "m = 7 -> -14.791050490956733 <= 23.684791304840576: True\n",
            "m = 8 -> -14.50249626237568 <= 22.362032494826934: True\n",
            "m = 9 -> -17.212882760079445 <= 21.02606981748307: True\n",
            "m = 10 -> -19.684402217260246 <= 19.67513757268249: True\n",
            "m = 11 -> -14.667836731919834 <= 18.307038053275146: True\n",
            "m = 12 -> -10.340870974137516 <= 16.918977604620448: True\n",
            "m = 13 -> -10.951001730565016 <= 15.507313055865453: True\n",
            "m = 14 -> -14.32787256441098 <= 14.067140449340167: True\n",
            "m = 15 -> -11.172279266638824 <= 12.591587243743977: True\n",
            "m = 16 -> -9.499797831187557 <= 11.070497693516351: True\n",
            "m = 17 -> -10.229779711410162 <= 9.487729036781154: True\n",
            "m = 18 -> -12.776589923688325 <= 7.814727903251179: True\n",
            "m = 19 -> -11.92708402426607 <= 5.991464547107979: True\n",
            "m = 20 -> -11.518953439750153 <= 3.841458820694124: True\n",
            "m = 21 -> -12.0 <= nan: False\n"
          ]
        },
        {
          "name": "stderr",
          "output_type": "stream",
          "text": [
            "C:\\Users\\Arseny\\AppData\\Local\\Temp\\ipykernel_13224\\4294876386.py:8: DeprecationWarning: Calling np.sum(generator) is deprecated, and in the future will give a different result. Use np.sum(np.fromiter(generator)) or the python sum builtin instead.\n",
            "  gamma = len(crona)*np.sum((auto_corel(filtr_X, i)[i]) for i in range(1, m+1))\n"
          ]
        }
      ],
      "source": [
        "from scipy import stats #Статистика Бокса-Пирса\n",
        "m = 1\n",
        "gamma = len(crona)*auto_corel(filtr_X, 10)[1]\n",
        "chi2 = stats.chi2.ppf(0.95, df=len(crona)-m-3)\n",
        "print(f'm = {m} -> {gamma} <= {chi2}: {gamma <= chi2}')\n",
        "while gamma <= chi2 and m <= len(crona):\n",
        "  m += 1\n",
        "  gamma = len(crona)*np.sum((auto_corel(filtr_X, i)[i]) for i in range(1, m+1))\n",
        "  chi2 = stats.chi2.ppf(0.95, df=len(crona)-m-3)\n",
        "  print(f'm = {m} -> {gamma} <= {chi2}: {gamma <= chi2}')"
      ]
    },
    {
      "cell_type": "code",
      "execution_count": 131,
      "metadata": {
        "id": "h-Lr4aVvsS2g"
      },
      "outputs": [],
      "source": [
        "ARIMA_1_1 = auto_covar(filtr_X, 10)[1] / auto_covar(filtr_X, 10)[0]\n",
        "\n",
        "param = [[auto_covar(filtr_X, 10)[0],  auto_covar(filtr_X, 10)[1]], [ auto_covar(filtr_X, 10)[1],  auto_covar(filtr_X, 10)[0]]]\n",
        "free_members = [auto_covar(filtr_X, 10)[1],  auto_covar(filtr_X, 10)[2]]\n",
        "ARIMA_2_1 = np.linalg.solve(param,free_members)\n",
        "\n",
        "predict_ARIMA_1_1 = list(filtr_X[:1]) + [ARIMA_1_1*filtr_X[i-1] - teta1*error[i-1] for i in range(1, len(filtr_X))]\n",
        "predict_ARIMA_2_1 = list(filtr_X[:2]) + [ARIMA_2_1[0]*filtr_X[i-1] + ARIMA_2_1[1]*filtr_X[i-2] -teta1*error[i-2] for i in range(2, len(filtr_X))]"
      ]
    },
    {
      "cell_type": "code",
      "execution_count": 132,
      "metadata": {
        "colab": {
          "base_uri": "https://localhost:8080/"
        },
        "id": "X1BiXikxtuS9",
        "outputId": "acb940c7-3af7-4908-c2ae-da448646b77e"
      },
      "outputs": [
        {
          "name": "stdout",
          "output_type": "stream",
          "text": [
            "AIC1 = -2.324\n",
            "AIC2 = -1.693\n",
            "AIC3 = -1.962\n"
          ]
        }
      ],
      "source": [
        "T = len(filtr_X) # Критерий Акаике\n",
        "\n",
        "# количество параметров\n",
        "p1, q1 = 1, 1   # ARIMA(1,1)\n",
        "p2, q2 = 2, 1   # ARIMA(2,1)\n",
        "p3, q3 = 3, 1   # ARIMA(3,1)\n",
        "\n",
        "sse1 = np.sum((np.array(filtr_X) - np.array(predict_ARIMA_1_1))**2)\n",
        "sse2 = np.sum((np.array(filtr_X) - np.array(predict_ARIMA_2_1))**2)\n",
        "sse3 = np.sum((np.array(filtr_X) - np.array(predict_ARIMA_3_1[:-1]))**2)\n",
        "\n",
        "AIC1 = 2*(p1+q1)/T + np.log(sse1/T)\n",
        "AIC2 = 2*(p2+q2)/T + np.log(sse2/T)\n",
        "AIC3 = 2*(p3+q3)/T + np.log(sse3/T)\n",
        "\n",
        "print(f'AIC1 = {np.round(AIC1,3)}\\nAIC2 = {np.round(AIC2,3)}\\nAIC3 = {np.round(AIC3,3)}')"
      ]
    },
    {
      "cell_type": "markdown",
      "metadata": {
        "id": "k9zlchMTuo_4"
      },
      "source": [
        " ARIMA(2,1) (-2.668) — лучшая модель среди трёх, так как у неё самый маленький AIC."
      ]
    },
    {
      "cell_type": "code",
      "execution_count": 133,
      "metadata": {
        "colab": {
          "base_uri": "https://localhost:8080/",
          "height": 448
        },
        "id": "xIaq8e9Eu7of",
        "outputId": "41a7e3db-3ef1-4615-b0fc-093827ce288f"
      },
      "outputs": [
        {
          "name": "stdout",
          "output_type": "stream",
          "text": [
            "Прогноз =  45.08453431126605\n"
          ]
        },
        {
          "data": {
            "image/png": "[encoded data removed]",
            "text/plain": [
              "<Figure size 640x480 with 1 Axes>"
            ]
          },
          "metadata": {},
          "output_type": "display_data"
        }
      ],
      "source": [
        "predict = predict_ARIMA_2_1[-1] + crona[-1]\n",
        "\n",
        "plt.plot(range(1,len(crona)+1), crona, label=\"Исходные данные\")\n",
        "plt.scatter(25, predict, color=\"green\",label=\"Прогноз\")\n",
        "plt.legend()\n",
        "\n",
        "print(f'Прогноз =  {predict}')"
      ]
    },
    {
      "cell_type": "markdown",
      "metadata": {
        "id": "wOreeG5w001N"
      },
      "source": [
        "№3"
      ]
    },
    {
      "cell_type": "code",
      "execution_count": 134,
      "metadata": {
        "colab": {
          "base_uri": "https://localhost:8080/"
        },
        "id": "dyidro3i0260",
        "outputId": "2fc41ab5-4a00-4ef5-d902-e95ea3e454d9"
      },
      "outputs": [
        {
          "data": {
            "text/plain": [
              "[0.0015462778882262046,\n",
              " 0.0037494486104983366,\n",
              " 0.0008789277081959822,\n",
              " -0.008342480790340187,\n",
              " 0.003984945760460476,\n",
              " 0.001764057331863248,\n",
              " -0.0024213075060532563,\n",
              " -0.013239187996469582,\n",
              " 0.002459749552772796,\n",
              " -0.0011153245594467357,\n",
              " -0.0035730236712819045,\n",
              " 0.00806813088301209,\n",
              " 0.013783903957314464,\n",
              " 0.008991228070175364,\n",
              " -0.006302977613562251,\n",
              " 0.0026246719160105984,\n",
              " 0.006544502617800985,\n",
              " 0.0004334633723449506,\n",
              " -0.01386481802426329,\n",
              " -0.010325131810193452,\n",
              " -0.0031076581576026767,\n",
              " 0.00578935649075941,\n",
              " -0.005756032765109699]"
            ]
          },
          "execution_count": 134,
          "metadata": {},
          "output_type": "execute_result"
        }
      ],
      "source": [
        "prir = [(crona[i]-crona[i-1])/crona[i-1] for i in range(1, len(crona))]\n",
        "prir"
      ]
    },
    {
      "cell_type": "code",
      "execution_count": 141,
      "metadata": {
        "id": "xRL28wWn7Z8_"
      },
      "outputs": [],
      "source": [
        "def auto_covar_k(k, crona):\n",
        "  mean = np.sum(crona)/len(crona)\n",
        "  return np.dot((crona[:len(crona)-k]-mean),(crona[k:]-mean))/len(crona)"
      ]
    },
    {
      "cell_type": "code",
      "execution_count": 147,
      "metadata": {},
      "outputs": [
        {
          "data": {
            "image/png": "[encoded data removed]",
            "text/plain": [
              "<Figure size 800x400 with 1 Axes>"
            ]
          },
          "metadata": {},
          "output_type": "display_data"
        },
        {
          "name": "stdout",
          "output_type": "stream",
          "text": [
            "                               SARIMAX Results                                \n",
            "==============================================================================\n",
            "Dep. Variable:                      y   No. Observations:                   24\n",
            "Model:                 ARIMA(4, 0, 1)   Log Likelihood                  -2.746\n",
            "Date:                Thu, 12 Jun 2025   AIC                             19.491\n",
            "Time:                        13:14:51   BIC                             27.738\n",
            "Sample:                             0   HQIC                            21.679\n",
            "                                 - 24                                         \n",
            "Covariance Type:                  opg                                         \n",
            "==============================================================================\n",
            "                 coef    std err          z      P>|z|      [0.025      0.975]\n",
            "------------------------------------------------------------------------------\n",
            "const         -0.0328      0.186     -0.176      0.860      -0.397       0.332\n",
            "ar.L1          0.3141      1.375      0.228      0.819      -2.382       3.010\n",
            "ar.L2          0.3312      1.437      0.230      0.818      -2.486       3.148\n",
            "ar.L3         -0.3194      0.561     -0.569      0.569      -1.420       0.781\n",
            "ar.L4          0.1275      0.267      0.477      0.633      -0.396       0.651\n",
            "ma.L1          0.7359      1.358      0.542      0.588      -1.925       3.397\n",
            "sigma2         0.0701      0.032      2.217      0.027       0.008       0.132\n",
            "===================================================================================\n",
            "Ljung-Box (L1) (Q):                   0.27   Jarque-Bera (JB):                 1.11\n",
            "Prob(Q):                              0.60   Prob(JB):                         0.57\n",
            "Heteroskedasticity (H):               3.22   Skew:                            -0.15\n",
            "Prob(H) (two-sided):                  0.12   Kurtosis:                         1.99\n",
            "===================================================================================\n",
            "\n",
            "Warnings:\n",
            "[1] Covariance matrix calculated using the outer product of gradients (complex-step).\n",
            "\n",
            "Box–Pierce тест (χ² и p-value для каждого лага):\n",
            "      bp_stat  bp_pvalue\n",
            "1    0.239224   0.624767\n",
            "2    0.325240   0.849914\n",
            "3    0.335050   0.953307\n",
            "4    2.548088   0.636046\n",
            "5    4.041696   0.543428\n",
            "6    9.567322   0.144096\n",
            "7   10.230874   0.175863\n",
            "8   10.278575   0.246015\n",
            "9   10.935530   0.280154\n",
            "10  11.691844   0.306209\n",
            "\n",
            "Максимальное m с p-value>0.05: m = 2\n",
            "Стационарен ли процесс ARMA(p,1)? True\n",
            "\n",
            "Оптимальный p по AIC = 5, AIC = 8.201\n",
            "p из п.1 = 4\n",
            "\n",
            "Прогноз на 25-й день (ARMA(4,1)): y₍₂₅₎ ≈ 44.927\n",
            "Прогноз на 25-й день (ARIMA(5,1,0)): y₍₂₅₎ ≈ 44.878\n",
            "\n",
            "Сохранены crona_series.csv и crona_forecast25.csv\n"
          ]
        }
      ],
      "source": [
        "# №2. Построение ARMA(p,1) для crona — исправленный вариант\n",
        "\n",
        "import numpy as np\n",
        "import matplotlib.pyplot as plt\n",
        "from scipy.stats import chi2\n",
        "from statsmodels.tsa.arima.model import ARIMA\n",
        "from statsmodels.stats.diagnostic import acorr_ljungbox\n",
        "\n",
        "# Данные\n",
        "crona = np.array([\n",
        "    45.27,45.34,45.51,45.55,45.17,45.35,45.43,45.32,\n",
        "    44.72,44.83,44.78,44.62,44.98,45.60,46.01,45.72,\n",
        "    45.84,46.14,46.16,45.52,45.05,44.91,45.17,44.91\n",
        "])\n",
        "n = len(crona)\n",
        "\n",
        "# Вспомогательные функции\n",
        "def auto_covar(x, lag):\n",
        "    μ = x.mean()\n",
        "    cov0 = np.sum((x-μ)**2)/n\n",
        "    return [cov0] + [\n",
        "        np.sum((x[k:]-μ)*(x[:-k]-μ))/n\n",
        "        for k in range(1, lag+1)\n",
        "    ]\n",
        "\n",
        "def auto_corel(x, lag):\n",
        "    μ = x.mean()\n",
        "    den = np.sum((x-μ)**2)\n",
        "    return [1.0] + [\n",
        "        np.sum((x[k:]-μ)*(x[:-k]-μ)) / den\n",
        "        for k in range(1, lag+1)\n",
        "    ]\n",
        "\n",
        "# 1. Автокорреляции до лага 10 + коррелограмма\n",
        "cor = auto_corel(crona, 10)\n",
        "plt.figure(figsize=(8,4))\n",
        "markerline, stemlines, baseline = plt.stem(range(len(cor)), cor)\n",
        "plt.setp(stemlines, linewidth=1.5)\n",
        "plt.setp(markerline, color='green')\n",
        "plt.title(\"Коррелограмма (ACF) crona, лага 0–10\")\n",
        "plt.xlabel(\"Лаг\")\n",
        "plt.ylabel(\"ACF\")\n",
        "plt.grid(True)\n",
        "plt.show()\n",
        "\n",
        "\n",
        "p0 = 4\n",
        "\n",
        "# 2. Центрируем данные и оцениваем ARMA(p0,1)\n",
        "y_c = crona - crona.mean()\n",
        "model_arma = ARIMA(y_c, order=(p0, 0, 1)).fit()\n",
        "print(model_arma.summary())\n",
        "\n",
        "# 3. Тест Бокса-Пирса по остаткам\n",
        "resid = model_arma.resid\n",
        "lb = acorr_ljungbox(resid, lags=10, boxpierce=True, return_df=True)\n",
        "print(\"\\nBox–Pierce тест (χ² и p-value для каждого лага):\")\n",
        "print(lb[['bp_stat','bp_pvalue']])\n",
        "\n",
        "# максимальное m с p-value > 0.05\n",
        "m = (lb['bp_pvalue'] > 0.05).idxmax() + 1\n",
        "print(f\"\\nМаксимальное m с p-value>0.05: m = {m}\")\n",
        "\n",
        "# проверка стационарности по корням AR-полинома\n",
        "roots = model_arma.arroots\n",
        "is_stationary = np.all(np.abs(roots) > 1)\n",
        "print(\"Стационарен ли процесс ARMA(p,1)?\", is_stationary)\n",
        "\n",
        "# 4. Оптимальный p по AIC (перебор p=1…5)\n",
        "aic_list = []\n",
        "for p_test in range(1, 6):\n",
        "    try:\n",
        "        m_tmp = ARIMA(y_c, order=(p_test, 0, 1)).fit()\n",
        "        aic_list.append((p_test, m_tmp.aic))\n",
        "    except:\n",
        "        pass\n",
        "\n",
        "best_p, best_aic = min(aic_list, key=lambda x: x[1])\n",
        "print(f\"\\nОптимальный p по AIC = {best_p}, AIC = {best_aic:.3f}\")\n",
        "print(\"p из п.1 =\", p0)\n",
        "\n",
        "# 5. Прогноз на 25-й день методом ARMA(p0,1)\n",
        "fc = model_arma.get_forecast(steps=1)\n",
        "# predicted_mean — numpy.ndarray, берем первый элемент\n",
        "y25_c = fc.predicted_mean[0]\n",
        "y25 = y25_c + crona.mean()\n",
        "print(f\"\\nПрогноз на 25-й день (ARMA({p0},1)): y₍₂₅₎ ≈ {y25:.3f}\")\n",
        "\n",
        "# 6. Если ARMA(p,1) не работает — строим ARIMA(best_p,1,0)\n",
        "try:\n",
        "    model_ari = ARIMA(crona, order=(best_p, 1, 0)).fit()\n",
        "    fc2 = model_ari.get_forecast(steps=1)\n",
        "    y25_ari = fc2.predicted_mean[0]\n",
        "    print(f\"Прогноз на 25-й день (ARIMA({best_p},1,0)): y₍₂₅₎ ≈ {y25_ari:.3f}\")\n",
        "except Exception as e:\n",
        "    print(\"ARIMA(p,1,0) не удалось оценить:\", e)\n",
        "\n",
        "# 8. Экспорт в CSV для проверки в Statistica\n",
        "import pandas as pd\n",
        "pd.DataFrame({'y': crona}).to_csv('crona_series.csv', index=False)\n",
        "pd.DataFrame({'forecast_25': [y25]}).to_csv('crona_forecast25.csv', index=False)\n",
        "print(\"\\nСохранены crona_series.csv и crona_forecast25.csv\")\n"
      ]
    },
    {
      "cell_type": "code",
      "execution_count": 178,
      "metadata": {},
      "outputs": [],
      "source": [
        "import numpy as np\n",
        "from scipy.optimize import minimize\n",
        "\n",
        "def estimate_arima_6_1_1(y):\n",
        "    \"\"\"\n",
        "    Оценивает модель ARIMA(6,1,1) методом условных сумм квадратов без константы.\n",
        "    Возвращает: массив AR-коэффициентов phi1..phi6, MA-коэффициент theta1 и вектор остатков.\n",
        "    \"\"\"\n",
        "    # 1) Дифференцирование первого порядка\n",
        "    dy = np.diff(y, n=1)\n",
        "    dy = dy - np.mean(dy)\n",
        "    T = len(dy)\n",
        "\n",
        "    # 2) Функция CSS (Conditional Sum of Squares) без mu\n",
        "    def css(params):\n",
        "        phi = params[:6]    # phi1..phi6\n",
        "        theta = params[6]   # theta1\n",
        "        resid = np.zeros(T)\n",
        "        for t in range(T):\n",
        "            ar_term = sum(phi[i] * dy[t - i - 1]\n",
        "                          for i in range(min(t, 6)))\n",
        "            ma_term = theta * resid[t-1] if t > 0 else 0.0\n",
        "            resid[t] = dy[t] - ar_term - ma_term\n",
        "        return np.sum(resid**2)\n",
        "\n",
        "    # 3) Начальное приближение (phi=0..0, theta=0)\n",
        "    init_params = np.zeros(6 + 1)\n",
        "\n",
        "    # 4) Оптимизация\n",
        "    opt = minimize(css, init_params, method='L-BFGS-B')\n",
        "    phi_hat = opt.x[:6]\n",
        "    theta_hat = opt.x[6]\n",
        "\n",
        "    # 5) Вычисляем остатки по найденным phi и theta\n",
        "    resid = np.zeros(T)\n",
        "    for t in range(T):\n",
        "        ar_term = sum(phi_hat[i] * dy[t - i - 1]\n",
        "                      for i in range(min(t, 6)))\n",
        "        ma_term = theta_hat * (resid[t-1] if t > 0 else 0.0)\n",
        "        resid[t] = dy[t] - ar_term - ma_term\n",
        "\n",
        "    return {\n",
        "        'phi': phi_hat,\n",
        "        'theta': theta_hat,\n",
        "        'residuals': resid,\n",
        "        'css': opt.fun\n",
        "    }\n",
        "\n"
      ]
    },
    {
      "cell_type": "code",
      "execution_count": 179,
      "metadata": {},
      "outputs": [
        {
          "data": {
            "text/plain": [
              "array([-0.05916667,  0.01083333,  0.18083333,  0.22083333, -0.15916667,\n",
              "        0.02083333,  0.10083333, -0.00916667, -0.60916667, -0.49916667,\n",
              "       -0.54916667, -0.70916667, -0.34916667,  0.27083333,  0.68083333,\n",
              "        0.39083333,  0.51083333,  0.81083333,  0.83083333,  0.19083333,\n",
              "       -0.27916667, -0.41916667, -0.15916667, -0.41916667])"
            ]
          },
          "execution_count": 179,
          "metadata": {},
          "output_type": "execute_result"
        }
      ],
      "source": [
        "y"
      ]
    },
    {
      "cell_type": "code",
      "execution_count": 189,
      "metadata": {},
      "outputs": [
        {
          "data": {
            "text/plain": [
              "array([ 0.07,  0.17,  0.04, -0.38,  0.18,  0.08, -0.11, -0.6 ,  0.11,\n",
              "       -0.05, -0.16,  0.36,  0.62,  0.41, -0.29,  0.12,  0.3 ,  0.02,\n",
              "       -0.64, -0.47, -0.14,  0.26, -0.26])"
            ]
          },
          "execution_count": 189,
          "metadata": {},
          "output_type": "execute_result"
        }
      ],
      "source": [
        "np.diff(crona)"
      ]
    },
    {
      "cell_type": "code",
      "execution_count": 181,
      "metadata": {},
      "outputs": [
        {
          "data": {
            "text/plain": [
              "{'phi': array([ 0.86970325, -0.40143956, -0.02909814,  0.46750285, -0.66175898,\n",
              "        -0.07364059]),\n",
              " 'theta': -0.709529691506917,\n",
              " 'residuals': array([ 0.08565217,  0.17193296,  0.05056559, -0.29985047,  0.28747433,\n",
              "        -0.04529167, -0.03858501, -0.26474524,  0.08244498, -0.26453032,\n",
              "        -0.1469147 ,  0.60461191,  0.22660197,  0.23638307, -0.15670525,\n",
              "         0.17876493,  0.16755782,  0.17580702,  0.0567955 , -0.06117996,\n",
              "        -0.10021193,  0.31434167,  0.01453486]),\n",
              " 'css': 1.0883047142222266}"
            ]
          },
          "execution_count": 181,
          "metadata": {},
          "output_type": "execute_result"
        }
      ],
      "source": [
        "estimate_arima_6_1_1(crona)"
      ]
    },
    {
      "cell_type": "code",
      "execution_count": 182,
      "metadata": {},
      "outputs": [],
      "source": [
        "resid = estimate_arima_6_1_1(y)\n",
        "T = len(resid)\n",
        "\n",
        "# Вычисляем ACF остатков и статистики Box–Pierce Q\n",
        "lags = 10\n",
        "acf = auto_corel(resid['residuals'],10)\n",
        "Q = [T * sum(np.array(acf[:k])**2) for k in range(1, lags+1)]\n",
        "pvals = [chi2.sf(q, df=k) for k, q in enumerate(Q, start=1)]\n",
        "\n"
      ]
    },
    {
      "cell_type": "code",
      "execution_count": 185,
      "metadata": {},
      "outputs": [
        {
          "data": {
            "text/plain": [
              "[0.04550026389635857,\n",
              " 0.13405280557151447,\n",
              " 0.2571661369896165,\n",
              " 0.3911662790507593,\n",
              " 0.5292341777854882,\n",
              " 0.6572763943676081,\n",
              " 0.7611968261103522,\n",
              " 0.8409496112813645,\n",
              " 0.8738161260755486,\n",
              " 0.9183861222692199]"
            ]
          },
          "execution_count": 185,
          "metadata": {},
          "output_type": "execute_result"
        }
      ],
      "source": [
        "pvals"
      ]
    },
    {
      "cell_type": "code",
      "execution_count": null,
      "metadata": {},
      "outputs": [],
      "source": [
        "import numpy as np\n",
        "from scipy.optimize import minimize\n",
        "import pandas as pd\n",
        "\n",
        "def estimate_css_params(y, p):\n",
        "\n",
        "\n",
        "    dy = np.diff(y, 1)\n",
        "    dy = dy - np.mean(dy)\n",
        "    T = len(dy)\n",
        "    def css(params):\n",
        "        phi = params[:p]\n",
        "        theta = params[p]\n",
        "        resid = np.zeros(T)\n",
        "        for t in range(T):\n",
        "            ar = sum(phi[i] * dy[t - i - 1] for i in range(min(t, p)))\n",
        "            ma = theta * resid[t-1] if t > 0 else 0.0\n",
        "            resid[t] = dy[t] - ar - ma\n",
        "        return np.sum(resid**2)\n",
        "    \n",
        "    init = np.zeros(p + 1)\n",
        "    sol = minimize(css, init, method='L-BFGS-B')\n",
        "    css_val = sol.fun\n",
        "    \n",
        "    # Оценка AIC\n",
        "    sigma2 = css_val / T\n",
        "    k = p + 1\n",
        "    aic = T * np.log(sigma2) + 2 * k\n",
        "    \n",
        "    return css_val, aic\n",
        "\n",
        "def select_p_by_aic(y, max_p=10):\n",
        "    results = []\n",
        "    for p in range(max_p + 1):\n",
        "        css_val, aic = estimate_css_params(y, p)\n",
        "        results.append({'p': p, 'CSS': css_val, 'AIC': aic})\n",
        "    df = pd.DataFrame(results).set_index('p')\n",
        "    return df\n"
      ]
    },
    {
      "cell_type": "code",
      "execution_count": 188,
      "metadata": {},
      "outputs": [
        {
          "data": {
            "text/html": [
              "<div>\n",
              "<style scoped>\n",
              "    .dataframe tbody tr th:only-of-type {\n",
              "        vertical-align: middle;\n",
              "    }\n",
              "\n",
              "    .dataframe tbody tr th {\n",
              "        vertical-align: top;\n",
              "    }\n",
              "\n",
              "    .dataframe thead th {\n",
              "        text-align: right;\n",
              "    }\n",
              "</style>\n",
              "<table border=\"1\" class=\"dataframe\">\n",
              "  <thead>\n",
              "    <tr style=\"text-align: right;\">\n",
              "      <th></th>\n",
              "      <th>CSS</th>\n",
              "      <th>AIC</th>\n",
              "    </tr>\n",
              "    <tr>\n",
              "      <th>p</th>\n",
              "      <th></th>\n",
              "      <th></th>\n",
              "    </tr>\n",
              "  </thead>\n",
              "  <tbody>\n",
              "    <tr>\n",
              "      <th>0</th>\n",
              "      <td>2.076105</td>\n",
              "      <td>-53.315012</td>\n",
              "    </tr>\n",
              "    <tr>\n",
              "      <th>1</th>\n",
              "      <td>2.069633</td>\n",
              "      <td>-51.386831</td>\n",
              "    </tr>\n",
              "    <tr>\n",
              "      <th>2</th>\n",
              "      <td>1.937989</td>\n",
              "      <td>-50.898400</td>\n",
              "    </tr>\n",
              "    <tr>\n",
              "      <th>3</th>\n",
              "      <td>1.904962</td>\n",
              "      <td>-49.293742</td>\n",
              "    </tr>\n",
              "    <tr>\n",
              "      <th>4</th>\n",
              "      <td>1.613324</td>\n",
              "      <td>-51.115546</td>\n",
              "    </tr>\n",
              "    <tr>\n",
              "      <th>5</th>\n",
              "      <td>1.090713</td>\n",
              "      <td>-58.119230</td>\n",
              "    </tr>\n",
              "    <tr>\n",
              "      <th>6</th>\n",
              "      <td>1.088305</td>\n",
              "      <td>-56.170080</td>\n",
              "    </tr>\n",
              "    <tr>\n",
              "      <th>7</th>\n",
              "      <td>1.086684</td>\n",
              "      <td>-54.204364</td>\n",
              "    </tr>\n",
              "  </tbody>\n",
              "</table>\n",
              "</div>"
            ],
            "text/plain": [
              "        CSS        AIC\n",
              "p                     \n",
              "0  2.076105 -53.315012\n",
              "1  2.069633 -51.386831\n",
              "2  1.937989 -50.898400\n",
              "3  1.904962 -49.293742\n",
              "4  1.613324 -51.115546\n",
              "5  1.090713 -58.119230\n",
              "6  1.088305 -56.170080\n",
              "7  1.086684 -54.204364"
            ]
          },
          "execution_count": 188,
          "metadata": {},
          "output_type": "execute_result"
        }
      ],
      "source": [
        "select_p_by_aic(crona, 7)"
      ]
    },
    {
      "cell_type": "code",
      "execution_count": 190,
      "metadata": {},
      "outputs": [
        {
          "name": "stdout",
          "output_type": "stream",
          "text": [
            "Прогноз Δy: -0.13440970983189623\n",
            "Прогноз y: -0.39440970983189627\n"
          ]
        },
        {
          "data": {
            "image/png": "[encoded data removed]",
            "text/plain": [
              "<Figure size 640x480 with 1 Axes>"
            ]
          },
          "metadata": {},
          "output_type": "display_data"
        }
      ],
      "source": [
        "\n",
        "y = np.array([ 0.07,  0.17,  0.04, -0.38,  0.18,  0.08, -0.11, -0.6 ,  0.11,\n",
        "              -0.05, -0.16,  0.36,  0.62,  0.41, -0.29,  0.12,  0.3 ,  0.02,\n",
        "              -0.64, -0.47, -0.14,  0.26, -0.26])\n",
        "phi = np.array([ 0.86970325, -0.40143956, -0.02909814,  0.46750285,\n",
        "                -0.66175898, -0.07364059])\n",
        "theta = -0.709529691506917\n",
        "resid = np.array([ 0.08565217,  0.17193296,  0.05056559, -0.29985047,  0.28747433,\n",
        "                   -0.04529167, -0.03858501, -0.26474524,  0.08244498, -0.26453032,\n",
        "                   -0.1469147 ,  0.60461191,  0.22660197,  0.23638307, -0.15670525,\n",
        "                    0.17876493,  0.16755782,  0.17580702,  0.0567955 , -0.06117996,\n",
        "                   -0.10021193,  0.31434167,  0.01453486])\n",
        "\n",
        "# Вычисление прогноза\n",
        "dy = y\n",
        "p = len(phi)\n",
        "ar_term = sum(phi[i] * dy[-i-1] for i in range(p))\n",
        "ma_term = theta * resid[-1]\n",
        "delta_forecast = ar_term + ma_term\n",
        "y_forecast = y[-1] + delta_forecast\n",
        "\n",
        "print(\"Прогноз Δy:\", delta_forecast)\n",
        "print(\"Прогноз y:\", y_forecast)\n",
        "\n",
        "# Построение графика\n",
        "plt.figure()\n",
        "plt.plot(np.arange(len(y)), y, label='Наблюдаемые значения')\n",
        "plt.scatter([len(y)], [y_forecast], label='Прогноз', zorder=5)\n",
        "plt.legend()\n",
        "plt.title('Одношаговый прогноз ARIMA(6,1,1)')\n",
        "plt.xlabel('Индекс времени')\n",
        "plt.ylabel('Значение')\n",
        "plt.show()\n"
      ]
    },
    {
      "cell_type": "code",
      "execution_count": 193,
      "metadata": {},
      "outputs": [
        {
          "data": {
            "text/plain": [
              "array([45.27, 45.34, 45.51, 45.55, 45.17, 45.35, 45.43, 45.32, 44.72,\n",
              "       44.83, 44.78, 44.62, 44.98, 45.6 , 46.01, 45.72, 45.84, 46.14,\n",
              "       46.16, 45.52, 45.05, 44.91, 45.17, 44.91])"
            ]
          },
          "execution_count": 193,
          "metadata": {},
          "output_type": "execute_result"
        }
      ],
      "source": [
        "crona"
      ]
    },
    {
      "cell_type": "code",
      "execution_count": 200,
      "metadata": {},
      "outputs": [],
      "source": [
        "diffs =[]\n",
        "\n",
        "for i in range(len(crona)-1):\n",
        "    diffs.append((crona[i+1]- crona[i])/crona[i])"
      ]
    },
    {
      "cell_type": "code",
      "execution_count": 201,
      "metadata": {},
      "outputs": [],
      "source": [
        "diffs = np.array(diffs)"
      ]
    },
    {
      "cell_type": "code",
      "execution_count": 204,
      "metadata": {},
      "outputs": [
        {
          "data": {
            "text/plain": [
              "array([ 0.00154628,  0.00374945,  0.00087893, -0.00834248,  0.00398495,\n",
              "        0.00176406, -0.00242131, -0.01323919,  0.00245975, -0.00111532,\n",
              "       -0.00357302,  0.00806813,  0.0137839 ,  0.00899123, -0.00630298,\n",
              "        0.00262467,  0.0065445 ,  0.00043346, -0.01386482, -0.01032513,\n",
              "       -0.00310766,  0.00578936, -0.00575603])"
            ]
          },
          "execution_count": 204,
          "metadata": {},
          "output_type": "execute_result"
        }
      ],
      "source": [
        "diffs"
      ]
    },
    {
      "cell_type": "code",
      "execution_count": 202,
      "metadata": {},
      "outputs": [],
      "source": [
        "results = []\n",
        "for k in [5, 10, 15]:\n",
        "    segment = diffs[-k:]\n",
        "    mean_k = segment.mean()\n",
        "    var_k = segment.var(ddof=0)  # смещённая оценка\n",
        "    results.append({'k': k, 'mean': mean_k, 'variance': var_k})\n"
      ]
    },
    {
      "cell_type": "code",
      "execution_count": 203,
      "metadata": {},
      "outputs": [
        {
          "data": {
            "text/plain": [
              "[{'k': 5, 'mean': -0.0054528568532819415, 'variance': 4.5295877485302945e-05},\n",
              " {'k': 10, 'mean': -0.0014973395903640058, 'variance': 5.23204384932959e-05},\n",
              " {'k': 15, 'mean': 0.0003100026839153766, 'variance': 5.4622311840123134e-05}]"
            ]
          },
          "execution_count": 203,
          "metadata": {},
          "output_type": "execute_result"
        }
      ],
      "source": [
        "results"
      ]
    },
    {
      "cell_type": "code",
      "execution_count": 249,
      "metadata": {},
      "outputs": [],
      "source": [
        "# Параметры GARCH(1,1)\n",
        "omega = 4.8e-05\n",
        "alpha = 0.04\n",
        "beta  = 0.89\n",
        "\n",
        "T = len(diffs)\n",
        "# Инициализация sigma^2   \n",
        "sigma2 = np.empty(T)\n",
        "# Начальное значение взято условной несмещённой дисперсии ω/(1-α-β)\n",
        "sigma2[0] = omega / (1 - alpha - beta)\n",
        "\n",
        "# Рекуррентное вычисление σ²_t\n",
        "for t in range(1, T):\n",
        "    sigma2[t] = omega + alpha * diffs[t-1]**2 + beta * sigma2[t-1]\n",
        "\n",
        "# Серии для анализа\n",
        "u2      = diffs**2\n",
        "std_u2  = u2 / sigma2\n",
        "\n",
        "# Функция расчёта автокорреляции\n",
        "def acf(x, lag):\n",
        "    return np.corrcoef(x[:-lag], x[lag:])[0,1]\n",
        "\n",
        "lags = list(range(1,6))\n",
        "acf_u2     = [acf(u2,      k) for k in lags]\n",
        "acf_std_u2 = [acf(std_u2,  k) for k in lags]\n",
        "\n",
        "# Собираем в DataFrame\n",
        "df = pd.DataFrame({\n",
        "    'lag': lags,\n",
        "    'ACF(u^2)': acf_u2,\n",
        "    'ACF(u^2/σ^2)': acf_std_u2\n",
        "})\n"
      ]
    },
    {
      "cell_type": "code",
      "execution_count": 250,
      "metadata": {},
      "outputs": [
        {
          "data": {
            "text/plain": [
              "array([0.00068571, 0.00065838, 0.00063452, 0.00061276, 0.00059614,\n",
              "       0.0005792 , 0.00056361, 0.00054985, 0.00054437, 0.00053274,\n",
              "       0.00052218, 0.00051325, 0.0005074 , 0.00050719, 0.00050263,\n",
              "       0.00049693, 0.00049054, 0.0004863 , 0.00048081, 0.00048361,\n",
              "       0.00048268, 0.00047797, 0.00047473])"
            ]
          },
          "execution_count": 250,
          "metadata": {},
          "output_type": "execute_result"
        }
      ],
      "source": [
        "sigma2"
      ]
    },
    {
      "cell_type": "code",
      "execution_count": 248,
      "metadata": {},
      "outputs": [
        {
          "data": {
            "text/plain": [
              "array([[ 1.00000000e+00,  5.72539047e-02,  9.18016433e-02],\n",
              "       [ 2.00000000e+00, -2.48541745e-01, -2.21873568e-01],\n",
              "       [ 3.00000000e+00, -3.20230507e-01, -2.93161310e-01],\n",
              "       [ 4.00000000e+00, -3.89728936e-03, -2.15009604e-02],\n",
              "       [ 5.00000000e+00,  2.77691497e-01,  2.87135367e-01]])"
            ]
          },
          "execution_count": 248,
          "metadata": {},
          "output_type": "execute_result"
        }
      ],
      "source": [
        "df.values"
      ]
    },
    {
      "cell_type": "code",
      "execution_count": null,
      "metadata": {},
      "outputs": [],
      "source": [
        "\n"
      ]
    },
    {
      "cell_type": "code",
      "execution_count": 233,
      "metadata": {},
      "outputs": [
        {
          "name": "stdout",
          "output_type": "stream",
          "text": [
            "                     Constant Mean - GARCH Model Results                      \n",
            "==============================================================================\n",
            "Dep. Variable:                      y   R-squared:                       0.000\n",
            "Mean Model:             Constant Mean   Adj. R-squared:                  0.000\n",
            "Vol Model:                      GARCH   Log-Likelihood:                81.7741\n",
            "Distribution:                  Normal   AIC:                          -155.548\n",
            "Method:            Maximum Likelihood   BIC:                          -151.006\n",
            "                                        No. Observations:                   23\n",
            "Date:                Thu, Jun 12 2025   Df Residuals:                       22\n",
            "Time:                        14:49:45   Df Model:                            1\n",
            "                                   Mean Model                                  \n",
            "===============================================================================\n",
            "                  coef    std err          t      P>|t|        95.0% Conf. Int.\n",
            "-------------------------------------------------------------------------------\n",
            "mu         -3.2897e-04  4.909e-06    -67.019      0.000 [-3.386e-04,-3.194e-04]\n",
            "                              Volatility Model                              \n",
            "============================================================================\n",
            "                 coef    std err          t      P>|t|      95.0% Conf. Int.\n",
            "----------------------------------------------------------------------------\n",
            "omega      4.8058e-06  3.402e-10  1.413e+04      0.000 [4.805e-06,4.806e-06]\n",
            "alpha[1]   1.0000e-02      0.305  3.274e-02      0.974     [ -0.589,  0.609]\n",
            "beta[1]        0.8900      0.350      2.542  1.102e-02     [  0.204,  1.576]\n",
            "============================================================================\n",
            "\n",
            "Covariance estimator: robust\n"
          ]
        },
        {
          "name": "stderr",
          "output_type": "stream",
          "text": [
            "C:\\Users\\Arseny\\AppData\\Roaming\\Python\\Python312\\site-packages\\arch\\univariate\\base.py:309: DataScaleWarning: y is poorly scaled, which may affect convergence of the optimizer when\n",
            "estimating the model parameters. The scale of y is 4.806e-05. Parameter\n",
            "estimation work better when this value is between 1 and 1000. The recommended\n",
            "rescaling is 100 * y.\n",
            "\n",
            "This warning can be disabled by either rescaling y before initializing the\n",
            "model or by setting rescale=False.\n",
            "\n",
            "  warnings.warn(\n"
          ]
        },
        {
          "data": {
            "image/png": "[encoded data removed]",
            "text/plain": [
              "<Figure size 640x480 with 1 Axes>"
            ]
          },
          "metadata": {},
          "output_type": "display_data"
        }
      ],
      "source": [
        "import numpy as np\n",
        "import matplotlib.pyplot as plt\n",
        "from arch import arch_model\n",
        "\n",
        "\n",
        "# 1. Задаём модель GARCH(1,1) с нормальным распределением ошибок\n",
        "am = arch_model(diffs, vol='Garch', p=1, q=1, dist='normal')\n",
        "\n",
        "# 2. Оцениваем модель\n",
        "res = am.fit(disp='off')\n",
        "\n",
        "# 3. Смотрим результаты\n",
        "print(res.summary())\n",
        "\n",
        "# 4. Строим условную волатильность\n",
        "plt.figure()\n",
        "plt.plot(res.conditional_volatility)\n",
        "plt.title('Условная волатильность GARCH(1,1)')\n",
        "plt.xlabel('Индекс времени')\n",
        "plt.ylabel('σₜ')\n",
        "plt.show()\n"
      ]
    },
    {
      "cell_type": "code",
      "execution_count": 237,
      "metadata": {},
      "outputs": [
        {
          "data": {
            "text/html": [
              "<div>\n",
              "<style scoped>\n",
              "    .dataframe tbody tr th:only-of-type {\n",
              "        vertical-align: middle;\n",
              "    }\n",
              "\n",
              "    .dataframe tbody tr th {\n",
              "        vertical-align: top;\n",
              "    }\n",
              "\n",
              "    .dataframe thead th {\n",
              "        text-align: right;\n",
              "    }\n",
              "</style>\n",
              "<table border=\"1\" class=\"dataframe\">\n",
              "  <thead>\n",
              "    <tr style=\"text-align: right;\">\n",
              "      <th></th>\n",
              "      <th>Series</th>\n",
              "      <th>Q(m=5)</th>\n",
              "      <th>p-value</th>\n",
              "    </tr>\n",
              "  </thead>\n",
              "  <tbody>\n",
              "    <tr>\n",
              "      <th>0</th>\n",
              "      <td>u^2</td>\n",
              "      <td>7.189099</td>\n",
              "      <td>0.206952</td>\n",
              "    </tr>\n",
              "    <tr>\n",
              "      <th>1</th>\n",
              "      <td>u^2/σ^2</td>\n",
              "      <td>6.686754</td>\n",
              "      <td>0.244998</td>\n",
              "    </tr>\n",
              "  </tbody>\n",
              "</table>\n",
              "</div>"
            ],
            "text/plain": [
              "    Series    Q(m=5)   p-value\n",
              "0      u^2  7.189099  0.206952\n",
              "1  u^2/σ^2  6.686754  0.244998"
            ]
          },
          "execution_count": 237,
          "metadata": {},
          "output_type": "execute_result"
        }
      ],
      "source": [
        "df"
      ]
    },
    {
      "cell_type": "code",
      "execution_count": 235,
      "metadata": {},
      "outputs": [],
      "source": [
        "\n",
        "lags = df.values[:,0].astype(int)\n",
        "acf_u2 = df.values[:,1]\n",
        "acf_std = df.values[:,2]\n",
        "\n",
        "T = 23  # длина рядов\n",
        "\n",
        "# Функция для вычисления статистики Ljung-Box\n",
        "def ljung_box(acf, T, m):\n",
        "    # Q = T*(T+2) * sum_{k=1}^m acf_k^2/(T-k)\n",
        "    return T*(T+2) * np.sum(acf[:m]**2 / (T - lags[:m]))\n",
        "\n",
        "# Вычисляем Q и p-values для m = 5\n",
        "m = 5\n",
        "Q_u2 = ljung_box(acf_u2, T, m)\n",
        "Q_std = ljung_box(acf_std, T, m)\n",
        "pval_u2 = 1 - chi2.cdf(Q_u2, df=m)\n",
        "pval_std = 1 - chi2.cdf(Q_std, df=m)\n",
        "\n",
        "df = pd.DataFrame({\n",
        "    'Series': ['u^2', 'u^2/σ^2'],\n",
        "    'Q(m=5)': [Q_u2, Q_std],\n",
        "    'p-value': [pval_u2, pval_std]\n",
        "})"
      ]
    },
    {
      "cell_type": "code",
      "execution_count": 236,
      "metadata": {},
      "outputs": [
        {
          "data": {
            "text/html": [
              "<div>\n",
              "<style scoped>\n",
              "    .dataframe tbody tr th:only-of-type {\n",
              "        vertical-align: middle;\n",
              "    }\n",
              "\n",
              "    .dataframe tbody tr th {\n",
              "        vertical-align: top;\n",
              "    }\n",
              "\n",
              "    .dataframe thead th {\n",
              "        text-align: right;\n",
              "    }\n",
              "</style>\n",
              "<table border=\"1\" class=\"dataframe\">\n",
              "  <thead>\n",
              "    <tr style=\"text-align: right;\">\n",
              "      <th></th>\n",
              "      <th>Series</th>\n",
              "      <th>Q(m=5)</th>\n",
              "      <th>p-value</th>\n",
              "    </tr>\n",
              "  </thead>\n",
              "  <tbody>\n",
              "    <tr>\n",
              "      <th>0</th>\n",
              "      <td>u^2</td>\n",
              "      <td>7.189099</td>\n",
              "      <td>0.206952</td>\n",
              "    </tr>\n",
              "    <tr>\n",
              "      <th>1</th>\n",
              "      <td>u^2/σ^2</td>\n",
              "      <td>6.686754</td>\n",
              "      <td>0.244998</td>\n",
              "    </tr>\n",
              "  </tbody>\n",
              "</table>\n",
              "</div>"
            ],
            "text/plain": [
              "    Series    Q(m=5)   p-value\n",
              "0      u^2  7.189099  0.206952\n",
              "1  u^2/σ^2  6.686754  0.244998"
            ]
          },
          "execution_count": 236,
          "metadata": {},
          "output_type": "execute_result"
        }
      ],
      "source": [
        "df"
      ]
    },
    {
      "cell_type": "code",
      "execution_count": null,
      "metadata": {},
      "outputs": [],
      "source": [
        "def auto_covar_k(k, crona):\n",
        "  mean = np.sum(crona)/len(crona)\n",
        "  return np.dot((crona[:len(crona)-k]-mean),(crona[k:]-mean))/len(crona)\n"
      ]
    },
    {
      "cell_type": "code",
      "execution_count": 261,
      "metadata": {},
      "outputs": [
        {
          "name": "stdout",
          "output_type": "stream",
          "text": [
            "r1 = 0.05679467889450331\n",
            "r2 = -0.24116173978242203\n",
            "r3 = -0.29878886734385574\n",
            "r4 = -0.0029744791319836947\n",
            "r5 = 0.20492609763441882\n"
          ]
        },
        {
          "data": {
            "text/plain": [
              "array([ 0.05679468, -0.24116174, -0.29878887, -0.00297448,  0.2049261 ])"
            ]
          },
          "execution_count": 261,
          "metadata": {},
          "output_type": "execute_result"
        }
      ],
      "source": [
        "\n",
        "corr1 = [] # Последовательность автокорреляций до порядка 5 включительно для ряда u^2(n)\n",
        "for i in range(1,6):\n",
        "  corr1.append(auto_covar_k(i, np.array(diffs)**2)/auto_covar_k(0, np.array(diffs)**2))\n",
        "  print(f\"r{i} = {corr1[i-1]}\")\n",
        "np.array(corr1)"
      ]
    },
    {
      "cell_type": "code",
      "execution_count": 262,
      "metadata": {},
      "outputs": [
        {
          "name": "stdout",
          "output_type": "stream",
          "text": [
            "r1 = 0.07024718555216344\n",
            "r2 = -0.2513025783304572\n",
            "r3 = -0.28022733093747226\n",
            "r4 = -0.04374006111779579\n",
            "r5 = 0.17943996338574317\n"
          ]
        },
        {
          "data": {
            "text/plain": [
              "array([ 0.07024719, -0.25130258, -0.28022733, -0.04374006,  0.17943996])"
            ]
          },
          "execution_count": 262,
          "metadata": {},
          "output_type": "execute_result"
        }
      ],
      "source": [
        "\n",
        "prir2 = [diffs[i]**2/sigma2[i] for i in range(1,len(prir))] # Последовательность u^2(n)/sigma^2(n)\n",
        "corr2 = []\n",
        "for i in range(1,6):\n",
        "  corr2.append(auto_covar_k(i, prir2)/auto_covar_k(0, prir2))\n",
        "  print(f\"r{i} = {corr2[i-1]}\")\n",
        "\n",
        "np.array(corr2)"
      ]
    },
    {
      "cell_type": "code",
      "execution_count": 270,
      "metadata": {},
      "outputs": [],
      "source": [
        "\n",
        "T = 24  # длина рядов\n",
        "\n",
        "# Функция для вычисления статистики Ljung-Box\n",
        "def ljung_box(acf, T, m):\n",
        "    lags = np.arange(m)\n",
        "    return T*(T+2) * np.sum(np.power(acf[:m],2)/ (T - lags[:m]))\n",
        "\n",
        "# Вычисляем Q и p-values для m = 5\n",
        "m = 5\n",
        "Q_u2 = ljung_box(corr1, T, m)\n",
        "Q_std = ljung_box(corr2, T, m)\n",
        "pval_u2 = 1 - chi2.cdf(Q_u2, df=m)\n",
        "pval_std = 1 - chi2.cdf(Q_std, df=m)\n",
        "\n",
        "df = pd.DataFrame({\n",
        "    'Series': ['u^2', 'u^2/σ^2'],\n",
        "    'Q(m=5)': [Q_u2, Q_std],\n",
        "    'p-value': [pval_u2, pval_std]})"
      ]
    },
    {
      "cell_type": "code",
      "execution_count": 271,
      "metadata": {},
      "outputs": [
        {
          "data": {
            "text/html": [
              "<div>\n",
              "<style scoped>\n",
              "    .dataframe tbody tr th:only-of-type {\n",
              "        vertical-align: middle;\n",
              "    }\n",
              "\n",
              "    .dataframe tbody tr th {\n",
              "        vertical-align: top;\n",
              "    }\n",
              "\n",
              "    .dataframe thead th {\n",
              "        text-align: right;\n",
              "    }\n",
              "</style>\n",
              "<table border=\"1\" class=\"dataframe\">\n",
              "  <thead>\n",
              "    <tr style=\"text-align: right;\">\n",
              "      <th></th>\n",
              "      <th>Series</th>\n",
              "      <th>Q(m=5)</th>\n",
              "      <th>p-value</th>\n",
              "    </tr>\n",
              "  </thead>\n",
              "  <tbody>\n",
              "    <tr>\n",
              "      <th>0</th>\n",
              "      <td>u^2</td>\n",
              "      <td>5.504400</td>\n",
              "      <td>0.357464</td>\n",
              "    </tr>\n",
              "    <tr>\n",
              "      <th>1</th>\n",
              "      <td>u^2/σ^2</td>\n",
              "      <td>5.130439</td>\n",
              "      <td>0.400170</td>\n",
              "    </tr>\n",
              "  </tbody>\n",
              "</table>\n",
              "</div>"
            ],
            "text/plain": [
              "    Series    Q(m=5)   p-value\n",
              "0      u^2  5.504400  0.357464\n",
              "1  u^2/σ^2  5.130439  0.400170"
            ]
          },
          "execution_count": 271,
          "metadata": {},
          "output_type": "execute_result"
        }
      ],
      "source": [
        "df"
      ]
    },
    {
      "cell_type": "code",
      "execution_count": 272,
      "metadata": {},
      "outputs": [
        {
          "name": "stdout",
          "output_type": "stream",
          "text": [
            "Последняя оценка σ²_T = 0.00004876\n",
            "Прогноз σ²_{T+1} = 0.00004853\n"
          ]
        }
      ],
      "source": [
        "\n",
        "\n",
        "# Параметры вашей GARCH(1,1)\n",
        "omega = 4.8e-06\n",
        "alpha = 0.01\n",
        "beta  = 0.89\n",
        "\n",
        "T = len(diffs)\n",
        "\n",
        "# Инициализируем массив условной дисперсии\n",
        "sigma2 = np.empty(T)\n",
        "# Берём стационарное начальное значение\n",
        "sigma2[0] = omega / (1 - alpha - beta)\n",
        "\n",
        "# Рассчитываем σ²_t по рекурсии\n",
        "for t in range(1, T):\n",
        "    sigma2[t] = omega + alpha * diffs[t-1]**2 + beta * sigma2[t-1]\n",
        "\n",
        "# Одноступенчатый прогноз условной дисперсии σ²_{T+1}\n",
        "sigma2_next = omega + alpha * diffs[-1]**2 + beta * sigma2[-1]\n",
        "\n",
        "print(f\"Последняя оценка σ²_T = {sigma2[-1]:.8f}\")\n",
        "print(f\"Прогноз σ²_{{T+1}} = {sigma2_next:.8f}\")"
      ]
    },
    {
      "cell_type": "code",
      "execution_count": 273,
      "metadata": {},
      "outputs": [
        {
          "name": "stdout",
          "output_type": "stream",
          "text": [
            "Прогноз цены y_(T+1) = 44.97416759294688\n"
          ]
        }
      ],
      "source": [
        "omega, alpha, beta = 4.8e-06, 0.01, 0.89\n",
        "\n",
        "# рассчёт прогнозной дисперсии σ²_{T+1}\n",
        "pred_sigma2 = omega + alpha * corr1[-1] + beta * prir2[-1]\n",
        "\n",
        "# прогноз цены как y_T плюс прогноз дисперсии\n",
        "predict = crona[-1] + pred_sigma2\n",
        "\n",
        "print(f'Прогноз цены y_(T+1) = {predict}')\n"
      ]
    },
    {
      "cell_type": "code",
      "execution_count": 277,
      "metadata": {},
      "outputs": [
        {
          "data": {
            "text/plain": [
              "Text(0.5, 1.0, 'Предсказание модели GARCH(1,1)')"
            ]
          },
          "execution_count": 277,
          "metadata": {},
          "output_type": "execute_result"
        },
        {
          "data": {
            "image/png": "[encoded data removed]",
            "text/plain": [
              "<Figure size 640x480 with 1 Axes>"
            ]
          },
          "metadata": {},
          "output_type": "display_data"
        }
      ],
      "source": [
        "plt.plot(crona)\n",
        "plt.scatter(25, predict)\n",
        "plt.title(\"Предсказание модели GARCH(1,1)\")"
      ]
    },
    {
      "cell_type": "code",
      "execution_count": 278,
      "metadata": {},
      "outputs": [
        {
          "data": {
            "text/plain": [
              "array([45.27, 45.34, 45.51, 45.55, 45.17, 45.35, 45.43, 45.32, 44.72,\n",
              "       44.83, 44.78, 44.62, 44.98, 45.6 , 46.01, 45.72, 45.84, 46.14,\n",
              "       46.16, 45.52, 45.05, 44.91, 45.17, 44.91])"
            ]
          },
          "execution_count": 278,
          "metadata": {},
          "output_type": "execute_result"
        }
      ],
      "source": [
        "crona"
      ]
    }
  ],
  "metadata": {
    "colab": {
      "provenance": []
    },
    "kernelspec": {
      "display_name": "Python 3",
      "name": "python3"
    },
    "language_info": {
      "codemirror_mode": {
        "name": "ipython",
        "version": 3
      },
      "file_extension": ".py",
      "mimetype": "text/x-python",
      "name": "python",
      "nbconvert_exporter": "python",
      "pygments_lexer": "ipython3",
      "version": "3.12.7"
    }
  },
  "nbformat": 4,
  "nbformat_minor": 0
}
