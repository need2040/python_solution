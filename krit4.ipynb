{
 "cells": [
  {
   "cell_type": "code",
   "execution_count": 46,
   "id": "e008f7ef",
   "metadata": {},
   "outputs": [],
   "source": [
    "import numpy as np\n",
    "from scipy.integrate import trapezoid\n",
    "from matplotlib import pyplot as plt\n",
    "import scipy.stats\n"
   ]
  },
  {
   "cell_type": "code",
   "execution_count": 47,
   "id": "49e8e4f0",
   "metadata": {},
   "outputs": [],
   "source": [
    "def mu(t):\n",
    "    return 0.1 * t\n",
    "\n",
    "def sigma(t):\n",
    "    return (6 + 2*t)/100  #0.06 + 0.02t"
   ]
  },
  {
   "cell_type": "code",
   "execution_count": 48,
   "id": "6084f0e3",
   "metadata": {},
   "outputs": [],
   "source": [
    "def compute_asset_5 (t_values, S0 = 10, n_mc = 10000):\n",
    "    S_results = []\n",
    "    B_results = []\n",
    "    \n",
    "    for t in t_values:\n",
    "        t_grid = np.linspace(0, t, 1000)\n",
    "        mu_vals = mu(t_grid)\n",
    "        sigma_vals = sigma(t_grid)\n",
    "        \n",
    "\n",
    "        int_B = trapezoid(mu_vals, t_grid)\n",
    "        Bt = S0 * np.exp(int_B)\n",
    "        B_results.append(Bt)\n",
    "        \n",
    "\n",
    "        integrand_S = mu_vals\n",
    "        int1 = trapezoid(integrand_S, t_grid)\n",
    "        \n",
    "        dt = t_grid[1] - t_grid[0]\n",
    "        dW = np.random.normal(0, np.sqrt(dt), size=(n_mc, len(t_grid)))\n",
    "        int2 = np.mean(np.sum(sigma_vals * dW, axis=1))\n",
    "        \n",
    "        St = S0 * np.exp(int1 + int2)\n",
    "        S_results.append(St)\n",
    "    \n",
    "    return np.array(S_results), np.array(B_results)\n",
    "\n",
    "# Вычисление цен\n",
    "  \n",
    "t_points = np.arange(0, 4.1, 0.5)\n",
    "get_b, _ = compute_asset_5(S0=10, t_values=t_points)"
   ]
  },
  {
   "cell_type": "code",
   "execution_count": 49,
   "id": "13cbec9a",
   "metadata": {},
   "outputs": [],
   "source": [
    "r = 0.1"
   ]
  },
  {
   "cell_type": "code",
   "execution_count": 50,
   "id": "86fef0e6",
   "metadata": {},
   "outputs": [
    {
     "data": {
      "image/png": "[encoded data removed]",
      "text/plain": [
       "<Figure size 640x480 with 1 Axes>"
      ]
     },
     "metadata": {},
     "output_type": "display_data"
    }
   ],
   "source": [
    "plt.plot(get_b)\n",
    "plt.grid(visible=True)"
   ]
  },
  {
   "cell_type": "code",
   "execution_count": 51,
   "id": "f057c287",
   "metadata": {},
   "outputs": [],
   "source": [
    "St = get_b[2]\n",
    "Et = St *(8/7)\n",
    "tau = 1"
   ]
  },
  {
   "cell_type": "code",
   "execution_count": 52,
   "id": "b2bd28f8",
   "metadata": {},
   "outputs": [],
   "source": [
    "d1 = (np.log(St) - np.log(Et) + (r+ ((sigma(tau))**2)/2) * tau)/ (sigma(tau) * np.sqrt(tau))"
   ]
  },
  {
   "cell_type": "code",
   "execution_count": 53,
   "id": "9e11dcf5",
   "metadata": {},
   "outputs": [
    {
     "data": {
      "text/plain": [
       "-0.3791424078065342"
      ]
     },
     "execution_count": 53,
     "metadata": {},
     "output_type": "execute_result"
    }
   ],
   "source": [
    "d1"
   ]
  },
  {
   "cell_type": "code",
   "execution_count": 54,
   "id": "64df0ef8",
   "metadata": {},
   "outputs": [],
   "source": [
    "d2 = d1 - sigma(tau)* np.sqrt(tau)"
   ]
  },
  {
   "cell_type": "code",
   "execution_count": 55,
   "id": "c703dded",
   "metadata": {},
   "outputs": [
    {
     "data": {
      "text/plain": [
       "-0.4591424078065342"
      ]
     },
     "execution_count": 55,
     "metadata": {},
     "output_type": "execute_result"
    }
   ],
   "source": [
    "d2"
   ]
  },
  {
   "cell_type": "code",
   "execution_count": 56,
   "id": "070c68b5",
   "metadata": {},
   "outputs": [],
   "source": [
    "Ct = St * scipy.stats.norm.cdf(d1) - Et * np.exp(-r*tau) * scipy.stats.norm.cdf(d2)"
   ]
  },
  {
   "cell_type": "code",
   "execution_count": 57,
   "id": "5e0fbefa",
   "metadata": {},
   "outputs": [
    {
     "data": {
      "text/plain": [
       "0.19139203606159416"
      ]
     },
     "execution_count": 57,
     "metadata": {},
     "output_type": "execute_result"
    }
   ],
   "source": [
    "Ct"
   ]
  },
  {
   "cell_type": "code",
   "execution_count": 58,
   "id": "ea1ecd6d",
   "metadata": {},
   "outputs": [],
   "source": [
    "delta = scipy.stats.norm.cdf(d1)"
   ]
  },
  {
   "cell_type": "code",
   "execution_count": 59,
   "id": "66ae5daf",
   "metadata": {},
   "outputs": [
    {
     "data": {
      "text/plain": [
       "0.35229105807634536"
      ]
     },
     "execution_count": 59,
     "metadata": {},
     "output_type": "execute_result"
    }
   ],
   "source": [
    "delta"
   ]
  },
  {
   "cell_type": "code",
   "execution_count": 60,
   "id": "b5126d95",
   "metadata": {},
   "outputs": [],
   "source": [
    "t = np.arange(0,4.1,0.5)"
   ]
  },
  {
   "cell_type": "code",
   "execution_count": null,
   "id": "a9101d6d",
   "metadata": {},
   "outputs": [],
   "source": []
  },
  {
   "cell_type": "code",
   "execution_count": 61,
   "id": "c75e8735",
   "metadata": {},
   "outputs": [],
   "source": [
    "def get_ct(get_b,t):\n",
    "\n",
    "    return get_b * scipy.stats.norm.cdf(d1) - Et * np.exp(-r*t) * scipy.stats.norm.cdf(d2)"
   ]
  },
  {
   "cell_type": "code",
   "execution_count": 62,
   "id": "002ad5ef",
   "metadata": {},
   "outputs": [],
   "source": [
    "c_all = get_ct(get_b,t)"
   ]
  },
  {
   "cell_type": "code",
   "execution_count": 66,
   "id": "578d7ff9",
   "metadata": {},
   "outputs": [],
   "source": [
    "c_all = c_all[::-1]"
   ]
  },
  {
   "cell_type": "code",
   "execution_count": 68,
   "id": "2cf98ae9",
   "metadata": {},
   "outputs": [
    {
     "data": {
      "text/plain": [
       "array([ 5.21272319,  3.73847501,  2.63867953,  1.7933762 ,  1.12790355,\n",
       "        0.60331953,  0.19139204, -0.12399081, -0.35797427])"
      ]
     },
     "execution_count": 68,
     "metadata": {},
     "output_type": "execute_result"
    }
   ],
   "source": [
    "c_all"
   ]
  },
  {
   "cell_type": "code",
   "execution_count": 67,
   "id": "1400730c",
   "metadata": {},
   "outputs": [
    {
     "data": {
      "text/plain": [
       "[<matplotlib.lines.Line2D at 0x157bd9790>]"
      ]
     },
     "execution_count": 67,
     "metadata": {},
     "output_type": "execute_result"
    },
    {
     "data": {
      "image/png": "[encoded data removed]",
      "text/plain": [
       "<Figure size 640x480 with 1 Axes>"
      ]
     },
     "metadata": {},
     "output_type": "display_data"
    }
   ],
   "source": [
    "plt.plot(c_all)"
   ]
  },
  {
   "cell_type": "code",
   "execution_count": 69,
   "id": "3568fbb1",
   "metadata": {},
   "outputs": [
    {
     "name": "stderr",
     "output_type": "stream",
     "text": [
      "/var/folders/5x/5z67klg92k997tvr4jjj1tt80000gn/T/ipykernel_94920/1502700922.py:1: RuntimeWarning: divide by zero encountered in divide\n",
      "  theta = ((-sigma(t) * get_b)/(2*np.sqrt(t)))*scipy.stats.norm.pdf(d1) - r* Et * np.exp(-r*t)*scipy.stats.norm.cdf(d2)\n"
     ]
    }
   ],
   "source": [
    "theta = ((-sigma(t) * get_b)/(2*np.sqrt(t)))*scipy.stats.norm.pdf(d1) - r* Et * np.exp(-r*t)*scipy.stats.norm.cdf(d2)"
   ]
  },
  {
   "cell_type": "code",
   "execution_count": 70,
   "id": "cf097ee9",
   "metadata": {},
   "outputs": [
    {
     "data": {
      "text/plain": [
       "array([       -inf, -0.5552651 , -0.50725701, -0.48673703, -0.47815776,\n",
       "       -0.47878885, -0.48879584, -0.51050845, -0.54837668])"
      ]
     },
     "execution_count": 70,
     "metadata": {},
     "output_type": "execute_result"
    }
   ],
   "source": [
    "theta"
   ]
  }
 ],
 "metadata": {
  "kernelspec": {
   "display_name": "Python 3",
   "language": "python",
   "name": "python3"
  },
  "language_info": {
   "codemirror_mode": {
    "name": "ipython",
    "version": 3
   },
   "file_extension": ".py",
   "mimetype": "text/x-python",
   "name": "python",
   "nbconvert_exporter": "python",
   "pygments_lexer": "ipython3",
   "version": "3.12.4"
  }
 },
 "nbformat": 4,
 "nbformat_minor": 5
}
