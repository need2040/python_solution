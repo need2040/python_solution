{
 "cells": [
  {
   "cell_type": "code",
   "execution_count": 45,
   "id": "e008f7ef",
   "metadata": {},
   "outputs": [],
   "source": [
    "import numpy as np\n",
    "from scipy.integrate import trapezoid\n",
    "from matplotlib import pyplot as plt\n",
    "import scipy.stats"
   ]
  },
  {
   "cell_type": "code",
   "execution_count": 46,
   "id": "49e8e4f0",
   "metadata": {},
   "outputs": [],
   "source": [
    "def mu(t):\n",
    "    return 0.1 * t\n",
    "\n",
    "def sigma(t):\n",
    "    return (6 + 2*t)/100  #0.06 + 0.02t"
   ]
  },
  {
   "cell_type": "code",
   "execution_count": 47,
   "id": "6084f0e3",
   "metadata": {},
   "outputs": [],
   "source": [
    "def compute_asset_5 (t_values, S0 = 10, n_mc = 10000):\n",
    "    S_results = []\n",
    "    B_results = []\n",
    "    \n",
    "    for t in t_values:\n",
    "        t_grid = np.linspace(0, t, 1000)\n",
    "        mu_vals = mu(t_grid)\n",
    "        sigma_vals = sigma(t_grid)\n",
    "        \n",
    "\n",
    "        int_B = trapezoid(mu_vals, t_grid)\n",
    "        Bt = S0 * np.exp(int_B)\n",
    "        B_results.append(Bt)\n",
    "        \n",
    "\n",
    "        integrand_S = mu_vals\n",
    "        int1 = trapezoid(integrand_S, t_grid)\n",
    "        \n",
    "        dt = t_grid[1] - t_grid[0]\n",
    "        dW = np.random.normal(0, np.sqrt(dt), size=(n_mc, len(t_grid)))\n",
    "        int2 = np.mean(np.sum(sigma_vals * dW, axis=1))\n",
    "        \n",
    "        St = S0 * np.exp(int1 + int2)\n",
    "        S_results.append(St)\n",
    "    \n",
    "    return np.array(S_results), np.array(B_results)\n",
    "\n",
    "# Вычисление цен\n",
    "  \n",
    "t_points = np.arange(0, 4.1, 0.5)\n",
    "get_b, _ = compute_asset_5(S0=10, t_values=t_points)"
   ]
  },
  {
   "cell_type": "code",
   "execution_count": 48,
   "id": "13cbec9a",
   "metadata": {},
   "outputs": [],
   "source": [
    "r = 0.1"
   ]
  },
  {
   "cell_type": "code",
   "execution_count": 49,
   "id": "86fef0e6",
   "metadata": {},
   "outputs": [
    {
     "data": {
      "image/png": "[encoded data removed]",
      "text/plain": [
       "<Figure size 640x480 with 1 Axes>"
      ]
     },
     "metadata": {},
     "output_type": "display_data"
    }
   ],
   "source": [
    "plt.plot(get_b)\n",
    "plt.grid(visible=True)"
   ]
  },
  {
   "cell_type": "code",
   "execution_count": 50,
   "id": "f057c287",
   "metadata": {},
   "outputs": [],
   "source": [
    "St = get_b[2]\n",
    "Et = St *(8/7)\n",
    "tau = 1"
   ]
  },
  {
   "cell_type": "code",
   "execution_count": 51,
   "id": "b2bd28f8",
   "metadata": {},
   "outputs": [],
   "source": [
    "d1 = (np.log(St) - np.log(Et) + (r+ ((sigma(tau))**2)/2) * tau)/ (sigma(tau) * np.sqrt(tau))"
   ]
  },
  {
   "cell_type": "code",
   "execution_count": 52,
   "id": "9e11dcf5",
   "metadata": {},
   "outputs": [
    {
     "data": {
      "text/plain": [
       "-0.3791424078065342"
      ]
     },
     "execution_count": 52,
     "metadata": {},
     "output_type": "execute_result"
    }
   ],
   "source": [
    "d1"
   ]
  },
  {
   "cell_type": "code",
   "execution_count": 53,
   "id": "64df0ef8",
   "metadata": {},
   "outputs": [],
   "source": [
    "d2 = d1 - sigma(tau)* np.sqrt(tau)"
   ]
  },
  {
   "cell_type": "code",
   "execution_count": 54,
   "id": "c703dded",
   "metadata": {},
   "outputs": [
    {
     "data": {
      "text/plain": [
       "-0.4591424078065342"
      ]
     },
     "execution_count": 54,
     "metadata": {},
     "output_type": "execute_result"
    }
   ],
   "source": [
    "d2"
   ]
  },
  {
   "cell_type": "code",
   "execution_count": 55,
   "id": "070c68b5",
   "metadata": {},
   "outputs": [],
   "source": [
    "Ct = St * scipy.stats.norm.cdf(d1) - Et * np.exp(-r*tau) * scipy.stats.norm.cdf(d2)"
   ]
  },
  {
   "cell_type": "code",
   "execution_count": 56,
   "id": "5e0fbefa",
   "metadata": {},
   "outputs": [
    {
     "data": {
      "text/plain": [
       "0.19113437700609914"
      ]
     },
     "execution_count": 56,
     "metadata": {},
     "output_type": "execute_result"
    }
   ],
   "source": [
    "Ct"
   ]
  },
  {
   "cell_type": "code",
   "execution_count": 57,
   "id": "ea1ecd6d",
   "metadata": {},
   "outputs": [],
   "source": [
    "delta = scipy.stats.norm.cdf(d1)"
   ]
  },
  {
   "cell_type": "code",
   "execution_count": 58,
   "id": "66ae5daf",
   "metadata": {},
   "outputs": [
    {
     "data": {
      "text/plain": [
       "0.35229105807634536"
      ]
     },
     "execution_count": 58,
     "metadata": {},
     "output_type": "execute_result"
    }
   ],
   "source": [
    "delta"
   ]
  },
  {
   "cell_type": "code",
   "execution_count": 59,
   "id": "b5126d95",
   "metadata": {},
   "outputs": [],
   "source": [
    "t = np.arange(0,4.1,0.5)"
   ]
  },
  {
   "cell_type": "code",
   "execution_count": 67,
   "id": "a9101d6d",
   "metadata": {},
   "outputs": [
    {
     "data": {
      "text/plain": [
       "11.996498628522419"
      ]
     },
     "execution_count": 67,
     "metadata": {},
     "output_type": "execute_result"
    }
   ],
   "source": [
    "Et"
   ]
  },
  {
   "cell_type": "code",
   "execution_count": 68,
   "id": "c75e8735",
   "metadata": {},
   "outputs": [],
   "source": [
    "deltas = []\n",
    "T=4\n",
    "K = Et\n",
    "for i, t in enumerate(t_points):\n",
    "    St = get_b[i]\n",
    "    tau = T - t  # Оставшееся время до экспирации (у вас T=4)\n",
    "    \n",
    "    if tau > 0:\n",
    "        d1 = (np.log(St/K) + (r + (sigma(t)**2)/2) * tau) / (sigma(t) * np.sqrt(tau))\n",
    "        delta = scipy.stats.norm.cdf(d1)\n",
    "    else:\n",
    "        delta = 1.0 if St > K else 0.0  # В момент экспирации\n",
    "    \n",
    "    deltas.append(delta)"
   ]
  },
  {
   "cell_type": "code",
   "execution_count": 69,
   "id": "23d2038c",
   "metadata": {},
   "outputs": [
    {
     "data": {
      "text/plain": [
       "[0.9697011086124169,\n",
       " 0.9262411815784816,\n",
       " 0.8980762026834995,\n",
       " 0.9092632957937519,\n",
       " 0.9456484385205491,\n",
       " 0.9841100490830696,\n",
       " 0.9991859213128095,\n",
       " 0.9999999193531637,\n",
       " 1.0]"
      ]
     },
     "execution_count": 69,
     "metadata": {},
     "output_type": "execute_result"
    }
   ],
   "source": [
    "deltas"
   ]
  },
  {
   "cell_type": "code",
   "execution_count": 70,
   "id": "d77d541f",
   "metadata": {},
   "outputs": [
    {
     "data": {
      "text/plain": [
       "[<matplotlib.lines.Line2D at 0x140299be0>]"
      ]
     },
     "execution_count": 70,
     "metadata": {},
     "output_type": "execute_result"
    },
    {
     "data": {
      "image/png": "[encoded data removed]",
      "text/plain": [
       "<Figure size 640x480 with 1 Axes>"
      ]
     },
     "metadata": {},
     "output_type": "display_data"
    }
   ],
   "source": [
    "plt.plot(deltas)"
   ]
  },
  {
   "cell_type": "code",
   "execution_count": 65,
   "id": "3568fbb1",
   "metadata": {},
   "outputs": [
    {
     "name": "stderr",
     "output_type": "stream",
     "text": [
      "/var/folders/5x/5z67klg92k997tvr4jjj1tt80000gn/T/ipykernel_29146/1502700922.py:1: RuntimeWarning: divide by zero encountered in divide\n",
      "  theta = ((-sigma(t) * get_b)/(2*np.sqrt(t)))*scipy.stats.norm.pdf(d1) - r* Et * np.exp(-r*t)*scipy.stats.norm.cdf(d2)\n"
     ]
    }
   ],
   "source": [
    "theta = ((-sigma(t) * get_b)/(2*np.sqrt(t)))*scipy.stats.norm.pdf(d1) - r* Et * np.exp(-r*t)*scipy.stats.norm.cdf(d2)"
   ]
  },
  {
   "cell_type": "code",
   "execution_count": 66,
   "id": "cf097ee9",
   "metadata": {},
   "outputs": [
    {
     "data": {
      "text/plain": [
       "array([       -inf, -0.55486437, -0.50657412, -0.48617137, -0.47746018,\n",
       "       -0.47831279, -0.48941319, -0.51038065, -0.54919318])"
      ]
     },
     "execution_count": 66,
     "metadata": {},
     "output_type": "execute_result"
    }
   ],
   "source": [
    "theta"
   ]
  },
  {
   "cell_type": "code",
   "execution_count": 71,
   "id": "b0b44697",
   "metadata": {},
   "outputs": [
    {
     "data": {
      "text/plain": [
       "[<matplotlib.lines.Line2D at 0x137feb7d0>]"
      ]
     },
     "execution_count": 71,
     "metadata": {},
     "output_type": "execute_result"
    },
    {
     "data": {
      "image/png": "[encoded data removed]",
      "text/plain": [
       "<Figure size 640x480 with 1 Axes>"
      ]
     },
     "metadata": {},
     "output_type": "display_data"
    }
   ],
   "source": [
    "plt.plot(theta)"
   ]
  },
  {
   "cell_type": "code",
   "execution_count": 75,
   "id": "745660c2",
   "metadata": {},
   "outputs": [
    {
     "data": {
      "text/plain": [
       "numpy.float64"
      ]
     },
     "execution_count": 75,
     "metadata": {},
     "output_type": "execute_result"
    }
   ],
   "source": [
    "type(St)"
   ]
  },
  {
   "cell_type": "code",
   "execution_count": 76,
   "id": "d8147c28",
   "metadata": {},
   "outputs": [
    {
     "data": {
      "text/plain": [
       "list"
      ]
     },
     "execution_count": 76,
     "metadata": {},
     "output_type": "execute_result"
    }
   ],
   "source": [
    "type(deltas)"
   ]
  },
  {
   "cell_type": "code",
   "execution_count": 73,
   "id": "580b250f",
   "metadata": {},
   "outputs": [
    {
     "ename": "TypeError",
     "evalue": "can't multiply sequence by non-int of type 'numpy.float64'",
     "output_type": "error",
     "traceback": [
      "\u001b[0;31m---------------------------------------------------------------------------\u001b[0m",
      "\u001b[0;31mTypeError\u001b[0m                                 Traceback (most recent call last)",
      "Cell \u001b[0;32mIn[73], line 1\u001b[0m\n\u001b[0;32m----> 1\u001b[0m risk_neutral \u001b[38;5;241m=\u001b[39m \u001b[43mSt\u001b[49m\u001b[38;5;241;43m*\u001b[39;49m\u001b[43mdeltas\u001b[49m\n",
      "\u001b[0;31mTypeError\u001b[0m: can't multiply sequence by non-int of type 'numpy.float64'"
     ]
    }
   ],
   "source": [
    "risk_neutral = St*deltas\n",
    "\n"
   ]
  }
 ],
 "metadata": {
  "kernelspec": {
   "display_name": "Python 3",
   "language": "python",
   "name": "python3"
  },
  "language_info": {
   "codemirror_mode": {
    "name": "ipython",
    "version": 3
   },
   "file_extension": ".py",
   "mimetype": "text/x-python",
   "name": "python",
   "nbconvert_exporter": "python",
   "pygments_lexer": "ipython3",
   "version": "3.12.4"
  }
 },
 "nbformat": 4,
 "nbformat_minor": 5
}
