{
 "cells": [
  {
   "cell_type": "code",
   "execution_count": 2,
   "metadata": {},
   "outputs": [
    {
     "data": {
      "text/plain": [
       "1.1102230246251565e-16"
      ]
     },
     "execution_count": 2,
     "metadata": {},
     "output_type": "execute_result"
    }
   ],
   "source": [
    "import scipy.stats as stats\n",
    "# Параметры задачи\n",
    "d1_alpha = 1  # Число степеней свободы для числителя\n",
    "d2_alpha = 38  # Число степеней свободы для знаменателя\n",
    "F_nabl_alpha = 236  # Наблюдаемое значение\n",
    "\n",
    "# Вычисление вероятности P(F > F_nabl)\n",
    "p_value_alpha = 1 - stats.f.cdf(F_nabl_alpha, d1_alpha, d2_alpha)\n",
    "p_value_alpha\n"
   ]
  }
 ],
 "metadata": {
  "kernelspec": {
   "display_name": "Python 3",
   "language": "python",
   "name": "python3"
  },
  "language_info": {
   "codemirror_mode": {
    "name": "ipython",
    "version": 3
   },
   "file_extension": ".py",
   "mimetype": "text/x-python",
   "name": "python",
   "nbconvert_exporter": "python",
   "pygments_lexer": "ipython3",
   "version": "3.12.4"
  }
 },
 "nbformat": 4,
 "nbformat_minor": 2
}
