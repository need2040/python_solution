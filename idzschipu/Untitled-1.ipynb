{
 "cells": [
  {
   "cell_type": "markdown",
   "metadata": {},
   "source": [
    "Импорт библотек"
   ]
  },
  {
   "cell_type": "code",
   "execution_count": 10,
   "metadata": {},
   "outputs": [],
   "source": [
    "from tabulate import tabulate"
   ]
  },
  {
   "cell_type": "markdown",
   "metadata": {},
   "source": [
    "Определим операции в булевом базисе"
   ]
  },
  {
   "cell_type": "code",
   "execution_count": 11,
   "metadata": {},
   "outputs": [],
   "source": [
    "def boolean_operations():\n",
    "    operations = {\n",
    "        \"ЛОЖЬ (0)\": lambda a, b: False,\n",
    "        \"И (A ⋀ B)\": lambda a, b: bool(a and b),\n",
    "        \"A (A)\": lambda a, b: bool(a),\n",
    "        \"B (B)\": lambda a, b: bool(b),\n",
    "        \"XOR (A ⊕ B)\": lambda a, b: bool((a or b) and not (a and b)),\n",
    "        \"ИЛИ (A ⋁ B)\": lambda a, b: bool(a or b),\n",
    "        \"NOR (¬(A ⋁ B))\": lambda a, b: not (a or b),\n",
    "        \"ЭКВ (A ↔ B)\": lambda a, b: not ((a or b) and not (a and b)),\n",
    "        \"НЕ B (¬B)\": lambda a, b: not b,\n",
    "        \"ИМПЛ (A → B)\": lambda a, b: bool((not a) or b),\n",
    "        \"НЕ A (¬A)\": lambda a, b: not a,\n",
    "        \"NAND (¬(A ⋀ B))\": lambda a, b: not (a and b),\n",
    "        \"ИСТ (1)\": lambda a, b: True,\n",
    "    }\n",
    "    return operations"
   ]
  },
  {
   "cell_type": "markdown",
   "metadata": {},
   "source": [
    "Определим валидацию"
   ]
  },
  {
   "cell_type": "code",
   "execution_count": 12,
   "metadata": {},
   "outputs": [],
   "source": [
    "def validate_input(value):\n",
    "    if value not in [0, 1]:\n",
    "        raise ValueError(\"Аргументы должны быть булевыми значениями: 0 или 1\")\n"
   ]
  },
  {
   "cell_type": "markdown",
   "metadata": {},
   "source": [
    "Таблица истинности"
   ]
  },
  {
   "cell_type": "code",
   "execution_count": 13,
   "metadata": {},
   "outputs": [
    {
     "name": "stdout",
     "output_type": "stream",
     "text": [
      "+-----+-----+------------+-------------+---------+---------+---------------+---------------+------------------+---------------+-------------+----------------+-------------+-------------------+-----------+\n",
      "|   A |   B | ЛОЖЬ (0)   | И (A ⋀ B)   | A (A)   | B (B)   | XOR (A ⊕ B)   | ИЛИ (A ⋁ B)   | NOR (¬(A ⋁ B))   | ЭКВ (A ↔ B)   | НЕ B (¬B)   | ИМПЛ (A → B)   | НЕ A (¬A)   | NAND (¬(A ⋀ B))   | ИСТ (1)   |\n",
      "+=====+=====+============+=============+=========+=========+===============+===============+==================+===============+=============+================+=============+===================+===========+\n",
      "|   0 |   0 | False      | False       | False   | False   | False         | False         | True             | True          | True        | True           | True        | True              | True      |\n",
      "+-----+-----+------------+-------------+---------+---------+---------------+---------------+------------------+---------------+-------------+----------------+-------------+-------------------+-----------+\n",
      "|   0 |   1 | False      | False       | False   | True    | True          | True          | False            | False         | False       | True           | True        | True              | True      |\n",
      "+-----+-----+------------+-------------+---------+---------+---------------+---------------+------------------+---------------+-------------+----------------+-------------+-------------------+-----------+\n",
      "|   1 |   0 | False      | False       | True    | False   | True          | True          | False            | False         | True        | False          | False       | True              | True      |\n",
      "+-----+-----+------------+-------------+---------+---------+---------------+---------------+------------------+---------------+-------------+----------------+-------------+-------------------+-----------+\n",
      "|   1 |   1 | False      | True        | True    | True    | False         | True          | False            | True          | False       | True           | False       | False             | True      |\n",
      "+-----+-----+------------+-------------+---------+---------+---------------+---------------+------------------+---------------+-------------+----------------+-------------+-------------------+-----------+\n"
     ]
    }
   ],
   "source": [
    "def truth_table():\n",
    "    operations = boolean_operations()\n",
    "    headers = [\"A\", \"B\"] + list(operations.keys())\n",
    "    table_data = []\n",
    "\n",
    "    for a in [0, 1]:\n",
    "        for b in [0, 1]:\n",
    "            validate_input(a)\n",
    "            validate_input(b)\n",
    "            row = [a, b] + [func(a, b) for func in operations.values()]\n",
    "            table_data.append(row)\n",
    "\n",
    "\n",
    "    table = tabulate(table_data, headers=headers, tablefmt=\"grid\")\n",
    "    print(table)\n",
    "\n",
    "\n",
    "truth_table()\n"
   ]
  }
 ],
 "metadata": {
  "kernelspec": {
   "display_name": "Python 3",
   "language": "python",
   "name": "python3"
  },
  "language_info": {
   "codemirror_mode": {
    "name": "ipython",
    "version": 3
   },
   "file_extension": ".py",
   "mimetype": "text/x-python",
   "name": "python",
   "nbconvert_exporter": "python",
   "pygments_lexer": "ipython3",
   "version": "3.12.4"
  }
 },
 "nbformat": 4,
 "nbformat_minor": 2
}
