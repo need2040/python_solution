{
 "cells": [
  {
   "cell_type": "code",
   "execution_count": 1,
   "metadata": {},
   "outputs": [],
   "source": [
    "import random\n",
    "import pandas as pd\n",
    "from sympy import symbols, Or, And, Not, latex\n"
   ]
  },
  {
   "cell_type": "markdown",
   "metadata": {},
   "source": [
    "Создадим случайную булеву функцию, с n числом аргументов"
   ]
  },
  {
   "cell_type": "code",
   "execution_count": 2,
   "metadata": {},
   "outputs": [],
   "source": [
    "def generate_random_boolean_function(num_args):\n",
    "    num_rows = 2 ** num_args\n",
    "    truth_table = []\n",
    "    for i in range(num_rows):\n",
    "        inputs = [int(x) for x in format(i, f'0{num_args}b')]\n",
    "        output = random.randint(0, 1)\n",
    "        truth_table.append(inputs + [output])\n",
    "    return pd.DataFrame(truth_table, columns=[f'x{i+1}' for i in range(num_args)] + ['f'])"
   ]
  },
  {
   "cell_type": "markdown",
   "metadata": {},
   "source": [
    "Валидация аргументов"
   ]
  },
  {
   "cell_type": "code",
   "execution_count": 3,
   "metadata": {},
   "outputs": [],
   "source": [
    "def validate_num_args(value):\n",
    "    if not isinstance(value, int) or value <= 0:\n",
    "        raise ValueError(\"Неверное значение аргументов\")"
   ]
  },
  {
   "cell_type": "markdown",
   "metadata": {},
   "source": [
    "Конструирование СДНФ СКНФ"
   ]
  },
  {
   "cell_type": "code",
   "execution_count": 4,
   "metadata": {},
   "outputs": [],
   "source": [
    "def construct_sdnf_and_sknf(df):\n",
    "    num_args = len(df.columns) - 1\n",
    "    variables = symbols(f'x1:{num_args+1}')\n",
    "\n",
    "    sdnf_terms = []\n",
    "    for _, row in df.iterrows():\n",
    "        if row['f'] == 1:\n",
    "            term = And(*[var if row[f'x{i+1}'] else Not(var) for i, var in enumerate(variables)])\n",
    "            sdnf_terms.append(term)\n",
    "    sdnf = Or(*sdnf_terms) if sdnf_terms else False\n",
    "\n",
    "    sknf_terms = []\n",
    "    for _, row in df.iterrows():\n",
    "        if row['f'] == 0:\n",
    "            term = Or(*[Not(var) if row[f'x{i+1}'] else var for i, var in enumerate(variables)])\n",
    "            sknf_terms.append(term)\n",
    "    sknf = And(*sknf_terms) if sknf_terms else True\n",
    "\n",
    "    return latex(sdnf), latex(sknf)\n"
   ]
  },
  {
   "cell_type": "markdown",
   "metadata": {},
   "source": [
    "Вывод:"
   ]
  },
  {
   "cell_type": "code",
   "execution_count": 5,
   "metadata": {},
   "outputs": [
    {
     "name": "stdout",
     "output_type": "stream",
     "text": [
      "Таблица истинности\n",
      "   x1  x2  f\n",
      "0   0   0  1\n",
      "1   0   1  1\n",
      "2   1   0  0\n",
      "3   1   1  1\n",
      "\n",
      "СДНФ:\n",
      "\\left(x_{1} \\wedge x_{2}\\right) \\vee \\left(x_{2} \\wedge \\neg x_{1}\\right) \\vee \\left(\\neg x_{1} \\wedge \\neg x_{2}\\right)\n",
      "\n",
      "СДНФ:\n",
      "x_{2} \\vee \\neg x_{1}\n"
     ]
    }
   ],
   "source": [
    "\n",
    "num_args = int(input(\"Введите число аргументов: \"))\n",
    "validate_num_args(num_args)\n",
    "\n",
    "truth_table = generate_random_boolean_function(num_args)\n",
    "print(\"Таблица истинности\")\n",
    "print(truth_table)\n",
    "\n",
    "sdnf_latex, sknf_latex = construct_sdnf_and_sknf(truth_table)\n",
    "print(\"\\nСДНФ:\")\n",
    "print(sdnf_latex)\n",
    "print(\"\\nСДНФ:\")\n",
    "print(sknf_latex)\n"
   ]
  }
 ],
 "metadata": {
  "kernelspec": {
   "display_name": "Python 3",
   "language": "python",
   "name": "python3"
  },
  "language_info": {
   "codemirror_mode": {
    "name": "ipython",
    "version": 3
   },
   "file_extension": ".py",
   "mimetype": "text/x-python",
   "name": "python",
   "nbconvert_exporter": "python",
   "pygments_lexer": "ipython3",
   "version": "3.12.4"
  }
 },
 "nbformat": 4,
 "nbformat_minor": 2
}
