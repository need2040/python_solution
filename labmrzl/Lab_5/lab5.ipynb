{
 "cells": [
  {
   "cell_type": "code",
   "execution_count": 7,
   "id": "594559d4",
   "metadata": {},
   "outputs": [],
   "source": [
    "import torch \n",
    "import torchvision \n",
    "import pytorch_lightning as pl \n",
    "import numpy as np\n",
    "import h5py\n",
    "import cv2\n",
    "import matplotlib.pyplot as plt\n",
    "import os\n",
    "from tqdm import tqdm\n",
    "from torch.utils.data import  IterableDataset, DataLoader\n",
    "import random\n",
    "from torch.utils.data.sampler import WeightedRandomSampler\n",
    "import math\n",
    "import torch.nn as nn\n",
    "import torch.nn.functional as F\n",
    "import tensorboard\n",
    "from torchmetrics import Accuracy\n",
    "from pytorch_lightning import Trainer\n",
    "from pytorch_lightning.loggers import TensorBoardLogger\n",
    "from torchvision import transforms\n",
    "from pytorch_lightning.callbacks import EarlyStopping\n",
    "from sklearn.metrics import confusion_matrix,classification_report, ConfusionMatrixDisplay\n",
    "from tensorboard.backend.event_processing.event_accumulator import EventAccumulator\n",
    "import pandas as pd\n",
    "import matplotlib.pyplot as plt"
   ]
  },
  {
   "cell_type": "code",
   "execution_count": 108,
   "id": "f3f9ba83",
   "metadata": {},
   "outputs": [],
   "source": [
    "img = cv2.imread(\"d:/lab5dataset/Images/train/Angry/0.jpg\", cv2.IMREAD_GRAYSCALE)"
   ]
  },
  {
   "cell_type": "code",
   "execution_count": 109,
   "id": "baf63a37",
   "metadata": {},
   "outputs": [],
   "source": [
    "img = (img/255).astype(np.float32)"
   ]
  },
  {
   "cell_type": "code",
   "execution_count": 110,
   "id": "dff0ce18",
   "metadata": {},
   "outputs": [
    {
     "data": {
      "text/plain": [
       "(48, 48)"
      ]
     },
     "execution_count": 110,
     "metadata": {},
     "output_type": "execute_result"
    }
   ],
   "source": [
    "img.shape"
   ]
  },
  {
   "cell_type": "code",
   "execution_count": 111,
   "id": "c8dc7ceb",
   "metadata": {},
   "outputs": [
    {
     "data": {
      "text/plain": [
       "<matplotlib.image.AxesImage at 0x2261b863bc0>"
      ]
     },
     "execution_count": 111,
     "metadata": {},
     "output_type": "execute_result"
    },
    {
     "data": {
      "image/png": "[encoded data removed]",
      "text/plain": [
       "<Figure size 640x480 with 1 Axes>"
      ]
     },
     "metadata": {},
     "output_type": "display_data"
    }
   ],
   "source": [
    "plt.imshow(img, cmap='gray', vmin=0, vmax=1)"
   ]
  },
  {
   "cell_type": "code",
   "execution_count": 112,
   "id": "b15e8e07",
   "metadata": {},
   "outputs": [],
   "source": [
    "class_info = sorted(\n",
    "            [ d.name for d in os.scandir(\"D:/lab5dataset/Images/train\") if d.is_dir()]\n",
    "        )\n",
    "\n",
    "class_info = dict(enumerate(class_info))"
   ]
  },
  {
   "cell_type": "code",
   "execution_count": 113,
   "id": "a627a5e3",
   "metadata": {},
   "outputs": [
    {
     "data": {
      "text/plain": [
       "{0: 'Angry',\n",
       " 1: 'Disgust',\n",
       " 2: 'Fear',\n",
       " 3: 'Happy',\n",
       " 4: 'Neutral',\n",
       " 5: 'Sad',\n",
       " 6: 'Surprise'}"
      ]
     },
     "execution_count": 113,
     "metadata": {},
     "output_type": "execute_result"
    }
   ],
   "source": [
    "class_info"
   ]
  },
  {
   "cell_type": "code",
   "execution_count": 114,
   "id": "efb83503",
   "metadata": {},
   "outputs": [],
   "source": [
    "train_transform = transforms.Compose([\n",
    "    transforms.ToPILImage(),                   \n",
    "    transforms.Resize((48, 48)),              \n",
    "    transforms.RandomHorizontalFlip(),         \n",
    "    transforms.RandomRotation(20),             \n",
    "    transforms.ColorJitter(brightness=0.2, contrast=0.2, saturation=0.2, hue=0.2), \n",
    "    transforms.ToTensor(),                     \n",
    "    transforms.Normalize(mean=[0.5], std=[0.5]) \n",
    "])\n",
    "\n",
    "val_transform = transforms.Compose([\n",
    "    transforms.ToPILImage(),\n",
    "    transforms.Resize((48, 48)),\n",
    "    transforms.ToTensor(),\n",
    "    transforms.Normalize(mean=[0.5], std=[0.5])\n",
    "])\n"
   ]
  },
  {
   "cell_type": "code",
   "execution_count": 115,
   "id": "a767aa43",
   "metadata": {},
   "outputs": [],
   "source": [
    "class myDataset(IterableDataset):\n",
    "    def __init__(self, root_dir, shuffle=True, transform=None):\n",
    "        super(myDataset).__init__()\n",
    "        self.root_dir = root_dir\n",
    "        self.shuffle = shuffle\n",
    "        self.transform = transform\n",
    "        self.classes = sorted(\n",
    "            [d.name for d in os.scandir(root_dir) if d.is_dir()]\n",
    "        )\n",
    "        self.class_to_idx = {cls: i for i, cls in enumerate(self.classes)}\n",
    "\n",
    "    def _get_file_paths(self):\n",
    "        file_paths = []\n",
    "        for cls in self.classes:\n",
    "            cls_dir = os.path.join(self.root_dir, cls)\n",
    "            if not os.path.isdir(cls_dir):\n",
    "                continue\n",
    "            for file in os.listdir(cls_dir):\n",
    "                file_path = os.path.join(cls_dir, file)\n",
    "                if os.path.isfile(file_path):\n",
    "                    file_paths.append((file_path, cls))\n",
    "\n",
    "        if self.shuffle:\n",
    "            random.shuffle(file_paths)\n",
    "\n",
    "        return file_paths\n",
    "\n",
    "    def __iter__(self):\n",
    "        file_paths = self._get_file_paths()\n",
    "        worker_info = torch.utils.data.get_worker_info()\n",
    "\n",
    "        if worker_info is None:\n",
    "            iter_start = 0\n",
    "            iter_end = len(file_paths)\n",
    "        else:\n",
    "            per_worker = int(math.ceil(len(file_paths) / float(worker_info.num_workers)))\n",
    "            worker_id = worker_info.id\n",
    "            iter_start = worker_id * per_worker\n",
    "            iter_end = min(iter_start + per_worker, len(file_paths))\n",
    "\n",
    "        for img_path, cls in file_paths[iter_start:iter_end]:\n",
    "            img = cv2.imread(img_path, cv2.IMREAD_GRAYSCALE)\n",
    "            img = (img / 255).astype(np.float32)\n",
    "\n",
    "            if self.transform:\n",
    "                img = self.transform(img)\n",
    "\n",
    "            label = self.class_to_idx[cls]\n",
    "            yield img, label"
   ]
  },
  {
   "cell_type": "code",
   "execution_count": null,
   "id": "57804737",
   "metadata": {},
   "outputs": [],
   "source": [
    "class ImageModule (pl.LightningDataModule):\n",
    "    def __init__(self, train_dir, val_dir, test_dir, batch_size, num_workers=8):\n",
    "        super().__init__()\n",
    "        self.train_dir = train_dir\n",
    "        self.val_dir = val_dir\n",
    "        self.test_dir = test_dir\n",
    "        self.batch_size = batch_size\n",
    "        self.num_workers = num_workers\n",
    "\n",
    "    def setup(self, stage=None):\n",
    "        self.train_dataset = myDataset(\n",
    "            root_dir=self.train_dir,\n",
    "            shuffle=True,\n",
    "            transform=train_transform\n",
    "        )\n",
    "\n",
    "        self.val_dataset = myDataset(\n",
    "            root_dir=self.val_dir,\n",
    "            shuffle=True,\n",
    "            transform=val_transform\n",
    "        )\n",
    "\n",
    "        self.test_dataset = myDataset(  #Тестовый датасет был получен из тренировочного\n",
    "            root_dir=self.test_dir,\n",
    "            shuffle=False,\n",
    "            transform=val_transform\n",
    "        )\n",
    "\n",
    "    def train_dataloader(self):\n",
    "        return DataLoader(\n",
    "            self.train_dataset,\n",
    "            batch_size=self.batch_size,\n",
    "            num_workers=self.num_workers,\n",
    "            pin_memory=True,\n",
    "            shuffle=False,\n",
    "        )\n",
    "\n",
    "    def val_dataloader(self):\n",
    "        return DataLoader(\n",
    "            self.val_dataset,\n",
    "            batch_size=self.batch_size,\n",
    "            num_workers=self.num_workers,\n",
    "            pin_memory=True,\n",
    "            shuffle=False\n",
    "        )\n",
    "\n",
    "    def test_dataloader(self):\n",
    "        return DataLoader(\n",
    "            self.test_dataset,\n",
    "            batch_size=self.batch_size,\n",
    "            num_workers=self.num_workers,\n",
    "            pin_memory=True,\n",
    "            shuffle=False\n",
    "        )"
   ]
  },
  {
   "cell_type": "code",
   "execution_count": 117,
   "id": "94b2cb0c",
   "metadata": {},
   "outputs": [],
   "source": [
    "dataset = myDataset(\"D:/lab5dataset/Images/train\")\n"
   ]
  },
  {
   "cell_type": "code",
   "execution_count": 118,
   "id": "792284cd",
   "metadata": {},
   "outputs": [],
   "source": [
    "datas = next(iter(dataset))"
   ]
  },
  {
   "cell_type": "code",
   "execution_count": 119,
   "id": "4485ac7b",
   "metadata": {},
   "outputs": [
    {
     "data": {
      "text/plain": [
       "(array([[0.11372549, 0.10588235, 0.11372549, ..., 0.6901961 , 0.68235296,\n",
       "         0.7176471 ],\n",
       "        [0.08627451, 0.12156863, 0.10588235, ..., 0.6862745 , 0.6784314 ,\n",
       "         0.7254902 ],\n",
       "        [0.10588235, 0.11372549, 0.08627451, ..., 0.68235296, 0.6784314 ,\n",
       "         0.72156864],\n",
       "        ...,\n",
       "        [0.5137255 , 0.48235294, 0.47058824, ..., 0.6862745 , 0.6784314 ,\n",
       "         0.72156864],\n",
       "        [0.5176471 , 0.50980395, 0.47058824, ..., 0.6862745 , 0.6784314 ,\n",
       "         0.72156864],\n",
       "        [0.5372549 , 0.49803922, 0.5019608 , ..., 0.6862745 , 0.6784314 ,\n",
       "         0.72156864]], dtype=float32),\n",
       " 5)"
      ]
     },
     "execution_count": 119,
     "metadata": {},
     "output_type": "execute_result"
    }
   ],
   "source": [
    "datas"
   ]
  },
  {
   "cell_type": "code",
   "execution_count": 120,
   "id": "d2acde8f",
   "metadata": {},
   "outputs": [],
   "source": [
    "batch_size = 128"
   ]
  },
  {
   "cell_type": "code",
   "execution_count": null,
   "id": "979867b9",
   "metadata": {},
   "outputs": [],
   "source": []
  },
  {
   "cell_type": "code",
   "execution_count": 121,
   "id": "5c378d62",
   "metadata": {},
   "outputs": [],
   "source": [
    "\"\"\"\n",
    "\n",
    "\n",
    "(batch_size, 1, 48,48) -> по 32 ядрам - (batch_size, 32, 48,48)\n",
    "maxPool c ядром 2 -> (batch_size, 32, 24,24)\n",
    "\n",
    "дальше аналогично по 64 фичам\n",
    "\n",
    "и по 128 фичам\n",
    "\n",
    "итог - (batch_size, 128,6,6)\n",
    "\n",
    "дальше flatten\n",
    "\n",
    "классификация = кроссэнтрония\n",
    "\n",
    "\n",
    "\"\"\";"
   ]
  },
  {
   "cell_type": "code",
   "execution_count": null,
   "id": "4e8ccad2",
   "metadata": {},
   "outputs": [],
   "source": [
    "class SimpleCNN(pl.LightningModule):\n",
    "    def __init__(self, num_classes=7, learning_rate=1e-3):\n",
    "        super().__init__()\n",
    "        self.save_hyperparameters()\n",
    "        self.learning_rate = learning_rate\n",
    "\n",
    "\n",
    "\n",
    "\n",
    "\n",
    "        self.conv_layers = nn.Sequential(\n",
    "\n",
    "            nn.Conv2d(1, 32, kernel_size=3, padding=1),\n",
    "            nn.BatchNorm2d(32),\n",
    "            nn.ReLU(),\n",
    "            nn.MaxPool2d(2),\n",
    "            \n",
    "\n",
    "            nn.Conv2d(32, 64, kernel_size=3, padding=1),\n",
    "            nn.BatchNorm2d(64),\n",
    "            nn.ReLU(),\n",
    "            nn.MaxPool2d(2),\n",
    "            \n",
    "\n",
    "            nn.Conv2d(64, 128, kernel_size=5, padding=2),\n",
    "            nn.BatchNorm2d(128),\n",
    "            nn.ReLU(),\n",
    "            nn.MaxPool2d(2),\n",
    "            \n",
    "        )\n",
    "\n",
    "        self.fc_layers = nn.Sequential(\n",
    "            nn.Linear(128 * 6 * 6, 512),\n",
    "            nn.ReLU(),\n",
    "            nn.Dropout(0.5),\n",
    "            nn.Linear(512, num_classes)\n",
    "        )\n",
    "\n",
    "\n",
    "        self.val_acc = Accuracy(task=\"multiclass\", num_classes=7)\n",
    "        self.train_acc = Accuracy(task='multiclass', num_classes=7)\n",
    "\n",
    "        self.train_losses = []\n",
    "        self.val_losses = []\n",
    "        self.train_metrics = []\n",
    "        self.val_metrics = []\n",
    "        \n",
    "\n",
    "    def forward(self, x):\n",
    "        x = self.conv_layers(x)\n",
    "        x = x.view(x.size(0), -1)  \n",
    "        x = self.fc_layers(x)\n",
    "        return x\n",
    "\n",
    "    def training_step(self, batch):\n",
    "        x, y = batch\n",
    "        logits = self(x)\n",
    "        loss = F.cross_entropy(logits, y)\n",
    "        acc = self.train_acc(logits, y)\n",
    "\n",
    "        self.train_losses.append(loss.item())\n",
    "        self.train_metrics.append(acc.item())\n",
    "\n",
    "        self.log_dict({\n",
    "            \"training/loss\": loss,\n",
    "            \"training/acc\": acc\n",
    "        })\n",
    "\n",
    "        return loss\n",
    "\n",
    "    def validation_step(self, batch):\n",
    "        x, y = batch\n",
    "        logits = self(x)\n",
    "        loss = F.cross_entropy(logits, y)\n",
    "        acc = self.val_acc(logits, y)\n",
    "\n",
    "        self.val_losses.append(loss.item())\n",
    "        self.val_metrics.append(acc.item())\n",
    "\n",
    "        self.log_dict({\n",
    "            \"val/loss\": loss,\n",
    "            \"val/acc\": acc\n",
    "        })\n",
    "\n",
    "    def test_step(self, batch):\n",
    "        x, y = batch\n",
    "        logits = self(x)\n",
    "        acc = self.test_acc(logits, y)\n",
    "        self.log(\"test/acc\", acc)\n",
    "        return logits, y\n",
    "\n",
    "    def on_train_epoch_end(self):\n",
    "        avg_loss = sum(self.train_losses) / len(self.train_losses)\n",
    "        avg_acc = sum(self.train_metrics) / len(self.train_metrics)\n",
    "\n",
    "\n",
    "        print(f\"Train epoch {self.current_epoch}. Avg Loss: {avg_loss:.4f}, Avg Acc: {avg_acc:.4f}\")\n",
    "        self.train_losses.clear()\n",
    "        self.train_metrics.clear()\n",
    "\n",
    "\n",
    "    def on_validation_epoch_end(self):\n",
    "        avg_loss = sum(self.val_losses) / len(self.val_losses)\n",
    "        avg_acc = sum(self.val_metrics) / len(self.val_metrics)\n",
    "\n",
    "\n",
    "\n",
    "        print(f\"Val epoch {self.current_epoch}. Avg Loss: {avg_loss:.4f}, Avg Acc: {avg_acc:.4f}\")\n",
    "        self.val_losses.clear()\n",
    "        self.val_metrics.clear()\n",
    "\n",
    "\n",
    "\n",
    "\n",
    "    def configure_optimizers(self):\n",
    "        return torch.optim.Adam(self.parameters(), lr=self.hparams.learning_rate)\n"
   ]
  },
  {
   "cell_type": "code",
   "execution_count": 123,
   "id": "a3a07396",
   "metadata": {},
   "outputs": [],
   "source": [
    "datamodule = ImageModule(\n",
    "    train_dir=\"D:/lab5dataset/Images/train\",\n",
    "    val_dir=\"D:/lab5dataset/Images/validation\",\n",
    "    test_dir=\"D:/lab5dataset/Images/test\",\n",
    "    batch_size=128,\n",
    "    num_workers=0\n",
    ")"
   ]
  },
  {
   "cell_type": "code",
   "execution_count": 124,
   "id": "f3f43eca",
   "metadata": {},
   "outputs": [],
   "source": [
    "model = SimpleCNN()"
   ]
  },
  {
   "cell_type": "code",
   "execution_count": 125,
   "id": "ba24fcc3",
   "metadata": {},
   "outputs": [],
   "source": [
    "logger = TensorBoardLogger(\"tensorboardlogs\")"
   ]
  },
  {
   "cell_type": "code",
   "execution_count": null,
   "id": "e524ff04",
   "metadata": {},
   "outputs": [],
   "source": [
    "early_stop_callback = EarlyStopping(\n",
    "    monitor=\"val/loss\",\n",
    "    patience=5,  \n",
    "    verbose=True,\n",
    "    mode=\"min\"\n",
    ")"
   ]
  },
  {
   "cell_type": "code",
   "execution_count": 127,
   "id": "f04d1791",
   "metadata": {},
   "outputs": [
    {
     "name": "stderr",
     "output_type": "stream",
     "text": [
      "GPU available: True (cuda), used: True\n",
      "TPU available: False, using: 0 TPU cores\n",
      "HPU available: False, using: 0 HPUs\n"
     ]
    }
   ],
   "source": [
    "trainer = Trainer(\n",
    "    max_epochs=201,\n",
    "    logger=logger,\n",
    "    accelerator='gpu' if torch.cuda.is_available() else 'cpu',\n",
    "    log_every_n_steps=1,\n",
    "    callbacks=[early_stop_callback]\n",
    ")"
   ]
  },
  {
   "cell_type": "code",
   "execution_count": 128,
   "id": "426aebf3",
   "metadata": {},
   "outputs": [
    {
     "name": "stderr",
     "output_type": "stream",
     "text": [
      "LOCAL_RANK: 0 - CUDA_VISIBLE_DEVICES: [0]\n",
      "\n",
      "  | Name        | Type               | Params | Mode \n",
      "-----------------------------------------------------------\n",
      "0 | augment     | Sequential         | 0      | train\n",
      "1 | conv_layers | Sequential         | 224 K  | train\n",
      "2 | fc_layers   | Sequential         | 2.4 M  | train\n",
      "3 | val_acc     | MulticlassAccuracy | 0      | train\n",
      "4 | train_acc   | MulticlassAccuracy | 0      | train\n",
      "-----------------------------------------------------------\n",
      "2.6 M     Trainable params\n",
      "0         Non-trainable params\n",
      "2.6 M     Total params\n",
      "10.350    Total estimated model params size (MB)\n",
      "25        Modules in train mode\n",
      "0         Modules in eval mode\n"
     ]
    },
    {
     "data": {
      "application/vnd.jupyter.widget-view+json": {
       "model_id": "a421487a0bea416c880157d7918c656f",
       "version_major": 2,
       "version_minor": 0
      },
      "text/plain": [
       "Sanity Checking: |          | 0/? [00:00<?, ?it/s]"
      ]
     },
     "metadata": {},
     "output_type": "display_data"
    },
    {
     "name": "stderr",
     "output_type": "stream",
     "text": [
      "C:\\Users\\Arseny\\AppData\\Roaming\\Python\\Python312\\site-packages\\pytorch_lightning\\trainer\\connectors\\data_connector.py:424: The 'val_dataloader' does not have many workers which may be a bottleneck. Consider increasing the value of the `num_workers` argument` to `num_workers=11` in the `DataLoader` to improve performance.\n"
     ]
    },
    {
     "name": "stdout",
     "output_type": "stream",
     "text": [
      "Val epoch 0. Avg Loss: 1.9549, Avg Acc: 0.1523\n"
     ]
    },
    {
     "name": "stderr",
     "output_type": "stream",
     "text": [
      "C:\\Users\\Arseny\\AppData\\Roaming\\Python\\Python312\\site-packages\\pytorch_lightning\\trainer\\connectors\\data_connector.py:424: The 'train_dataloader' does not have many workers which may be a bottleneck. Consider increasing the value of the `num_workers` argument` to `num_workers=11` in the `DataLoader` to improve performance.\n"
     ]
    },
    {
     "data": {
      "application/vnd.jupyter.widget-view+json": {
       "model_id": "8009a03b1da84aabbd12fe5659fdb022",
       "version_major": 2,
       "version_minor": 0
      },
      "text/plain": [
       "Training: |          | 0/? [00:00<?, ?it/s]"
      ]
     },
     "metadata": {},
     "output_type": "display_data"
    },
    {
     "data": {
      "application/vnd.jupyter.widget-view+json": {
       "model_id": "b739b0c41a404ddabfbbdaaff78b74cd",
       "version_major": 2,
       "version_minor": 0
      },
      "text/plain": [
       "Validation: |          | 0/? [00:00<?, ?it/s]"
      ]
     },
     "metadata": {},
     "output_type": "display_data"
    },
    {
     "name": "stderr",
     "output_type": "stream",
     "text": [
      "Metric val/loss improved. New best score: 1.713\n"
     ]
    },
    {
     "name": "stdout",
     "output_type": "stream",
     "text": [
      "Val epoch 0. Avg Loss: 1.7118, Avg Acc: 0.3073\n",
      "Train epoch 0. Avg Loss: 1.8593, Avg Acc: 0.2519\n"
     ]
    },
    {
     "data": {
      "application/vnd.jupyter.widget-view+json": {
       "model_id": "5c28ca02d160454088df538d77cbce8d",
       "version_major": 2,
       "version_minor": 0
      },
      "text/plain": [
       "Validation: |          | 0/? [00:00<?, ?it/s]"
      ]
     },
     "metadata": {},
     "output_type": "display_data"
    },
    {
     "name": "stderr",
     "output_type": "stream",
     "text": [
      "Metric val/loss improved by 0.144 >= min_delta = 0.0. New best score: 1.569\n"
     ]
    },
    {
     "name": "stdout",
     "output_type": "stream",
     "text": [
      "Val epoch 1. Avg Loss: 1.5613, Avg Acc: 0.3773\n",
      "Train epoch 1. Avg Loss: 1.6543, Avg Acc: 0.3382\n"
     ]
    },
    {
     "data": {
      "application/vnd.jupyter.widget-view+json": {
       "model_id": "6618f50a61bf404a9d3c91f8f5984c27",
       "version_major": 2,
       "version_minor": 0
      },
      "text/plain": [
       "Validation: |          | 0/? [00:00<?, ?it/s]"
      ]
     },
     "metadata": {},
     "output_type": "display_data"
    },
    {
     "name": "stderr",
     "output_type": "stream",
     "text": [
      "Metric val/loss improved by 0.045 >= min_delta = 0.0. New best score: 1.524\n"
     ]
    },
    {
     "name": "stdout",
     "output_type": "stream",
     "text": [
      "Val epoch 2. Avg Loss: 1.5185, Avg Acc: 0.4084\n",
      "Train epoch 2. Avg Loss: 1.5452, Avg Acc: 0.3947\n"
     ]
    },
    {
     "data": {
      "application/vnd.jupyter.widget-view+json": {
       "model_id": "151c39b06ee9443ebccd6e4aaba8a5ef",
       "version_major": 2,
       "version_minor": 0
      },
      "text/plain": [
       "Validation: |          | 0/? [00:00<?, ?it/s]"
      ]
     },
     "metadata": {},
     "output_type": "display_data"
    },
    {
     "name": "stderr",
     "output_type": "stream",
     "text": [
      "Metric val/loss improved by 0.015 >= min_delta = 0.0. New best score: 1.509\n"
     ]
    },
    {
     "name": "stdout",
     "output_type": "stream",
     "text": [
      "Val epoch 3. Avg Loss: 1.4961, Avg Acc: 0.4399\n",
      "Train epoch 3. Avg Loss: 1.4915, Avg Acc: 0.4195\n"
     ]
    },
    {
     "data": {
      "application/vnd.jupyter.widget-view+json": {
       "model_id": "73281ecdf9af48b5b3ab52aa31ba7756",
       "version_major": 2,
       "version_minor": 0
      },
      "text/plain": [
       "Validation: |          | 0/? [00:00<?, ?it/s]"
      ]
     },
     "metadata": {},
     "output_type": "display_data"
    },
    {
     "name": "stdout",
     "output_type": "stream",
     "text": [
      "Val epoch 4. Avg Loss: 1.4926, Avg Acc: 0.4484\n",
      "Train epoch 4. Avg Loss: 1.4500, Avg Acc: 0.4352\n"
     ]
    },
    {
     "data": {
      "application/vnd.jupyter.widget-view+json": {
       "model_id": "7fa3ad2754214d698b981bc0713aab77",
       "version_major": 2,
       "version_minor": 0
      },
      "text/plain": [
       "Validation: |          | 0/? [00:00<?, ?it/s]"
      ]
     },
     "metadata": {},
     "output_type": "display_data"
    },
    {
     "name": "stdout",
     "output_type": "stream",
     "text": [
      "Val epoch 5. Avg Loss: 1.5224, Avg Acc: 0.4517\n",
      "Train epoch 5. Avg Loss: 1.4250, Avg Acc: 0.4472\n"
     ]
    },
    {
     "data": {
      "application/vnd.jupyter.widget-view+json": {
       "model_id": "62a4a88f837b40a68377b9c6f6746831",
       "version_major": 2,
       "version_minor": 0
      },
      "text/plain": [
       "Validation: |          | 0/? [00:00<?, ?it/s]"
      ]
     },
     "metadata": {},
     "output_type": "display_data"
    },
    {
     "name": "stderr",
     "output_type": "stream",
     "text": [
      "Metric val/loss improved by 0.030 >= min_delta = 0.0. New best score: 1.479\n"
     ]
    },
    {
     "name": "stdout",
     "output_type": "stream",
     "text": [
      "Val epoch 6. Avg Loss: 1.4604, Avg Acc: 0.4637\n",
      "Train epoch 6. Avg Loss: 1.3956, Avg Acc: 0.4575\n"
     ]
    },
    {
     "data": {
      "application/vnd.jupyter.widget-view+json": {
       "model_id": "20975825b74e443c9722874d7cbddc94",
       "version_major": 2,
       "version_minor": 0
      },
      "text/plain": [
       "Validation: |          | 0/? [00:00<?, ?it/s]"
      ]
     },
     "metadata": {},
     "output_type": "display_data"
    },
    {
     "name": "stderr",
     "output_type": "stream",
     "text": [
      "Metric val/loss improved by 0.008 >= min_delta = 0.0. New best score: 1.471\n"
     ]
    },
    {
     "name": "stdout",
     "output_type": "stream",
     "text": [
      "Val epoch 7. Avg Loss: 1.4917, Avg Acc: 0.4440\n",
      "Train epoch 7. Avg Loss: 1.3807, Avg Acc: 0.4650\n"
     ]
    },
    {
     "data": {
      "application/vnd.jupyter.widget-view+json": {
       "model_id": "7713c55629b84d99b856d9e31c481945",
       "version_major": 2,
       "version_minor": 0
      },
      "text/plain": [
       "Validation: |          | 0/? [00:00<?, ?it/s]"
      ]
     },
     "metadata": {},
     "output_type": "display_data"
    },
    {
     "name": "stdout",
     "output_type": "stream",
     "text": [
      "Val epoch 8. Avg Loss: 1.4793, Avg Acc: 0.4452\n",
      "Train epoch 8. Avg Loss: 1.3625, Avg Acc: 0.4746\n"
     ]
    },
    {
     "data": {
      "application/vnd.jupyter.widget-view+json": {
       "model_id": "01fd40b0e082468faa86d2e157166ac1",
       "version_major": 2,
       "version_minor": 0
      },
      "text/plain": [
       "Validation: |          | 0/? [00:00<?, ?it/s]"
      ]
     },
     "metadata": {},
     "output_type": "display_data"
    },
    {
     "name": "stdout",
     "output_type": "stream",
     "text": [
      "Val epoch 9. Avg Loss: 1.4803, Avg Acc: 0.4827\n",
      "Train epoch 9. Avg Loss: 1.3432, Avg Acc: 0.4815\n"
     ]
    },
    {
     "data": {
      "application/vnd.jupyter.widget-view+json": {
       "model_id": "1aedf0690f1348c994caed20a5878d42",
       "version_major": 2,
       "version_minor": 0
      },
      "text/plain": [
       "Validation: |          | 0/? [00:00<?, ?it/s]"
      ]
     },
     "metadata": {},
     "output_type": "display_data"
    },
    {
     "name": "stderr",
     "output_type": "stream",
     "text": [
      "Metric val/loss improved by 0.038 >= min_delta = 0.0. New best score: 1.433\n"
     ]
    },
    {
     "name": "stdout",
     "output_type": "stream",
     "text": [
      "Val epoch 10. Avg Loss: 1.4101, Avg Acc: 0.4762\n",
      "Train epoch 10. Avg Loss: 1.3210, Avg Acc: 0.4934\n"
     ]
    },
    {
     "data": {
      "application/vnd.jupyter.widget-view+json": {
       "model_id": "1bdb636f7d534a0aa010ff89174429ef",
       "version_major": 2,
       "version_minor": 0
      },
      "text/plain": [
       "Validation: |          | 0/? [00:00<?, ?it/s]"
      ]
     },
     "metadata": {},
     "output_type": "display_data"
    },
    {
     "name": "stdout",
     "output_type": "stream",
     "text": [
      "Val epoch 11. Avg Loss: 1.4787, Avg Acc: 0.4896\n",
      "Train epoch 11. Avg Loss: 1.3096, Avg Acc: 0.4929\n"
     ]
    },
    {
     "data": {
      "application/vnd.jupyter.widget-view+json": {
       "model_id": "e8a7c85d8f9047feb7192790556f001b",
       "version_major": 2,
       "version_minor": 0
      },
      "text/plain": [
       "Validation: |          | 0/? [00:00<?, ?it/s]"
      ]
     },
     "metadata": {},
     "output_type": "display_data"
    },
    {
     "name": "stderr",
     "output_type": "stream",
     "text": [
      "Metric val/loss improved by 0.021 >= min_delta = 0.0. New best score: 1.412\n"
     ]
    },
    {
     "name": "stdout",
     "output_type": "stream",
     "text": [
      "Val epoch 12. Avg Loss: 1.3920, Avg Acc: 0.4900\n",
      "Train epoch 12. Avg Loss: 1.2926, Avg Acc: 0.5015\n"
     ]
    },
    {
     "data": {
      "application/vnd.jupyter.widget-view+json": {
       "model_id": "d6625f83a2724df683710da740fe04d7",
       "version_major": 2,
       "version_minor": 0
      },
      "text/plain": [
       "Validation: |          | 0/? [00:00<?, ?it/s]"
      ]
     },
     "metadata": {},
     "output_type": "display_data"
    },
    {
     "name": "stdout",
     "output_type": "stream",
     "text": [
      "Val epoch 13. Avg Loss: 1.4302, Avg Acc: 0.4947\n",
      "Train epoch 13. Avg Loss: 1.2807, Avg Acc: 0.5108\n"
     ]
    },
    {
     "data": {
      "application/vnd.jupyter.widget-view+json": {
       "model_id": "27b4ed164e0e4282bcbde31322dd2de4",
       "version_major": 2,
       "version_minor": 0
      },
      "text/plain": [
       "Validation: |          | 0/? [00:00<?, ?it/s]"
      ]
     },
     "metadata": {},
     "output_type": "display_data"
    },
    {
     "name": "stdout",
     "output_type": "stream",
     "text": [
      "Val epoch 14. Avg Loss: 1.4736, Avg Acc: 0.4904\n",
      "Train epoch 14. Avg Loss: 1.2693, Avg Acc: 0.5136\n"
     ]
    },
    {
     "data": {
      "application/vnd.jupyter.widget-view+json": {
       "model_id": "ad024e7914884eb493cd935046c0c117",
       "version_major": 2,
       "version_minor": 0
      },
      "text/plain": [
       "Validation: |          | 0/? [00:00<?, ?it/s]"
      ]
     },
     "metadata": {},
     "output_type": "display_data"
    },
    {
     "name": "stdout",
     "output_type": "stream",
     "text": [
      "Val epoch 15. Avg Loss: 1.5197, Avg Acc: 0.4979\n",
      "Train epoch 15. Avg Loss: 1.2604, Avg Acc: 0.5142\n"
     ]
    },
    {
     "data": {
      "application/vnd.jupyter.widget-view+json": {
       "model_id": "25ccde387e6247cf8676e16ab1928173",
       "version_major": 2,
       "version_minor": 0
      },
      "text/plain": [
       "Validation: |          | 0/? [00:00<?, ?it/s]"
      ]
     },
     "metadata": {},
     "output_type": "display_data"
    },
    {
     "name": "stdout",
     "output_type": "stream",
     "text": [
      "Val epoch 16. Avg Loss: 1.4546, Avg Acc: 0.5059\n",
      "Train epoch 16. Avg Loss: 1.2554, Avg Acc: 0.5172\n"
     ]
    },
    {
     "data": {
      "application/vnd.jupyter.widget-view+json": {
       "model_id": "306baa9314ee47d0810949260545b439",
       "version_major": 2,
       "version_minor": 0
      },
      "text/plain": [
       "Validation: |          | 0/? [00:00<?, ?it/s]"
      ]
     },
     "metadata": {},
     "output_type": "display_data"
    },
    {
     "name": "stderr",
     "output_type": "stream",
     "text": [
      "Monitored metric val/loss did not improve in the last 5 records. Best score: 1.412. Signaling Trainer to stop.\n"
     ]
    },
    {
     "name": "stdout",
     "output_type": "stream",
     "text": [
      "Val epoch 17. Avg Loss: 1.4476, Avg Acc: 0.4992\n",
      "Train epoch 17. Avg Loss: 1.2429, Avg Acc: 0.5208\n"
     ]
    }
   ],
   "source": [
    "trainer.fit(model, datamodule=datamodule)"
   ]
  },
  {
   "cell_type": "code",
   "execution_count": null,
   "id": "23d06174",
   "metadata": {},
   "outputs": [],
   "source": [
    "#model = SimpleCNN.load_from_checkpoint('tensorboardlogs/lightning_logs/version_1/checkpoints/epoch=17-step=4032.ckpt')"
   ]
  },
  {
   "cell_type": "code",
   "execution_count": 152,
   "id": "65ee281b",
   "metadata": {},
   "outputs": [],
   "source": [
    "def plot_confusion_matrix(model, datamodule):\n",
    "    model.eval()\n",
    "    device = torch.device(\"cuda\" if torch.cuda.is_available() else \"cpu\")\n",
    "    model = model.to(device)\n",
    "    preds = []\n",
    "    targets = []\n",
    "\n",
    "    test_loader = datamodule.test_dataloader()\n",
    "\n",
    "    with torch.no_grad():\n",
    "        for x, y in test_loader:\n",
    "            x = x.cuda() if torch.cuda.is_available() else x\n",
    "            y = y.cuda() if torch.cuda.is_available() else y\n",
    "            logits = model(x)\n",
    "            pred = torch.argmax(logits, dim=1)\n",
    "            preds.append(pred.cpu().numpy())\n",
    "            targets.append(y.cpu().numpy())\n",
    "\n",
    "    preds = np.concatenate(preds)\n",
    "    targets = np.concatenate(targets)\n",
    "\n",
    "    cm = confusion_matrix(targets, preds)\n",
    "    cm = confusion_matrix(targets, preds)\n",
    "    disp = ConfusionMatrixDisplay(confusion_matrix=cm, display_labels=list(class_info.values()))\n",
    "    disp.plot(cmap='Blues')\n",
    "    plt.title(\"Confusion Matrix\")\n",
    "    plt.show()"
   ]
  },
  {
   "cell_type": "code",
   "execution_count": 153,
   "id": "e9696de7",
   "metadata": {},
   "outputs": [],
   "source": [
    "\n",
    "def print_classification_report(model, datamodule, class_info):\n",
    "    model.eval()\n",
    "    device = torch.device(\"cuda\" if torch.cuda.is_available() else \"cpu\")\n",
    "    model = model.to(device)\n",
    "    preds = []\n",
    "    targets = []\n",
    "    \n",
    "\n",
    "    test_loader = datamodule.test_dataloader()\n",
    "\n",
    "    with torch.no_grad():\n",
    "        for x, y in test_loader:\n",
    "            x = x.cuda() if torch.cuda.is_available() else x\n",
    "            y = y.cuda() if torch.cuda.is_available() else y\n",
    "            logits = model(x)\n",
    "            pred = torch.argmax(logits, dim=1)\n",
    "            preds.append(pred.cpu().numpy())\n",
    "            targets.append(y.cpu().numpy())\n",
    "\n",
    "    preds = np.concatenate(preds)\n",
    "    targets = np.concatenate(targets)\n",
    "\n",
    "    print(classification_report(targets, preds, target_names=list(class_info.values())))\n"
   ]
  },
  {
   "cell_type": "code",
   "execution_count": 154,
   "id": "c44da083",
   "metadata": {},
   "outputs": [
    {
     "data": {
      "image/png": "[encoded data removed]",
      "text/plain": [
       "<Figure size 640x480 with 2 Axes>"
      ]
     },
     "metadata": {},
     "output_type": "display_data"
    }
   ],
   "source": [
    "plot_confusion_matrix(model, datamodule)"
   ]
  },
  {
   "cell_type": "code",
   "execution_count": 155,
   "id": "374311e8",
   "metadata": {},
   "outputs": [
    {
     "name": "stdout",
     "output_type": "stream",
     "text": [
      "              precision    recall  f1-score   support\n",
      "\n",
      "       Angry       0.33      0.62      0.43         8\n",
      "     Disgust       0.00      0.00      0.00         8\n",
      "        Fear       0.33      0.12      0.18         8\n",
      "       Happy       0.86      0.75      0.80         8\n",
      "     Neutral       0.86      0.75      0.80         8\n",
      "         Sad       0.46      0.75      0.57         8\n",
      "    Surprise       0.73      1.00      0.84         8\n",
      "\n",
      "    accuracy                           0.57        56\n",
      "   macro avg       0.51      0.57      0.52        56\n",
      "weighted avg       0.51      0.57      0.52        56\n",
      "\n"
     ]
    },
    {
     "name": "stderr",
     "output_type": "stream",
     "text": [
      "C:\\Users\\Arseny\\AppData\\Roaming\\Python\\Python312\\site-packages\\sklearn\\metrics\\_classification.py:1531: UndefinedMetricWarning: Precision is ill-defined and being set to 0.0 in labels with no predicted samples. Use `zero_division` parameter to control this behavior.\n",
      "  _warn_prf(average, modifier, f\"{metric.capitalize()} is\", len(result))\n",
      "C:\\Users\\Arseny\\AppData\\Roaming\\Python\\Python312\\site-packages\\sklearn\\metrics\\_classification.py:1531: UndefinedMetricWarning: Precision is ill-defined and being set to 0.0 in labels with no predicted samples. Use `zero_division` parameter to control this behavior.\n",
      "  _warn_prf(average, modifier, f\"{metric.capitalize()} is\", len(result))\n",
      "C:\\Users\\Arseny\\AppData\\Roaming\\Python\\Python312\\site-packages\\sklearn\\metrics\\_classification.py:1531: UndefinedMetricWarning: Precision is ill-defined and being set to 0.0 in labels with no predicted samples. Use `zero_division` parameter to control this behavior.\n",
      "  _warn_prf(average, modifier, f\"{metric.capitalize()} is\", len(result))\n"
     ]
    }
   ],
   "source": [
    "print_classification_report(model, datamodule, class_info)"
   ]
  },
  {
   "cell_type": "code",
   "execution_count": 2,
   "id": "e29c4036",
   "metadata": {},
   "outputs": [
    {
     "data": {
      "text/plain": [
       "<tensorboard.backend.event_processing.event_accumulator.EventAccumulator at 0x21ca7c37200>"
      ]
     },
     "execution_count": 2,
     "metadata": {},
     "output_type": "execute_result"
    }
   ],
   "source": [
    "event_acc = EventAccumulator('tensorboardlogs/lightning_logs/version_1') \n",
    "event_acc.Reload()"
   ]
  },
  {
   "cell_type": "code",
   "execution_count": 3,
   "id": "a11f050d",
   "metadata": {},
   "outputs": [],
   "source": [
    "train_loss_data  = event_acc.Scalars('training/loss')  \n",
    "train_acc_data = event_acc.Scalars('training/acc')\n",
    "val_loss_data = event_acc.Scalars('val/loss')\n",
    "val_acc_data = event_acc.Scalars('val/acc')"
   ]
  },
  {
   "cell_type": "code",
   "execution_count": 6,
   "id": "8567ce10",
   "metadata": {},
   "outputs": [],
   "source": [
    "df_trloss = pd.DataFrame([(x.step, x.value) for x in train_loss_data], columns=['step', 'tr_loss'])\n",
    "df_tracc = pd.DataFrame([(x.step, x.value) for x in train_acc_data], columns=['step', 'tr_accuracy'])\n",
    "df_valloss = pd.DataFrame([(x.step, x.value) for x in val_loss_data], columns=['step', 'val_loss'])\n",
    "df_valacc = pd.DataFrame([(x.step, x.value) for x in val_acc_data], columns=['step', 'val_accuracy'])"
   ]
  },
  {
   "cell_type": "code",
   "execution_count": 16,
   "id": "bc40b118",
   "metadata": {},
   "outputs": [
    {
     "data": {
      "image/png": "[encoded data removed]",
      "text/plain": [
       "<Figure size 1600x1200 with 4 Axes>"
      ]
     },
     "metadata": {},
     "output_type": "display_data"
    }
   ],
   "source": [
    "fig, ((ax1,ax2),(ax3,ax4)) = plt.subplots(2,2, figsize = (16,12)) #Все логи и графики можно посмотреть через tensorboard\n",
    "ax1.plot(df_trloss['step'],df_trloss['tr_loss'], label = \"train_loss\")\n",
    "ax1.set_title('Train_loss')\n",
    "ax2.plot(df_tracc['step'],df_tracc['tr_accuracy'])\n",
    "ax2.set_title('Train_acc')\n",
    "ax3.plot(df_valloss['step'],df_valloss['val_loss'])\n",
    "ax3.set_title('Val_loss')\n",
    "ax4.plot(df_valacc['step'],df_valacc['val_accuracy'])\n",
    "ax4.set_title('Val_acc')\n",
    "plt.show()"
   ]
  }
 ],
 "metadata": {
  "kernelspec": {
   "display_name": "Python 3",
   "language": "python",
   "name": "python3"
  },
  "language_info": {
   "codemirror_mode": {
    "name": "ipython",
    "version": 3
   },
   "file_extension": ".py",
   "mimetype": "text/x-python",
   "name": "python",
   "nbconvert_exporter": "python",
   "pygments_lexer": "ipython3",
   "version": "3.12.7"
  }
 },
 "nbformat": 4,
 "nbformat_minor": 5
}
