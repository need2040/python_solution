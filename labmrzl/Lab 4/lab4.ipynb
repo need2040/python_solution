{
 "cells": [
  {
   "cell_type": "code",
   "execution_count": 62,
   "metadata": {},
   "outputs": [],
   "source": [
    "import torch\n",
    "import numpy as np\n",
    "import pandas as pd\n",
    "import lightning as L\n",
    "import torch.nn as nn\n",
    "import torch.nn.functional as F\n",
    "import sklearn\n",
    "import sklearn.preprocessing\n",
    "from sklearn.model_selection import train_test_split\n",
    "import torch.utils\n",
    "from torch.utils.data import Dataset, DataLoader\n",
    "from tqdm.auto import tqdm\n",
    "from sklearn.metrics import accuracy_score, precision_score, recall_score, f1_score"
   ]
  },
  {
   "cell_type": "code",
   "execution_count": 63,
   "metadata": {},
   "outputs": [],
   "source": [
    "if (torch.cuda.is_available()):\n",
    "    device = torch.device('cuda')\n",
    "else:\n",
    "    device = torch.device('cpu')"
   ]
  },
  {
   "cell_type": "code",
   "execution_count": 64,
   "metadata": {},
   "outputs": [],
   "source": [
    "data = pd.read_csv(\"C:/Users/Arseny/Downloads/creditcard_2023.csv\")\n"
   ]
  },
  {
   "cell_type": "code",
   "execution_count": 65,
   "metadata": {},
   "outputs": [
    {
     "data": {
      "text/html": [
       "<div>\n",
       "<style scoped>\n",
       "    .dataframe tbody tr th:only-of-type {\n",
       "        vertical-align: middle;\n",
       "    }\n",
       "\n",
       "    .dataframe tbody tr th {\n",
       "        vertical-align: top;\n",
       "    }\n",
       "\n",
       "    .dataframe thead th {\n",
       "        text-align: right;\n",
       "    }\n",
       "</style>\n",
       "<table border=\"1\" class=\"dataframe\">\n",
       "  <thead>\n",
       "    <tr style=\"text-align: right;\">\n",
       "      <th></th>\n",
       "      <th>id</th>\n",
       "      <th>V1</th>\n",
       "      <th>V2</th>\n",
       "      <th>V3</th>\n",
       "      <th>V4</th>\n",
       "      <th>V5</th>\n",
       "      <th>V6</th>\n",
       "      <th>V7</th>\n",
       "      <th>V8</th>\n",
       "      <th>V9</th>\n",
       "      <th>...</th>\n",
       "      <th>V21</th>\n",
       "      <th>V22</th>\n",
       "      <th>V23</th>\n",
       "      <th>V24</th>\n",
       "      <th>V25</th>\n",
       "      <th>V26</th>\n",
       "      <th>V27</th>\n",
       "      <th>V28</th>\n",
       "      <th>Amount</th>\n",
       "      <th>Class</th>\n",
       "    </tr>\n",
       "  </thead>\n",
       "  <tbody>\n",
       "    <tr>\n",
       "      <th>0</th>\n",
       "      <td>0</td>\n",
       "      <td>-0.260648</td>\n",
       "      <td>-0.469648</td>\n",
       "      <td>2.496266</td>\n",
       "      <td>-0.083724</td>\n",
       "      <td>0.129681</td>\n",
       "      <td>0.732898</td>\n",
       "      <td>0.519014</td>\n",
       "      <td>-0.130006</td>\n",
       "      <td>0.727159</td>\n",
       "      <td>...</td>\n",
       "      <td>-0.110552</td>\n",
       "      <td>0.217606</td>\n",
       "      <td>-0.134794</td>\n",
       "      <td>0.165959</td>\n",
       "      <td>0.126280</td>\n",
       "      <td>-0.434824</td>\n",
       "      <td>-0.081230</td>\n",
       "      <td>-0.151045</td>\n",
       "      <td>17982.10</td>\n",
       "      <td>0</td>\n",
       "    </tr>\n",
       "    <tr>\n",
       "      <th>1</th>\n",
       "      <td>1</td>\n",
       "      <td>0.985100</td>\n",
       "      <td>-0.356045</td>\n",
       "      <td>0.558056</td>\n",
       "      <td>-0.429654</td>\n",
       "      <td>0.277140</td>\n",
       "      <td>0.428605</td>\n",
       "      <td>0.406466</td>\n",
       "      <td>-0.133118</td>\n",
       "      <td>0.347452</td>\n",
       "      <td>...</td>\n",
       "      <td>-0.194936</td>\n",
       "      <td>-0.605761</td>\n",
       "      <td>0.079469</td>\n",
       "      <td>-0.577395</td>\n",
       "      <td>0.190090</td>\n",
       "      <td>0.296503</td>\n",
       "      <td>-0.248052</td>\n",
       "      <td>-0.064512</td>\n",
       "      <td>6531.37</td>\n",
       "      <td>0</td>\n",
       "    </tr>\n",
       "    <tr>\n",
       "      <th>2</th>\n",
       "      <td>2</td>\n",
       "      <td>-0.260272</td>\n",
       "      <td>-0.949385</td>\n",
       "      <td>1.728538</td>\n",
       "      <td>-0.457986</td>\n",
       "      <td>0.074062</td>\n",
       "      <td>1.419481</td>\n",
       "      <td>0.743511</td>\n",
       "      <td>-0.095576</td>\n",
       "      <td>-0.261297</td>\n",
       "      <td>...</td>\n",
       "      <td>-0.005020</td>\n",
       "      <td>0.702906</td>\n",
       "      <td>0.945045</td>\n",
       "      <td>-1.154666</td>\n",
       "      <td>-0.605564</td>\n",
       "      <td>-0.312895</td>\n",
       "      <td>-0.300258</td>\n",
       "      <td>-0.244718</td>\n",
       "      <td>2513.54</td>\n",
       "      <td>0</td>\n",
       "    </tr>\n",
       "    <tr>\n",
       "      <th>3</th>\n",
       "      <td>3</td>\n",
       "      <td>-0.152152</td>\n",
       "      <td>-0.508959</td>\n",
       "      <td>1.746840</td>\n",
       "      <td>-1.090178</td>\n",
       "      <td>0.249486</td>\n",
       "      <td>1.143312</td>\n",
       "      <td>0.518269</td>\n",
       "      <td>-0.065130</td>\n",
       "      <td>-0.205698</td>\n",
       "      <td>...</td>\n",
       "      <td>-0.146927</td>\n",
       "      <td>-0.038212</td>\n",
       "      <td>-0.214048</td>\n",
       "      <td>-1.893131</td>\n",
       "      <td>1.003963</td>\n",
       "      <td>-0.515950</td>\n",
       "      <td>-0.165316</td>\n",
       "      <td>0.048424</td>\n",
       "      <td>5384.44</td>\n",
       "      <td>0</td>\n",
       "    </tr>\n",
       "    <tr>\n",
       "      <th>4</th>\n",
       "      <td>4</td>\n",
       "      <td>-0.206820</td>\n",
       "      <td>-0.165280</td>\n",
       "      <td>1.527053</td>\n",
       "      <td>-0.448293</td>\n",
       "      <td>0.106125</td>\n",
       "      <td>0.530549</td>\n",
       "      <td>0.658849</td>\n",
       "      <td>-0.212660</td>\n",
       "      <td>1.049921</td>\n",
       "      <td>...</td>\n",
       "      <td>-0.106984</td>\n",
       "      <td>0.729727</td>\n",
       "      <td>-0.161666</td>\n",
       "      <td>0.312561</td>\n",
       "      <td>-0.414116</td>\n",
       "      <td>1.071126</td>\n",
       "      <td>0.023712</td>\n",
       "      <td>0.419117</td>\n",
       "      <td>14278.97</td>\n",
       "      <td>0</td>\n",
       "    </tr>\n",
       "  </tbody>\n",
       "</table>\n",
       "<p>5 rows × 31 columns</p>\n",
       "</div>"
      ],
      "text/plain": [
       "   id        V1        V2        V3        V4        V5        V6        V7  \\\n",
       "0   0 -0.260648 -0.469648  2.496266 -0.083724  0.129681  0.732898  0.519014   \n",
       "1   1  0.985100 -0.356045  0.558056 -0.429654  0.277140  0.428605  0.406466   \n",
       "2   2 -0.260272 -0.949385  1.728538 -0.457986  0.074062  1.419481  0.743511   \n",
       "3   3 -0.152152 -0.508959  1.746840 -1.090178  0.249486  1.143312  0.518269   \n",
       "4   4 -0.206820 -0.165280  1.527053 -0.448293  0.106125  0.530549  0.658849   \n",
       "\n",
       "         V8        V9  ...       V21       V22       V23       V24       V25  \\\n",
       "0 -0.130006  0.727159  ... -0.110552  0.217606 -0.134794  0.165959  0.126280   \n",
       "1 -0.133118  0.347452  ... -0.194936 -0.605761  0.079469 -0.577395  0.190090   \n",
       "2 -0.095576 -0.261297  ... -0.005020  0.702906  0.945045 -1.154666 -0.605564   \n",
       "3 -0.065130 -0.205698  ... -0.146927 -0.038212 -0.214048 -1.893131  1.003963   \n",
       "4 -0.212660  1.049921  ... -0.106984  0.729727 -0.161666  0.312561 -0.414116   \n",
       "\n",
       "        V26       V27       V28    Amount  Class  \n",
       "0 -0.434824 -0.081230 -0.151045  17982.10      0  \n",
       "1  0.296503 -0.248052 -0.064512   6531.37      0  \n",
       "2 -0.312895 -0.300258 -0.244718   2513.54      0  \n",
       "3 -0.515950 -0.165316  0.048424   5384.44      0  \n",
       "4  1.071126  0.023712  0.419117  14278.97      0  \n",
       "\n",
       "[5 rows x 31 columns]"
      ]
     },
     "execution_count": 65,
     "metadata": {},
     "output_type": "execute_result"
    }
   ],
   "source": [
    "data.head()"
   ]
  },
  {
   "cell_type": "code",
   "execution_count": 66,
   "metadata": {},
   "outputs": [],
   "source": [
    "AmountScaler = sklearn.preprocessing.MinMaxScaler(feature_range=(-1,1))"
   ]
  },
  {
   "cell_type": "code",
   "execution_count": 67,
   "metadata": {},
   "outputs": [],
   "source": [
    "X = data.drop(columns=['id', 'Class'])\n",
    "y = data['Class'].to_numpy().reshape(-1,1)"
   ]
  },
  {
   "cell_type": "code",
   "execution_count": 68,
   "metadata": {},
   "outputs": [],
   "source": [
    "X_scaled = AmountScaler.fit_transform(X)"
   ]
  },
  {
   "cell_type": "code",
   "execution_count": 69,
   "metadata": {},
   "outputs": [],
   "source": [
    "X_train, X_test, y_train, y_test = train_test_split(X_scaled, y, test_size=0.2, shuffle=True)"
   ]
  },
  {
   "cell_type": "code",
   "execution_count": 70,
   "metadata": {},
   "outputs": [],
   "source": [
    "class MyDataset(Dataset):\n",
    "    def __init__(self, x, y):\n",
    "        super().__init__()\n",
    "        self.x = torch.tensor(x, dtype= torch.float32, device=device)\n",
    "        self.y = torch.tensor(y, dtype=torch.float32, device=device)\n",
    "\n",
    "    def __len__(self):\n",
    "        return len(self.x)\n",
    "    \n",
    "    def __getitem__(self, index):\n",
    "        return self.x[index], self.y[index]"
   ]
  },
  {
   "cell_type": "code",
   "execution_count": 71,
   "metadata": {},
   "outputs": [],
   "source": [
    "train_data = MyDataset(X_train, y_train)\n",
    "test_data = MyDataset(X_test, y_test)"
   ]
  },
  {
   "cell_type": "code",
   "execution_count": null,
   "metadata": {},
   "outputs": [],
   "source": [
    "batch_size = 256\n",
    "testloader = DataLoader(test_data, batch_size=batch_size, shuffle = False)\n",
    "trainloader = DataLoader(train_data, batch_size=batch_size, shuffle = True, drop_last=True)"
   ]
  },
  {
   "cell_type": "code",
   "execution_count": 73,
   "metadata": {},
   "outputs": [],
   "source": [
    "input_size = len(X.values[0])"
   ]
  },
  {
   "cell_type": "code",
   "execution_count": 74,
   "metadata": {},
   "outputs": [],
   "source": [
    "class LinearNet(nn.Module):\n",
    "    def __init__(self, input_size):\n",
    "        super(LinearNet,self).__init__()\n",
    "        self.layers = nn.Sequential(\n",
    "        nn.Linear(input_size,128),\n",
    "        nn.ReLU(),\n",
    "        nn.Linear(128, 1),\n",
    "        nn.Sigmoid()\n",
    "        )\n",
    "        \n",
    "    def forward(self, x):\n",
    "        return  self.layers(x)"
   ]
  },
  {
   "cell_type": "code",
   "execution_count": 75,
   "metadata": {},
   "outputs": [],
   "source": [
    "model = LinearNet(input_size=input_size).to(device)\n",
    "criterion = nn.BCELoss()\n",
    "optimizer = torch.optim.Adam(model.parameters(), lr=0.005)"
   ]
  },
  {
   "cell_type": "code",
   "execution_count": 76,
   "metadata": {},
   "outputs": [
    {
     "data": {
      "application/vnd.jupyter.widget-view+json": {
       "model_id": "ad789d0e33ba4ef1aea69519f4f1a0ce",
       "version_major": 2,
       "version_minor": 0
      },
      "text/plain": [
       "Training:   0%|          | 0/100 [00:00<?, ?it/s]"
      ]
     },
     "metadata": {},
     "output_type": "display_data"
    },
    {
     "name": "stdout",
     "output_type": "stream",
     "text": [
      "Epoch 1/100 | Loss: 0.1150\n",
      "Epoch 2/100 | Loss: 0.0741\n",
      "Epoch 3/100 | Loss: 0.0555\n",
      "Epoch 4/100 | Loss: 0.0452\n",
      "Epoch 5/100 | Loss: 0.0383\n",
      "Epoch 6/100 | Loss: 0.0347\n",
      "Epoch 7/100 | Loss: 0.0321\n",
      "Epoch 8/100 | Loss: 0.0293\n",
      "Epoch 9/100 | Loss: 0.0281\n",
      "Epoch 10/100 | Loss: 0.0269\n",
      "Epoch 11/100 | Loss: 0.0247\n",
      "Epoch 12/100 | Loss: 0.0243\n",
      "Epoch 13/100 | Loss: 0.0228\n",
      "Epoch 14/100 | Loss: 0.0228\n",
      "Epoch 15/100 | Loss: 0.0226\n",
      "Epoch 16/100 | Loss: 0.0213\n",
      "Epoch 17/100 | Loss: 0.0200\n",
      "Epoch 18/100 | Loss: 0.0200\n",
      "Epoch 19/100 | Loss: 0.0187\n",
      "Epoch 20/100 | Loss: 0.0195\n",
      "Epoch 21/100 | Loss: 0.0190\n",
      "Epoch 22/100 | Loss: 0.0179\n",
      "Epoch 23/100 | Loss: 0.0185\n",
      "Epoch 24/100 | Loss: 0.0174\n",
      "Epoch 25/100 | Loss: 0.0180\n",
      "Epoch 26/100 | Loss: 0.0174\n",
      "Epoch 27/100 | Loss: 0.0172\n",
      "Epoch 28/100 | Loss: 0.0176\n",
      "Epoch 29/100 | Loss: 0.0177\n",
      "Epoch 30/100 | Loss: 0.0177\n",
      "Epoch 31/100 | Loss: 0.0158\n",
      "Epoch 32/100 | Loss: 0.0173\n",
      "Epoch 33/100 | Loss: 0.0165\n",
      "Epoch 34/100 | Loss: 0.0160\n",
      "Epoch 35/100 | Loss: 0.0164\n",
      "Epoch 36/100 | Loss: 0.0156\n",
      "Epoch 37/100 | Loss: 0.0164\n",
      "Epoch 38/100 | Loss: 0.0155\n",
      "Epoch 39/100 | Loss: 0.0155\n",
      "Epoch 40/100 | Loss: 0.0154\n",
      "Epoch 41/100 | Loss: 0.0150\n",
      "Epoch 42/100 | Loss: 0.0155\n",
      "Epoch 43/100 | Loss: 0.0154\n",
      "Epoch 44/100 | Loss: 0.0151\n",
      "Epoch 45/100 | Loss: 0.0154\n",
      "Epoch 46/100 | Loss: 0.0149\n",
      "Epoch 47/100 | Loss: 0.0146\n",
      "Epoch 48/100 | Loss: 0.0148\n",
      "Epoch 49/100 | Loss: 0.0149\n",
      "Epoch 50/100 | Loss: 0.0154\n",
      "Epoch 51/100 | Loss: 0.0145\n",
      "Epoch 52/100 | Loss: 0.0142\n",
      "Epoch 53/100 | Loss: 0.0145\n",
      "Epoch 54/100 | Loss: 0.0150\n",
      "Epoch 55/100 | Loss: 0.0150\n",
      "Epoch 56/100 | Loss: 0.0135\n",
      "Epoch 57/100 | Loss: 0.0144\n",
      "Epoch 58/100 | Loss: 0.0141\n",
      "Epoch 59/100 | Loss: 0.0139\n",
      "Epoch 60/100 | Loss: 0.0144\n",
      "Epoch 61/100 | Loss: 0.0144\n",
      "Epoch 62/100 | Loss: 0.0140\n",
      "Epoch 63/100 | Loss: 0.0149\n",
      "Epoch 64/100 | Loss: 0.0145\n",
      "Epoch 65/100 | Loss: 0.0141\n",
      "Epoch 66/100 | Loss: 0.0138\n",
      "Epoch 67/100 | Loss: 0.0134\n",
      "Epoch 68/100 | Loss: 0.0134\n",
      "Epoch 69/100 | Loss: 0.0140\n",
      "Epoch 70/100 | Loss: 0.0146\n",
      "Epoch 71/100 | Loss: 0.0137\n",
      "Epoch 72/100 | Loss: 0.0135\n",
      "Epoch 73/100 | Loss: 0.0144\n",
      "Epoch 74/100 | Loss: 0.0127\n",
      "Epoch 75/100 | Loss: 0.0135\n",
      "Epoch 76/100 | Loss: 0.0134\n",
      "Epoch 77/100 | Loss: 0.0134\n",
      "Epoch 78/100 | Loss: 0.0135\n",
      "Epoch 79/100 | Loss: 0.0140\n",
      "Epoch 80/100 | Loss: 0.0135\n",
      "Epoch 81/100 | Loss: 0.0134\n",
      "Epoch 82/100 | Loss: 0.0142\n",
      "Epoch 83/100 | Loss: 0.0133\n",
      "Epoch 84/100 | Loss: 0.0128\n",
      "Epoch 85/100 | Loss: 0.0129\n",
      "Epoch 86/100 | Loss: 0.0137\n",
      "Epoch 87/100 | Loss: 0.0129\n",
      "Epoch 88/100 | Loss: 0.0138\n",
      "Epoch 89/100 | Loss: 0.0130\n",
      "Epoch 90/100 | Loss: 0.0131\n",
      "Epoch 91/100 | Loss: 0.0136\n",
      "Epoch 92/100 | Loss: 0.0133\n",
      "Epoch 93/100 | Loss: 0.0127\n",
      "Epoch 94/100 | Loss: 0.0132\n",
      "Epoch 95/100 | Loss: 0.0135\n",
      "Epoch 96/100 | Loss: 0.0132\n",
      "Epoch 97/100 | Loss: 0.0127\n",
      "Epoch 98/100 | Loss: 0.0132\n",
      "Epoch 99/100 | Loss: 0.0127\n",
      "Epoch 100/100 | Loss: 0.0130\n"
     ]
    }
   ],
   "source": [
    "epochs = 100\n",
    "for epoch in tqdm(range(epochs), desc='Training'):\n",
    "    epoch_loss =0.0\n",
    "    model.train()\n",
    "\n",
    "    for input, target in trainloader:\n",
    "        optimizer.zero_grad()\n",
    "        output = model(input)\n",
    "        loss = criterion(output, target)\n",
    "        loss.backward()\n",
    "        optimizer.step()\n",
    "\n",
    "        epoch_loss+=loss.item()\n",
    "    \n",
    "    avg_loss = epoch_loss/len(trainloader)\n",
    "\n",
    "    tqdm.write(f\"Epoch {epoch+1}/{epochs} | Loss: {avg_loss:.4f}\")"
   ]
  },
  {
   "cell_type": "code",
   "execution_count": null,
   "metadata": {},
   "outputs": [],
   "source": [
    "torch.save(model, 'modelbinclass.pth')\n",
    "\n",
    "#model = torch.load('modelbinclass.pth')"
   ]
  },
  {
   "cell_type": "code",
   "execution_count": 77,
   "metadata": {},
   "outputs": [],
   "source": [
    "model.eval()\n",
    "all_preds = []\n",
    "all_targets = []"
   ]
  },
  {
   "cell_type": "code",
   "execution_count": 78,
   "metadata": {},
   "outputs": [],
   "source": [
    "with torch.no_grad():\n",
    "    for inputs, targets in testloader:\n",
    "        outputs = model(inputs)\n",
    "        preds = (outputs > 0.5).float()  \n",
    "        \n",
    "        all_preds.extend(preds.cpu().numpy())\n",
    "        all_targets.extend(targets.cpu().numpy())\n",
    "\n",
    "\n",
    "all_preds = np.array(all_preds).flatten()\n",
    "all_targets = np.array(all_targets).flatten()\n",
    "\n",
    "accuracy = accuracy_score(all_targets, all_preds)\n",
    "precision = precision_score(all_targets, all_preds)\n",
    "recall = recall_score(all_targets, all_preds)\n",
    "f1 = f1_score(all_targets, all_preds)"
   ]
  },
  {
   "cell_type": "code",
   "execution_count": 79,
   "metadata": {},
   "outputs": [
    {
     "data": {
      "text/plain": [
       "Class\n",
       "0    284315\n",
       "1    284315\n",
       "Name: count, dtype: int64"
      ]
     },
     "execution_count": 79,
     "metadata": {},
     "output_type": "execute_result"
    }
   ],
   "source": [
    "data.Class.value_counts()"
   ]
  },
  {
   "cell_type": "code",
   "execution_count": 80,
   "metadata": {},
   "outputs": [
    {
     "name": "stdout",
     "output_type": "stream",
     "text": [
      "Accuracy: 0.9974\n",
      "Precision: 0.9949\n",
      "Recall: 1.0000\n",
      "F1-Score: 0.9974\n"
     ]
    }
   ],
   "source": [
    "print(f\"Accuracy: {accuracy:.4f}\")\n",
    "print(f\"Precision: {precision:.4f}\")\n",
    "print(f\"Recall: {recall:.4f}\")\n",
    "print(f\"F1-Score: {f1:.4f}\")"
   ]
  },
  {
   "cell_type": "code",
   "execution_count": null,
   "metadata": {},
   "outputs": [],
   "source": []
  }
 ],
 "metadata": {
  "kernelspec": {
   "display_name": "Python 3",
   "language": "python",
   "name": "python3"
  },
  "language_info": {
   "codemirror_mode": {
    "name": "ipython",
    "version": 3
   },
   "file_extension": ".py",
   "mimetype": "text/x-python",
   "name": "python",
   "nbconvert_exporter": "python",
   "pygments_lexer": "ipython3",
   "version": "3.12.7"
  }
 },
 "nbformat": 4,
 "nbformat_minor": 2
}
