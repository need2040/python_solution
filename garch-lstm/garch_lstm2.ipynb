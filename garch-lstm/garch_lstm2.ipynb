{
 "cells": [
  {
   "cell_type": "code",
   "execution_count": 109,
   "metadata": {},
   "outputs": [],
   "source": [
    "import numpy as np \n",
    "import torch \n",
    "import pandas as pd\n",
    "import yfinance as yf\n",
    "from arch import arch_model\n",
    "import torch.nn as nn\n",
    "from torch.utils.data import Dataset, DataLoader\n",
    "from scipy.optimize import minimize\n",
    "from tqdm import tqdm"
   ]
  },
  {
   "cell_type": "code",
   "execution_count": 110,
   "metadata": {},
   "outputs": [
    {
     "name": "stderr",
     "output_type": "stream",
     "text": [
      "[*********************100%***********************]  1 of 1 completed\n"
     ]
    }
   ],
   "source": [
    "data = yf.download('^GSPC', start=\"2015-01-01\", end=\"2025-01-01\")"
   ]
  },
  {
   "cell_type": "code",
   "execution_count": 111,
   "metadata": {},
   "outputs": [],
   "source": [
    "data.reset_index(inplace=True)"
   ]
  },
  {
   "cell_type": "code",
   "execution_count": 112,
   "metadata": {},
   "outputs": [],
   "source": [
    "data = data.Close"
   ]
  },
  {
   "cell_type": "code",
   "execution_count": 113,
   "metadata": {},
   "outputs": [],
   "source": [
    "data.reset_index(inplace=True)"
   ]
  },
  {
   "cell_type": "code",
   "execution_count": 114,
   "metadata": {},
   "outputs": [],
   "source": [
    "data['log_returns'] = np.log(data['^GSPC']/data['^GSPC'].shift(-1)) #non-squared \n",
    "data['volatility'] = data['log_returns'].rolling(window=5).apply(lambda x: (np.sqrt(np.sum(x**2)))) #non-sduared volatility\n",
    "data['volatility'] = data['volatility']*100\n",
    "data['log_returns'] = data['log_returns']*100\n",
    "data.drop(['^GSPC','index'], axis=1, inplace=True)\n",
    "data.fillna(0, inplace=True)"
   ]
  },
  {
   "cell_type": "code",
   "execution_count": 115,
   "metadata": {},
   "outputs": [],
   "source": [
    "train_len = int(len(data) * 0.8)\n",
    "val_len = int(len(data)*0.1 + train_len)\n",
    "test_len = int(len(data)-train_len-val_len)"
   ]
  },
  {
   "cell_type": "code",
   "execution_count": 116,
   "metadata": {},
   "outputs": [],
   "source": [
    "train_data = data.iloc[:train_len]\n",
    "val_data = data.iloc[train_len:val_len]\n",
    "test_data = data.iloc[val_len:int(len(data))]"
   ]
  },
  {
   "cell_type": "code",
   "execution_count": 117,
   "metadata": {},
   "outputs": [
    {
     "data": {
      "text/html": [
       "<div>\n",
       "<style scoped>\n",
       "    .dataframe tbody tr th:only-of-type {\n",
       "        vertical-align: middle;\n",
       "    }\n",
       "\n",
       "    .dataframe tbody tr th {\n",
       "        vertical-align: top;\n",
       "    }\n",
       "\n",
       "    .dataframe thead th {\n",
       "        text-align: right;\n",
       "    }\n",
       "</style>\n",
       "<table border=\"1\" class=\"dataframe\">\n",
       "  <thead>\n",
       "    <tr style=\"text-align: right;\">\n",
       "      <th>Ticker</th>\n",
       "      <th>log_returns</th>\n",
       "      <th>volatility</th>\n",
       "    </tr>\n",
       "  </thead>\n",
       "  <tbody>\n",
       "    <tr>\n",
       "      <th>0</th>\n",
       "      <td>1.844721</td>\n",
       "      <td>0.000000</td>\n",
       "    </tr>\n",
       "    <tr>\n",
       "      <th>1</th>\n",
       "      <td>0.893325</td>\n",
       "      <td>0.000000</td>\n",
       "    </tr>\n",
       "    <tr>\n",
       "      <th>2</th>\n",
       "      <td>-1.156274</td>\n",
       "      <td>0.000000</td>\n",
       "    </tr>\n",
       "    <tr>\n",
       "      <th>3</th>\n",
       "      <td>-1.773017</td>\n",
       "      <td>0.000000</td>\n",
       "    </tr>\n",
       "    <tr>\n",
       "      <th>4</th>\n",
       "      <td>0.843932</td>\n",
       "      <td>3.064932</td>\n",
       "    </tr>\n",
       "    <tr>\n",
       "      <th>...</th>\n",
       "      <td>...</td>\n",
       "      <td>...</td>\n",
       "    </tr>\n",
       "    <tr>\n",
       "      <th>2007</th>\n",
       "      <td>1.455714</td>\n",
       "      <td>2.526099</td>\n",
       "    </tr>\n",
       "    <tr>\n",
       "      <th>2008</th>\n",
       "      <td>-0.585095</td>\n",
       "      <td>2.338602</td>\n",
       "    </tr>\n",
       "    <tr>\n",
       "      <th>2009</th>\n",
       "      <td>0.405784</td>\n",
       "      <td>2.194310</td>\n",
       "    </tr>\n",
       "    <tr>\n",
       "      <th>2010</th>\n",
       "      <td>1.209347</td>\n",
       "      <td>2.503352</td>\n",
       "    </tr>\n",
       "    <tr>\n",
       "      <th>2011</th>\n",
       "      <td>-1.731063</td>\n",
       "      <td>2.661804</td>\n",
       "    </tr>\n",
       "  </tbody>\n",
       "</table>\n",
       "<p>2012 rows × 2 columns</p>\n",
       "</div>"
      ],
      "text/plain": [
       "Ticker  log_returns  volatility\n",
       "0          1.844721    0.000000\n",
       "1          0.893325    0.000000\n",
       "2         -1.156274    0.000000\n",
       "3         -1.773017    0.000000\n",
       "4          0.843932    3.064932\n",
       "...             ...         ...\n",
       "2007       1.455714    2.526099\n",
       "2008      -0.585095    2.338602\n",
       "2009       0.405784    2.194310\n",
       "2010       1.209347    2.503352\n",
       "2011      -1.731063    2.661804\n",
       "\n",
       "[2012 rows x 2 columns]"
      ]
     },
     "execution_count": 117,
     "metadata": {},
     "output_type": "execute_result"
    }
   ],
   "source": [
    "train_data"
   ]
  },
  {
   "cell_type": "code",
   "execution_count": 118,
   "metadata": {},
   "outputs": [
    {
     "name": "stdout",
     "output_type": "stream",
     "text": [
      "Iteration:      1,   Func. Count:      5,   Neg. LLF: 11170.316194782295\n",
      "Iteration:      2,   Func. Count:     15,   Neg. LLF: 4643.9877591811355\n",
      "Iteration:      3,   Func. Count:     22,   Neg. LLF: 5106.334017311465\n",
      "Iteration:      4,   Func. Count:     28,   Neg. LLF: 2635.042239528903\n",
      "Iteration:      5,   Func. Count:     32,   Neg. LLF: 2635.042094583321\n",
      "Iteration:      6,   Func. Count:     35,   Neg. LLF: 2635.042094584078\n",
      "Optimization terminated successfully    (Exit mode 0)\n",
      "            Current function value: 2635.042094583321\n",
      "            Iterations: 6\n",
      "            Function evaluations: 35\n",
      "            Gradient evaluations: 6\n"
     ]
    }
   ],
   "source": [
    "garch = arch_model(train_data['log_returns'], vol='GARCH', p=1,q=1, mean='Zero')\n",
    "garch_fit = garch.fit()"
   ]
  },
  {
   "cell_type": "code",
   "execution_count": 119,
   "metadata": {},
   "outputs": [
    {
     "data": {
      "text/html": [
       "<table class=\"simpletable\">\n",
       "<caption>Zero Mean - GARCH Model Results</caption>\n",
       "<tr>\n",
       "  <th>Dep. Variable:</th>     <td>log_returns</td>    <th>  R-squared:         </th>  <td>   0.000</td> \n",
       "</tr>\n",
       "<tr>\n",
       "  <th>Mean Model:</th>         <td>Zero Mean</td>     <th>  Adj. R-squared:    </th>  <td>   0.000</td> \n",
       "</tr>\n",
       "<tr>\n",
       "  <th>Vol Model:</th>            <td>GARCH</td>       <th>  Log-Likelihood:    </th> <td>  -2635.04</td>\n",
       "</tr>\n",
       "<tr>\n",
       "  <th>Distribution:</th>        <td>Normal</td>       <th>  AIC:               </th> <td>   5276.08</td>\n",
       "</tr>\n",
       "<tr>\n",
       "  <th>Method:</th>        <td>Maximum Likelihood</td> <th>  BIC:               </th> <td>   5292.90</td>\n",
       "</tr>\n",
       "<tr>\n",
       "  <th></th>                        <td></td>          <th>  No. Observations:  </th>    <td>2012</td>   \n",
       "</tr>\n",
       "<tr>\n",
       "  <th>Date:</th>           <td>Mon, Mar 31 2025</td>  <th>  Df Residuals:      </th>    <td>2012</td>   \n",
       "</tr>\n",
       "<tr>\n",
       "  <th>Time:</th>               <td>15:29:38</td>      <th>  Df Model:          </th>      <td>0</td>    \n",
       "</tr>\n",
       "</table>\n",
       "<table class=\"simpletable\">\n",
       "<caption>Volatility Model</caption>\n",
       "<tr>\n",
       "      <td></td>        <th>coef</th>     <th>std err</th>      <th>t</th>        <th>P>|t|</th>     <th>95.0% Conf. Int.</th>   \n",
       "</tr>\n",
       "<tr>\n",
       "  <th>omega</th>    <td>    0.0385</td> <td>1.101e-02</td> <td>    3.497</td>  <td>4.697e-04</td> <td>[1.693e-02,6.010e-02]</td>\n",
       "</tr>\n",
       "<tr>\n",
       "  <th>alpha[1]</th> <td>    0.1960</td> <td>3.265e-02</td> <td>    6.001</td>  <td>1.957e-09</td>   <td>[  0.132,  0.260]</td>  \n",
       "</tr>\n",
       "<tr>\n",
       "  <th>beta[1]</th>  <td>    0.7795</td> <td>3.050e-02</td> <td>   25.556</td> <td>4.740e-144</td>   <td>[  0.720,  0.839]</td>  \n",
       "</tr>\n",
       "</table><br/><br/>Covariance estimator: robust"
      ],
      "text/latex": [
       "\\begin{center}\n",
       "\\begin{tabular}{lclc}\n",
       "\\toprule\n",
       "\\textbf{Dep. Variable:} &    log\\_returns    & \\textbf{  R-squared:         } &     0.000   \\\\\n",
       "\\textbf{Mean Model:}    &     Zero Mean      & \\textbf{  Adj. R-squared:    } &     0.000   \\\\\n",
       "\\textbf{Vol Model:}     &       GARCH        & \\textbf{  Log-Likelihood:    } &   -2635.04  \\\\\n",
       "\\textbf{Distribution:}  &       Normal       & \\textbf{  AIC:               } &    5276.08  \\\\\n",
       "\\textbf{Method:}        & Maximum Likelihood & \\textbf{  BIC:               } &    5292.90  \\\\\n",
       "\\textbf{}               &                    & \\textbf{  No. Observations:  } &    2012     \\\\\n",
       "\\textbf{Date:}          &  Mon, Mar 31 2025  & \\textbf{  Df Residuals:      } &    2012     \\\\\n",
       "\\textbf{Time:}          &      15:29:38      & \\textbf{  Df Model:          } &     0       \\\\\n",
       "\\bottomrule\n",
       "\\end{tabular}\n",
       "\\begin{tabular}{lccccc}\n",
       "                  & \\textbf{coef} & \\textbf{std err} & \\textbf{t} & \\textbf{P$> |$t$|$} & \\textbf{95.0\\% Conf. Int.}  \\\\\n",
       "\\midrule\n",
       "\\textbf{omega}    &       0.0385  &    1.101e-02     &     3.497  &      4.697e-04       &   [1.693e-02,6.010e-02]     \\\\\n",
       "\\textbf{alpha[1]} &       0.1960  &    3.265e-02     &     6.001  &      1.957e-09       &     [  0.132,  0.260]       \\\\\n",
       "\\textbf{beta[1]}  &       0.7795  &    3.050e-02     &    25.556  &      4.740e-144      &     [  0.720,  0.839]       \\\\\n",
       "\\bottomrule\n",
       "\\end{tabular}\n",
       "%\\caption{Zero Mean - GARCH Model Results}\n",
       "\\end{center}\n",
       "\n",
       "Covariance estimator: robust"
      ],
      "text/plain": [
       "<class 'statsmodels.iolib.summary.Summary'>\n",
       "\"\"\"\n",
       "                       Zero Mean - GARCH Model Results                        \n",
       "==============================================================================\n",
       "Dep. Variable:            log_returns   R-squared:                       0.000\n",
       "Mean Model:                 Zero Mean   Adj. R-squared:                  0.000\n",
       "Vol Model:                      GARCH   Log-Likelihood:               -2635.04\n",
       "Distribution:                  Normal   AIC:                           5276.08\n",
       "Method:            Maximum Likelihood   BIC:                           5292.90\n",
       "                                        No. Observations:                 2012\n",
       "Date:                Mon, Mar 31 2025   Df Residuals:                     2012\n",
       "Time:                        15:29:38   Df Model:                            0\n",
       "                              Volatility Model                              \n",
       "============================================================================\n",
       "                 coef    std err          t      P>|t|      95.0% Conf. Int.\n",
       "----------------------------------------------------------------------------\n",
       "omega          0.0385  1.101e-02      3.497  4.697e-04 [1.693e-02,6.010e-02]\n",
       "alpha[1]       0.1960  3.265e-02      6.001  1.957e-09     [  0.132,  0.260]\n",
       "beta[1]        0.7795  3.050e-02     25.556 4.740e-144     [  0.720,  0.839]\n",
       "============================================================================\n",
       "\n",
       "Covariance estimator: robust\n",
       "\"\"\""
      ]
     },
     "execution_count": 119,
     "metadata": {},
     "output_type": "execute_result"
    }
   ],
   "source": [
    "garch_fit.summary()"
   ]
  },
  {
   "cell_type": "code",
   "execution_count": 120,
   "metadata": {},
   "outputs": [
    {
     "name": "stdout",
     "output_type": "stream",
     "text": [
      "Batch Inputs: tensor([[1.0000e+00, 2.6619e-01, 1.7050e+00],\n",
      "        [1.0000e+00, 7.7061e+00, 1.9759e+00],\n",
      "        [1.0000e+00, 1.1991e+01, 3.0244e+00],\n",
      "        [1.0000e+00, 2.4638e+01, 4.6153e+00],\n",
      "        [1.0000e+00, 1.7902e+00, 8.2582e+00],\n",
      "        [1.0000e+00, 1.9099e-01, 6.2388e+00],\n",
      "        [1.0000e+00, 7.9715e-01, 4.5054e+00],\n",
      "        [1.0000e+00, 9.9131e-02, 3.4132e+00],\n",
      "        [1.0000e+00, 8.8669e-01, 2.5091e+00],\n",
      "        [1.0000e+00, 3.2419e+00, 2.0337e+00],\n",
      "        [1.0000e+00, 8.0104e-01, 2.1720e+00],\n",
      "        [1.0000e+00, 6.6024e-01, 1.7806e+00],\n",
      "        [1.0000e+00, 1.9052e-01, 1.4785e+00],\n",
      "        [1.0000e+00, 4.8101e-01, 1.1730e+00],\n",
      "        [1.0000e+00, 2.0266e+00, 1.0173e+00],\n",
      "        [1.0000e+00, 5.0983e-01, 1.2174e+00],\n",
      "        [1.0000e+00, 1.6533e+00, 1.0542e+00],\n",
      "        [1.0000e+00, 1.4861e-01, 1.1686e+00],\n",
      "        [1.0000e+00, 4.7213e-01, 9.4772e-01],\n",
      "        [1.0000e+00, 2.2113e-02, 8.5783e-01],\n",
      "        [1.0000e+00, 4.5455e-02, 7.0491e-01],\n",
      "        [1.0000e+00, 1.2258e-01, 6.0252e-01],\n",
      "        [1.0000e+00, 1.3271e+00, 5.4628e-01],\n",
      "        [1.0000e+00, 1.0318e+00, 7.4781e-01],\n",
      "        [1.0000e+00, 2.0275e+00, 8.2983e-01],\n",
      "        [1.0000e+00, 8.8229e-01, 1.0864e+00],\n",
      "        [1.0000e+00, 2.0836e-02, 1.0369e+00],\n",
      "        [1.0000e+00, 1.9895e+00, 8.3001e-01],\n",
      "        [1.0000e+00, 2.6665e+00, 1.0789e+00],\n",
      "        [1.0000e+00, 1.8742e-02, 1.3885e+00],\n",
      "        [1.0000e+00, 9.6925e-01, 1.0757e+00],\n",
      "        [1.0000e+00, 2.4420e+00, 1.0469e+00]])\n",
      "Batch Targets: tensor([[1.9759],\n",
      "        [3.0244],\n",
      "        [4.6153],\n",
      "        [8.2582],\n",
      "        [6.2388],\n",
      "        [4.5054],\n",
      "        [3.4132],\n",
      "        [2.5091],\n",
      "        [2.0337],\n",
      "        [2.1720],\n",
      "        [1.7806],\n",
      "        [1.4785],\n",
      "        [1.1730],\n",
      "        [1.0173],\n",
      "        [1.2174],\n",
      "        [1.0542],\n",
      "        [1.1686],\n",
      "        [0.9477],\n",
      "        [0.8578],\n",
      "        [0.7049],\n",
      "        [0.6025],\n",
      "        [0.5463],\n",
      "        [0.7478],\n",
      "        [0.8298],\n",
      "        [1.0864],\n",
      "        [1.0369],\n",
      "        [0.8300],\n",
      "        [1.0789],\n",
      "        [1.3885],\n",
      "        [1.0757],\n",
      "        [1.0469],\n",
      "        [1.3212]])\n"
     ]
    }
   ],
   "source": [
    "def generate_ground_garch(omega, alpha, beta, n=1000):\n",
    "    \n",
    "    am = arch_model(None, mean='Zero', vol='GARCH', p=1, q=1)\n",
    "    params = np.array([omega, alpha, beta])\n",
    "    am_data = am.simulate(params, n)\n",
    "\n",
    "    return am_data['data'].to_numpy(), am_data['volatility'].to_numpy()\n",
    "\n",
    "class GARCH11Dataset(Dataset):\n",
    "    def __init__(self, residuals, volatility):\n",
    "        self.residuals = residuals\n",
    "        self.volatiliy = volatility\n",
    "\n",
    "        self.input = np.column_stack([\n",
    "            np.ones_like(residuals),\n",
    "            np.square(np.roll(residuals,1)),\n",
    "            np.square(np.roll(volatility,1))\n",
    "        ])\n",
    "        self.output = np.square(np.roll(volatility,0)).reshape(-1,1)\n",
    "        \n",
    "\n",
    "    def __len__(self):\n",
    "        return len(self.output)\n",
    "    \n",
    "    def __getitem__(self, index):\n",
    "        input_sample = torch.tensor(self.input[index], dtype=torch.float32)\n",
    "        output_sample = torch.tensor(self.output[index], dtype=torch.float32)\n",
    "        return input_sample, output_sample\n",
    "    \n",
    "# Generate synthetic GARCH(1,1) data\n",
    "residuals, volatility = generate_ground_garch(omega=0.1, alpha=0.2, beta=0.7, n=1000)\n",
    "\n",
    "# Create the dataset\n",
    "dataset = GARCH11Dataset(residuals, volatility)\n",
    "\n",
    "# Create a DataLoader for batching\n",
    "dataloader = DataLoader(dataset, batch_size=32, shuffle=False)\n",
    "\n",
    "# Example: Iterate through the DataLoader\n",
    "for batch_inputs, batch_targets in dataloader:\n",
    "    print(\"Batch Inputs:\", batch_inputs)\n",
    "    print(\"Batch Targets:\", batch_targets)\n",
    "    \n",
    "    break"
   ]
  },
  {
   "cell_type": "code",
   "execution_count": 121,
   "metadata": {},
   "outputs": [],
   "source": [
    "def generate_ground_gjrgarch(omega, alpha, lmbda, beta, n = 1000):\n",
    "    am = arch_model(None, mean='Zero', p =1, q = 1, o =1)\n",
    "    params = np.array([omega,alpha,lmbda,beta])\n",
    "    am_data = am.simulate(params, n)\n",
    "\n",
    "    return am_data['data'].to_numpy(), am_data['volatility'].to_numpy()"
   ]
  },
  {
   "cell_type": "code",
   "execution_count": 122,
   "metadata": {},
   "outputs": [],
   "source": [
    "def generate_ground_figarch(omega, beta, phi ,d, n = 1000):\n",
    "    am = arch_model(None, mean='Zero', vol='FIGARCH')\n",
    "    params= np.array([omega, beta, phi, d])\n",
    "    am_data = am.simulate(params, n)\n",
    "\n",
    "    return am_data['data'].to_numpy(), am_data['volatility'].to_numpy()"
   ]
  },
  {
   "cell_type": "code",
   "execution_count": 123,
   "metadata": {},
   "outputs": [],
   "source": [
    "generate_ground_garch(0.5,0.2,0.1);"
   ]
  },
  {
   "cell_type": "code",
   "execution_count": 124,
   "metadata": {},
   "outputs": [],
   "source": [
    "generate_ground_gjrgarch(0.1,0.2,0.3,0.4);"
   ]
  },
  {
   "cell_type": "code",
   "execution_count": 125,
   "metadata": {},
   "outputs": [],
   "source": [
    "generate_ground_figarch(0.1,0.2,0.3,0.4);"
   ]
  },
  {
   "cell_type": "code",
   "execution_count": 126,
   "metadata": {},
   "outputs": [],
   "source": [
    "class RNNGARCH (torch.nn.Sequential): \n",
    "    def __init__(self):\n",
    "        super(RNNGARCH, self).__init__()\n",
    "        self.linear = nn.Linear(3, 1, bias=False)\n",
    "\n",
    "    \n",
    "    def get_garch_parameters(self) -> tuple[float, float, float]:\n",
    "        \"\"\"\n",
    "        Returns the GARCH(1,1) parameters (ω, α, β) from the layer's weights.\n",
    "        \"\"\"\n",
    "        weights = self.linear.weight.data.squeeze().tolist()\n",
    "        omega, alpha, beta = weights\n",
    "        return omega, alpha, beta\n",
    "\n",
    "        \n"
   ]
  },
  {
   "cell_type": "code",
   "execution_count": 127,
   "metadata": {},
   "outputs": [],
   "source": [
    "class GARCHNegativeLogLikelihood(nn.Module):\n",
    "   \n",
    "    def __init__(self):\n",
    "        super().__init__()\n",
    "\n",
    "    def forward(self, residuals: torch.Tensor, estimated_volatility: torch.Tensor) -> torch.Tensor:\n",
    "        \n",
    "        term1 = 0.5 * torch.log(estimated_volatility)  # log(σ_t²) / 2\n",
    "        term2 = (residuals ** 2) / (2 * estimated_volatility)  # ϵ_t² / (2 * σ_t²)\n",
    "\n",
    "        # Sum the terms and average over the batch\n",
    "        loss = -torch.mean((term1 + term2))\n",
    "        return loss"
   ]
  },
  {
   "cell_type": "code",
   "execution_count": 128,
   "metadata": {},
   "outputs": [
    {
     "name": "stdout",
     "output_type": "stream",
     "text": [
      "Epoch 100, Average Loss: nan\n",
      "Epoch 200, Average Loss: nan\n",
      "Epoch 300, Average Loss: nan\n",
      "Epoch 400, Average Loss: nan\n",
      "Epoch 500, Average Loss: nan\n",
      "Epoch 600, Average Loss: nan\n",
      "Epoch 700, Average Loss: nan\n",
      "Epoch 800, Average Loss: nan\n",
      "Epoch 900, Average Loss: nan\n",
      "Epoch 1000, Average Loss: nan\n",
      "Trained GARCH(1,1) Parameters: ω=-80.0566635131836, α=-22.816118240356445, β=-58.06517028808594\n"
     ]
    }
   ],
   "source": [
    "# Create the GARCH(1,1) RNN layer\n",
    "garch_layer = RNNGARCH()\n",
    "\n",
    "# Create the loss function\n",
    "loss_fn = GARCHNegativeLogLikelihood()\n",
    "\n",
    "# Create an optimizer\n",
    "optimizer = torch.optim.Adam(garch_layer.parameters(), lr=0.01)\n",
    "\n",
    "# Training loop\n",
    "num_epochs = 1000\n",
    "for epoch in range(num_epochs):\n",
    "    epoch_loss = 0.0\n",
    "    for batch_inputs, batch_targets in dataloader:\n",
    "        # Forward pass\n",
    "        estimated_volatility = garch_layer(batch_inputs)\n",
    "        residuals = torch.sqrt(batch_inputs[:,-1])\n",
    "        # Compute loss\n",
    "        residuals = batch_targets  # Assuming batch_targets are σ²_t, residuals are ϵ_t = sqrt(σ²_t)\n",
    "        loss = loss_fn(residuals, estimated_volatility)\n",
    "\n",
    "        # Backward pass and optimization\n",
    "        optimizer.zero_grad()\n",
    "        loss.backward()\n",
    "        optimizer.step()\n",
    "\n",
    "        epoch_loss += loss.item()\n",
    "\n",
    "    # Print average loss for the epoch\n",
    "    if (epoch + 1) % 100 == 0:\n",
    "        print(f\"Epoch {epoch + 1}, Average Loss: {epoch_loss / len(dataloader)}\")\n",
    "\n",
    "# Get the trained GARCH(1,1) parameters\n",
    "omega, alpha, beta = garch_layer.get_garch_parameters()\n",
    "print(f\"Trained GARCH(1,1) Parameters: ω={omega}, α={alpha}, β={beta}\")"
   ]
  },
  {
   "cell_type": "code",
   "execution_count": 129,
   "metadata": {},
   "outputs": [],
   "source": [
    "#NUMERICAL UNDERFLOW"
   ]
  }
 ],
 "metadata": {
  "kernelspec": {
   "display_name": "Python 3",
   "language": "python",
   "name": "python3"
  },
  "language_info": {
   "codemirror_mode": {
    "name": "ipython",
    "version": 3
   },
   "file_extension": ".py",
   "mimetype": "text/x-python",
   "name": "python",
   "nbconvert_exporter": "python",
   "pygments_lexer": "ipython3",
   "version": "3.12.4"
  }
 },
 "nbformat": 4,
 "nbformat_minor": 2
}
