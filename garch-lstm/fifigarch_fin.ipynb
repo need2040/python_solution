{
 "cells": [
  {
   "cell_type": "code",
   "execution_count": 558,
   "id": "8c57f31a",
   "metadata": {},
   "outputs": [],
   "source": [
    "import numpy as np\n",
    "import pandas as pd\n",
    "import matplotlib.pyplot as plt\n",
    "from arch import arch_model\n",
    "import torch\n",
    "import pytorch_lightning as pl \n",
    "from torch.utils.data import Dataset, DataLoader\n",
    "import torch.nn as nn\n",
    "import torch.nn.functional as F\n",
    "from pytorch_lightning.loggers import TensorBoardLogger"
   ]
  },
  {
   "cell_type": "code",
   "execution_count": 559,
   "id": "f0205b46",
   "metadata": {},
   "outputs": [],
   "source": [
    "\n",
    "\n",
    "\"\"\"\n",
    "должно быть omega, d , phi, beta\n",
    "\n",
    "    # omega > 0 <- 1\n",
    "    # 0 <= d <= 1 <- 2\n",
    "    # 0 <= phi <= (1 - d) / 2 <- 2\n",
    "    # 0 <= beta <= d + phi <- 2\n",
    "\n",
    "\"\"\";\n"
   ]
  },
  {
   "cell_type": "code",
   "execution_count": 560,
   "id": "4729378a",
   "metadata": {},
   "outputs": [],
   "source": [
    "def generate_ground_garch(omega, d, phi, beta, n =3000):\n",
    "    \n",
    "    am = arch_model(None, mean='Zero', vol='FIGARCH', p=1, q=1, power = 2) #Остатки просто получаются умножением волатильности на кси ~N(0,1)\n",
    "    params = np.array([omega, d, phi, beta])\n",
    "    am_data = am.simulate(params, n)\n",
    "\n",
    "    return am_data['data'].to_numpy(), am_data['volatility'].to_numpy()"
   ]
  },
  {
   "cell_type": "code",
   "execution_count": 561,
   "id": "7965ac82",
   "metadata": {},
   "outputs": [],
   "source": [
    "omega = 0.1\n",
    "d =  0.2\n",
    "phi = 0.2\n",
    "beta = 0.2"
   ]
  },
  {
   "cell_type": "code",
   "execution_count": 562,
   "id": "04f55e9b",
   "metadata": {},
   "outputs": [],
   "source": [
    "data, volat = generate_ground_garch(omega, d, phi ,beta)"
   ]
  },
  {
   "cell_type": "code",
   "execution_count": 563,
   "id": "cd14ebbe",
   "metadata": {},
   "outputs": [],
   "source": [
    "truncation_size = 10"
   ]
  },
  {
   "cell_type": "code",
   "execution_count": 564,
   "id": "c7f9530e",
   "metadata": {},
   "outputs": [
    {
     "data": {
      "text/plain": [
       "0.1494428635649965"
      ]
     },
     "execution_count": 564,
     "metadata": {},
     "output_type": "execute_result"
    }
   ],
   "source": [
    "np.std(volat)"
   ]
  },
  {
   "cell_type": "code",
   "execution_count": 565,
   "id": "ea673f00",
   "metadata": {},
   "outputs": [],
   "source": [
    "class FIGARCHDataset(Dataset):\n",
    "    def __init__(self, residuals, volatility, T, scale = 100 ):\n",
    "        super().__init__()\n",
    "        self.rsquared = torch.FloatTensor(np.square(residuals) * scale)\n",
    "        self.vol = torch.FloatTensor(volatility * scale)\n",
    "        self.T = T\n",
    "        self.valid_index = range(self.T-1, len(self.rsquared))\n",
    "\n",
    "    def __len__ (self):\n",
    "        return len(self.valid_index)\n",
    "    \n",
    "\n",
    "    def __getitem__(self, idx):\n",
    "        t = self.valid_index[idx]\n",
    "        return (\n",
    "            self.rsquared[t-self.T+1: t+1],\n",
    "            self.vol[t],\n",
    "            self.rsquared[t]\n",
    "        )\n",
    "\n"
   ]
  },
  {
   "cell_type": "code",
   "execution_count": 566,
   "id": "43e40ebe",
   "metadata": {},
   "outputs": [],
   "source": [
    "ds = FIGARCHDataset(data, volat, truncation_size)"
   ]
  },
  {
   "cell_type": "code",
   "execution_count": 567,
   "id": "f4867b77",
   "metadata": {},
   "outputs": [
    {
     "data": {
      "text/plain": [
       "3000"
      ]
     },
     "execution_count": 567,
     "metadata": {},
     "output_type": "execute_result"
    }
   ],
   "source": [
    "len(data)"
   ]
  },
  {
   "cell_type": "code",
   "execution_count": 568,
   "id": "928a4796",
   "metadata": {},
   "outputs": [
    {
     "name": "stdout",
     "output_type": "stream",
     "text": [
      "(tensor([235.9222, 212.9424, 307.9615, 271.1602, 476.0608, 103.4897, 158.1664,\n",
      "         19.3226,   1.1775,  32.3695]), tensor(82.7130), tensor(32.3695))\n"
     ]
    }
   ],
   "source": [
    "print(ds[0])"
   ]
  },
  {
   "cell_type": "code",
   "execution_count": 569,
   "id": "0411a2d2",
   "metadata": {},
   "outputs": [
    {
     "data": {
      "text/plain": [
       "(235.92217071586492, 81.07701246700896)"
      ]
     },
     "execution_count": 569,
     "metadata": {},
     "output_type": "execute_result"
    }
   ],
   "source": [
    "np.square(data[0])*100, volat[10]*100"
   ]
  },
  {
   "cell_type": "code",
   "execution_count": 570,
   "id": "76e3e694",
   "metadata": {},
   "outputs": [],
   "source": [
    "weight_list = []"
   ]
  },
  {
   "cell_type": "code",
   "execution_count": 571,
   "id": "23dfb021",
   "metadata": {},
   "outputs": [],
   "source": [
    "class FIGARCHModule (pl.LightningDataModule):\n",
    "    def __init__(self, data, volat, truncation_size, batch_size=32):\n",
    "        super().__init__()\n",
    "        self.data = data\n",
    "        self.volat = volat\n",
    "        self.truncation_size = truncation_size\n",
    "        self.batch_size = batch_size\n",
    "\n",
    "    def setup(self, stage = None):\n",
    "        self.train_dataset = FIGARCHDataset(self.data,self.volat, self.truncation_size)\n",
    "\n",
    "    def train_dataloader(self):\n",
    "        return DataLoader(self.train_dataset, self.batch_size, shuffle=False)"
   ]
  },
  {
   "cell_type": "code",
   "execution_count": 572,
   "id": "510438c6",
   "metadata": {},
   "outputs": [],
   "source": [
    "class CorrectedNLoss(nn.Module):\n",
    "    def __init__(self):\n",
    "        super().__init__()\n",
    "    def forward(self, pred_var, target_eps_squared):\n",
    "\n",
    "        loss =  (0.5*(torch.log(pred_var)) + (target_eps_squared/(2*pred_var))) \n",
    "        return loss.mean()"
   ]
  },
  {
   "cell_type": "code",
   "execution_count": 573,
   "id": "98055a44",
   "metadata": {},
   "outputs": [],
   "source": [
    "class FIGARCH_CNN(pl.LightningModule):\n",
    "    def __init__(self, truncation_size, lr = 1e-3):\n",
    "        super().__init__()\n",
    "        self.truncation_size = truncation_size\n",
    "        self.conv = nn.Conv1d(1,1, kernel_size=truncation_size, bias= False)\n",
    "        self.criterion = CorrectedNLoss()\n",
    "        self.lr = lr\n",
    "\n",
    "        with torch.no_grad():\n",
    "            weights = torch.full((1, 1, truncation_size), 0.1)\n",
    "            self.conv.weight.copy_(weights)\n",
    "        \n",
    "    def forward(self, x):\n",
    "        x = x.unsqueeze(1)\n",
    "        x = self.conv(x)\n",
    "        x = x.squeeze(2)\n",
    "\n",
    "        return x.squeeze(1)\n",
    "    \n",
    "    def training_step(self, batch):\n",
    "        rsq_window, vol, rsq_val = batch\n",
    "        pred_var = self.forward(rsq_window)\n",
    "        loss = self.criterion(pred_var, rsq_val)\n",
    "        self.log('train_loss', loss)\n",
    "\n",
    "        return loss\n",
    "    \n",
    "    def configure_optimizers(self):\n",
    "        return torch.optim.Adam(self.parameters(), lr=self.lr)\n",
    "    \n",
    "    def on_train_end(self):\n",
    "        weight_list.clear()\n",
    "        weights = self.conv.weight.detach().cpu().numpy().squeeze()\n",
    "        weight_list.append(weights)\n"
   ]
  },
  {
   "cell_type": "code",
   "execution_count": 574,
   "id": "3ec209d6",
   "metadata": {},
   "outputs": [],
   "source": [
    "dm = FIGARCHModule(data,volat, truncation_size, batch_size= 32)\n",
    "model = FIGARCH_CNN(truncation_size)"
   ]
  },
  {
   "cell_type": "code",
   "execution_count": 575,
   "id": "50df1da6",
   "metadata": {},
   "outputs": [],
   "source": [
    "logger = TensorBoardLogger('tb_logs', name = 'figarch_model')"
   ]
  },
  {
   "cell_type": "code",
   "execution_count": null,
   "id": "7b962e80",
   "metadata": {},
   "outputs": [
    {
     "name": "stderr",
     "output_type": "stream",
     "text": [
      "GPU available: True (mps), used: True\n",
      "TPU available: False, using: 0 TPU cores\n",
      "HPU available: False, using: 0 HPUs\n"
     ]
    }
   ],
   "source": [
    "trainer = pl.Trainer(\n",
    "    max_epochs=10,\n",
    "    accelerator='auto',\n",
    "    logger = logger\n",
    ")"
   ]
  },
  {
   "cell_type": "code",
   "execution_count": 577,
   "id": "6ead5b79",
   "metadata": {},
   "outputs": [
    {
     "name": "stderr",
     "output_type": "stream",
     "text": [
      "\n",
      "  | Name      | Type           | Params | Mode \n",
      "-----------------------------------------------------\n",
      "0 | conv      | Conv1d         | 10     | train\n",
      "1 | criterion | CorrectedNLoss | 0      | train\n",
      "-----------------------------------------------------\n",
      "10        Trainable params\n",
      "0         Non-trainable params\n",
      "10        Total params\n",
      "0.000     Total estimated model params size (MB)\n",
      "2         Modules in train mode\n",
      "0         Modules in eval mode\n"
     ]
    },
    {
     "data": {
      "application/vnd.jupyter.widget-view+json": {
       "model_id": "3c486a7f9c694b9fa6a033ab3c0d7311",
       "version_major": 2,
       "version_minor": 0
      },
      "text/plain": [
       "Training: |          | 0/? [00:00<?, ?it/s]"
      ]
     },
     "metadata": {},
     "output_type": "display_data"
    },
    {
     "name": "stderr",
     "output_type": "stream",
     "text": [
      "`Trainer.fit` stopped: `max_epochs=50` reached.\n"
     ]
    }
   ],
   "source": [
    "trainer.fit(model, dm)"
   ]
  },
  {
   "cell_type": "code",
   "execution_count": 578,
   "id": "3b3bd3e8",
   "metadata": {},
   "outputs": [
    {
     "data": {
      "text/plain": [
       "[array([0.0337276 , 0.0368989 , 0.00414068, 0.01994677, 0.02279804,\n",
       "        0.01277062, 0.00421026, 0.01394118, 0.02735223, 0.700993  ],\n",
       "       dtype=float32)]"
      ]
     },
     "execution_count": 578,
     "metadata": {},
     "output_type": "execute_result"
    }
   ],
   "source": [
    "weight_list"
   ]
  },
  {
   "cell_type": "code",
   "execution_count": 579,
   "id": "dcdbb124",
   "metadata": {},
   "outputs": [
    {
     "ename": "SyntaxError",
     "evalue": "incomplete input (3251068782.py, line 2)",
     "output_type": "error",
     "traceback": [
      "\u001b[0;36m  Cell \u001b[0;32mIn[579], line 2\u001b[0;36m\u001b[0m\n\u001b[0;31m    \u001b[0m\n\u001b[0m    ^\u001b[0m\n\u001b[0;31mSyntaxError\u001b[0m\u001b[0;31m:\u001b[0m incomplete input\n"
     ]
    }
   ],
   "source": [
    "def decompute_lambdas(lambdas):\n",
    "    "
   ]
  }
 ],
 "metadata": {
  "kernelspec": {
   "display_name": "Python 3",
   "language": "python",
   "name": "python3"
  },
  "language_info": {
   "codemirror_mode": {
    "name": "ipython",
    "version": 3
   },
   "file_extension": ".py",
   "mimetype": "text/x-python",
   "name": "python",
   "nbconvert_exporter": "python",
   "pygments_lexer": "ipython3",
   "version": "3.12.4"
  }
 },
 "nbformat": 4,
 "nbformat_minor": 5
}
