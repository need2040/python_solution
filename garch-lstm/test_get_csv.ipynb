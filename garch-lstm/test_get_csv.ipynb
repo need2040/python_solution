{
 "cells": [
  {
   "cell_type": "code",
   "execution_count": 44,
   "id": "262b5f46",
   "metadata": {},
   "outputs": [],
   "source": [
    "import numpy as np \n",
    "import torch \n",
    "import garch_framework as frame\n",
    "from garch_framework.layers.losses import CorrectedNLoss\n",
    "from garch_framework.utils.helpers import generate_ground_data, save_model_params\n",
    "from garch_framework.utils.datasets import LSTMGARCHDataset\n",
    "from garch_framework.models import GARCHLSTM, GJRGARCHModel\n",
    "import matplotlib.pyplot as plt \n",
    "from torch.utils.data import DataLoader\n",
    "from tqdm.notebook import tqdm\n",
    "from torch.utils.data import Dataset\n",
    "from arch import arch_model\n",
    "import torch\n",
    "import torch.nn as nn\n",
    "from sklearn.metrics import mean_squared_error, mean_absolute_error\n",
    "from sklearn.preprocessing import MinMaxScaler\n",
    "import yfinance as yf\n",
    "import pandas as pd\n",
    "from curl_cffi import requests\n",
    "\n"
   ]
  },
  {
   "cell_type": "code",
   "execution_count": 45,
   "id": "f5a6a1ce",
   "metadata": {},
   "outputs": [],
   "source": [
    "tickers = {\n",
    "    \"S&P 500\": \"^GSPC\",\n",
    "    \"DJI\": \"^DJI\",\n",
    "    \"NASDAQ\": \"^IXIC\",\n",
    "    \"EUR-USD\": \"EURUSD=X\",\n",
    "    \"Gold\": \"GC=F\"\n",
    "}"
   ]
  },
  {
   "cell_type": "code",
   "execution_count": 46,
   "id": "3d0e10b9",
   "metadata": {},
   "outputs": [],
   "source": [
    "session = requests.Session(impersonate=\"chrome\")"
   ]
  },
  {
   "cell_type": "code",
   "execution_count": 47,
   "id": "24d04143",
   "metadata": {},
   "outputs": [
    {
     "name": "stderr",
     "output_type": "stream",
     "text": [
      "[*********************100%***********************]  1 of 1 completed\n"
     ]
    }
   ],
   "source": [
    "data = yf.download(tickers['S&P 500'], period= '10y', session=session)"
   ]
  },
  {
   "cell_type": "code",
   "execution_count": 48,
   "id": "98b42209",
   "metadata": {},
   "outputs": [
    {
     "data": {
      "text/html": [
       "<div>\n",
       "<style scoped>\n",
       "    .dataframe tbody tr th:only-of-type {\n",
       "        vertical-align: middle;\n",
       "    }\n",
       "\n",
       "    .dataframe tbody tr th {\n",
       "        vertical-align: top;\n",
       "    }\n",
       "\n",
       "    .dataframe thead tr th {\n",
       "        text-align: left;\n",
       "    }\n",
       "\n",
       "    .dataframe thead tr:last-of-type th {\n",
       "        text-align: right;\n",
       "    }\n",
       "</style>\n",
       "<table border=\"1\" class=\"dataframe\">\n",
       "  <thead>\n",
       "    <tr>\n",
       "      <th>Price</th>\n",
       "      <th>Close</th>\n",
       "      <th>High</th>\n",
       "      <th>Low</th>\n",
       "      <th>Open</th>\n",
       "      <th>Volume</th>\n",
       "    </tr>\n",
       "    <tr>\n",
       "      <th>Ticker</th>\n",
       "      <th>^GSPC</th>\n",
       "      <th>^GSPC</th>\n",
       "      <th>^GSPC</th>\n",
       "      <th>^GSPC</th>\n",
       "      <th>^GSPC</th>\n",
       "    </tr>\n",
       "    <tr>\n",
       "      <th>Date</th>\n",
       "      <th></th>\n",
       "      <th></th>\n",
       "      <th></th>\n",
       "      <th></th>\n",
       "      <th></th>\n",
       "    </tr>\n",
       "  </thead>\n",
       "  <tbody>\n",
       "    <tr>\n",
       "      <th>2015-05-08</th>\n",
       "      <td>2116.100098</td>\n",
       "      <td>2117.659912</td>\n",
       "      <td>2092.129883</td>\n",
       "      <td>2092.129883</td>\n",
       "      <td>3399440000</td>\n",
       "    </tr>\n",
       "    <tr>\n",
       "      <th>2015-05-11</th>\n",
       "      <td>2105.330078</td>\n",
       "      <td>2117.689941</td>\n",
       "      <td>2104.580078</td>\n",
       "      <td>2115.560059</td>\n",
       "      <td>2992670000</td>\n",
       "    </tr>\n",
       "    <tr>\n",
       "      <th>2015-05-12</th>\n",
       "      <td>2099.120117</td>\n",
       "      <td>2105.060059</td>\n",
       "      <td>2085.570068</td>\n",
       "      <td>2102.870117</td>\n",
       "      <td>3139520000</td>\n",
       "    </tr>\n",
       "    <tr>\n",
       "      <th>2015-05-13</th>\n",
       "      <td>2098.479980</td>\n",
       "      <td>2110.189941</td>\n",
       "      <td>2096.040039</td>\n",
       "      <td>2099.620117</td>\n",
       "      <td>3374260000</td>\n",
       "    </tr>\n",
       "    <tr>\n",
       "      <th>2015-05-14</th>\n",
       "      <td>2121.100098</td>\n",
       "      <td>2121.449951</td>\n",
       "      <td>2100.429932</td>\n",
       "      <td>2100.429932</td>\n",
       "      <td>3225740000</td>\n",
       "    </tr>\n",
       "  </tbody>\n",
       "</table>\n",
       "</div>"
      ],
      "text/plain": [
       "Price             Close         High          Low         Open      Volume\n",
       "Ticker            ^GSPC        ^GSPC        ^GSPC        ^GSPC       ^GSPC\n",
       "Date                                                                      \n",
       "2015-05-08  2116.100098  2117.659912  2092.129883  2092.129883  3399440000\n",
       "2015-05-11  2105.330078  2117.689941  2104.580078  2115.560059  2992670000\n",
       "2015-05-12  2099.120117  2105.060059  2085.570068  2102.870117  3139520000\n",
       "2015-05-13  2098.479980  2110.189941  2096.040039  2099.620117  3374260000\n",
       "2015-05-14  2121.100098  2121.449951  2100.429932  2100.429932  3225740000"
      ]
     },
     "execution_count": 48,
     "metadata": {},
     "output_type": "execute_result"
    }
   ],
   "source": [
    "data.head()"
   ]
  },
  {
   "cell_type": "code",
   "execution_count": 49,
   "id": "fa3001a6",
   "metadata": {},
   "outputs": [],
   "source": [
    "dataf = data['Close']['^GSPC']"
   ]
  },
  {
   "cell_type": "code",
   "execution_count": 50,
   "id": "d5c9d85f",
   "metadata": {},
   "outputs": [
    {
     "data": {
      "text/plain": [
       "Date\n",
       "2015-05-08    2116.100098\n",
       "2015-05-11    2105.330078\n",
       "2015-05-12    2099.120117\n",
       "2015-05-13    2098.479980\n",
       "2015-05-14    2121.100098\n",
       "                 ...     \n",
       "2025-05-01    5604.140137\n",
       "2025-05-02    5686.669922\n",
       "2025-05-05    5650.379883\n",
       "2025-05-06    5606.910156\n",
       "2025-05-07    5631.279785\n",
       "Name: ^GSPC, Length: 2515, dtype: float64"
      ]
     },
     "execution_count": 50,
     "metadata": {},
     "output_type": "execute_result"
    }
   ],
   "source": [
    "dataf"
   ]
  },
  {
   "cell_type": "code",
   "execution_count": 51,
   "id": "30dba7d1",
   "metadata": {},
   "outputs": [],
   "source": [
    "dataf.to_csv('real_dataset/S&P500_10years.csv')"
   ]
  }
 ],
 "metadata": {
  "kernelspec": {
   "display_name": "Python 3",
   "language": "python",
   "name": "python3"
  },
  "language_info": {
   "codemirror_mode": {
    "name": "ipython",
    "version": 3
   },
   "file_extension": ".py",
   "mimetype": "text/x-python",
   "name": "python",
   "nbconvert_exporter": "python",
   "pygments_lexer": "ipython3",
   "version": "3.12.7"
  }
 },
 "nbformat": 4,
 "nbformat_minor": 5
}
