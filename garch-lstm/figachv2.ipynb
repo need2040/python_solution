{
 "cells": [
  {
   "cell_type": "code",
   "execution_count": 116,
   "id": "2bd0d90a",
   "metadata": {},
   "outputs": [],
   "source": [
    "import numpy as np\n",
    "import torch\n",
    "import pytorch_lightning as pl\n",
    "from torch.utils.data import Dataset, DataLoader\n",
    "import torch.nn as nn\n",
    "from arch import arch_model\n",
    "from pytorch_lightning.loggers import  TensorBoardLogger\n",
    "from scipy.optimize import root\n",
    "import matplotlib.pyplot as plt\n",
    "import os \n",
    "from datetime import datetime\n",
    "import json\n",
    "from figarch_eval import fit_lambda_parameters, compute_lambda_sequence"
   ]
  },
  {
   "cell_type": "code",
   "execution_count": 117,
   "id": "586485eb",
   "metadata": {},
   "outputs": [],
   "source": [
    "\n",
    "# Генерация данных\n",
    "def generate_ground_garch(omega, d, phi, beta, n=3000):\n",
    "    am = arch_model(None, mean='Zero', vol='FIGARCH', p=1, q=1, power=2)\n",
    "    params = np.array([omega, d, phi, beta])\n",
    "    am_data = am.simulate(params, n)\n",
    "    return am_data['data'].to_numpy(), am_data['volatility'].to_numpy()\n"
   ]
  },
  {
   "cell_type": "code",
   "execution_count": 118,
   "id": "f86e8178",
   "metadata": {},
   "outputs": [],
   "source": [
    "\n",
    "# Dataset для полных последовательностей\n",
    "class FullSequenceDataset(Dataset):\n",
    "    def __init__(self, eps, vol, truncation_size, scale=100):\n",
    "        super().__init__()\n",
    "        self.eps_squared = torch.tensor(np.square(eps) * scale)\n",
    "        self.vol = (torch.tensor(vol * scale))\n",
    "        self.truncation_size = truncation_size\n",
    "        self.eps_squared = self.eps_squared.float()\n",
    "        self.vol = self.vol.float()\n",
    "\n",
    "    def __len__(self):\n",
    "        return len(self.eps_squared) - self.truncation_size  # Количество возможных окон\n",
    "\n",
    "    def __getitem__(self, idx):\n",
    "        # Возвращаем окно остатков и соответствующий таргет\n",
    "        return (\n",
    "            self.eps_squared[idx:idx+self.truncation_size].flip(-1),\n",
    "            self.eps_squared[idx+self.truncation_size]\n",
    "        )\n"
   ]
  },
  {
   "cell_type": "code",
   "execution_count": 119,
   "id": "b0dd8f8c",
   "metadata": {},
   "outputs": [],
   "source": [
    "class FIGARCHDM(pl.LightningDataModule):\n",
    "    def __init__(self, eps, vol, truncation_size, batch_size):\n",
    "        super().__init__()\n",
    "\n",
    "        self.eps = eps\n",
    "        self.vol = vol\n",
    "        self.truncation_size = truncation_size\n",
    "        self.batch_size = batch_size\n",
    "    def setup(self, stage = None):\n",
    "        self.train_dataset = FullSequenceDataset(self.eps, self.vol, self.truncation_size)\n",
    "\n",
    "\n",
    "    def train_dataloader(self):\n",
    "        return DataLoader(self.train_dataset, batch_size= self.batch_size ,shuffle=False)"
   ]
  },
  {
   "cell_type": "code",
   "execution_count": 120,
   "id": "92698769",
   "metadata": {},
   "outputs": [],
   "source": [
    "class CorrectedNLoss(nn.Module):\n",
    "    def __init__(self):\n",
    "        super().__init__()\n",
    "    def forward(self, pred_var, target_eps_squared):\n",
    "\n",
    "        loss =  (0.5*(torch.log(pred_var)) + (target_eps_squared/(2*pred_var))) \n",
    "        return loss.mean()"
   ]
  },
  {
   "cell_type": "code",
   "execution_count": null,
   "id": "b18807a7",
   "metadata": {},
   "outputs": [],
   "source": [
    "class CorrectedTLoss(nn.Module):\n",
    "    def __init__(self, nu):\n",
    "        super().__init__()\n",
    "        self.nu = nu\n",
    "    def forward(self, pred_var, target_eps_squared):\n",
    "\n",
    "        loss =  (0.5*(torch.log(pred_var))) + (0.5 * (self.nu+1))* torch.log(1 + (target_eps_squared/((self.nu-2)*pred_var)))\n",
    "        return loss.mean()"
   ]
  },
  {
   "cell_type": "code",
   "execution_count": 121,
   "id": "d8074529",
   "metadata": {},
   "outputs": [],
   "source": [
    "\n",
    "# Модель FIGARCH с CNN\n",
    "class FullConvFIGARCH(pl.LightningModule):\n",
    "    def __init__(self, truncation_size, lr=1e-3):\n",
    "        super().__init__()\n",
    "        self.save_hyperparameters()\n",
    "        self.truncation_size = truncation_size\n",
    "        self.lr = lr\n",
    "        \n",
    "        self.weights = nn.Parameter(torch.linspace(1.0, 0.1, truncation_size))\n",
    "        \n",
    "        self.loss_fn = CorrectedNLoss()\n",
    "\n",
    "    def forward(self, x):\n",
    "        weights = self.weights\n",
    "        #weights = torch.nn.functional.softplus(self.weights)\n",
    "        return torch.sum(x * weights, dim=1)\n",
    "\n",
    "    def training_step(self, batch, batch_idx):\n",
    "        eps_window, target_eps = batch\n",
    "        pred_var = self.forward(eps_window)\n",
    "        loss = self.loss_fn(pred_var, target_eps)\n",
    "        self.log('train_loss', loss, prog_bar=True)\n",
    "        return loss\n",
    "\n",
    "    def configure_optimizers(self):\n",
    "        optimizer = torch.optim.Adam(self.parameters(), lr=self.lr)\n",
    "        scheduler = torch.optim.lr_scheduler.ReduceLROnPlateau(\n",
    "            optimizer, \n",
    "            mode='min', \n",
    "            factor=0.5, \n",
    "            patience=20, \n",
    "            verbose=True\n",
    "        )\n",
    "        return {\n",
    "            'optimizer': optimizer,\n",
    "            #'lr_scheduler': {\n",
    "            #    'scheduler': scheduler,\n",
    "            #     'monitor': 'train_loss'\n",
    "            #}\n",
    "        }\n",
    "\n"
   ]
  },
  {
   "cell_type": "code",
   "execution_count": 122,
   "id": "5a67eae8",
   "metadata": {},
   "outputs": [],
   "source": [
    "# omega > 0 <- 1\n",
    "# 0 <= d <= 1 <- 2\n",
    "# 0 <= phi <= (1 - d) / 2 <- 2\n",
    "# 0 <= beta <= d + phi <- 2\n",
    "\n",
    "\n",
    "omega, d, phi, beta = 0.1, 0.5, 0.2, 0.3\n",
    "data, volat = generate_ground_garch(omega, d, phi, beta)\n"
   ]
  },
  {
   "cell_type": "code",
   "execution_count": null,
   "id": "46e95903",
   "metadata": {},
   "outputs": [],
   "source": []
  },
  {
   "cell_type": "code",
   "execution_count": 123,
   "id": "d76b075c",
   "metadata": {},
   "outputs": [],
   "source": [
    "ground_truth = [omega, d, phi, beta]"
   ]
  },
  {
   "cell_type": "code",
   "execution_count": 124,
   "id": "bc8fe647",
   "metadata": {},
   "outputs": [],
   "source": [
    "truncation_size = 30\n",
    "#batch_size = (len(data) - truncation_size)//20\n",
    "batch_size = 10"
   ]
  },
  {
   "cell_type": "code",
   "execution_count": null,
   "id": "c360c256",
   "metadata": {},
   "outputs": [],
   "source": [
    "exact_lambdas = compute_lambda_sequence(d, phi, beta, 5)"
   ]
  },
  {
   "cell_type": "code",
   "execution_count": 126,
   "id": "ef5d558d",
   "metadata": {},
   "outputs": [
    {
     "data": {
      "text/plain": [
       "[0.4,\n",
       " 0.145,\n",
       " 0.08099999999999999,\n",
       " 0.05086249999999999,\n",
       " 0.034789999999999995,\n",
       " 0.0254760625,\n",
       " 0.0196545375,\n",
       " 0.015765746015625002,\n",
       " 0.01302134978125,\n",
       " 0.010997927151171875,\n",
       " 0.009453629243984374,\n",
       " 0.0082421346868916,\n",
       " 0.007270313631470312,\n",
       " 0.006476282277993951,\n",
       " 0.0058174101112164825,\n",
       " 0.005263430497732096,\n",
       " 0.004792300880830387,\n",
       " 0.004387615345587849,\n",
       " 0.004036931542218259,\n",
       " 0.0037306566913333913,\n",
       " 0.0034612867761174325,\n",
       " 0.0032228752868127463,\n",
       " 0.0030106549220970534,\n",
       " 0.0028207634724009517,\n",
       " 0.0026500420631666733,\n",
       " 0.002495884543850229,\n",
       " 0.002356123604216509,\n",
       " 0.0022289436458948295,\n",
       " 0.0021128134022825734,\n",
       " 0.0020064333116112153]"
      ]
     },
     "execution_count": 126,
     "metadata": {},
     "output_type": "execute_result"
    }
   ],
   "source": [
    "exact_lambdas"
   ]
  },
  {
   "cell_type": "code",
   "execution_count": 127,
   "id": "b64683a6",
   "metadata": {},
   "outputs": [],
   "source": [
    "model = FullConvFIGARCH(truncation_size)\n",
    "dm = FIGARCHDM(data, volat, truncation_size, batch_size)\n"
   ]
  },
  {
   "cell_type": "code",
   "execution_count": 128,
   "id": "9aea5753",
   "metadata": {},
   "outputs": [],
   "source": [
    "logger = TensorBoardLogger('tb_logs', 'figarch_model')"
   ]
  },
  {
   "cell_type": "code",
   "execution_count": 129,
   "id": "dc556056",
   "metadata": {},
   "outputs": [
    {
     "name": "stderr",
     "output_type": "stream",
     "text": [
      "GPU available: True (cuda), used: True\n",
      "TPU available: False, using: 0 TPU cores\n",
      "HPU available: False, using: 0 HPUs\n"
     ]
    }
   ],
   "source": [
    "trainer = pl.Trainer(max_epochs=100, accelerator='auto', logger= logger)"
   ]
  },
  {
   "cell_type": "code",
   "execution_count": 130,
   "id": "40da4d92",
   "metadata": {},
   "outputs": [
    {
     "name": "stderr",
     "output_type": "stream",
     "text": [
      "LOCAL_RANK: 0 - CUDA_VISIBLE_DEVICES: [0]\n",
      "\n",
      "  | Name         | Type           | Params | Mode \n",
      "--------------------------------------------------------\n",
      "0 | loss_fn      | CorrectedNLoss | 0      | train\n",
      "  | other params | n/a            | 30     | n/a  \n",
      "--------------------------------------------------------\n",
      "30        Trainable params\n",
      "0         Non-trainable params\n",
      "30        Total params\n",
      "0.000     Total estimated model params size (MB)\n",
      "1         Modules in train mode\n",
      "0         Modules in eval mode\n"
     ]
    },
    {
     "data": {
      "application/vnd.jupyter.widget-view+json": {
       "model_id": "b77c739fc56a4eaa866f6f86ca0b66f0",
       "version_major": 2,
       "version_minor": 0
      },
      "text/plain": [
       "Training: |          | 0/? [00:00<?, ?it/s]"
      ]
     },
     "metadata": {},
     "output_type": "display_data"
    },
    {
     "name": "stderr",
     "output_type": "stream",
     "text": [
      "`Trainer.fit` stopped: `max_epochs=100` reached.\n"
     ]
    }
   ],
   "source": [
    "trainer.fit(model, dm)"
   ]
  },
  {
   "cell_type": "code",
   "execution_count": 131,
   "id": "e141a758",
   "metadata": {},
   "outputs": [
    {
     "name": "stdout",
     "output_type": "stream",
     "text": [
      "Learned weights: tensor([ 0.5000,  0.1407,  0.0853,  0.0562,  0.0348,  0.0102,  0.0261,  0.0163,\n",
      "         0.0081,  0.0141,  0.0056,  0.0400,  0.0121,  0.0260,  0.0322,  0.0016,\n",
      "         0.0154,  0.0276,  0.0347,  0.0238, -0.0016,  0.0185,  0.0348,  0.0334,\n",
      "         0.0017,  0.0014,  0.0136,  0.0121,  0.0020,  0.0133])\n"
     ]
    }
   ],
   "source": [
    "with torch.no_grad():\n",
    "    actual_lambdas =  model.weights.data\n",
    "    print(\"Learned weights:\", actual_lambdas )"
   ]
  },
  {
   "cell_type": "code",
   "execution_count": 180,
   "id": "091f56a4",
   "metadata": {},
   "outputs": [],
   "source": [
    "model_outputs = fit_lambda_parameters(actual_lambdas[:5])"
   ]
  },
  {
   "cell_type": "code",
   "execution_count": 181,
   "id": "267c8d29",
   "metadata": {},
   "outputs": [
    {
     "data": {
      "text/plain": [
       "(0.814528934904028, 0.29486006056920555, 0.6094271555924737)"
      ]
     },
     "execution_count": 181,
     "metadata": {},
     "output_type": "execute_result"
    }
   ],
   "source": [
    "model_outputs"
   ]
  },
  {
   "cell_type": "code",
   "execution_count": 182,
   "id": "80750c35",
   "metadata": {},
   "outputs": [
    {
     "data": {
      "text/plain": [
       "tensor([ 0.5000,  0.1407,  0.0853,  0.0562,  0.0348,  0.0102,  0.0261,  0.0163,\n",
       "         0.0081,  0.0141,  0.0056,  0.0400,  0.0121,  0.0260,  0.0322,  0.0016,\n",
       "         0.0154,  0.0276,  0.0347,  0.0238, -0.0016,  0.0185,  0.0348,  0.0334,\n",
       "         0.0017,  0.0014,  0.0136,  0.0121,  0.0020,  0.0133])"
      ]
     },
     "execution_count": 182,
     "metadata": {},
     "output_type": "execute_result"
    }
   ],
   "source": [
    "model.weights.data"
   ]
  },
  {
   "cell_type": "code",
   "execution_count": null,
   "id": "2d1f2ba9",
   "metadata": {},
   "outputs": [],
   "source": [
    "def compute_omega(weights, eps_squared, vol_series, trunc):\n",
    "    \"\"\"\n",
    "    weights: learned lambdas (λ)\n",
    "    eps_squared: εₜ² (квадраты остатков)\n",
    "    vol_series: σₜ² (волатильность в квадрате)\n",
    "    \"\"\"\n",
    "    weights = weights.numpy()\n",
    "    truncation_size = len(weights[:trunc])\n",
    "    \n",
    "    \n",
    "    pred = np.sum(weights[:truncation_size] * eps_squared[:truncation_size])\n",
    "    \n",
    "\n",
    "    omega = vol_series[truncation_size] - pred\n",
    "    \n",
    "    return max(omega, 1e-6)  "
   ]
  },
  {
   "cell_type": "code",
   "execution_count": 184,
   "id": "1b34339c",
   "metadata": {},
   "outputs": [],
   "source": [
    "pred_omega = compute_omega(actual_lambdas, data, volat, 3)"
   ]
  },
  {
   "cell_type": "code",
   "execution_count": 185,
   "id": "a636b4fc",
   "metadata": {},
   "outputs": [
    {
     "data": {
      "text/plain": [
       "0.45767889164714254"
      ]
     },
     "execution_count": 185,
     "metadata": {},
     "output_type": "execute_result"
    }
   ],
   "source": [
    "pred_omega"
   ]
  },
  {
   "cell_type": "code",
   "execution_count": null,
   "id": "3874a34e",
   "metadata": {},
   "outputs": [],
   "source": [
    "def save_results(model_outputs, ground_truth, pred_omega, filename='figarch_results.json'):\n",
    "    # Подготовка данных\n",
    "    result = {\n",
    "        'timestamp': datetime.now().strftime(\"%Y-%m-%d %H:%M:%S\"),\n",
    "        'ground_truth': {\n",
    "            'omega' : float(omega),\n",
    "            'd': float(ground_truth[1]),\n",
    "            'phi': float(ground_truth[2]),\n",
    "            'beta': float(ground_truth[3]),\n",
    "        },\n",
    "        'model_params': {\n",
    "            'omega' : float(pred_omega),\n",
    "            'd': float(model_outputs[0]),\n",
    "            'phi': float(model_outputs[1]),\n",
    "            'beta': float(model_outputs[2])\n",
    "        }\n",
    "\n",
    "    }\n",
    "    \n",
    "    # Запись в файл\n",
    "    mode = 'a' if os.path.exists(filename) else 'w'\n",
    "    with open(filename, mode, encoding='utf-8') as f:\n",
    "        f.write(json.dumps(result, indent=4) + '\\n')  # Добавляем перевод строки"
   ]
  },
  {
   "cell_type": "code",
   "execution_count": 187,
   "id": "46665b66",
   "metadata": {},
   "outputs": [],
   "source": [
    "save_results(model_outputs, ground_truth, pred_omega)"
   ]
  },
  {
   "cell_type": "code",
   "execution_count": null,
   "id": "1595ceb4",
   "metadata": {},
   "outputs": [],
   "source": []
  }
 ],
 "metadata": {
  "kernelspec": {
   "display_name": "Python 3",
   "language": "python",
   "name": "python3"
  },
  "language_info": {
   "codemirror_mode": {
    "name": "ipython",
    "version": 3
   },
   "file_extension": ".py",
   "mimetype": "text/x-python",
   "name": "python",
   "nbconvert_exporter": "python",
   "pygments_lexer": "ipython3",
   "version": "3.12.7"
  }
 },
 "nbformat": 4,
 "nbformat_minor": 5
}
