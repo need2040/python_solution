{
 "cells": [
  {
   "cell_type": "code",
   "execution_count": 14,
   "id": "e5ca9779",
   "metadata": {},
   "outputs": [],
   "source": [
    "import numpy as np\n",
    "\n",
    "def compute_lambda_coefficients(d, phi, beta, truncation_size):\n",
    "    \"\"\"\n",
    "    Вычисляет коэффициенты lambda_k для заданных параметров d, phi, beta и размера усечения T.\n",
    "\n",
    "    Параметры:\n",
    "    - d: параметр дробного дифференцирования (float)\n",
    "    - phi: параметр AR (float)\n",
    "    - beta: параметр MA (float)\n",
    "    - truncation_size: количество коэффициентов lambda_k (int)\n",
    "\n",
    "    Возвращает:\n",
    "    - Массив коэффициентов lambda_k (numpy array)\n",
    "    \"\"\"\n",
    "    # Инициализация массивов для pi_i и psi_j\n",
    "    pi = np.zeros(truncation_size)\n",
    "    psi = np.zeros(truncation_size)\n",
    "    lambda_coeffs = np.zeros(truncation_size)\n",
    "\n",
    "    # Вычисление коэффициентов pi_i (разложение (1 - B)^d)\n",
    "    pi[0] = 1.0\n",
    "    for i in range(1, truncation_size):\n",
    "        pi[i] = pi[i-1] * (i - 1 - d) / i\n",
    "\n",
    "    # Вычисление коэффициентов psi_j (разложение (1 - phi B)/(1 - beta B))\n",
    "    psi[0] = 1.0\n",
    "    if truncation_size > 1:\n",
    "        psi[1] = beta - phi\n",
    "    for j in range(2, truncation_size):\n",
    "        psi[j] = beta * psi[j-1]\n",
    "\n",
    "    # Вычисление коэффициентов lambda_k\n",
    "    for k in range(truncation_size):\n",
    "        gamma_k = 0.0\n",
    "        for i in range(k + 1):\n",
    "            gamma_k += psi[k - i] * pi[i]\n",
    "        \n",
    "        if k == 0:\n",
    "            lambda_coeffs[k] = 1 - gamma_k\n",
    "        else:\n",
    "            lambda_coeffs[k] = -gamma_k\n",
    "\n",
    "    return lambda_coeffs[1:]\n"
   ]
  },
  {
   "cell_type": "code",
   "execution_count": 15,
   "id": "ac2985eb",
   "metadata": {},
   "outputs": [],
   "source": [
    "\n",
    "# Пример использования\n",
    "d = 0.5\n",
    "phi = 0.2\n",
    "beta = 0.3\n",
    "truncation_size = 10\n"
   ]
  },
  {
   "cell_type": "code",
   "execution_count": 16,
   "id": "a4d21190",
   "metadata": {},
   "outputs": [
    {
     "name": "stdout",
     "output_type": "stream",
     "text": [
      "Коэффициенты lambda_k: [0.4        0.145      0.081      0.0508625  0.03479    0.02547606\n",
      " 0.01965454 0.01576575 0.01302135]\n"
     ]
    }
   ],
   "source": [
    "\n",
    "lambda_coeffs = compute_lambda_coefficients(d, phi, beta, truncation_size)\n",
    "print(\"Коэффициенты lambda_k:\", lambda_coeffs)"
   ]
  }
 ],
 "metadata": {
  "kernelspec": {
   "display_name": "Python 3",
   "language": "python",
   "name": "python3"
  },
  "language_info": {
   "codemirror_mode": {
    "name": "ipython",
    "version": 3
   },
   "file_extension": ".py",
   "mimetype": "text/x-python",
   "name": "python",
   "nbconvert_exporter": "python",
   "pygments_lexer": "ipython3",
   "version": "3.12.7"
  }
 },
 "nbformat": 4,
 "nbformat_minor": 5
}
