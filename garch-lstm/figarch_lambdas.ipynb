{
 "cells": [
  {
   "cell_type": "code",
   "execution_count": 1,
   "id": "5f662e24",
   "metadata": {},
   "outputs": [],
   "source": [
    "import numpy as np\n",
    "import torch\n",
    "from scipy.optimize import least_squares, fsolve"
   ]
  },
  {
   "cell_type": "code",
   "execution_count": 2,
   "id": "45420d37",
   "metadata": {},
   "outputs": [],
   "source": [
    "def compute_lambda_sequence(d, phi1, beta1, truncation_size):\n",
    "    # Инициализация списков для хранения delta и lambda\n",
    "    delta = [1.0]  # delta_{d,0} = 1\n",
    "    lambdas = []\n",
    "    \n",
    "    # Вычисление lambda_1\n",
    "    lambda1 = phi1 - beta1 + d\n",
    "    lambdas.append(lambda1)\n",
    "    \n",
    "    # Вычисление delta_{d,1} (если требуется)\n",
    "    if truncation_size >= 2:\n",
    "        delta1 = (1 - d) / 1  # delta_{d,1} = (1 - d)/1\n",
    "        delta.append(delta1)\n",
    "    \n",
    "    # Вычисление lambda_2\n",
    "    if truncation_size >= 2:\n",
    "        lambda2 = (d - beta1) * (beta1 - phi1) + d * (1 - d) / 2\n",
    "        lambdas.append(lambda2)\n",
    "    \n",
    "    # Вычисление delta_{d,k} и lambda_k для k >= 3\n",
    "    for k in range(3, truncation_size + 1):\n",
    "        # Вычисление delta_{d,k-1} по рекуррентной формуле\n",
    "        delta_k_minus_1 = delta[-1] * (k - 2 - d) / (k - 1)\n",
    "        delta.append(delta_k_minus_1)\n",
    "        \n",
    "        # Вычисление lambda_k по рекуррентной формуле\n",
    "        term = ((k - 1 - d) / k - phi1) * delta_k_minus_1\n",
    "        lambda_k = beta1 * lambdas[-1] + term\n",
    "        lambdas.append(lambda_k)\n",
    "    \n",
    "    return lambdas[:truncation_size]  # Возвращаем только запрошенное количество элементов\n"
   ]
  },
  {
   "cell_type": "code",
   "execution_count": 3,
   "id": "b5ea4571",
   "metadata": {},
   "outputs": [],
   "source": [
    "\n",
    "# Пример использования\n",
    "d = 0.5\n",
    "phi1 = 0.2\n",
    "beta1 = 0.3\n",
    "truncation_size = 5\n"
   ]
  },
  {
   "cell_type": "code",
   "execution_count": 4,
   "id": "b9afcaf6",
   "metadata": {},
   "outputs": [
    {
     "name": "stdout",
     "output_type": "stream",
     "text": [
      "lambda_1 = 0.4\n",
      "lambda_2 = 0.145\n",
      "lambda_3 = 0.08099999999999999\n",
      "lambda_4 = 0.05086249999999999\n",
      "lambda_5 = 0.034789999999999995\n"
     ]
    }
   ],
   "source": [
    "lambda_sequence = compute_lambda_sequence(d, phi1, beta1, truncation_size)\n",
    "for k, lambda_k in enumerate(lambda_sequence, start=1):\n",
    "    print(f\"lambda_{k} = {lambda_k}\")"
   ]
  },
  {
   "cell_type": "code",
   "execution_count": 5,
   "id": "c0d88b89",
   "metadata": {},
   "outputs": [],
   "source": [
    "def fit_lambda_parameters(target_lambdas, initial_guess=None, bounds=None):\n",
    "    \"\"\"\n",
    "    Находит параметры d, phi1, beta1, которые наилучшим образом соответствуют заданным lambda_k.\n",
    "    \n",
    "    Параметры:\n",
    "    target_lambdas : list\n",
    "        Список целевых значений lambda_k (начиная с lambda_1).\n",
    "    initial_guess : tuple (d, phi1, beta1), optional\n",
    "        Начальное предположение для параметров.\n",
    "    bounds : tuple of tuples, optional\n",
    "        Границы для параметров: ((d_min, phi1_min, beta1_min), (d_max, phi1_max, beta1_max)).\n",
    "    \n",
    "    Возвращает:\n",
    "    dict\n",
    "        Словарь с найденными параметрами и информацией об оптимизации.\n",
    "    \"\"\"\n",
    "    if initial_guess is None:\n",
    "        initial_guess = (0.5, 0.5, 0.5)  # Стандартное начальное предположение\n",
    "    if bounds is None:\n",
    "        bounds = ((0, -np.inf, 0), (1, np.inf, np.inf))  # d ∈ (0,1), beta1 ≥ 0\n",
    "    \n",
    "    def residuals(params):\n",
    "        d, phi1, beta1 = params\n",
    "        computed_lambdas = compute_lambda_sequence(d, phi1, beta1, len(target_lambdas))\n",
    "        return np.array(computed_lambdas) - np.array(target_lambdas)\n",
    "    \n",
    "    result = least_squares(\n",
    "        residuals,\n",
    "        x0=initial_guess,\n",
    "        bounds=bounds,\n",
    "        method='trf'  # Метод, поддерживающий границы\n",
    "    )\n",
    "    \n",
    "    return result.x[0], result.x[1], result.x[2]"
   ]
  },
  {
   "cell_type": "code",
   "execution_count": 6,
   "id": "128ecd35",
   "metadata": {},
   "outputs": [
    {
     "data": {
      "text/plain": [
       "(0.4999999984665524, 0.19999999735284912, 0.2999999958131293)"
      ]
     },
     "execution_count": 6,
     "metadata": {},
     "output_type": "execute_result"
    }
   ],
   "source": [
    "fit_lambda_parameters(lambda_sequence)"
   ]
  }
 ],
 "metadata": {
  "kernelspec": {
   "display_name": "Python 3",
   "language": "python",
   "name": "python3"
  },
  "language_info": {
   "codemirror_mode": {
    "name": "ipython",
    "version": 3
   },
   "file_extension": ".py",
   "mimetype": "text/x-python",
   "name": "python",
   "nbconvert_exporter": "python",
   "pygments_lexer": "ipython3",
   "version": "3.12.7"
  }
 },
 "nbformat": 4,
 "nbformat_minor": 5
}
