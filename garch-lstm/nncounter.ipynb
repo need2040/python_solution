{
 "cells": [
  {
   "cell_type": "code",
   "execution_count": 5,
   "metadata": {},
   "outputs": [],
   "source": [
    "import torch\n",
    "import torch.nn as nn \n",
    "import torch.functional as F\n",
    "import pandas as pd\n",
    "import numpy as np\n",
    "from torch.utils.data import Dataset, DataLoader\n",
    "from scipy.optimize import minimize"
   ]
  },
  {
   "cell_type": "code",
   "execution_count": null,
   "metadata": {},
   "outputs": [],
   "source": [
    "class GARCH11Dataset(Dataset):\n",
    "    def __init__(self, residuals, volatility):\n",
    "        self.residuals = residuals\n",
    "        self.volatiliy = volatility\n",
    "\n",
    "        self.input = np.column_stack([\n",
    "            np.ones_like(residuals[1:]),\n",
    "            np.square(np.roll(residuals[1:],-1)),\n",
    "            np.square(np.roll(volatility[1:],-1))\n",
    "        ])\n",
    "        self.output = np.square(volatility)\n",
    "        \n",
    "\n",
    "    def __len__(self):\n",
    "        return len(self.output)\n",
    "    \n",
    "    def __getitem__(self, index):\n",
    "        input_sample = torch.tensor(self.input[index], dtype=torch.float32)\n",
    "        output_sample = torch.tensor(self.output[index], dtype=torch.float32)\n",
    "        residuals = \n",
    "        return input_sample, output_sample"
   ]
  },
  {
   "cell_type": "code",
   "execution_count": null,
   "metadata": {},
   "outputs": [],
   "source": [
    "dataset = GARCH11Dataset(residuals, volatility)"
   ]
  },
  {
   "cell_type": "code",
   "execution_count": null,
   "metadata": {},
   "outputs": [],
   "source": [
    "dataloader = DataLoader(dataset, batch_size=32, shuffle=False)"
   ]
  }
 ],
 "metadata": {
  "kernelspec": {
   "display_name": "Python 3",
   "language": "python",
   "name": "python3"
  },
  "language_info": {
   "codemirror_mode": {
    "name": "ipython",
    "version": 3
   },
   "file_extension": ".py",
   "mimetype": "text/x-python",
   "name": "python",
   "nbconvert_exporter": "python",
   "pygments_lexer": "ipython3",
   "version": "3.12.7"
  }
 },
 "nbformat": 4,
 "nbformat_minor": 2
}
